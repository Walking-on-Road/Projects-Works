{
 "cells": [
  {
   "cell_type": "code",
   "execution_count": 1,
   "id": "117f8938",
   "metadata": {
    "ExecuteTime": {
     "end_time": "2022-05-12T01:04:50.576803Z",
     "start_time": "2022-05-12T01:04:37.451994Z"
    }
   },
   "outputs": [],
   "source": [
    "import itertools\n",
    "import random\n",
    "import os \n",
    "import pandas as pd \n",
    "import numpy as np \n",
    "import matplotlib.pyplot as plt \n",
    "import warnings\n",
    "warnings.filterwarnings('ignore')\n",
    "from sklearn import preprocessing \n",
    "from sklearn import metrics\n",
    "from sklearn.model_selection import cross_val_score"
   ]
  },
  {
   "cell_type": "markdown",
   "id": "77bf0ab6",
   "metadata": {},
   "source": [
    "## 查看数据"
   ]
  },
  {
   "cell_type": "code",
   "execution_count": 2,
   "id": "d0ca3a49",
   "metadata": {
    "ExecuteTime": {
     "end_time": "2022-05-12T01:05:12.986616Z",
     "start_time": "2022-05-12T01:04:50.640522Z"
    }
   },
   "outputs": [],
   "source": [
    "train_data = pd.read_excel(\"./数据集/train.xlsx\",index_col=False)\n",
    "test_data = pd.read_excel(\"./数据集/test_B榜.xlsx\",index_col=False)"
   ]
  },
  {
   "cell_type": "code",
   "execution_count": 3,
   "id": "b1e2b1af",
   "metadata": {
    "ExecuteTime": {
     "end_time": "2022-05-12T01:05:13.423949Z",
     "start_time": "2022-05-12T01:05:13.348736Z"
    }
   },
   "outputs": [
    {
     "data": {
      "text/plain": [
       "0    0.75\n",
       "1    0.25\n",
       "Name: LABEL, dtype: float64"
      ]
     },
     "execution_count": 3,
     "metadata": {},
     "output_type": "execute_result"
    }
   ],
   "source": [
    "# 查看标签分布\n",
    "train_data[\"LABEL\"].value_counts(normalize=True)"
   ]
  },
  {
   "cell_type": "code",
   "execution_count": 4,
   "id": "c018995a",
   "metadata": {
    "ExecuteTime": {
     "end_time": "2022-05-12T01:05:13.707890Z",
     "start_time": "2022-05-12T01:05:13.677666Z"
    }
   },
   "outputs": [
    {
     "data": {
      "text/html": [
       "<div>\n",
       "<style scoped>\n",
       "    .dataframe tbody tr th:only-of-type {\n",
       "        vertical-align: middle;\n",
       "    }\n",
       "\n",
       "    .dataframe tbody tr th {\n",
       "        vertical-align: top;\n",
       "    }\n",
       "\n",
       "    .dataframe thead th {\n",
       "        text-align: right;\n",
       "    }\n",
       "</style>\n",
       "<table border=\"1\" class=\"dataframe\">\n",
       "  <thead>\n",
       "    <tr style=\"text-align: right;\">\n",
       "      <th></th>\n",
       "      <th>CUST_UID</th>\n",
       "      <th>LABEL</th>\n",
       "      <th>AGN_CNT_RCT_12_MON</th>\n",
       "      <th>ICO_CUR_MON_ACM_TRX_TM</th>\n",
       "      <th>NB_RCT_3_MON_LGN_TMS_AGV</th>\n",
       "      <th>AGN_CUR_YEAR_AMT</th>\n",
       "      <th>AGN_CUR_YEAR_WAG_AMT</th>\n",
       "      <th>AGN_AGR_LATEST_AGN_AMT</th>\n",
       "      <th>ICO_CUR_MON_ACM_TRX_AMT</th>\n",
       "      <th>COUNTER_CUR_YEAR_CNT_AMT</th>\n",
       "      <th>...</th>\n",
       "      <th>WTHR_OPN_ONL_ICO</th>\n",
       "      <th>EMP_NBR</th>\n",
       "      <th>REG_CPT</th>\n",
       "      <th>SHH_BCK</th>\n",
       "      <th>HLD_DMS_CCY_ACT_NBR</th>\n",
       "      <th>REG_DT</th>\n",
       "      <th>LGP_HLD_CARD_LVL</th>\n",
       "      <th>OPN_TM</th>\n",
       "      <th>NB_CTC_HLD_IDV_AIO_CARD_SITU</th>\n",
       "      <th>HLD_FGN_CCY_ACT_NBR</th>\n",
       "    </tr>\n",
       "  </thead>\n",
       "  <tbody>\n",
       "    <tr>\n",
       "      <th>0</th>\n",
       "      <td>2a171d461bf24a739b804c2843ad4f6e</td>\n",
       "      <td>0</td>\n",
       "      <td>?</td>\n",
       "      <td>72</td>\n",
       "      <td>425.3</td>\n",
       "      <td>?</td>\n",
       "      <td>?</td>\n",
       "      <td>?</td>\n",
       "      <td>25879985.3</td>\n",
       "      <td>2</td>\n",
       "      <td>...</td>\n",
       "      <td>B</td>\n",
       "      <td>2</td>\n",
       "      <td>1200000002</td>\n",
       "      <td>32</td>\n",
       "      <td>12</td>\n",
       "      <td>1708.45</td>\n",
       "      <td>?</td>\n",
       "      <td>416.84</td>\n",
       "      <td>?</td>\n",
       "      <td>2</td>\n",
       "    </tr>\n",
       "    <tr>\n",
       "      <th>1</th>\n",
       "      <td>c58d5848d18548e297963c2d9e092699</td>\n",
       "      <td>0</td>\n",
       "      <td>2282</td>\n",
       "      <td>222</td>\n",
       "      <td>?</td>\n",
       "      <td>11776572.4</td>\n",
       "      <td>?</td>\n",
       "      <td>1964626.4</td>\n",
       "      <td>14755499.8</td>\n",
       "      <td>2</td>\n",
       "      <td>...</td>\n",
       "      <td>B</td>\n",
       "      <td>1002</td>\n",
       "      <td>5000002</td>\n",
       "      <td>32</td>\n",
       "      <td>22</td>\n",
       "      <td>199.42</td>\n",
       "      <td>F</td>\n",
       "      <td>195.87</td>\n",
       "      <td>D</td>\n",
       "      <td>2</td>\n",
       "    </tr>\n",
       "    <tr>\n",
       "      <th>2</th>\n",
       "      <td>74e6d8179e784a039bcb5a722014f4a4</td>\n",
       "      <td>0</td>\n",
       "      <td>?</td>\n",
       "      <td>2</td>\n",
       "      <td>?</td>\n",
       "      <td>?</td>\n",
       "      <td>?</td>\n",
       "      <td>4599822.3</td>\n",
       "      <td>2</td>\n",
       "      <td>2</td>\n",
       "      <td>...</td>\n",
       "      <td>B</td>\n",
       "      <td>2</td>\n",
       "      <td>?</td>\n",
       "      <td>2</td>\n",
       "      <td>12</td>\n",
       "      <td>1135.55</td>\n",
       "      <td>F</td>\n",
       "      <td>1122</td>\n",
       "      <td>NaN</td>\n",
       "      <td>2</td>\n",
       "    </tr>\n",
       "    <tr>\n",
       "      <th>3</th>\n",
       "      <td>1b6a8be2c2e34de09ca00d71470ec180</td>\n",
       "      <td>1</td>\n",
       "      <td>?</td>\n",
       "      <td>?</td>\n",
       "      <td>22</td>\n",
       "      <td>?</td>\n",
       "      <td>?</td>\n",
       "      <td>?</td>\n",
       "      <td>?</td>\n",
       "      <td>2</td>\n",
       "      <td>...</td>\n",
       "      <td>A</td>\n",
       "      <td>2</td>\n",
       "      <td>500002</td>\n",
       "      <td>12</td>\n",
       "      <td>12</td>\n",
       "      <td>98.45</td>\n",
       "      <td>NaN</td>\n",
       "      <td>92</td>\n",
       "      <td>C</td>\n",
       "      <td>2</td>\n",
       "    </tr>\n",
       "    <tr>\n",
       "      <th>4</th>\n",
       "      <td>1974b5e0440a41128a416a8cdc8a7c16</td>\n",
       "      <td>1</td>\n",
       "      <td>?</td>\n",
       "      <td>?</td>\n",
       "      <td>?</td>\n",
       "      <td>?</td>\n",
       "      <td>?</td>\n",
       "      <td>?</td>\n",
       "      <td>?</td>\n",
       "      <td>?</td>\n",
       "      <td>...</td>\n",
       "      <td>A</td>\n",
       "      <td>2</td>\n",
       "      <td>?</td>\n",
       "      <td>2</td>\n",
       "      <td>12</td>\n",
       "      <td>?</td>\n",
       "      <td>NaN</td>\n",
       "      <td>355.87</td>\n",
       "      <td>C</td>\n",
       "      <td>2</td>\n",
       "    </tr>\n",
       "  </tbody>\n",
       "</table>\n",
       "<p>5 rows × 51 columns</p>\n",
       "</div>"
      ],
      "text/plain": [
       "                           CUST_UID  LABEL AGN_CNT_RCT_12_MON  \\\n",
       "0  2a171d461bf24a739b804c2843ad4f6e      0                  ?   \n",
       "1  c58d5848d18548e297963c2d9e092699      0               2282   \n",
       "2  74e6d8179e784a039bcb5a722014f4a4      0                  ?   \n",
       "3  1b6a8be2c2e34de09ca00d71470ec180      1                  ?   \n",
       "4  1974b5e0440a41128a416a8cdc8a7c16      1                  ?   \n",
       "\n",
       "  ICO_CUR_MON_ACM_TRX_TM NB_RCT_3_MON_LGN_TMS_AGV AGN_CUR_YEAR_AMT  \\\n",
       "0                     72                    425.3                ?   \n",
       "1                    222                        ?       11776572.4   \n",
       "2                      2                        ?                ?   \n",
       "3                      ?                       22                ?   \n",
       "4                      ?                        ?                ?   \n",
       "\n",
       "  AGN_CUR_YEAR_WAG_AMT AGN_AGR_LATEST_AGN_AMT ICO_CUR_MON_ACM_TRX_AMT  \\\n",
       "0                    ?                      ?              25879985.3   \n",
       "1                    ?              1964626.4              14755499.8   \n",
       "2                    ?              4599822.3                       2   \n",
       "3                    ?                      ?                       ?   \n",
       "4                    ?                      ?                       ?   \n",
       "\n",
       "  COUNTER_CUR_YEAR_CNT_AMT  ... WTHR_OPN_ONL_ICO EMP_NBR     REG_CPT SHH_BCK  \\\n",
       "0                        2  ...                B       2  1200000002      32   \n",
       "1                        2  ...                B    1002     5000002      32   \n",
       "2                        2  ...                B       2           ?       2   \n",
       "3                        2  ...                A       2      500002      12   \n",
       "4                        ?  ...                A       2           ?       2   \n",
       "\n",
       "  HLD_DMS_CCY_ACT_NBR   REG_DT LGP_HLD_CARD_LVL  OPN_TM  \\\n",
       "0                  12  1708.45                ?  416.84   \n",
       "1                  22   199.42                F  195.87   \n",
       "2                  12  1135.55                F    1122   \n",
       "3                  12    98.45              NaN      92   \n",
       "4                  12        ?              NaN  355.87   \n",
       "\n",
       "  NB_CTC_HLD_IDV_AIO_CARD_SITU HLD_FGN_CCY_ACT_NBR  \n",
       "0                            ?                   2  \n",
       "1                            D                   2  \n",
       "2                          NaN                   2  \n",
       "3                            C                   2  \n",
       "4                            C                   2  \n",
       "\n",
       "[5 rows x 51 columns]"
      ]
     },
     "execution_count": 4,
     "metadata": {},
     "output_type": "execute_result"
    }
   ],
   "source": [
    "# 查看数据分布，发现有很多问号，应该也是缺失值的一种\n",
    "train_data.head(5)"
   ]
  },
  {
   "cell_type": "code",
   "execution_count": 5,
   "id": "3f446471",
   "metadata": {
    "ExecuteTime": {
     "end_time": "2022-05-12T01:05:14.053891Z",
     "start_time": "2022-05-12T01:05:13.945458Z"
    }
   },
   "outputs": [
    {
     "name": "stdout",
     "output_type": "stream",
     "text": [
      "<class 'pandas.core.frame.DataFrame'>\n",
      "RangeIndex: 12000 entries, 0 to 11999\n",
      "Data columns (total 50 columns):\n",
      " #   Column                                   Non-Null Count  Dtype \n",
      "---  ------                                   --------------  ----- \n",
      " 0   CUST_UID                                 12000 non-null  object\n",
      " 1   AGN_CNT_RCT_12_MON                       12000 non-null  object\n",
      " 2   ICO_CUR_MON_ACM_TRX_TM                   12000 non-null  object\n",
      " 3   NB_RCT_3_MON_LGN_TMS_AGV                 12000 non-null  object\n",
      " 4   AGN_CUR_YEAR_AMT                         12000 non-null  object\n",
      " 5   AGN_CUR_YEAR_WAG_AMT                     12000 non-null  object\n",
      " 6   AGN_AGR_LATEST_AGN_AMT                   12000 non-null  object\n",
      " 7   ICO_CUR_MON_ACM_TRX_AMT                  12000 non-null  object\n",
      " 8   COUNTER_CUR_YEAR_CNT_AMT                 12000 non-null  object\n",
      " 9   PUB_TO_PRV_TRX_AMT_CUR_YEAR              12000 non-null  object\n",
      " 10  MON_12_EXT_SAM_TRSF_IN_AMT               12000 non-null  object\n",
      " 11  MON_12_EXT_SAM_TRSF_OUT_AMT              12000 non-null  object\n",
      " 12  MON_12_EXT_SAM_NM_TRSF_OUT_CNT           12000 non-null  object\n",
      " 13  MON_12_EXT_SAM_AMT                       12000 non-null  object\n",
      " 14  CUR_MON_EXT_SAM_CUST_TRSF_IN_AMT         12000 non-null  object\n",
      " 15  CUR_MON_EXT_SAM_CUST_TRSF_OUT_AMT        12000 non-null  object\n",
      " 16  MON_12_CUST_CNT_PTY_ID                   5399 non-null   object\n",
      " 17  MON_12_TRX_AMT_MAX_AMT_PCTT              12000 non-null  object\n",
      " 18  CUR_YEAR_MON_AGV_TRX_CNT                 12000 non-null  object\n",
      " 19  MON_12_AGV_TRX_CNT                       12000 non-null  object\n",
      " 20  MON_12_ACM_ENTR_ACT_CNT                  12000 non-null  object\n",
      " 21  MON_12_AGV_ENTR_ACT_CNT                  12000 non-null  object\n",
      " 22  MON_12_ACM_LVE_ACT_CNT                   12000 non-null  object\n",
      " 23  MON_12_AGV_LVE_ACT_CNT                   12000 non-null  object\n",
      " 24  CUR_YEAR_PUB_TO_PRV_TRX_PTY_CNT          12000 non-null  object\n",
      " 25  MON_6_50_UP_ENTR_ACT_CNT                 12000 non-null  object\n",
      " 26  MON_6_50_UP_LVE_ACT_CNT                  12000 non-null  object\n",
      " 27  CUR_YEAR_COUNTER_ENCASH_CNT              12000 non-null  object\n",
      " 28  MON_12_ACT_OUT_50_UP_CNT_PTY_QTY         12000 non-null  object\n",
      " 29  MON_12_ACT_IN_50_UP_CNT_PTY_QTY          12000 non-null  object\n",
      " 30  LAST_12_MON_COR_DPS_TM_PNT_BAL_PEAK_VAL  12000 non-null  object\n",
      " 31  LAST_12_MON_COR_DPS_DAY_AVG_BAL          12000 non-null  object\n",
      " 32  CUR_MON_COR_DPS_MON_DAY_AVG_BAL          12000 non-null  object\n",
      " 33  CUR_YEAR_COR_DMND_DPS_DAY_AVG_BAL        12000 non-null  object\n",
      " 34  CUR_YEAR_COR_DPS_YEAR_DAY_AVG_INCR       12000 non-null  object\n",
      " 35  LAST_12_MON_DIF_NM_MON_AVG_TRX_AMT_NAV   12000 non-null  object\n",
      " 36  LAST_12_MON_MON_AVG_TRX_AMT_NAV          12000 non-null  object\n",
      " 37  COR_KEY_PROD_HLD_NBR                     12000 non-null  object\n",
      " 38  CUR_YEAR_MID_BUS_INC                     12000 non-null  object\n",
      " 39  AI_STAR_SCO                              12000 non-null  object\n",
      " 40  WTHR_OPN_ONL_ICO                         11481 non-null  object\n",
      " 41  EMP_NBR                                  12000 non-null  object\n",
      " 42  REG_CPT                                  12000 non-null  object\n",
      " 43  SHH_BCK                                  12000 non-null  object\n",
      " 44  HLD_DMS_CCY_ACT_NBR                      12000 non-null  object\n",
      " 45  REG_DT                                   12000 non-null  object\n",
      " 46  LGP_HLD_CARD_LVL                         8428 non-null   object\n",
      " 47  OPN_TM                                   12000 non-null  object\n",
      " 48  NB_CTC_HLD_IDV_AIO_CARD_SITU             11155 non-null  object\n",
      " 49  HLD_FGN_CCY_ACT_NBR                      12000 non-null  object\n",
      "dtypes: object(50)\n",
      "memory usage: 4.6+ MB\n"
     ]
    }
   ],
   "source": [
    "test_data.info()"
   ]
  },
  {
   "cell_type": "markdown",
   "id": "f5e80325",
   "metadata": {},
   "source": [
    "### 数据类型"
   ]
  },
  {
   "cell_type": "code",
   "execution_count": 6,
   "id": "0ec2f190",
   "metadata": {
    "ExecuteTime": {
     "end_time": "2022-05-12T01:05:28.078582Z",
     "start_time": "2022-05-12T01:05:28.028716Z"
    }
   },
   "outputs": [],
   "source": [
    "# 查看各特征的数据类型\n",
    "fea_type = pd.read_excel(\"./数据集/特征说明.xlsx\",index_col=False,header=1)\n",
    "\n",
    "fea_type.index = fea_type[\"字段名称\"]\n",
    "fea_type.drop(columns=[\"字段名称\"],inplace=True)\n",
    "\n",
    "# 字符型数据\n",
    "fea_type = fea_type.loc[fea_type.index!=\"CUST_UID\"]\n",
    "char_type_fea = fea_type[fea_type[\"字符类型\"] == \"字符型\"].index"
   ]
  },
  {
   "cell_type": "code",
   "execution_count": 7,
   "id": "1b26e890",
   "metadata": {
    "ExecuteTime": {
     "end_time": "2022-05-12T01:05:28.394737Z",
     "start_time": "2022-05-12T01:05:28.380775Z"
    }
   },
   "outputs": [],
   "source": [
    "# 数值型数据\n",
    "fea_type = fea_type.loc[fea_type.index!=\"LABEL\"]\n",
    "fea_type = fea_type.loc[fea_type.index!=\"CUR_MON_VAL_VLD_CUST_NED_HLD_YEAR_DAY_AVG\"]\n",
    "num_type_fea = fea_type[fea_type[\"字符类型\"] == \"数值型\"].index"
   ]
  },
  {
   "cell_type": "markdown",
   "id": "e270a6cc",
   "metadata": {},
   "source": [
    "### 缺失分布"
   ]
  },
  {
   "cell_type": "code",
   "execution_count": 8,
   "id": "0ca333eb",
   "metadata": {
    "ExecuteTime": {
     "end_time": "2022-05-12T01:05:29.435160Z",
     "start_time": "2022-05-12T01:05:29.232705Z"
    }
   },
   "outputs": [
    {
     "data": {
      "text/plain": [
       "MON_12_CUST_CNT_PTY_ID          0.570750\n",
       "WTHR_OPN_ONL_ICO                0.031200\n",
       "LGP_HLD_CARD_LVL                0.318000\n",
       "NB_CTC_HLD_IDV_AIO_CARD_SITU    0.070025\n",
       "dtype: float64"
      ]
     },
     "execution_count": 8,
     "metadata": {},
     "output_type": "execute_result"
    }
   ],
   "source": [
    "# 原始特征缺失值分布\n",
    "train_data.isnull().mean()[train_data.isnull().mean()>0] "
   ]
  },
  {
   "cell_type": "code",
   "execution_count": 9,
   "id": "59816f35",
   "metadata": {
    "ExecuteTime": {
     "end_time": "2022-05-12T01:05:29.863732Z",
     "start_time": "2022-05-12T01:05:29.723363Z"
    }
   },
   "outputs": [],
   "source": [
    "train_data = train_data.fillna(1)"
   ]
  },
  {
   "cell_type": "code",
   "execution_count": 10,
   "id": "a538139c",
   "metadata": {
    "ExecuteTime": {
     "end_time": "2022-05-12T01:05:30.623698Z",
     "start_time": "2022-05-12T01:05:30.135006Z"
    }
   },
   "outputs": [
    {
     "name": "stdout",
     "output_type": "stream",
     "text": [
      "AGN_CNT_RCT_12_MON                  0.535200\n",
      "AGN_CUR_YEAR_AMT                    0.563525\n",
      "AGN_CUR_YEAR_WAG_AMT                0.699625\n",
      "AGN_AGR_LATEST_AGN_AMT              0.489825\n",
      "MON_12_TRX_AMT_MAX_AMT_PCTT         0.240000\n",
      "CUR_YEAR_PUB_TO_PRV_TRX_PTY_CNT     0.503400\n",
      "MON_6_50_UP_ENTR_ACT_CNT            0.165500\n",
      "MON_6_50_UP_LVE_ACT_CNT             0.165500\n",
      "MON_12_ACT_OUT_50_UP_CNT_PTY_QTY    0.146500\n",
      "MON_12_ACT_IN_50_UP_CNT_PTY_QTY     0.146500\n",
      "LGP_HLD_CARD_LVL                    0.100800\n",
      "NB_CTC_HLD_IDV_AIO_CARD_SITU        0.100800\n",
      "dtype: float64\n"
     ]
    }
   ],
   "source": [
    "# 将问题replace为np.nan值后查看各特征问号的占比\n",
    "new_train_data = train_data.replace('?',np.nan)#用np.nan替换？\n",
    "\n",
    "# 替换后特征缺失值分布\n",
    "miss_fea = new_train_data.isnull().mean()[new_train_data.isnull().mean()>0.1].index\n",
    "print(new_train_data.isnull().mean()[new_train_data.isnull().mean()>0.1])"
   ]
  },
  {
   "cell_type": "markdown",
   "id": "88e580c1",
   "metadata": {},
   "source": [
    "### 重复值查看"
   ]
  },
  {
   "cell_type": "code",
   "execution_count": 11,
   "id": "c7ab1a63",
   "metadata": {
    "ExecuteTime": {
     "end_time": "2022-05-12T01:05:31.337788Z",
     "start_time": "2022-05-12T01:05:31.071501Z"
    }
   },
   "outputs": [
    {
     "data": {
      "text/plain": [
       "0        False\n",
       "1        False\n",
       "2        False\n",
       "3        False\n",
       "4        False\n",
       "         ...  \n",
       "39995    False\n",
       "39996    False\n",
       "39997    False\n",
       "39998    False\n",
       "39999    False\n",
       "Length: 40000, dtype: bool"
      ]
     },
     "execution_count": 11,
     "metadata": {},
     "output_type": "execute_result"
    }
   ],
   "source": [
    "train_data.duplicated()"
   ]
  },
  {
   "cell_type": "markdown",
   "id": "c7173ee7",
   "metadata": {},
   "source": [
    "## 数据无量纲"
   ]
  },
  {
   "cell_type": "code",
   "execution_count": 12,
   "id": "25a6509c",
   "metadata": {
    "ExecuteTime": {
     "end_time": "2022-05-12T01:05:31.765580Z",
     "start_time": "2022-05-12T01:05:31.751617Z"
    }
   },
   "outputs": [],
   "source": [
    "### log\n",
    "\n",
    "def data_log(num_type_fea,data,num=1):\n",
    "    \n",
    "    new_train_data = data \n",
    "    for col in num_type_fea:\n",
    "        if min(new_train_data.loc[:,col]+num-1)>=0:\n",
    "            new_train_data.loc[:,col]  = np.log(new_train_data.loc[:,col]+num)\n",
    "        else:\n",
    "            values = new_train_data.loc[:,col].values \n",
    "            new_values = []\n",
    "            for value in values:\n",
    "                if value >=0:\n",
    "                    new_values.append(np.log(value+num))\n",
    "                else:\n",
    "                    new_values.append(-np.log(np.abs(value)+num))\n",
    "            new_train_data.loc[:,col] = pd.DataFrame(new_values,columns=[col])   \n",
    "    return new_train_data\n",
    "\n",
    "### one-hot\n",
    "\n",
    "def One_Hot(char_type_fea,train_X,test_X,usetype=\"train\"):\n",
    "\n",
    "    from sklearn.preprocessing import OrdinalEncoder\n",
    "    \n",
    "    if usetype == \"train\":\n",
    "        for i in char_type_fea:\n",
    "            train_X.loc[:,i] = OrdinalEncoder().fit_transform(train_X.loc[:,i].values.reshape(-1, 1)) \n",
    "        return train_X\n",
    "        \n",
    "    else:\n",
    "        for i in char_type_fea:\n",
    "            transformer = OrdinalEncoder(handle_unknown='use_encoded_value',unknown_value=-1)\\\n",
    "                                    .fit(train_X.loc[:,i].values.reshape(-1, 1))\n",
    "            test_X.loc[:,i] = transformer.transform(test_X.loc[:,i].values.reshape(-1,1))\n",
    "        return test_X\n",
    "\n",
    "### 特征构造\n",
    "\n",
    "def GroupbyFeature(column,train,test,newcolumn):\n",
    "    \n",
    "    # 使用训练集创建map用的字典，方便以后遇到新的数据后，也能进行与训练集相同的处理；\n",
    "    # 相当于构建以个函数的映射关系\n",
    "    dic_f = dict(train.groupby(column)['LABEL'].mean())\n",
    "    \n",
    "    # 建立新特征\n",
    "    train[newcolumn] = train[column].map(dic_f)\n",
    "    test[newcolumn] = test[column].map(dic_f)\n",
    "    \n",
    "    return train,test     \n"
   ]
  },
  {
   "cell_type": "markdown",
   "id": "fce2baf6",
   "metadata": {},
   "source": [
    "## 预测结果存储"
   ]
  },
  {
   "cell_type": "code",
   "execution_count": 13,
   "id": "a85cbe32",
   "metadata": {
    "ExecuteTime": {
     "end_time": "2022-05-12T01:05:32.572441Z",
     "start_time": "2022-05-12T01:05:32.562470Z"
    }
   },
   "outputs": [],
   "source": [
    "def get_result(predictor,new_test_data,test_data):\n",
    "    pd.set_option('precision', 10) #显示3位\n",
    "    y_predproba = predictor.predict_proba(new_test_data, as_multiclass=False)\n",
    "    submit = pd.concat([test_data[\"CUST_UID\"],y_predproba],axis=1)\n",
    "\n",
    "    from datetime import datetime\n",
    "    now = datetime.now()\n",
    "    day_now = datetime.strftime(now,'%Y-%m-%d')\n",
    "    time_now = datetime.strftime(now,\"%H_%M_%S\")\n",
    "\n",
    "    Folder_path = \"./testB/{a}/\".format(a=day_now)\n",
    "    if not os.path.exists(Folder_path):\n",
    "        os.makedirs(Folder_path)\n",
    "    submit.to_csv(Folder_path+\"submission{time}.txt\".format(time=time_now)\n",
    "                  ,index=False,header=False,encoding='utf-8',sep='\\t',float_format='%.10f') # 保存的历史文件"
   ]
  },
  {
   "cell_type": "markdown",
   "id": "fc7b5397",
   "metadata": {},
   "source": [
    "## 模型融合"
   ]
  },
  {
   "cell_type": "markdown",
   "id": "251748c6",
   "metadata": {},
   "source": [
    "### 已有模型预测"
   ]
  },
  {
   "cell_type": "code",
   "execution_count": 15,
   "id": "7d2244cd",
   "metadata": {
    "ExecuteTime": {
     "end_time": "2022-05-10T01:25:06.975387Z",
     "start_time": "2022-05-10T01:25:05.683885Z"
    }
   },
   "outputs": [],
   "source": [
    "# 训练数据缺失值处理\n",
    "new_train_data = train_data.replace('?',np.nan)#用np.nan替换？\n",
    "new_train_data.dropna(how=\"all\",inplace=True)\n",
    "new_train_data = new_train_data.fillna(0)\n",
    "new_train_data = new_train_data.drop(columns=[\"CUST_UID\"])\n",
    "new_train_data = data_log(num_type_fea,new_train_data,num=1)\n",
    "\n",
    "# 测试数据缺失值处理\n",
    "test_data.isnull().mean()[test_data.isnull().mean()>0]\n",
    "test_data = test_data.fillna(1)\n",
    "\n",
    "new_test_data = test_data.replace('?',np.nan)#用np.nan替换？\n",
    "new_test_data = new_test_data.fillna(0)\n",
    "new_test_data = new_test_data.drop(columns=[\"CUST_UID\"])\n",
    "new_test_data = data_log(num_type_fea,new_test_data,num=1)"
   ]
  },
  {
   "cell_type": "code",
   "execution_count": 18,
   "id": "c0265724",
   "metadata": {
    "ExecuteTime": {
     "end_time": "2022-05-10T01:30:43.659979Z",
     "start_time": "2022-05-10T01:28:00.859263Z"
    }
   },
   "outputs": [],
   "source": [
    "### auto-weight\n",
    "from autogluon.tabular import TabularDataset, TabularPredictor\n",
    "\n",
    "save_path = r\"F:\\Anaconda\\Kaggle\\招商银行\\AutogluonModels\\ag-20220509_010141\"\n",
    "predictor = TabularPredictor.load(save_path) \n",
    "get_result(predictor,new_test_data,test_data)"
   ]
  },
  {
   "cell_type": "code",
   "execution_count": 46,
   "id": "797472e2",
   "metadata": {
    "ExecuteTime": {
     "end_time": "2022-05-10T04:34:16.026888Z",
     "start_time": "2022-05-10T04:30:09.032081Z"
    },
    "collapsed": true
   },
   "outputs": [
    {
     "name": "stderr",
     "output_type": "stream",
     "text": [
      "Loading: F:\\Anaconda\\Kaggle\\招商银行\\AutogluonModels\\ag-20220507_152028\\predictor.pkl\n",
      "Loading: F:\\Anaconda\\Kaggle\\招商银行\\AutogluonModels\\ag-20220507_152028\\learner.pkl\n",
      "Loading: F:\\Anaconda\\Kaggle\\招商银行\\AutogluonModels\\ag-20220507_152028\\models\\trainer.pkl\n",
      "Loading: F:\\Anaconda\\Kaggle\\招商银行\\AutogluonModels\\ag-20220507_152028\\models\\WeightedEnsemble_L2\\model.pkl\n",
      "Loading: F:\\Anaconda\\Kaggle\\招商银行\\AutogluonModels\\ag-20220507_152028\\models\\CatBoost_BAG_L1\\model.pkl\n",
      "Loading: F:\\Anaconda\\Kaggle\\招商银行\\AutogluonModels\\ag-20220507_152028\\models\\LightGBMLarge_BAG_L1\\model.pkl\n",
      "Loading: F:\\Anaconda\\Kaggle\\招商银行\\AutogluonModels\\ag-20220507_152028\\models\\LightGBMXT_BAG_L1\\model.pkl\n",
      "Loading: F:\\Anaconda\\Kaggle\\招商银行\\AutogluonModels\\ag-20220507_152028\\models\\LightGBM_BAG_L1\\model.pkl\n",
      "Loading: F:\\Anaconda\\Kaggle\\招商银行\\AutogluonModels\\ag-20220507_152028\\models\\NeuralNetTorch_BAG_L1\\model.pkl\n",
      "Loading: F:\\Anaconda\\Kaggle\\招商银行\\AutogluonModels\\ag-20220507_152028\\models\\TextPredictor_BAG_L1\\model.pkl\n",
      "Load pretrained checkpoint: F:\\Anaconda\\Kaggle\\招商银行\\AutogluonModels\\ag-20220507_152028\\models\\TextPredictor_BAG_L1\\S1F1\\text_nn\\model.ckpt\n"
     ]
    },
    {
     "name": "stdout",
     "output_type": "stream",
     "text": [
      "Predicting: 100%|████████████████████████████████████████████████████████████████████| 188/188 [00:47<00:00,  3.97it/s]\n"
     ]
    },
    {
     "name": "stderr",
     "output_type": "stream",
     "text": [
      "Load pretrained checkpoint: F:\\Anaconda\\Kaggle\\招商银行\\AutogluonModels\\ag-20220507_152028\\models\\TextPredictor_BAG_L1\\S1F2\\text_nn\\model.ckpt\n"
     ]
    },
    {
     "name": "stdout",
     "output_type": "stream",
     "text": [
      "Predicting:   9%|██████▏                                                              | 15/188 [00:12<02:20,  1.23it/s]"
     ]
    },
    {
     "data": {
      "text/html": [
       "<b>limit_output extension: Maximum message size of 10000 exceeded with 10079 characters</b>"
      ]
     },
     "metadata": {},
     "output_type": "display_data"
    }
   ],
   "source": [
    "### modal\n",
    "from autogluon.tabular import TabularDataset, TabularPredictor\n",
    "save_path = r\"F:\\Anaconda\\Kaggle\\招商银行\\AutogluonModels\\ag-20220507_152028\"\n",
    "predictor = TabularPredictor.load(save_path) \n",
    "get_result(predictor,new_test_data,test_data)"
   ]
  },
  {
   "cell_type": "markdown",
   "id": "c86751fa",
   "metadata": {},
   "source": [
    "### 加入A榜数据"
   ]
  },
  {
   "cell_type": "code",
   "execution_count": 31,
   "id": "bdf91d21",
   "metadata": {
    "ExecuteTime": {
     "end_time": "2022-05-10T01:56:56.345614Z",
     "start_time": "2022-05-10T01:56:56.328661Z"
    }
   },
   "outputs": [],
   "source": [
    "save_path = r\"F:\\Anaconda\\Kaggle\\招商银行\\AutogluonModels\\ag-20220509_010141\"\n",
    "predictor = TabularPredictor.load(save_path)"
   ]
  },
  {
   "cell_type": "code",
   "execution_count": 33,
   "id": "fb56fdff",
   "metadata": {
    "ExecuteTime": {
     "end_time": "2022-05-10T01:57:53.701148Z",
     "start_time": "2022-05-10T01:57:48.394916Z"
    }
   },
   "outputs": [],
   "source": [
    "# 训练集处理\n",
    "\n",
    "test_A = pd.read_excel(\"./数据集/test_A榜.xlsx\",index_col=False)\n",
    "\n",
    "# A榜数据处理\n",
    "test_A.isnull().mean()[test_A.isnull().mean()>0]\n",
    "test_A = test_A.fillna(1)\n",
    "\n",
    "new_test_A = test_A.replace('?',np.nan)#用np.nan替换？\n",
    "new_test_A = new_test_A.fillna(0)\n",
    "new_test_A = new_test_A.drop(columns=[\"CUST_UID\"])\n",
    "new_test_A = data_log(num_type_fea,new_test_A,num=1)\n",
    "\n",
    "predictions = predictor.predict(new_test_A)\n",
    "\n",
    "A_LABEL = pd.DataFrame(predictions,columns=[\"LABEL\"])\n",
    "new_train_A = pd.concat([A_LABEL,new_test_A],axis=1)\n",
    "\n",
    "new_train_B = pd.concat([new_train_data,new_train_A],axis=0)\n",
    "new_train_B.index = range(new_train_B.shape[0])"
   ]
  },
  {
   "cell_type": "code",
   "execution_count": 95,
   "id": "72925680",
   "metadata": {
    "ExecuteTime": {
     "end_time": "2022-05-10T11:51:40.501664Z",
     "start_time": "2022-05-10T11:49:07.410993Z"
    }
   },
   "outputs": [],
   "source": [
    "new_train_data.to_excel(\"./数据集/new_train_data.xlsx\",index=False)\n",
    "new_train_B.to_excel(\"./数据集/new_train_B.xlsx\",index=False)\n",
    "new_test_data.to_excel(\"./数据集/new_test_data.xlsx\",index=False)"
   ]
  },
  {
   "cell_type": "code",
   "execution_count": 37,
   "id": "4dfb3584",
   "metadata": {
    "ExecuteTime": {
     "end_time": "2022-05-10T02:01:13.379675Z",
     "start_time": "2022-05-10T02:01:12.978759Z"
    }
   },
   "outputs": [],
   "source": [
    "# 测试数据缺失值处理\n",
    "test_data.isnull().mean()[test_data.isnull().mean()>0]\n",
    "test_data = test_data.fillna(1)\n",
    "\n",
    "new_test_data = test_data.replace('?',np.nan)#用np.nan替换？\n",
    "new_test_data = new_test_data.fillna(0)\n",
    "new_test_data = new_test_data.drop(columns=[\"CUST_UID\"])\n",
    "new_test_data = data_log(num_type_fea,new_test_data,num=1)"
   ]
  },
  {
   "cell_type": "code",
   "execution_count": 45,
   "id": "d1ecabaa",
   "metadata": {
    "ExecuteTime": {
     "end_time": "2022-05-10T04:25:04.601436Z",
     "start_time": "2022-05-10T02:03:37.851706Z"
    }
   },
   "outputs": [
    {
     "name": "stderr",
     "output_type": "stream",
     "text": [
      "auto_weight currently does not use any sample weights.\n",
      "No path specified. Models will be saved in: \"AutogluonModels/ag-20220510_020337\\\"\n",
      "Presets specified: ['best_quality']\n",
      "============ fit kwarg info ============\n",
      "User Specified kwargs:\n",
      "{'ag_args_fit': {'num_gpus': 1}, 'auto_stack': True}\n",
      "Full kwargs:\n",
      "{'_feature_generator_kwargs': None,\n",
      " '_save_bag_folds': None,\n",
      " 'ag_args': None,\n",
      " 'ag_args_ensemble': None,\n",
      " 'ag_args_fit': {'num_gpus': 1},\n",
      " 'auto_stack': True,\n",
      " 'calibrate': 'auto',\n",
      " 'excluded_model_types': None,\n",
      " 'feature_generator': 'auto',\n",
      " 'feature_prune_kwargs': None,\n",
      " 'holdout_frac': None,\n",
      " 'hyperparameter_tune_kwargs': None,\n",
      " 'keep_only_best': False,\n",
      " 'name_suffix': None,\n",
      " 'num_bag_folds': None,\n",
      " 'num_bag_sets': None,\n",
      " 'num_stack_levels': None,\n",
      " 'pseudo_data': None,\n",
      " 'quantile_levels': None,\n",
      " 'refit_full': False,\n",
      " 'save_space': False,\n",
      " 'set_best_to_refit_full': False,\n",
      " 'unlabeled_data': None,\n",
      " 'use_bag_holdout': False,\n",
      " 'verbosity': 3}\n",
      "========================================\n",
      "Saving AutogluonModels/ag-20220510_020337\\learner.pkl\n",
      "Saving AutogluonModels/ag-20220510_020337\\predictor.pkl\n",
      "Beginning AutoGluon training ... Time limit = 18000s\n",
      "AutoGluon will save models to \"AutogluonModels/ag-20220510_020337\\\"\n",
      "AutoGluon Version:  0.4.1b20220319\n",
      "Python Version:     3.7.12\n",
      "Operating System:   Windows\n",
      "Train Data Rows:    52000\n",
      "Train Data Columns: 49\n",
      "Label Column: LABEL\n",
      "Preprocessing data ...\n",
      "AutoGluon infers your prediction problem is: 'binary' (because only two unique label-values observed).\n",
      "\t2 unique label values:  [0, 1]\n",
      "\tIf 'binary' is not the correct problem_type, please manually specify the problem_type parameter during predictor init (You may specify problem_type as one of: ['binary', 'multiclass', 'regression'])\n",
      "Selected class <--> label mapping:  class 1 = 1, class 0 = 0\n",
      "Using Feature Generators to preprocess the data ...\n",
      "Fitting AutoMLPipelineFeatureGenerator...\n",
      "\tAvailable Memory:                    9248.83 MB\n",
      "\tTrain Data (Original)  Memory Usage: 29.38 MB (0.3% of available memory)\n",
      "\tInferring data type of each feature based on column values. Set feature_metadata_in to manually specify special dtypes of the features.\n",
      "\tStage 1 Generators:\n",
      "\t\tFitting AsTypeFeatureGenerator...\n",
      "\t\t\tOriginal Features (exact raw dtype, raw dtype):\n",
      "\t\t\t\t('float64', 'float') : 45 | ['AGN_CNT_RCT_12_MON', 'ICO_CUR_MON_ACM_TRX_TM', 'NB_RCT_3_MON_LGN_TMS_AGV', 'AGN_CUR_YEAR_AMT', 'AGN_CUR_YEAR_WAG_AMT', ...]\n",
      "\t\t\t\t('object', 'object') :  4 | ['MON_12_CUST_CNT_PTY_ID', 'WTHR_OPN_ONL_ICO', 'LGP_HLD_CARD_LVL', 'NB_CTC_HLD_IDV_AIO_CARD_SITU']\n",
      "\t\t\tTypes of features in original data (raw dtype, special dtypes):\n",
      "\t\t\t\t('float', [])                      : 45 | ['AGN_CNT_RCT_12_MON', 'ICO_CUR_MON_ACM_TRX_TM', 'NB_RCT_3_MON_LGN_TMS_AGV', 'AGN_CUR_YEAR_AMT', 'AGN_CUR_YEAR_WAG_AMT', ...]\n",
      "\t\t\t\t('object', [])                     :  2 | ['WTHR_OPN_ONL_ICO', 'NB_CTC_HLD_IDV_AIO_CARD_SITU']\n",
      "\t\t\t\t('object', ['datetime_as_object']) :  2 | ['MON_12_CUST_CNT_PTY_ID', 'LGP_HLD_CARD_LVL']\n",
      "\t\t\tTypes of features in processed data (raw dtype, special dtypes):\n",
      "\t\t\t\t('float', [])                      : 45 | ['AGN_CNT_RCT_12_MON', 'ICO_CUR_MON_ACM_TRX_TM', 'NB_RCT_3_MON_LGN_TMS_AGV', 'AGN_CUR_YEAR_AMT', 'AGN_CUR_YEAR_WAG_AMT', ...]\n",
      "\t\t\t\t('object', [])                     :  2 | ['WTHR_OPN_ONL_ICO', 'NB_CTC_HLD_IDV_AIO_CARD_SITU']\n",
      "\t\t\t\t('object', ['datetime_as_object']) :  2 | ['MON_12_CUST_CNT_PTY_ID', 'LGP_HLD_CARD_LVL']\n",
      "\t\t\t0.1s = Fit runtime\n",
      "\t\t\t49 features in original data used to generate 49 features in processed data.\n",
      "\tStage 2 Generators:\n",
      "\t\tFitting FillNaFeatureGenerator...\n",
      "\t\t\tTypes of features in original data (raw dtype, special dtypes):\n",
      "\t\t\t\t('float', [])                      : 45 | ['AGN_CNT_RCT_12_MON', 'ICO_CUR_MON_ACM_TRX_TM', 'NB_RCT_3_MON_LGN_TMS_AGV', 'AGN_CUR_YEAR_AMT', 'AGN_CUR_YEAR_WAG_AMT', ...]\n",
      "\t\t\t\t('object', [])                     :  2 | ['WTHR_OPN_ONL_ICO', 'NB_CTC_HLD_IDV_AIO_CARD_SITU']\n",
      "\t\t\t\t('object', ['datetime_as_object']) :  2 | ['MON_12_CUST_CNT_PTY_ID', 'LGP_HLD_CARD_LVL']\n",
      "\t\t\tTypes of features in processed data (raw dtype, special dtypes):\n",
      "\t\t\t\t('float', [])                      : 45 | ['AGN_CNT_RCT_12_MON', 'ICO_CUR_MON_ACM_TRX_TM', 'NB_RCT_3_MON_LGN_TMS_AGV', 'AGN_CUR_YEAR_AMT', 'AGN_CUR_YEAR_WAG_AMT', ...]\n",
      "\t\t\t\t('object', [])                     :  2 | ['WTHR_OPN_ONL_ICO', 'NB_CTC_HLD_IDV_AIO_CARD_SITU']\n",
      "\t\t\t\t('object', ['datetime_as_object']) :  2 | ['MON_12_CUST_CNT_PTY_ID', 'LGP_HLD_CARD_LVL']\n",
      "\t\t\t0.0s = Fit runtime\n",
      "\t\t\t49 features in original data used to generate 49 features in processed data.\n",
      "\tStage 3 Generators:\n",
      "\t\tFitting IdentityFeatureGenerator...\n",
      "\t\t\tTypes of features in original data (raw dtype, special dtypes):\n",
      "\t\t\t\t('float', []) : 45 | ['AGN_CNT_RCT_12_MON', 'ICO_CUR_MON_ACM_TRX_TM', 'NB_RCT_3_MON_LGN_TMS_AGV', 'AGN_CUR_YEAR_AMT', 'AGN_CUR_YEAR_WAG_AMT', ...]\n",
      "\t\t\tTypes of features in processed data (raw dtype, special dtypes):\n",
      "\t\t\t\t('float', []) : 45 | ['AGN_CNT_RCT_12_MON', 'ICO_CUR_MON_ACM_TRX_TM', 'NB_RCT_3_MON_LGN_TMS_AGV', 'AGN_CUR_YEAR_AMT', 'AGN_CUR_YEAR_WAG_AMT', ...]\n",
      "\t\t\t0.0s = Fit runtime\n",
      "\t\t\t45 features in original data used to generate 45 features in processed data.\n",
      "\t\tFitting CategoryFeatureGenerator...\n",
      "\t\t\tFitting CategoryMemoryMinimizeFeatureGenerator...\n",
      "\t\t\t\tTypes of features in original data (raw dtype, special dtypes):\n",
      "\t\t\t\t\t('category', []) : 2 | ['WTHR_OPN_ONL_ICO', 'NB_CTC_HLD_IDV_AIO_CARD_SITU']\n",
      "\t\t\t\tTypes of features in processed data (raw dtype, special dtypes):\n",
      "\t\t\t\t\t('category', []) : 2 | ['WTHR_OPN_ONL_ICO', 'NB_CTC_HLD_IDV_AIO_CARD_SITU']\n",
      "\t\t\t\t0.0s = Fit runtime\n",
      "\t\t\t\t2 features in original data used to generate 2 features in processed data.\n",
      "\t\t\tTypes of features in original data (raw dtype, special dtypes):\n",
      "\t\t\t\t('object', []) : 2 | ['WTHR_OPN_ONL_ICO', 'NB_CTC_HLD_IDV_AIO_CARD_SITU']\n",
      "\t\t\tTypes of features in processed data (raw dtype, special dtypes):\n",
      "\t\t\t\t('category', []) : 2 | ['WTHR_OPN_ONL_ICO', 'NB_CTC_HLD_IDV_AIO_CARD_SITU']\n",
      "\t\t\t0.0s = Fit runtime\n",
      "\t\t\t2 features in original data used to generate 2 features in processed data.\n",
      "\t\tFitting DatetimeFeatureGenerator...\n",
      "\t\t\tTypes of features in original data (raw dtype, special dtypes):\n",
      "\t\t\t\t('object', ['datetime_as_object']) : 2 | ['MON_12_CUST_CNT_PTY_ID', 'LGP_HLD_CARD_LVL']\n",
      "\t\t\tTypes of features in processed data (raw dtype, special dtypes):\n",
      "\t\t\t\t('int', ['datetime_as_int']) : 10 | ['MON_12_CUST_CNT_PTY_ID', 'MON_12_CUST_CNT_PTY_ID.year', 'MON_12_CUST_CNT_PTY_ID.month', 'MON_12_CUST_CNT_PTY_ID.day', 'MON_12_CUST_CNT_PTY_ID.dayofweek', ...]\n",
      "\t\t\t0.1s = Fit runtime\n",
      "\t\t\t2 features in original data used to generate 10 features in processed data.\n",
      "\t\tSkipping TextSpecialFeatureGenerator: No input feature with required dtypes.\n",
      "\t\tSkipping TextNgramFeatureGenerator: No input feature with required dtypes.\n",
      "\t\tSkipping IdentityFeatureGenerator: No input feature with required dtypes.\n",
      "\t\tSkipping IsNanFeatureGenerator: No input feature with required dtypes.\n",
      "\tStage 4 Generators:\n",
      "\t\tFitting DropUniqueFeatureGenerator...\n",
      "\t\t\tTypes of features in original data (raw dtype, special dtypes):\n",
      "\t\t\t\t('category', [])             :  2 | ['WTHR_OPN_ONL_ICO', 'NB_CTC_HLD_IDV_AIO_CARD_SITU']\n",
      "\t\t\t\t('float', [])                : 45 | ['AGN_CNT_RCT_12_MON', 'ICO_CUR_MON_ACM_TRX_TM', 'NB_RCT_3_MON_LGN_TMS_AGV', 'AGN_CUR_YEAR_AMT', 'AGN_CUR_YEAR_WAG_AMT', ...]\n",
      "\t\t\t\t('int', ['datetime_as_int']) :  2 | ['MON_12_CUST_CNT_PTY_ID', 'LGP_HLD_CARD_LVL']\n",
      "\t\t\tTypes of features in processed data (raw dtype, special dtypes):\n",
      "\t\t\t\t('category', [])             :  2 | ['WTHR_OPN_ONL_ICO', 'NB_CTC_HLD_IDV_AIO_CARD_SITU']\n",
      "\t\t\t\t('float', [])                : 45 | ['AGN_CNT_RCT_12_MON', 'ICO_CUR_MON_ACM_TRX_TM', 'NB_RCT_3_MON_LGN_TMS_AGV', 'AGN_CUR_YEAR_AMT', 'AGN_CUR_YEAR_WAG_AMT', ...]\n",
      "\t\t\t\t('int', ['datetime_as_int']) :  2 | ['MON_12_CUST_CNT_PTY_ID', 'LGP_HLD_CARD_LVL']\n",
      "\t\t\t0.1s = Fit runtime\n",
      "\t\t\t49 features in original data used to generate 49 features in processed data.\n",
      "\tTypes of features in original data (exact raw dtype, raw dtype):\n",
      "\t\t('float64', 'float') : 45 | ['AGN_CNT_RCT_12_MON', 'ICO_CUR_MON_ACM_TRX_TM', 'NB_RCT_3_MON_LGN_TMS_AGV', 'AGN_CUR_YEAR_AMT', 'AGN_CUR_YEAR_WAG_AMT', ...]\n",
      "\t\t('object', 'object') :  4 | ['MON_12_CUST_CNT_PTY_ID', 'WTHR_OPN_ONL_ICO', 'LGP_HLD_CARD_LVL', 'NB_CTC_HLD_IDV_AIO_CARD_SITU']\n"
     ]
    },
    {
     "name": "stderr",
     "output_type": "stream",
     "text": [
      "\tTypes of features in original data (raw dtype, special dtypes):\n",
      "\t\t('float', [])                      : 45 | ['AGN_CNT_RCT_12_MON', 'ICO_CUR_MON_ACM_TRX_TM', 'NB_RCT_3_MON_LGN_TMS_AGV', 'AGN_CUR_YEAR_AMT', 'AGN_CUR_YEAR_WAG_AMT', ...]\n",
      "\t\t('object', [])                     :  2 | ['WTHR_OPN_ONL_ICO', 'NB_CTC_HLD_IDV_AIO_CARD_SITU']\n",
      "\t\t('object', ['datetime_as_object']) :  2 | ['MON_12_CUST_CNT_PTY_ID', 'LGP_HLD_CARD_LVL']\n",
      "\tTypes of features in processed data (exact raw dtype, raw dtype):\n",
      "\t\t('category', 'category') :  2 | ['WTHR_OPN_ONL_ICO', 'NB_CTC_HLD_IDV_AIO_CARD_SITU']\n",
      "\t\t('float64', 'float')     : 45 | ['AGN_CNT_RCT_12_MON', 'ICO_CUR_MON_ACM_TRX_TM', 'NB_RCT_3_MON_LGN_TMS_AGV', 'AGN_CUR_YEAR_AMT', 'AGN_CUR_YEAR_WAG_AMT', ...]\n",
      "\t\t('int64', 'int')         :  2 | ['MON_12_CUST_CNT_PTY_ID', 'LGP_HLD_CARD_LVL']\n",
      "\tTypes of features in processed data (raw dtype, special dtypes):\n",
      "\t\t('category', [])             :  2 | ['WTHR_OPN_ONL_ICO', 'NB_CTC_HLD_IDV_AIO_CARD_SITU']\n",
      "\t\t('float', [])                : 45 | ['AGN_CNT_RCT_12_MON', 'ICO_CUR_MON_ACM_TRX_TM', 'NB_RCT_3_MON_LGN_TMS_AGV', 'AGN_CUR_YEAR_AMT', 'AGN_CUR_YEAR_WAG_AMT', ...]\n",
      "\t\t('int', ['datetime_as_int']) :  2 | ['MON_12_CUST_CNT_PTY_ID', 'LGP_HLD_CARD_LVL']\n",
      "\t0.5s = Fit runtime\n",
      "\t49 features in original data used to generate 49 features in processed data.\n",
      "\tTrain Data (Processed) Memory Usage: 19.66 MB (0.2% of available memory)\n",
      "Data preprocessing and feature engineering runtime = 0.58s ...\n",
      "AutoGluon will gauge predictive performance using evaluation metric: 'roc_auc'\n",
      "\tThis metric expects predicted probabilities rather than predicted class labels, so you'll need to use predict_proba() instead of predict()\n",
      "\tTo change this, specify the eval_metric parameter of Predictor()\n",
      "Saving AutogluonM"
     ]
    },
    {
     "data": {
      "text/html": [
       "<b>limit_output extension: Maximum message size of 10000 exceeded with 10037 characters</b>"
      ]
     },
     "metadata": {},
     "output_type": "display_data"
    }
   ],
   "source": [
    "from autogluon.tabular import TabularDataset, TabularPredictor\n",
    "\n",
    "label = \"LABEL\"\n",
    "eval_metric = 'roc_auc'\n",
    "# predictor = TabularPredictor(label= label).fit(train_data=train_data,\n",
    "#                                                num_bag_folds=5, num_bag_sets=1, num_stack_levels=2,\n",
    "#                                                ag_args_fit={'num_gpus': 0})\n",
    "\n",
    "predictor = TabularPredictor(label=label, eval_metric=eval_metric, verbosity=3\n",
    "#                              ,sample_weight = \"balance_weight\"\n",
    "                             ,sample_weight = \"auto_weight\"   \n",
    "                            )\\\n",
    "                            .fit(\n",
    "                                    new_train_B\n",
    "                                    ,ag_args_fit={'num_gpus': 1}\n",
    "#                                     ,hyperparameters = 'multimodal'                                  \n",
    "                                    , presets='best_quality'\n",
    "                                    , time_limit=3600*5\n",
    "                                )\n",
    "get_result(predictor,new_test_data,test_data)"
   ]
  },
  {
   "cell_type": "markdown",
   "id": "e51106f0",
   "metadata": {},
   "source": [
    "### 特征选择"
   ]
  },
  {
   "cell_type": "code",
   "execution_count": 124,
   "id": "c5b256e8",
   "metadata": {
    "ExecuteTime": {
     "end_time": "2022-05-10T12:06:29.561453Z",
     "start_time": "2022-05-10T12:06:28.203590Z"
    }
   },
   "outputs": [],
   "source": [
    "# 训练数据缺失值处理\n",
    "new_train_data = train_data.replace('?',np.nan)#用np.nan替换？\n",
    "new_train_data.dropna(how=\"all\",inplace=True)\n",
    "new_train_data = new_train_data.fillna(0)\n",
    "new_train_data = new_train_data.drop(columns=[\"CUST_UID\"])\n",
    "new_train_data = data_log(num_type_fea,new_train_data,num=1)\n",
    "\n",
    "# 测试数据缺失值处理\n",
    "test_data.isnull().mean()[test_data.isnull().mean()>0]\n",
    "test_data = test_data.fillna(1)\n",
    "\n",
    "new_test_data = test_data.replace('?',np.nan)#用np.nan替换？\n",
    "new_test_data = new_test_data.fillna(0)\n",
    "new_test_data = new_test_data.drop(columns=[\"CUST_UID\"])\n",
    "new_test_data = data_log(num_type_fea,new_test_data,num=1)\n",
    "\n",
    "# 特征构造\n",
    "for col in char_type_fea:\n",
    "    new_col = col+'_ratio'\n",
    "    new_train_data,new_test_data = GroupbyFeature(col,new_train_data,new_test_data,new_col) "
   ]
  },
  {
   "cell_type": "code",
   "execution_count": 88,
   "id": "89772456",
   "metadata": {
    "ExecuteTime": {
     "end_time": "2022-05-10T05:35:53.948120Z",
     "start_time": "2022-05-10T05:29:18.057816Z"
    }
   },
   "outputs": [
    {
     "name": "stderr",
     "output_type": "stream",
     "text": [
      "Custom logger is already specified. Specify more than one logger at same time is not thread safe.Warning: less than 75% gpu memory available for training. Free: 4493.625 Total: 6144\n"
     ]
    }
   ],
   "source": [
    "# 计算可解释性特征重要度\n",
    "from autogluon.tabular import TabularDataset, TabularPredictor\n",
    "label = \"LABEL\"\n",
    "eval_metric = 'roc_auc'\n",
    "predictor = TabularPredictor(label=label, eval_metric=eval_metric, verbosity=0)\\\n",
    "                            .fit(\n",
    "                                    new_train_data\n",
    "                                    ,ag_args_fit={'num_gpus': 1}\n",
    "                                )\n",
    "\n",
    "fea_importance = predictor.feature_importance(new_train_data)\n",
    "fea_importance .to_excel(\"./fea_importance.xlsx\")"
   ]
  },
  {
   "cell_type": "code",
   "execution_count": 89,
   "id": "5c7efad2",
   "metadata": {
    "ExecuteTime": {
     "end_time": "2022-05-10T05:35:54.181196Z",
     "start_time": "2022-05-10T05:35:54.151949Z"
    }
   },
   "outputs": [],
   "source": [
    "fea_importance = pd.read_excel(r\"./fea_importance.xlsx\",index_col=False)\n",
    "fea_importance.index = fea_importance[\"Unnamed: 0\"]\n",
    "fea_importance.drop(columns=[\"Unnamed: 0\"],inplace=True)"
   ]
  },
  {
   "cell_type": "code",
   "execution_count": 94,
   "id": "a8608e0d",
   "metadata": {
    "ExecuteTime": {
     "end_time": "2022-05-10T11:40:54.552556Z",
     "start_time": "2022-05-10T05:40:16.256065Z"
    },
    "code_folding": [],
    "collapsed": true
   },
   "outputs": [
    {
     "name": "stderr",
     "output_type": "stream",
     "text": [
      "Warning: less than 75% gpu memory available for training. Free: 4477.625 Total: 6144\n",
      "Warning: less than 75% gpu memory available for training. Free: 4477.625 Total: 6144\n",
      "Warning: less than 75% gpu memory available for training. Free: 4475.625 Total: 6144\n",
      "Warning: less than 75% gpu memory available for training. Free: 4475.625 Total: 6144\n",
      "Warning: less than 75% gpu memory available for training. Free: 4473.625 Total: 6144\n",
      "Warning: less than 75% gpu memory available for training. Free: 4473.625 Total: 6144\n",
      "Warning: less than 75% gpu memory available for training. Free: 4473.625 Total: 6144\n",
      "Warning: less than 75% gpu memory available for training. Free: 4473.625 Total: 6144\n",
      "Warning: less than 75% gpu memory available for training. Free: 4469.625 Total: 6144\n",
      "Warning: less than 75% gpu memory available for training. Free: 4469.625 Total: 6144\n",
      "Warning: less than 75% gpu memory available for training. Free: 4469.625 Total: 6144\n",
      "Warning: less than 75% gpu memory available for training. Free: 4469.625 Total: 6144\n",
      "Warning: less than 75% gpu memory available for training. Free: 4469.625 Total: 6144\n",
      "Warning: less than 75% gpu memory available for training. Free: 4469.625 Total: 6144\n",
      "Warning: less than 75% gpu memory available for training. Free: 4469.625 Total: 6144\n",
      "Warning: less than 75% gpu memory available for training. Free: 4461.625 Total: 6144\n",
      "Warning: less than 75% gpu memory available for training. Free: 4461.625 Total: 6144\n",
      "Warning: less than 75% gpu memory available for training. Free: 4461.625 Total: 6144\n",
      "Warning: less than 75% gpu memory available for training. Free: 4461.625 Total: 6144\n",
      "Warning: less than 75% gpu memory available for training. Free: 4461.625 Total: 6144\n",
      "Warning: less than 75% gpu memory available for training. Free: 4461.625 Total: 6144\n",
      "Warning: less than 75% gpu memory available for training. Free: 4461.625 Total: 6144\n",
      "Warning: less than 75% gpu memory available for training. Free: 4461.625 Total: 6144\n",
      "Warning: less than 75% gpu memory available for training. Free: 4461.625 Total: 6144\n",
      "Warning: less than 75% gpu memory available for training. Free: 4459.625 Total: 6144\n",
      "Warning: less than 75% gpu memory available for training. Free: 4459.625 Total: 6144\n",
      "Warning: less than 75% gpu memory available for training. Free: 4459.625 Total: 6144\n",
      "Warning: less than 75% gpu memory available for training. Free: 4459.625 Total: 6144\n",
      "Warning: less than 75% gpu memory available for training. Free: 4459.625 Total: 6144\n",
      "Warning: less than 75% gpu memory available for training. Free: 4459.625 Total: 6144\n",
      "Warning: less than 75% gpu memory available for training. Free: 4459.625 Total: 6144\n",
      "Warning: less than 75% gpu memory available for training. Free: 4459.625 Total: 6144\n",
      "Warning: less than 75% gpu memory available for training. Free: 4459.625 Total: 6144\n",
      "Warning: less than 75% gpu memory available for training. Free: 4459.625 Total: 6144\n",
      "Warning: less than 75% gpu memory available for training. Free: 4459.625 Total: 6144\n",
      "Warning: less than 75% gpu memory available for training. Free: 4459.625 Total: 6144\n",
      "Warning: less than 75% gpu memory available for training. Free: 4459.625 Total: 6144\n",
      "Warning: less than 75% gpu memory available for training. Free: 4459.625 Total: 6144\n",
      "Warning: less than 75% gpu memory available for training. Free: 4459.625 Total: 6144\n",
      "Warning: less than 75% gpu memory available for training. Free: 4459.625 Total: 6144\n",
      "Warning: less than 75% gpu memory available for training. Free: 4459.625 Total: 6144\n",
      "Warning: less than 75% gpu memory available for training. Free: 4459.625 Total: 6144\n",
      "Warning: less than 75% gpu memory available for training. Free: 4459.625 Total: 6144\n",
      "Warning: less than 75% gpu memory available for training. Free: 4459.625 Total: 6144\n",
      "Warning: less than 75% gpu memory available for training. Free: 4459.625 Total: 6144\n",
      "Warning: less than 75% gpu memory available for training. Free: 4459.625 Total: 6144\n",
      "Warning: less than 75% gpu memory available for training. Free: 4459.625 Total: 6144\n",
      "Warning: less than 75% gpu memory available for training. Free: 4459.625 Total: 6144\n",
      "Warning: less than 75% gpu memory available for training. Free: 4459.625 Total: 6144\n",
      "Warning: less than 75% gpu memory available for training. Free: 4459.625 Total: 6144\n",
      "Warning: less than 75% gpu memory available for training. Free: 4459.625 Total: 6144\n",
      "Warning: less than 75% gpu memory available for training. Free: 4459.625 Total: 6144\n",
      "Warning: less than 75% gpu memory available for training. Free: 4459.625 Total: 6144\n",
      "Warning: less than 75% gpu memory available for training. Free: 4459.625 Total: 6144\n",
      "Warning: less than 75% gpu memory available for training. Free: 4459.625 Total: 6144\n"
     ]
    }
   ],
   "source": [
    "# 基于特征重要度排名，进行前向选择\n",
    "\n",
    "cols = [\"LABEL\"]\n",
    "score_val = []\n",
    "model_name = []\n",
    "for col in fea_importance.index:\n",
    "    cols.append(col)\n",
    "    new_train_fea = new_train_data[cols]\n",
    "\n",
    "    label = \"LABEL\"\n",
    "    eval_metric = 'roc_auc'\n",
    "    predictor = TabularPredictor(label=label, eval_metric=eval_metric, verbosity=0)\\\n",
    "                                .fit(\n",
    "                                        new_train_fea\n",
    "                                        ,ag_args_fit={'num_gpus': 1}\n",
    "                                    )\n",
    "    score_val.append(predictor.leaderboard(silent=True)[\"score_val\"][0])\n",
    "    model_name.append(predictor.leaderboard(silent=True)[\"model\"][0])"
   ]
  },
  {
   "cell_type": "code",
   "execution_count": 115,
   "id": "f544daa5",
   "metadata": {
    "ExecuteTime": {
     "end_time": "2022-05-10T12:01:01.042050Z",
     "start_time": "2022-05-10T12:01:01.004971Z"
    }
   },
   "outputs": [],
   "source": [
    "a = pd.DataFrame(score_val,columns=[\"score_val\"])\n",
    "b = pd.DataFrame(model_name,columns=[\"model_name\"])\n",
    "pd.concat([a,b],axis=1).to_excel(\"./score_val.xlsx\",index=False)"
   ]
  },
  {
   "cell_type": "markdown",
   "id": "a8b8ea29",
   "metadata": {
    "heading_collapsed": true
   },
   "source": [
    "### 普通TabularPredictor"
   ]
  },
  {
   "cell_type": "code",
   "execution_count": 20,
   "id": "00989d03",
   "metadata": {
    "ExecuteTime": {
     "end_time": "2022-05-11T01:17:01.773252Z",
     "start_time": "2022-05-11T01:17:01.737348Z"
    },
    "hidden": true
   },
   "outputs": [],
   "source": [
    "fea_importance = pd.read_excel(r\"./fea_importance.xlsx\",index_col=False)\n",
    "fea_importance.index = fea_importance[\"Unnamed: 0\"]\n",
    "fea_importance.drop(columns=[\"Unnamed: 0\"],inplace=True)\n",
    "\n",
    "score_val = pd.read_excel(\"./score_val.xlsx\",index_col=False)"
   ]
  },
  {
   "cell_type": "code",
   "execution_count": 42,
   "id": "84d5f849",
   "metadata": {
    "ExecuteTime": {
     "end_time": "2022-05-11T01:31:38.404358Z",
     "start_time": "2022-05-11T01:31:37.160832Z"
    },
    "hidden": true
   },
   "outputs": [],
   "source": [
    "# 训练数据缺失值处理\n",
    "new_train_data = train_data.replace('?',np.nan)#用np.nan替换？\n",
    "new_train_data.dropna(how=\"all\",inplace=True)\n",
    "new_train_data = new_train_data.fillna(0)\n",
    "new_train_data = new_train_data.drop(columns=[\"CUST_UID\"])\n",
    "new_train_data = data_log(num_type_fea,new_train_data,num=1)\n",
    "\n",
    "# 测试数据缺失值处理\n",
    "test_data.isnull().mean()[test_data.isnull().mean()>0]\n",
    "test_data = test_data.fillna(1)\n",
    "\n",
    "new_test_data = test_data.replace('?',np.nan)#用np.nan替换？\n",
    "new_test_data = new_test_data.fillna(0)\n",
    "new_test_data = new_test_data.drop(columns=[\"CUST_UID\"])\n",
    "new_test_data = data_log(num_type_fea,new_test_data,num=1)\n",
    "\n",
    "# 特征构造\n",
    "for col in char_type_fea:\n",
    "    new_col = col+'_ratio'\n",
    "    new_train_data,new_test_data = GroupbyFeature(col,new_train_data,new_test_data,new_col) "
   ]
  },
  {
   "cell_type": "code",
   "execution_count": 48,
   "id": "fdfea97a",
   "metadata": {
    "ExecuteTime": {
     "end_time": "2022-05-11T01:40:37.394680Z",
     "start_time": "2022-05-11T01:40:37.384706Z"
    },
    "hidden": true
   },
   "outputs": [],
   "source": [
    "fea_num = 5 \n",
    "train_col = fea_importance.index.tolist()[:fea_num]+[\"LABEL\"]\n",
    "test_col = fea_importance.index.tolist()[:fea_num]\n",
    "new_train_data = new_train_data[train_col]\n",
    "new_test_data = new_test_data[test_col]"
   ]
  },
  {
   "cell_type": "code",
   "execution_count": 49,
   "id": "f50674ff",
   "metadata": {
    "ExecuteTime": {
     "end_time": "2022-05-11T01:40:54.035610Z",
     "start_time": "2022-05-11T01:40:40.016688Z"
    },
    "hidden": true
   },
   "outputs": [
    {
     "ename": "KeyboardInterrupt",
     "evalue": "",
     "output_type": "error",
     "traceback": [
      "\u001b[1;31m---------------------------------------------------------------------------\u001b[0m",
      "\u001b[1;31mKeyboardInterrupt\u001b[0m                         Traceback (most recent call last)",
      "\u001b[1;32mC:\\Users\\Public\\Documents\\iSkysoft\\CreatorTemp/ipykernel_3764/250748234.py\u001b[0m in \u001b[0;36m<module>\u001b[1;34m\u001b[0m\n\u001b[0;32m     11\u001b[0m                             .fit(\n\u001b[0;32m     12\u001b[0m                                     \u001b[0mnew_train_data\u001b[0m\u001b[1;33m\u001b[0m\u001b[1;33m\u001b[0m\u001b[0m\n\u001b[1;32m---> 13\u001b[1;33m                                     \u001b[1;33m,\u001b[0m\u001b[0mag_args_fit\u001b[0m\u001b[1;33m=\u001b[0m\u001b[1;33m{\u001b[0m\u001b[1;34m'num_gpus'\u001b[0m\u001b[1;33m:\u001b[0m \u001b[1;36m1\u001b[0m\u001b[1;33m}\u001b[0m\u001b[1;33m\u001b[0m\u001b[1;33m\u001b[0m\u001b[0m\n\u001b[0m\u001b[0;32m     14\u001b[0m \u001b[1;31m#                                     ,hyperparameters = 'multimodal',num_stack_levels=1,num_bag_folds=5\u001b[0m\u001b[1;33m\u001b[0m\u001b[1;33m\u001b[0m\u001b[1;33m\u001b[0m\u001b[0m\n\u001b[0;32m     15\u001b[0m \u001b[1;31m#                                     , presets='best_quality'\u001b[0m\u001b[1;33m\u001b[0m\u001b[1;33m\u001b[0m\u001b[1;33m\u001b[0m\u001b[0m\n",
      "\u001b[1;32mE:\\Python\\anaconda\\envs\\Pytorch\\lib\\site-packages\\autogluon\\core\\utils\\decorators.py\u001b[0m in \u001b[0;36m_call\u001b[1;34m(*args, **kwargs)\u001b[0m\n\u001b[0;32m     28\u001b[0m         \u001b[1;32mdef\u001b[0m \u001b[0m_call\u001b[0m\u001b[1;33m(\u001b[0m\u001b[1;33m*\u001b[0m\u001b[0margs\u001b[0m\u001b[1;33m,\u001b[0m \u001b[1;33m**\u001b[0m\u001b[0mkwargs\u001b[0m\u001b[1;33m)\u001b[0m\u001b[1;33m:\u001b[0m\u001b[1;33m\u001b[0m\u001b[1;33m\u001b[0m\u001b[0m\n\u001b[0;32m     29\u001b[0m             \u001b[0mgargs\u001b[0m\u001b[1;33m,\u001b[0m \u001b[0mgkwargs\u001b[0m \u001b[1;33m=\u001b[0m \u001b[0mg\u001b[0m\u001b[1;33m(\u001b[0m\u001b[1;33m*\u001b[0m\u001b[0mother_args\u001b[0m\u001b[1;33m,\u001b[0m \u001b[1;33m*\u001b[0m\u001b[0margs\u001b[0m\u001b[1;33m,\u001b[0m \u001b[1;33m**\u001b[0m\u001b[0mkwargs\u001b[0m\u001b[1;33m)\u001b[0m\u001b[1;33m\u001b[0m\u001b[1;33m\u001b[0m\u001b[0m\n\u001b[1;32m---> 30\u001b[1;33m             \u001b[1;32mreturn\u001b[0m \u001b[0mf\u001b[0m\u001b[1;33m(\u001b[0m\u001b[1;33m*\u001b[0m\u001b[0mgargs\u001b[0m\u001b[1;33m,\u001b[0m \u001b[1;33m**\u001b[0m\u001b[0mgkwargs\u001b[0m\u001b[1;33m)\u001b[0m\u001b[1;33m\u001b[0m\u001b[1;33m\u001b[0m\u001b[0m\n\u001b[0m\u001b[0;32m     31\u001b[0m         \u001b[1;32mreturn\u001b[0m \u001b[0m_call\u001b[0m\u001b[1;33m\u001b[0m\u001b[1;33m\u001b[0m\u001b[0m\n\u001b[0;32m     32\u001b[0m     \u001b[1;32mreturn\u001b[0m \u001b[0m_unpack_inner\u001b[0m\u001b[1;33m\u001b[0m\u001b[1;33m\u001b[0m\u001b[0m\n",
      "\u001b[1;32mE:\\Python\\anaconda\\envs\\Pytorch\\lib\\site-packages\\autogluon\\tabular\\predictor\\predictor.py\u001b[0m in \u001b[0;36mfit\u001b[1;34m(self, train_data, tuning_data, time_limit, presets, hyperparameters, feature_metadata, infer_limit, infer_limit_batch_size, **kwargs)\u001b[0m\n\u001b[0;32m    816\u001b[0m                           \u001b[0mhyperparameters\u001b[0m\u001b[1;33m=\u001b[0m\u001b[0mhyperparameters\u001b[0m\u001b[1;33m,\u001b[0m \u001b[0mcore_kwargs\u001b[0m\u001b[1;33m=\u001b[0m\u001b[0mcore_kwargs\u001b[0m\u001b[1;33m,\u001b[0m\u001b[1;33m\u001b[0m\u001b[1;33m\u001b[0m\u001b[0m\n\u001b[0;32m    817\u001b[0m                           \u001b[0mtime_limit\u001b[0m\u001b[1;33m=\u001b[0m\u001b[0mtime_limit\u001b[0m\u001b[1;33m,\u001b[0m \u001b[0minfer_limit\u001b[0m\u001b[1;33m=\u001b[0m\u001b[0minfer_limit\u001b[0m\u001b[1;33m,\u001b[0m \u001b[0minfer_limit_batch_size\u001b[0m\u001b[1;33m=\u001b[0m\u001b[0minfer_limit_batch_size\u001b[0m\u001b[1;33m,\u001b[0m\u001b[1;33m\u001b[0m\u001b[1;33m\u001b[0m\u001b[0m\n\u001b[1;32m--> 818\u001b[1;33m                           verbosity=verbosity, use_bag_holdout=use_bag_holdout)\n\u001b[0m\u001b[0;32m    819\u001b[0m         \u001b[0mself\u001b[0m\u001b[1;33m.\u001b[0m\u001b[0m_set_post_fit_vars\u001b[0m\u001b[1;33m(\u001b[0m\u001b[1;33m)\u001b[0m\u001b[1;33m\u001b[0m\u001b[1;33m\u001b[0m\u001b[0m\n\u001b[0;32m    820\u001b[0m \u001b[1;33m\u001b[0m\u001b[0m\n",
      "\u001b[1;32mE:\\Python\\anaconda\\envs\\Pytorch\\lib\\site-packages\\autogluon\\tabular\\learner\\abstract_learner.py\u001b[0m in \u001b[0;36mfit\u001b[1;34m(self, X, X_val, **kwargs)\u001b[0m\n\u001b[0;32m    148\u001b[0m             \u001b[1;32mraise\u001b[0m \u001b[0mAssertionError\u001b[0m\u001b[1;33m(\u001b[0m\u001b[1;34m'Learner is already fit.'\u001b[0m\u001b[1;33m)\u001b[0m\u001b[1;33m\u001b[0m\u001b[1;33m\u001b[0m\u001b[0m\n\u001b[0;32m    149\u001b[0m         \u001b[0mself\u001b[0m\u001b[1;33m.\u001b[0m\u001b[0m_validate_fit_input\u001b[0m\u001b[1;33m(\u001b[0m\u001b[0mX\u001b[0m\u001b[1;33m=\u001b[0m\u001b[0mX\u001b[0m\u001b[1;33m,\u001b[0m \u001b[0mX_val\u001b[0m\u001b[1;33m=\u001b[0m\u001b[0mX_val\u001b[0m\u001b[1;33m,\u001b[0m \u001b[1;33m**\u001b[0m\u001b[0mkwargs\u001b[0m\u001b[1;33m)\u001b[0m\u001b[1;33m\u001b[0m\u001b[1;33m\u001b[0m\u001b[0m\n\u001b[1;32m--> 150\u001b[1;33m         \u001b[1;32mreturn\u001b[0m \u001b[0mself\u001b[0m\u001b[1;33m.\u001b[0m\u001b[0m_fit\u001b[0m\u001b[1;33m(\u001b[0m\u001b[0mX\u001b[0m\u001b[1;33m=\u001b[0m\u001b[0mX\u001b[0m\u001b[1;33m,\u001b[0m \u001b[0mX_val\u001b[0m\u001b[1;33m=\u001b[0m\u001b[0mX_val\u001b[0m\u001b[1;33m,\u001b[0m \u001b[1;33m**\u001b[0m\u001b[0mkwargs\u001b[0m\u001b[1;33m)\u001b[0m\u001b[1;33m\u001b[0m\u001b[1;33m\u001b[0m\u001b[0m\n\u001b[0m\u001b[0;32m    151\u001b[0m \u001b[1;33m\u001b[0m\u001b[0m\n\u001b[0;32m    152\u001b[0m     def _fit(self, X: DataFrame, X_val: DataFrame = None, scheduler_options=None, hyperparameter_tune=False,\n",
      "\u001b[1;32mE:\\Python\\anaconda\\envs\\Pytorch\\lib\\site-packages\\autogluon\\tabular\\learner\\default_learner.py\u001b[0m in \u001b[0;36m_fit\u001b[1;34m(self, X, X_val, X_unlabeled, holdout_frac, num_bag_folds, num_bag_sets, time_limit, infer_limit, infer_limit_batch_size, verbosity, **trainer_fit_kwargs)\u001b[0m\n\u001b[0;32m    133\u001b[0m             \u001b[0minfer_limit_batch_size\u001b[0m\u001b[1;33m=\u001b[0m\u001b[0minfer_limit_batch_size\u001b[0m\u001b[1;33m,\u001b[0m\u001b[1;33m\u001b[0m\u001b[1;33m\u001b[0m\u001b[0m\n\u001b[0;32m    134\u001b[0m             \u001b[0mgroups\u001b[0m\u001b[1;33m=\u001b[0m\u001b[0mgroups\u001b[0m\u001b[1;33m,\u001b[0m\u001b[1;33m\u001b[0m\u001b[1;33m\u001b[0m\u001b[0m\n\u001b[1;32m--> 135\u001b[1;33m             \u001b[1;33m**\u001b[0m\u001b[0mtrainer_fit_kwargs\u001b[0m\u001b[1;33m\u001b[0m\u001b[1;33m\u001b[0m\u001b[0m\n\u001b[0m\u001b[0;32m    136\u001b[0m         )\n\u001b[0;32m    137\u001b[0m         \u001b[0mself\u001b[0m\u001b[1;33m.\u001b[0m\u001b[0msave_trainer\u001b[0m\u001b[1;33m(\u001b[0m\u001b[0mtrainer\u001b[0m\u001b[1;33m=\u001b[0m\u001b[0mtrainer\u001b[0m\u001b[1;33m)\u001b[0m\u001b[1;33m\u001b[0m\u001b[1;33m\u001b[0m\u001b[0m\n",
      "\u001b[1;32mE:\\Python\\anaconda\\envs\\Pytorch\\lib\\site-packages\\autogluon\\tabular\\trainer\\auto_trainer.py\u001b[0m in \u001b[0;36mfit\u001b[1;34m(self, X, y, hyperparameters, X_val, y_val, X_unlabeled, holdout_frac, num_stack_levels, core_kwargs, time_limit, infer_limit, infer_limit_batch_size, use_bag_holdout, groups, **kwargs)\u001b[0m\n\u001b[0;32m     94\u001b[0m                                        \u001b[0minfer_limit\u001b[0m\u001b[1;33m=\u001b[0m\u001b[0minfer_limit\u001b[0m\u001b[1;33m,\u001b[0m\u001b[1;33m\u001b[0m\u001b[1;33m\u001b[0m\u001b[0m\n\u001b[0;32m     95\u001b[0m                                        \u001b[0minfer_limit_batch_size\u001b[0m\u001b[1;33m=\u001b[0m\u001b[0minfer_limit_batch_size\u001b[0m\u001b[1;33m,\u001b[0m\u001b[1;33m\u001b[0m\u001b[1;33m\u001b[0m\u001b[0m\n\u001b[1;32m---> 96\u001b[1;33m                                        groups=groups)\n\u001b[0m\u001b[0;32m     97\u001b[0m \u001b[1;33m\u001b[0m\u001b[0m\n\u001b[0;32m     98\u001b[0m     \u001b[1;32mdef\u001b[0m \u001b[0mconstruct_model_templates_distillation\u001b[0m\u001b[1;33m(\u001b[0m\u001b[0mself\u001b[0m\u001b[1;33m,\u001b[0m \u001b[0mhyperparameters\u001b[0m\u001b[1;33m,\u001b[0m \u001b[1;33m**\u001b[0m\u001b[0mkwargs\u001b[0m\u001b[1;33m)\u001b[0m\u001b[1;33m:\u001b[0m\u001b[1;33m\u001b[0m\u001b[1;33m\u001b[0m\u001b[0m\n",
      "\u001b[1;32mE:\\Python\\anaconda\\envs\\Pytorch\\lib\\site-packages\\autogluon\\core\\trainer\\abstract_trainer.py\u001b[0m in \u001b[0;36m_train_multi_and_ensemble\u001b[1;34m(self, X, y, X_val, y_val, hyperparameters, X_unlabeled, num_stack_levels, time_limit, groups, **kwargs)\u001b[0m\n\u001b[0;32m   1528\u001b[0m         \u001b[0mself\u001b[0m\u001b[1;33m.\u001b[0m\u001b[0m_num_cols_train\u001b[0m \u001b[1;33m=\u001b[0m \u001b[0mlen\u001b[0m\u001b[1;33m(\u001b[0m\u001b[0mlist\u001b[0m\u001b[1;33m(\u001b[0m\u001b[0mX\u001b[0m\u001b[1;33m.\u001b[0m\u001b[0mcolumns\u001b[0m\u001b[1;33m)\u001b[0m\u001b[1;33m)\u001b[0m\u001b[1;33m\u001b[0m\u001b[1;33m\u001b[0m\u001b[0m\n\u001b[0;32m   1529\u001b[0m         model_names_fit = self.train_multi_levels(X, y, hyperparameters=hyperparameters, X_val=X_val, y_val=y_val,\n\u001b[1;32m-> 1530\u001b[1;33m                                                   X_unlabeled=X_unlabeled, level_start=1, level_end=num_stack_levels+1, time_limit=time_limit, **kwargs)\n\u001b[0m\u001b[0;32m   1531\u001b[0m         \u001b[1;32mif\u001b[0m \u001b[0mlen\u001b[0m\u001b[1;33m(\u001b[0m\u001b[0mself\u001b[0m\u001b[1;33m.\u001b[0m\u001b[0mget_model_names\u001b[0m\u001b[1;33m(\u001b[0m\u001b[1;33m)\u001b[0m\u001b[1;33m)\u001b[0m \u001b[1;33m==\u001b[0m \u001b[1;36m0\u001b[0m\u001b[1;33m:\u001b[0m\u001b[1;33m\u001b[0m\u001b[1;33m\u001b[0m\u001b[0m\n\u001b[0;32m   1532\u001b[0m             \u001b[1;32mraise\u001b[0m \u001b[0mValueError\u001b[0m\u001b[1;33m(\u001b[0m\u001b[1;34m'AutoGluon did not successfully train any models'\u001b[0m\u001b[1;33m)\u001b[0m\u001b[1;33m\u001b[0m\u001b[1;33m\u001b[0m\u001b[0m\n",
      "\u001b[1;32mE:\\Python\\anaconda\\envs\\Pytorch\\lib\\site-packages\\autogluon\\core\\trainer\\abstract_trainer.py\u001b[0m in \u001b[0;36mtrain_multi_levels\u001b[1;34m(self, X, y, hyperparameters, X_val, y_val, X_unlabeled, base_model_names, core_kwargs, aux_kwargs, level_start, level_end, time_limit, name_suffix, relative_stack, level_time_modifier, infer_limit, infer_limit_batch_size)\u001b[0m\n\u001b[0;32m    289\u001b[0m                 \u001b[0mmodels\u001b[0m\u001b[1;33m=\u001b[0m\u001b[0mhyperparameters\u001b[0m\u001b[1;33m,\u001b[0m \u001b[0mlevel\u001b[0m\u001b[1;33m=\u001b[0m\u001b[0mlevel\u001b[0m\u001b[1;33m,\u001b[0m \u001b[0mbase_model_names\u001b[0m\u001b[1;33m=\u001b[0m\u001b[0mbase_model_names\u001b[0m\u001b[1;33m,\u001b[0m\u001b[1;33m\u001b[0m\u001b[1;33m\u001b[0m\u001b[0m\n\u001b[0;32m    290\u001b[0m                 \u001b[0mcore_kwargs\u001b[0m\u001b[1;33m=\u001b[0m\u001b[0mcore_kwargs_level\u001b[0m\u001b[1;33m,\u001b[0m \u001b[0maux_kwargs\u001b[0m\u001b[1;33m=\u001b[0m\u001b[0maux_kwargs_level\u001b[0m\u001b[1;33m,\u001b[0m \u001b[0mname_suffix\u001b[0m\u001b[1;33m=\u001b[0m\u001b[0mname_suffix\u001b[0m\u001b[1;33m,\u001b[0m\u001b[1;33m\u001b[0m\u001b[1;33m\u001b[0m\u001b[0m\n\u001b[1;32m--> 291\u001b[1;33m                 \u001b[0minfer_limit\u001b[0m\u001b[1;33m=\u001b[0m\u001b[0minfer_limit\u001b[0m\u001b[1;33m,\u001b[0m \u001b[0minfer_limit_batch_size\u001b[0m\u001b[1;33m=\u001b[0m\u001b[0minfer_limit_batch_size\u001b[0m\u001b[1;33m,\u001b[0m\u001b[1;33m\u001b[0m\u001b[1;33m\u001b[0m\u001b[0m\n\u001b[0m\u001b[0;32m    292\u001b[0m             )\n\u001b[0;32m    293\u001b[0m             \u001b[0mmodel_names_fit\u001b[0m \u001b[1;33m+=\u001b[0m \u001b[0mbase_model_names\u001b[0m \u001b[1;33m+\u001b[0m \u001b[0maux_models\u001b[0m\u001b[1;33m\u001b[0m\u001b[1;33m\u001b[0m\u001b[0m\n",
      "\u001b[1;32mE:\\Python\\anaconda\\envs\\Pytorch\\lib\\site-packages\\autogluon\\core\\trainer\\abstract_trainer.py\u001b[0m in \u001b[0;36mstack_new_level\u001b[1;34m(self, X, y, models, X_val, y_val, X_unlabeled, level, base_model_names, core_kwargs, aux_kwargs, name_suffix, infer_limit, infer_limit_batch_size)\u001b[0m\n\u001b[0;32m    396\u001b[0m             \u001b[0maux_kwargs\u001b[0m\u001b[1;33m[\u001b[0m\u001b[1;34m'name_suffix'\u001b[0m\u001b[1;33m]\u001b[0m \u001b[1;33m=\u001b[0m \u001b[0maux_kwargs\u001b[0m\u001b[1;33m.\u001b[0m\u001b[0mget\u001b[0m\u001b[1;33m(\u001b[0m\u001b[1;34m'name_suffix'\u001b[0m\u001b[1;33m,\u001b[0m \u001b[1;34m''\u001b[0m\u001b[1;33m)\u001b[0m \u001b[1;33m+\u001b[0m \u001b[0mname_suffix\u001b[0m\u001b[1;33m\u001b[0m\u001b[1;33m\u001b[0m\u001b[0m\n\u001b[0;32m    397\u001b[0m         core_models = self.stack_new_level_core(X=X, y=y, X_val=X_val, y_val=y_val, X_unlabeled=X_unlabeled, models=models,\n\u001b[1;32m--> 398\u001b[1;33m                                                 level=level, infer_limit=infer_limit, infer_limit_batch_size=infer_limit_batch_size, base_model_names=base_model_names, **core_kwargs)\n\u001b[0m\u001b[0;32m    399\u001b[0m \u001b[1;33m\u001b[0m\u001b[0m\n\u001b[0;32m    400\u001b[0m         \u001b[1;32mif\u001b[0m \u001b[0mX_val\u001b[0m \u001b[1;32mis\u001b[0m \u001b[1;32mNone\u001b[0m\u001b[1;33m:\u001b[0m\u001b[1;33m\u001b[0m\u001b[1;33m\u001b[0m\u001b[0m\n",
      "\u001b[1;32mE:\\Python\\anaconda\\envs\\Pytorch\\lib\\site-packages\\autogluon\\core\\trainer\\abstract_trainer.py\u001b[0m in \u001b[0;36mstack_new_level_core\u001b[1;34m(self, X, y, models, X_val, y_val, X_unlabeled, level, base_model_names, stack_name, ag_args, ag_args_fit, ag_args_ensemble, excluded_model_types, ensemble_type, name_suffix, get_models_func, refit_full, infer_limit, infer_limit_batch_size, **kwargs)\u001b[0m\n\u001b[0;32m    486\u001b[0m         \u001b[1;31m# FIXME: TODO: v0.1 X_unlabeled isn't cached so it won't be available during refit_full or fit_extra.\u001b[0m\u001b[1;33m\u001b[0m\u001b[1;33m\u001b[0m\u001b[1;33m\u001b[0m\u001b[0m\n\u001b[0;32m    487\u001b[0m         return self._train_multi(X=X_init, y=y, X_val=X_val, y_val=y_val, X_unlabeled=X_unlabeled,\n\u001b[1;32m--> 488\u001b[1;33m                                  models=models, level=level, stack_name=stack_name, fit_kwargs=fit_kwargs, **kwargs)\n\u001b[0m\u001b[0;32m    489\u001b[0m \u001b[1;33m\u001b[0m\u001b[0m\n\u001b[0;32m    490\u001b[0m     \u001b[1;31m# TODO: Consider making level be auto-determined based off of max(base_model_levels)+1\u001b[0m\u001b[1;33m\u001b[0m\u001b[1;33m\u001b[0m\u001b[1;33m\u001b[0m\u001b[0m\n",
      "\u001b[1;32mE:\\Python\\anaconda\\envs\\Pytorch\\lib\\site-packages\\autogluon\\core\\trainer\\abstract_trainer.py\u001b[0m in \u001b[0;36m_train_multi\u001b[1;34m(self, X, y, models, hyperparameter_tune_kwargs, feature_prune_kwargs, k_fold, n_repeats, n_repeat_start, time_limit, **kwargs)\u001b[0m\n\u001b[0;32m   1500\u001b[0m             \u001b[0mtime_start\u001b[0m \u001b[1;33m=\u001b[0m \u001b[0mtime\u001b[0m\u001b[1;33m.\u001b[0m\u001b[0mtime\u001b[0m\u001b[1;33m(\u001b[0m\u001b[1;33m)\u001b[0m\u001b[1;33m\u001b[0m\u001b[1;33m\u001b[0m\u001b[0m\n\u001b[0;32m   1501\u001b[0m             model_names_trained = self._train_multi_initial(X=X, y=y, models=models, k_fold=k_fold, n_repeats=n_repeats_initial, hyperparameter_tune_kwargs=hyperparameter_tune_kwargs,\n\u001b[1;32m-> 1502\u001b[1;33m                                                             feature_prune_kwargs=feature_prune_kwargs, time_limit=time_limit, **kwargs)\n\u001b[0m\u001b[0;32m   1503\u001b[0m             \u001b[0mn_repeat_start\u001b[0m \u001b[1;33m=\u001b[0m \u001b[0mn_repeats_initial\u001b[0m\u001b[1;33m\u001b[0m\u001b[1;33m\u001b[0m\u001b[0m\n\u001b[0;32m   1504\u001b[0m             \u001b[1;32mif\u001b[0m \u001b[0mtime_limit\u001b[0m \u001b[1;32mis\u001b[0m \u001b[1;32mnot\u001b[0m \u001b[1;32mNone\u001b[0m\u001b[1;33m:\u001b[0m\u001b[1;33m\u001b[0m\u001b[1;33m\u001b[0m\u001b[0m\n",
      "\u001b[1;32mE:\\Python\\anaconda\\envs\\Pytorch\\lib\\site-packages\\autogluon\\core\\trainer\\abstract_trainer.py\u001b[0m in \u001b[0;36m_train_multi_initial\u001b[1;34m(self, X, y, models, k_fold, n_repeats, hyperparameter_tune_kwargs, time_limit, feature_prune_kwargs, **kwargs)\u001b[0m\n\u001b[0;32m   1386\u001b[0m             \u001b[0mtime_ratio\u001b[0m \u001b[1;33m=\u001b[0m \u001b[0mhpo_time_ratio\u001b[0m \u001b[1;32mif\u001b[0m \u001b[0mhpo_enabled\u001b[0m \u001b[1;32melse\u001b[0m \u001b[1;36m1\u001b[0m\u001b[1;33m\u001b[0m\u001b[1;33m\u001b[0m\u001b[0m\n\u001b[0;32m   1387\u001b[0m             models = self._train_multi_fold(models=models, hyperparameter_tune_kwargs=hyperparameter_tune_kwargs,\n\u001b[1;32m-> 1388\u001b[1;33m                                             time_limit=time_limit, time_split=time_split, time_ratio=time_ratio, **fit_args)\n\u001b[0m\u001b[0;32m   1389\u001b[0m         \u001b[1;32melse\u001b[0m\u001b[1;33m:\u001b[0m\u001b[1;33m\u001b[0m\u001b[1;33m\u001b[0m\u001b[0m\n\u001b[0;32m   1390\u001b[0m             \u001b[0mbagged_time_start\u001b[0m \u001b[1;33m=\u001b[0m \u001b[0mtime\u001b[0m\u001b[1;33m.\u001b[0m\u001b[0mtime\u001b[0m\u001b[1;33m(\u001b[0m\u001b[1;33m)\u001b[0m\u001b[1;33m\u001b[0m\u001b[1;33m\u001b[0m\u001b[0m\n",
      "\u001b[1;32mE:\\Python\\anaconda\\envs\\Pytorch\\lib\\site-packages\\autogluon\\core\\trainer\\abstract_trainer.py\u001b[0m in \u001b[0;36m_train_multi_fold\u001b[1;34m(self, X, y, models, time_limit, time_split, time_ratio, hyperparameter_tune_kwargs, **kwargs)\u001b[0m\n\u001b[0;32m   1470\u001b[0m                     \u001b[0mtime_start_model\u001b[0m \u001b[1;33m=\u001b[0m \u001b[0mtime\u001b[0m\u001b[1;33m.\u001b[0m\u001b[0mtime\u001b[0m\u001b[1;33m(\u001b[0m\u001b[1;33m)\u001b[0m\u001b[1;33m\u001b[0m\u001b[1;33m\u001b[0m\u001b[0m\n\u001b[0;32m   1471\u001b[0m                     \u001b[0mtime_left\u001b[0m \u001b[1;33m=\u001b[0m \u001b[0mtime_limit\u001b[0m \u001b[1;33m-\u001b[0m \u001b[1;33m(\u001b[0m\u001b[0mtime_start_model\u001b[0m \u001b[1;33m-\u001b[0m \u001b[0mtime_start\u001b[0m\u001b[1;33m)\u001b[0m\u001b[1;33m\u001b[0m\u001b[1;33m\u001b[0m\u001b[0m\n\u001b[1;32m-> 1472\u001b[1;33m             \u001b[0mmodel_name_trained_lst\u001b[0m \u001b[1;33m=\u001b[0m \u001b[0mself\u001b[0m\u001b[1;33m.\u001b[0m\u001b[0m_train_single_full\u001b[0m\u001b[1;33m(\u001b[0m\u001b[0mX\u001b[0m\u001b[1;33m,\u001b[0m \u001b[0my\u001b[0m\u001b[1;33m,\u001b[0m \u001b[0mmodel\u001b[0m\u001b[1;33m,\u001b[0m \u001b[0mtime_limit\u001b[0m\u001b[1;33m=\u001b[0m\u001b[0mtime_left\u001b[0m\u001b[1;33m,\u001b[0m \u001b[0mhyperparameter_tune_kwargs\u001b[0m\u001b[1;33m=\u001b[0m\u001b[0mhyperparameter_tune_kwargs_model\u001b[0m\u001b[1;33m,\u001b[0m \u001b[1;33m**\u001b[0m\u001b[0mkwargs\u001b[0m\u001b[1;33m)\u001b[0m\u001b[1;33m\u001b[0m\u001b[1;33m\u001b[0m\u001b[0m\n\u001b[0m\u001b[0;32m   1473\u001b[0m \u001b[1;33m\u001b[0m\u001b[0m\n\u001b[0;32m   1474\u001b[0m             \u001b[1;32mif\u001b[0m \u001b[0mself\u001b[0m\u001b[1;33m.\u001b[0m\u001b[0mlow_memory\u001b[0m\u001b[1;33m:\u001b[0m\u001b[1;33m\u001b[0m\u001b[1;33m\u001b[0m\u001b[0m\n",
      "\u001b[1;32mE:\\Python\\anaconda\\envs\\Pytorch\\lib\\site-packages\\autogluon\\core\\trainer\\abstract_trainer.py\u001b[0m in \u001b[0;36m_train_single_full\u001b[1;34m(self, X, y, model, X_unlabeled, X_val, y_val, X_pseudo, y_pseudo, feature_prune, hyperparameter_tune_kwargs, stack_name, k_fold, k_fold_start, k_fold_end, n_repeats, n_repeat_start, level, time_limit, fit_kwargs, **kwargs)\u001b[0m\n\u001b[0;32m   1294\u001b[0m                 \u001b[0mbagged_model_fit_kwargs\u001b[0m \u001b[1;33m=\u001b[0m \u001b[0mself\u001b[0m\u001b[1;33m.\u001b[0m\u001b[0m_get_bagged_model_fit_kwargs\u001b[0m\u001b[1;33m(\u001b[0m\u001b[0mk_fold\u001b[0m\u001b[1;33m=\u001b[0m\u001b[0mk_fold\u001b[0m\u001b[1;33m,\u001b[0m \u001b[0mk_fold_start\u001b[0m\u001b[1;33m=\u001b[0m\u001b[0mk_fold_start\u001b[0m\u001b[1;33m,\u001b[0m \u001b[0mk_fold_end\u001b[0m\u001b[1;33m=\u001b[0m\u001b[0mk_fold_end\u001b[0m\u001b[1;33m,\u001b[0m \u001b[0mn_repeats\u001b[0m\u001b[1;33m=\u001b[0m\u001b[0mn_repeats\u001b[0m\u001b[1;33m,\u001b[0m \u001b[0mn_repeat_start\u001b[0m\u001b[1;33m=\u001b[0m\u001b[0mn_repeat_start\u001b[0m\u001b[1;33m)\u001b[0m\u001b[1;33m\u001b[0m\u001b[1;33m\u001b[0m\u001b[0m\n\u001b[0;32m   1295\u001b[0m                 \u001b[0mmodel_fit_kwargs\u001b[0m\u001b[1;33m.\u001b[0m\u001b[0mupdate\u001b[0m\u001b[1;33m(\u001b[0m\u001b[0mbagged_model_fit_kwargs\u001b[0m\u001b[1;33m)\u001b[0m\u001b[1;33m\u001b[0m\u001b[1;33m\u001b[0m\u001b[0m\n\u001b[1;32m-> 1296\u001b[1;33m             \u001b[0mmodel_names_trained\u001b[0m \u001b[1;33m=\u001b[0m \u001b[0mself\u001b[0m\u001b[1;33m.\u001b[0m\u001b[0m_train_and_save\u001b[0m\u001b[1;33m(\u001b[0m\u001b[0mX\u001b[0m\u001b[1;33m,\u001b[0m \u001b[0my\u001b[0m\u001b[1;33m,\u001b[0m \u001b[0mmodel\u001b[0m\u001b[1;33m,\u001b[0m \u001b[0mX_val\u001b[0m\u001b[1;33m,\u001b[0m \u001b[0my_val\u001b[0m\u001b[1;33m,\u001b[0m \u001b[0mX_unlabeled\u001b[0m\u001b[1;33m=\u001b[0m\u001b[0mX_unlabeled\u001b[0m\u001b[1;33m,\u001b[0m \u001b[0mstack_name\u001b[0m\u001b[1;33m=\u001b[0m\u001b[0mstack_name\u001b[0m\u001b[1;33m,\u001b[0m \u001b[0mlevel\u001b[0m\u001b[1;33m=\u001b[0m\u001b[0mlevel\u001b[0m\u001b[1;33m,\u001b[0m \u001b[1;33m**\u001b[0m\u001b[0mmodel_fit_kwargs\u001b[0m\u001b[1;33m)\u001b[0m\u001b[1;33m\u001b[0m\u001b[1;33m\u001b[0m\u001b[0m\n\u001b[0m\u001b[0;32m   1297\u001b[0m         \u001b[0mself\u001b[0m\u001b[1;33m.\u001b[0m\u001b[0msave\u001b[0m\u001b[1;33m(\u001b[0m\u001b[1;33m)\u001b[0m\u001b[1;33m\u001b[0m\u001b[1;33m\u001b[0m\u001b[0m\n\u001b[0;32m   1298\u001b[0m         \u001b[1;32mreturn\u001b[0m \u001b[0mmodel_names_trained\u001b[0m\u001b[1;33m\u001b[0m\u001b[1;33m\u001b[0m\u001b[0m\n",
      "\u001b[1;32mE:\\Python\\anaconda\\envs\\Pytorch\\lib\\site-packages\\autogluon\\core\\trainer\\abstract_trainer.py\u001b[0m in \u001b[0;36m_train_and_save\u001b[1;34m(self, X, y, model, X_val, y_val, stack_name, level, **model_fit_kwargs)\u001b[0m\n\u001b[0;32m   1072\u001b[0m                 \u001b[0mmodel\u001b[0m \u001b[1;33m=\u001b[0m \u001b[0mself\u001b[0m\u001b[1;33m.\u001b[0m\u001b[0m_train_single\u001b[0m\u001b[1;33m(\u001b[0m\u001b[0mX_w_pseudo\u001b[0m\u001b[1;33m,\u001b[0m \u001b[0my_w_pseudo\u001b[0m\u001b[1;33m,\u001b[0m \u001b[0mmodel\u001b[0m\u001b[1;33m,\u001b[0m \u001b[0mX_val\u001b[0m\u001b[1;33m,\u001b[0m \u001b[0my_val\u001b[0m\u001b[1;33m,\u001b[0m \u001b[1;33m**\u001b[0m\u001b[0mmodel_fit_kwargs\u001b[0m\u001b[1;33m)\u001b[0m\u001b[1;33m\u001b[0m\u001b[1;33m\u001b[0m\u001b[0m\n\u001b[0;32m   1073\u001b[0m             \u001b[1;32melse\u001b[0m\u001b[1;33m:\u001b[0m\u001b[1;33m\u001b[0m\u001b[1;33m\u001b[0m\u001b[0m\n\u001b[1;32m-> 1074\u001b[1;33m                 \u001b[0mmodel\u001b[0m \u001b[1;33m=\u001b[0m \u001b[0mself\u001b[0m\u001b[1;33m.\u001b[0m\u001b[0m_train_single\u001b[0m\u001b[1;33m(\u001b[0m\u001b[0mX\u001b[0m\u001b[1;33m,\u001b[0m \u001b[0my\u001b[0m\u001b[1;33m,\u001b[0m \u001b[0mmodel\u001b[0m\u001b[1;33m,\u001b[0m \u001b[0mX_val\u001b[0m\u001b[1;33m,\u001b[0m \u001b[0my_val\u001b[0m\u001b[1;33m,\u001b[0m \u001b[1;33m**\u001b[0m\u001b[0mmodel_fit_kwargs\u001b[0m\u001b[1;33m)\u001b[0m\u001b[1;33m\u001b[0m\u001b[1;33m\u001b[0m\u001b[0m\n\u001b[0m\u001b[0;32m   1075\u001b[0m \u001b[1;33m\u001b[0m\u001b[0m\n\u001b[0;32m   1076\u001b[0m             \u001b[0mfit_end_time\u001b[0m \u001b[1;33m=\u001b[0m \u001b[0mtime\u001b[0m\u001b[1;33m.\u001b[0m\u001b[0mtime\u001b[0m\u001b[1;33m(\u001b[0m\u001b[1;33m)\u001b[0m\u001b[1;33m\u001b[0m\u001b[1;33m\u001b[0m\u001b[0m\n",
      "\u001b[1;32mE:\\Python\\anaconda\\envs\\Pytorch\\lib\\site-packages\\autogluon\\core\\trainer\\abstract_trainer.py\u001b[0m in \u001b[0;36m_train_single\u001b[1;34m(self, X, y, model, X_val, y_val, **model_fit_kwargs)\u001b[0m\n\u001b[0;32m   1030\u001b[0m         \u001b[0mReturns\u001b[0m \u001b[0mtrained\u001b[0m \u001b[0mmodel\u001b[0m \u001b[0mobject\u001b[0m\u001b[1;33m.\u001b[0m\u001b[1;33m\u001b[0m\u001b[1;33m\u001b[0m\u001b[0m\n\u001b[0;32m   1031\u001b[0m         \"\"\"\n\u001b[1;32m-> 1032\u001b[1;33m         \u001b[0mmodel\u001b[0m \u001b[1;33m=\u001b[0m \u001b[0mmodel\u001b[0m\u001b[1;33m.\u001b[0m\u001b[0mfit\u001b[0m\u001b[1;33m(\u001b[0m\u001b[0mX\u001b[0m\u001b[1;33m=\u001b[0m\u001b[0mX\u001b[0m\u001b[1;33m,\u001b[0m \u001b[0my\u001b[0m\u001b[1;33m=\u001b[0m\u001b[0my\u001b[0m\u001b[1;33m,\u001b[0m \u001b[0mX_val\u001b[0m\u001b[1;33m=\u001b[0m\u001b[0mX_val\u001b[0m\u001b[1;33m,\u001b[0m \u001b[0my_val\u001b[0m\u001b[1;33m=\u001b[0m\u001b[0my_val\u001b[0m\u001b[1;33m,\u001b[0m \u001b[1;33m**\u001b[0m\u001b[0mmodel_fit_kwargs\u001b[0m\u001b[1;33m)\u001b[0m\u001b[1;33m\u001b[0m\u001b[1;33m\u001b[0m\u001b[0m\n\u001b[0m\u001b[0;32m   1033\u001b[0m         \u001b[1;32mreturn\u001b[0m \u001b[0mmodel\u001b[0m\u001b[1;33m\u001b[0m\u001b[1;33m\u001b[0m\u001b[0m\n\u001b[0;32m   1034\u001b[0m \u001b[1;33m\u001b[0m\u001b[0m\n",
      "\u001b[1;32mE:\\Python\\anaconda\\envs\\Pytorch\\lib\\site-packages\\autogluon\\core\\models\\abstract\\abstract_model.py\u001b[0m in \u001b[0;36mfit\u001b[1;34m(self, **kwargs)\u001b[0m\n\u001b[0;32m    575\u001b[0m         \u001b[0mself\u001b[0m\u001b[1;33m.\u001b[0m\u001b[0m_register_fit_metadata\u001b[0m\u001b[1;33m(\u001b[0m\u001b[1;33m**\u001b[0m\u001b[0mkwargs\u001b[0m\u001b[1;33m)\u001b[0m\u001b[1;33m\u001b[0m\u001b[1;33m\u001b[0m\u001b[0m\n\u001b[0;32m    576\u001b[0m         \u001b[0mself\u001b[0m\u001b[1;33m.\u001b[0m\u001b[0m_validate_fit_memory_usage\u001b[0m\u001b[1;33m(\u001b[0m\u001b[1;33m**\u001b[0m\u001b[0mkwargs\u001b[0m\u001b[1;33m)\u001b[0m\u001b[1;33m\u001b[0m\u001b[1;33m\u001b[0m\u001b[0m\n\u001b[1;32m--> 577\u001b[1;33m         \u001b[0mout\u001b[0m \u001b[1;33m=\u001b[0m \u001b[0mself\u001b[0m\u001b[1;33m.\u001b[0m\u001b[0m_fit\u001b[0m\u001b[1;33m(\u001b[0m\u001b[1;33m**\u001b[0m\u001b[0mkwargs\u001b[0m\u001b[1;33m)\u001b[0m\u001b[1;33m\u001b[0m\u001b[1;33m\u001b[0m\u001b[0m\n\u001b[0m\u001b[0;32m    578\u001b[0m         \u001b[1;32mif\u001b[0m \u001b[0mout\u001b[0m \u001b[1;32mis\u001b[0m \u001b[1;32mNone\u001b[0m\u001b[1;33m:\u001b[0m\u001b[1;33m\u001b[0m\u001b[1;33m\u001b[0m\u001b[0m\n\u001b[0;32m    579\u001b[0m             \u001b[0mout\u001b[0m \u001b[1;33m=\u001b[0m \u001b[0mself\u001b[0m\u001b[1;33m\u001b[0m\u001b[1;33m\u001b[0m\u001b[0m\n",
      "\u001b[1;32mE:\\Python\\anaconda\\envs\\Pytorch\\lib\\site-packages\\autogluon\\tabular\\models\\lgb\\lgb_model.py\u001b[0m in \u001b[0;36m_fit\u001b[1;34m(self, X, y, X_val, y_val, time_limit, num_gpus, num_cpus, sample_weight, sample_weight_val, verbosity, **kwargs)\u001b[0m\n\u001b[0;32m    183\u001b[0m             \u001b[0mwarnings\u001b[0m\u001b[1;33m.\u001b[0m\u001b[0mfilterwarnings\u001b[0m\u001b[1;33m(\u001b[0m\u001b[1;34m'ignore'\u001b[0m\u001b[1;33m,\u001b[0m \u001b[0mmessage\u001b[0m\u001b[1;33m=\u001b[0m\u001b[1;34m'categorical_column in param dict is overridden.'\u001b[0m\u001b[1;33m)\u001b[0m\u001b[1;33m\u001b[0m\u001b[1;33m\u001b[0m\u001b[0m\n\u001b[0;32m    184\u001b[0m             \u001b[1;32mtry\u001b[0m\u001b[1;33m:\u001b[0m\u001b[1;33m\u001b[0m\u001b[1;33m\u001b[0m\u001b[0m\n\u001b[1;32m--> 185\u001b[1;33m                 \u001b[0mself\u001b[0m\u001b[1;33m.\u001b[0m\u001b[0mmodel\u001b[0m \u001b[1;33m=\u001b[0m \u001b[0mlgb\u001b[0m\u001b[1;33m.\u001b[0m\u001b[0mtrain\u001b[0m\u001b[1;33m(\u001b[0m\u001b[1;33m**\u001b[0m\u001b[0mtrain_params\u001b[0m\u001b[1;33m)\u001b[0m\u001b[1;33m\u001b[0m\u001b[1;33m\u001b[0m\u001b[0m\n\u001b[0m\u001b[0;32m    186\u001b[0m             \u001b[1;32mexcept\u001b[0m \u001b[0mLightGBMError\u001b[0m\u001b[1;33m:\u001b[0m\u001b[1;33m\u001b[0m\u001b[1;33m\u001b[0m\u001b[0m\n\u001b[0;32m    187\u001b[0m                 \u001b[1;32mif\u001b[0m \u001b[0mtrain_params\u001b[0m\u001b[1;33m[\u001b[0m\u001b[1;34m'params'\u001b[0m\u001b[1;33m]\u001b[0m\u001b[1;33m.\u001b[0m\u001b[0mget\u001b[0m\u001b[1;33m(\u001b[0m\u001b[1;34m'device'\u001b[0m\u001b[1;33m,\u001b[0m \u001b[1;34m'cpu'\u001b[0m\u001b[1;33m)\u001b[0m \u001b[1;33m!=\u001b[0m \u001b[1;34m'gpu'\u001b[0m\u001b[1;33m:\u001b[0m\u001b[1;33m\u001b[0m\u001b[1;33m\u001b[0m\u001b[0m\n",
      "\u001b[1;32mE:\\Python\\anaconda\\envs\\Pytorch\\lib\\site-packages\\lightgbm\\engine.py\u001b[0m in \u001b[0;36mtrain\u001b[1;34m(params, train_set, num_boost_round, valid_sets, valid_names, fobj, feval, init_model, feature_name, categorical_feature, early_stopping_rounds, evals_result, verbose_eval, learning_rates, keep_training_booster, callbacks)\u001b[0m\n\u001b[0;32m    290\u001b[0m                                     evaluation_result_list=None))\n\u001b[0;32m    291\u001b[0m \u001b[1;33m\u001b[0m\u001b[0m\n\u001b[1;32m--> 292\u001b[1;33m         \u001b[0mbooster\u001b[0m\u001b[1;33m.\u001b[0m\u001b[0mupdate\u001b[0m\u001b[1;33m(\u001b[0m\u001b[0mfobj\u001b[0m\u001b[1;33m=\u001b[0m\u001b[0mfobj\u001b[0m\u001b[1;33m)\u001b[0m\u001b[1;33m\u001b[0m\u001b[1;33m\u001b[0m\u001b[0m\n\u001b[0m\u001b[0;32m    293\u001b[0m \u001b[1;33m\u001b[0m\u001b[0m\n\u001b[0;32m    294\u001b[0m         \u001b[0mevaluation_result_list\u001b[0m \u001b[1;33m=\u001b[0m \u001b[1;33m[\u001b[0m\u001b[1;33m]\u001b[0m\u001b[1;33m\u001b[0m\u001b[1;33m\u001b[0m\u001b[0m\n",
      "\u001b[1;32mE:\\Python\\anaconda\\envs\\Pytorch\\lib\\site-packages\\lightgbm\\basic.py\u001b[0m in \u001b[0;36mupdate\u001b[1;34m(self, train_set, fobj)\u001b[0m\n\u001b[0;32m   3021\u001b[0m             _safe_call(_LIB.LGBM_BoosterUpdateOneIter(\n\u001b[0;32m   3022\u001b[0m                 \u001b[0mself\u001b[0m\u001b[1;33m.\u001b[0m\u001b[0mhandle\u001b[0m\u001b[1;33m,\u001b[0m\u001b[1;33m\u001b[0m\u001b[1;33m\u001b[0m\u001b[0m\n\u001b[1;32m-> 3023\u001b[1;33m                 ctypes.byref(is_finished)))\n\u001b[0m\u001b[0;32m   3024\u001b[0m             \u001b[0mself\u001b[0m\u001b[1;33m.\u001b[0m\u001b[0m__is_predicted_cur_iter\u001b[0m \u001b[1;33m=\u001b[0m \u001b[1;33m[\u001b[0m\u001b[1;32mFalse\u001b[0m \u001b[1;32mfor\u001b[0m \u001b[0m_\u001b[0m \u001b[1;32min\u001b[0m \u001b[0mrange\u001b[0m\u001b[1;33m(\u001b[0m\u001b[0mself\u001b[0m\u001b[1;33m.\u001b[0m\u001b[0m__num_dataset\u001b[0m\u001b[1;33m)\u001b[0m\u001b[1;33m]\u001b[0m\u001b[1;33m\u001b[0m\u001b[1;33m\u001b[0m\u001b[0m\n\u001b[0;32m   3025\u001b[0m             \u001b[1;32mreturn\u001b[0m \u001b[0mis_finished\u001b[0m\u001b[1;33m.\u001b[0m\u001b[0mvalue\u001b[0m \u001b[1;33m==\u001b[0m \u001b[1;36m1\u001b[0m\u001b[1;33m\u001b[0m\u001b[1;33m\u001b[0m\u001b[0m\n",
      "\u001b[1;31mKeyboardInterrupt\u001b[0m: "
     ]
    }
   ],
   "source": [
    "from autogluon.tabular import TabularDataset, TabularPredictor\n",
    "\n",
    "label = \"LABEL\"\n",
    "eval_metric = 'roc_auc'\n",
    "# predictor = TabularPredictor(label= label).fit(train_data=train_data,\n",
    "#                                                num_bag_folds=5, num_bag_sets=1, num_stack_levels=2,\n",
    "#                                                ag_args_fit={'num_gpus': 0})\n",
    "\n",
    "predictor = TabularPredictor(label=label, eval_metric=eval_metric, verbosity=0\n",
    "                            ,sample_weight = \"balance_weight\")\\\n",
    "                            .fit(\n",
    "                                    new_train_data\n",
    "                                    ,ag_args_fit={'num_gpus': 1}\n",
    "#                                     ,hyperparameters = 'multimodal',num_stack_levels=1,num_bag_folds=5                                   \n",
    "#                                     , presets='best_quality'\n",
    "#                                     , time_limit=3600*13\n",
    "                                )\n",
    "\n",
    "get_result(predictor,new_test_data,test_data)"
   ]
  },
  {
   "cell_type": "markdown",
   "id": "22ac43e7",
   "metadata": {
    "heading_collapsed": true
   },
   "source": [
    "### mutimodal + subset feature"
   ]
  },
  {
   "cell_type": "code",
   "execution_count": 14,
   "id": "ba6c310b",
   "metadata": {
    "ExecuteTime": {
     "end_time": "2022-05-11T01:14:48.202708Z",
     "start_time": "2022-05-11T01:14:48.130484Z"
    },
    "hidden": true
   },
   "outputs": [],
   "source": [
    "fea_importance = pd.read_excel(r\"./fea_importance.xlsx\",index_col=False)\n",
    "fea_importance.index = fea_importance[\"Unnamed: 0\"]\n",
    "fea_importance.drop(columns=[\"Unnamed: 0\"],inplace=True)\n",
    "\n",
    "score_val = pd.read_excel(\"./score_val.xlsx\",index_col=False)"
   ]
  },
  {
   "cell_type": "code",
   "execution_count": 51,
   "id": "68631137",
   "metadata": {
    "ExecuteTime": {
     "end_time": "2022-05-11T01:41:32.404026Z",
     "start_time": "2022-05-11T01:41:31.184053Z"
    },
    "hidden": true
   },
   "outputs": [],
   "source": [
    "# 训练数据缺失值处理\n",
    "new_train_data = train_data.replace('?',np.nan)#用np.nan替换？\n",
    "new_train_data.dropna(how=\"all\",inplace=True)\n",
    "new_train_data = new_train_data.fillna(0)\n",
    "new_train_data = new_train_data.drop(columns=[\"CUST_UID\"])\n",
    "new_train_data = data_log(num_type_fea,new_train_data,num=1)\n",
    "\n",
    "# 测试数据缺失值处理\n",
    "test_data.isnull().mean()[test_data.isnull().mean()>0]\n",
    "test_data = test_data.fillna(1)\n",
    "\n",
    "new_test_data = test_data.replace('?',np.nan)#用np.nan替换？\n",
    "new_test_data = new_test_data.fillna(0)\n",
    "new_test_data = new_test_data.drop(columns=[\"CUST_UID\"])\n",
    "new_test_data = data_log(num_type_fea,new_test_data,num=1)\n",
    "\n",
    "# 特征构造\n",
    "for col in char_type_fea:\n",
    "    new_col = col+'_ratio'\n",
    "    new_train_data,new_test_data = GroupbyFeature(col,new_train_data,new_test_data,new_col) "
   ]
  },
  {
   "cell_type": "code",
   "execution_count": 31,
   "id": "38d681b7",
   "metadata": {
    "ExecuteTime": {
     "end_time": "2022-05-11T01:29:42.403398Z",
     "start_time": "2022-05-11T01:29:42.374307Z"
    },
    "hidden": true
   },
   "outputs": [],
   "source": [
    "fea_num = 15 \n",
    "train_col = fea_importance.index.tolist()[:fea_num]+[\"LABEL\"]\n",
    "test_col = fea_importance.index.tolist()[:fea_num]\n",
    "new_train_data = new_train_data[train_col]\n",
    "new_test_data = new_test_data[test_col]"
   ]
  },
  {
   "cell_type": "code",
   "execution_count": 32,
   "id": "fe8218c7",
   "metadata": {
    "ExecuteTime": {
     "end_time": "2022-05-11T01:29:42.674679Z",
     "start_time": "2022-05-11T01:29:42.659692Z"
    },
    "hidden": true
   },
   "outputs": [
    {
     "name": "stdout",
     "output_type": "stream",
     "text": [
      "1\n"
     ]
    }
   ],
   "source": [
    "miss_num = 0\n",
    "for col in fea_importance.index.tolist()[:fea_num]:\n",
    "    if col in miss_fea:\n",
    "        miss_num = miss_num+1\n",
    "print(miss_num)\n"
   ]
  },
  {
   "cell_type": "code",
   "execution_count": null,
   "id": "7813f55d",
   "metadata": {
    "hidden": true
   },
   "outputs": [],
   "source": [
    "from autogluon.tabular import TabularDataset, TabularPredictor\n",
    "\n",
    "label = \"LABEL\"\n",
    "eval_metric = 'roc_auc'\n",
    "# predictor = TabularPredictor(label= label).fit(train_data=train_data,\n",
    "#                                                num_bag_folds=5, num_bag_sets=1, num_stack_levels=2,\n",
    "#                                                ag_args_fit={'num_gpus': 0})\n",
    "\n",
    "predictor = TabularPredictor(label=label, eval_metric=eval_metric, verbosity=3\n",
    "                            ,sample_weight = \"balance_weight\")\\\n",
    "                            .fit(\n",
    "                                    new_train_data\n",
    "                                    ,ag_args_fit={'num_gpus': 1}\n",
    "                                    ,hyperparameters = 'multimodal',num_stack_levels=1,num_bag_folds=5                                   \n",
    "#                                     , presets='best_quality'\n",
    "#                                     , time_limit=3600*13\n",
    "                                )\n",
    "\n",
    "get_result(predictor,new_test_data,test_data)"
   ]
  },
  {
   "cell_type": "markdown",
   "id": "861c74b8",
   "metadata": {},
   "source": [
    "### KBD + subset feature"
   ]
  },
  {
   "cell_type": "code",
   "execution_count": 14,
   "id": "ca42c27e",
   "metadata": {
    "ExecuteTime": {
     "end_time": "2022-05-12T01:05:38.553199Z",
     "start_time": "2022-05-12T01:05:38.474127Z"
    }
   },
   "outputs": [],
   "source": [
    "fea_importance = pd.read_excel(r\"./fea_importance.xlsx\",index_col=False)\n",
    "fea_importance.index = fea_importance[\"Unnamed: 0\"]\n",
    "fea_importance.drop(columns=[\"Unnamed: 0\"],inplace=True)\n",
    "\n",
    "score_val = pd.read_excel(\"./score_val.xlsx\",index_col=False)"
   ]
  },
  {
   "cell_type": "code",
   "execution_count": 20,
   "id": "a61b5c9e",
   "metadata": {
    "ExecuteTime": {
     "end_time": "2022-05-12T01:07:16.918361Z",
     "start_time": "2022-05-12T01:07:15.683013Z"
    }
   },
   "outputs": [],
   "source": [
    "# 训练数据缺失值处理\n",
    "new_train_data = train_data.replace('?',np.nan)#用np.nan替换？\n",
    "new_train_data.dropna(how=\"all\",inplace=True)\n",
    "new_train_data = new_train_data.fillna(0)\n",
    "new_train_data = new_train_data.drop(columns=[\"CUST_UID\"])\n",
    "new_train_data = data_log(num_type_fea,new_train_data,num=1)\n",
    "# new_train_B = pd.read_excel(\"./数据集/new_train_B.xlsx\")\n",
    "\n",
    "# 测试数据缺失值处理\n",
    "test_data.isnull().mean()[test_data.isnull().mean()>0]\n",
    "test_data = test_data.fillna(1)\n",
    "\n",
    "new_test_data = test_data.replace('?',np.nan)#用np.nan替换？\n",
    "new_test_data = new_test_data.fillna(0)\n",
    "new_test_data = new_test_data.drop(columns=[\"CUST_UID\"])\n",
    "new_test_data = data_log(num_type_fea,new_test_data,num=1)\n",
    "\n",
    "# 特征构造\n",
    "for col in char_type_fea:\n",
    "    new_col = col+'_ratio'\n",
    "    new_train_data,new_test_data = GroupbyFeature(col,new_train_data,new_test_data,new_col) "
   ]
  },
  {
   "cell_type": "code",
   "execution_count": 21,
   "id": "77a2ecb2",
   "metadata": {
    "ExecuteTime": {
     "end_time": "2022-05-12T01:07:17.423722Z",
     "start_time": "2022-05-12T01:07:17.377290Z"
    }
   },
   "outputs": [],
   "source": [
    "fea_num = fea_importance.shape[0]\n",
    "train_col = fea_importance.index.tolist()[:fea_num]+[\"LABEL\"]\n",
    "test_col = fea_importance.index.tolist()[:fea_num]\n",
    "new_train_data = new_train_data[train_col]\n",
    "new_test_data = new_test_data[test_col]"
   ]
  },
  {
   "cell_type": "code",
   "execution_count": 22,
   "id": "af198582",
   "metadata": {
    "ExecuteTime": {
     "end_time": "2022-05-12T01:07:21.164531Z",
     "start_time": "2022-05-12T01:07:17.868351Z"
    }
   },
   "outputs": [],
   "source": [
    "from sklearn.preprocessing import KBinsDiscretizer as KBD \n",
    "\n",
    "enc = KBD(\n",
    "    n_bins=18\n",
    "    ,encode='ordinal'\n",
    "    ,strategy='kmeans'\n",
    ")\n",
    "\n",
    "for col in train_col :\n",
    "    if col in num_type_fea:\n",
    "        new_col = col+\"_KBD\"\n",
    "        new_train_data[new_col] = enc.fit_transform(pd.DataFrame(new_train_data[col]))\n",
    "\n",
    "for col in test_col:\n",
    "    if col in num_type_fea:\n",
    "        new_col = col+\"_KBD\"\n",
    "        enc.fit(pd.DataFrame(new_train_data[col]))\n",
    "        new_test_data[new_col] = enc.transform(pd.DataFrame(new_test_data[col]))"
   ]
  },
  {
   "cell_type": "code",
   "execution_count": 23,
   "id": "61af2a44",
   "metadata": {
    "ExecuteTime": {
     "end_time": "2022-05-12T01:07:25.952257Z",
     "start_time": "2022-05-12T01:07:25.883289Z"
    }
   },
   "outputs": [],
   "source": [
    "drop_fea = []\n",
    "for col in num_type_fea:\n",
    "    if col in train_col:\n",
    "        drop_fea.append(col)\n",
    "new_train_data.drop(columns=drop_fea,inplace=True)\n",
    "new_test_data.drop(columns=drop_fea,inplace=True) "
   ]
  },
  {
   "cell_type": "code",
   "execution_count": 24,
   "id": "4e7ae437",
   "metadata": {
    "ExecuteTime": {
     "end_time": "2022-05-12T03:27:22.683312Z",
     "start_time": "2022-05-12T01:08:01.859169Z"
    }
   },
   "outputs": [
    {
     "name": "stderr",
     "output_type": "stream",
     "text": [
      "2022-05-12 09:11:56,074\tWARNING worker.py:1257 -- A worker died or was killed while executing a task by an unexpected system error. To troubleshoot the problem, check the logs for the dead worker. RayTask ID: cf47c217738a9a0616be8c8a6003ae39b80bf88c01000000 Worker ID: ae698610dd14ac6aa10a2a31253d987ca0310272c26b265f393a8248 Node ID: 84a7c3800bfb5594c39ba749988b4a3af17c0902e40c94b894e3cdab Worker IP address: 127.0.0.1 Worker port: 57465 Worker PID: 4920\n",
      "2022-05-12 09:11:56,369\tWARNING worker.py:1257 -- A worker died or was killed while executing a task by an unexpected system error. To troubleshoot the problem, check the logs for the dead worker. RayTask ID: d90d0cf413421cf51aa80b12ee4d99e4a66430ec01000000 Worker ID: 5d94ebb385bc140f14599fe6b2120b0a8a56c138db3ae1532e4a33c4 Node ID: 84a7c3800bfb5594c39ba749988b4a3af17c0902e40c94b894e3cdab Worker IP address: 127.0.0.1 Worker port: 57341 Worker PID: 6884\n",
      "\tWarning: Exception caused CatBoost_BAG_L1 to fail during training... Skipping this model.\n",
      "\t\t\u001b[36mray::_ray_fit()\u001b[39m (pid=4680, ip=127.0.0.1)\n",
      "  File \"python\\ray\\_raylet.pyx\", line 596, in ray._raylet.execute_task\n",
      "  File \"E:\\Python\\anaconda\\envs\\Pytorch\\lib\\site-packages\\ray\\_private\\memory_monitor.py\", line 158, in raise_if_low_memory\n",
      "    self.error_threshold))\n",
      "ray._private.memory_monitor.RayOutOfMemoryError: More than 95% of the memory on node LC-DIY2020UZBFD is used (15.9 / 15.92 GB). The top 10 memory consumers are:\n",
      "\n",
      "PID\tMEM\tCOMMAND\n",
      "5448\t1.58GiB\tE:\\Python\\anaconda\\envs\\Pytorch\\python.exe E:\\Python\\anaconda\\envs\\Pytorch\\lib\\site-packages\\ray\\wor\n",
      "8612\t1.01GiB\tE:\\Python\\anaconda\\envs\\Pytorch\\python.exe E:\\Python\\anaconda\\envs\\Pytorch\\lib\\site-packages\\ray\\wor\n",
      "4196\t0.7GiB\tE:\\Python\\anaconda\\envs\\Pytorch\\python.exe E:\\Python\\anaconda\\envs\\Pytorch\\lib\\site-packages\\ray\\wor\n",
      "13248\t0.6GiB\tE:\\Python\\anaconda\\envs\\Pytorch\\python.exe E:\\Python\\anaconda\\envs\\Pytorch\\lib\\site-packages\\ray\\wor\n",
      "11152\t0.28GiB\tE:\\Python\\anaconda\\envs\\Pytorch\\python.exe E:\\Python\\anaconda\\envs\\Pytorch\\lib\\site-packages\\ray\\wor\n",
      "16496\t0.25GiB\tE:\\Python\\anaconda\\envs\\Pytorch\\python.exe E:\\Python\\anaconda\\envs\\Pytorch\\lib\\site-packages\\ray\\wor\n",
      "4680\t0.16GiB\tE:\\Python\\anaconda\\envs\\Pytorch\\python.exe E:\\Python\\anaconda\\envs\\Pytorch\\lib\\site-packages\\ray\\wor\n",
      "14500\t0.11GiB\tC:\\Program Files (x86)\\Microsoft\\Edge\\Application\\msedge.exe --no-startup-window --win-session-start\n",
      "9764\t0.06GiB\tC:\\WINDOWS\\Explorer.EXE\n",
      "2428\t0.06GiB\tC:\\Program Files (x86)\\Microsoft\\Edge\\Application\\msedge.exe --type=renderer --disable-client-side-p\n",
      "\n",
      "In addition, up to 0.0 GiB of shared memory is currently being used by the Ray object store.\n",
      "---\n",
      "--- Tip: Use the `ray memory` command to list active objects in the cluster.\n",
      "--- To disable OOM exceptions, set RAY_DISABLE_MEMORY_MONITOR=1.\n",
      "---\n",
      "2022-05-12 10:15:15,378\tWARNING worker.py:1257 -- This worker was asked to execute a function that it does not have registered. You may have to restart Ray.\n",
      "2022-05-12 10:15:15,811\tWARNING worker.py:1257 -- This worker was asked to execute a function that it does not have registered. You may have to restart Ray.\n",
      "2022-05-12 10:15:15,837\tWARNING worker.py:1257 -- This worker was asked to execute a function that it does not have registered. You may have to restart Ray.\n",
      "2022-05-12 10:15:15,838\tWARNING worker.py:1257 -- This worker was asked to execute a function that it does not have registered. You may have to restart Ray.\n",
      "2022-05-12 10:15:15,839\tWARNING worker.py:1257 -- This worker was asked to execute a function that it does not have registered. You may have to restart Ray.\n",
      "2022-05-12 10:15:15,881\tWARNING worker.py:1257 -- This worker was asked to execute a function that it does not have registered. You may have to restart Ray.\n",
      "2022-05-12 10:15:15,883\tWARNING worker.py:1257 -- This worker was asked to execute a function that it does not have registered. You may have to restart Ray.\n",
      "2022-05-12 10:21:33,584\tWARNING worker.py:1257 -- This worker was asked to execute a function that it does not have registered. You may have to restart Ray.\n",
      "2022-05-12 10:21:34,536\tWARNING worker.py:1257 -- This worker was asked to execute a function that it does not have registered. You may have to restart Ray.\n",
      "2022-05-12 10:21:34,608\tWARNING worker.py:1257 -- This worker was asked to execute a function that it does not have registered. You may have to restart Ray.\n",
      "2022-05-12 10:21:34,610\tWARNING worker.py:1257 -- This worker was asked to execute a function that it does not have registered. You may have to restart Ray.\n",
      "2022-05-12 10:21:34,612\tWARNING worker.py:1257 -- This worker was asked to execute a function that it does not have registered. You may have to restart Ray.\n",
      "2022-05-12 10:21:34,613\tWARNING worker.py:1257 -- This worker was asked to execute a function that it does not have registered. You may have to restart Ray.\n",
      "2022-05-12 10:21:34,614\tWARNING worker.py:1257 -- This worker was asked to execute a function that it does not have registered. You may have to restart Ray.\n",
      "2022-05-12 10:24:59,442\tWARNING worker.py:1257 -- A worker died or was killed while executing a task by an unexpected system error. To troubleshoot the problem, check the logs for the dead worker. RayTask ID: 0bad79080f51d2e164bd9984611ff9f9387893cc01000000 Worker ID: da0eebd659ad2343f514d3a8196e771596cc5b87c6f6edfde1536f71 Node ID: aa96a6b33c1506e14e35c2d0d099021b0886c14dc8743b576a3378bf Worker IP address: 127.0.0.1 Worker port: 58751 Worker PID: 14604\n",
      "2022-05-12 10:25:01,009\tWARNING worker.py:1257 -- A worker died or was killed while executing a task by an unexpected system error. To troubleshoot the problem, check the logs for the dead worker. RayTask ID: 434d9974d8aef22d974781442f816b1493510c8501000000 Worker ID: af9526b0be2267d77a573e0cfac22fcc1ea9bb50e57f6de7ca399d21 Node ID: aa96a6b33c1506e14e35c2d0d099021b0886c14dc8743b576a3378bf Worker IP address: 127.0.0.1 Worker port: 58570 Worker PID: 1916\n",
      "2022-05-12 10:26:04,493\tWARNING worker.py:1257 -- This worker was asked to execute a function that it does not have registered. You may have to restart Ray.\n",
      "2022-05-12 10:26:31,832\tWARNING worker.py:1257 -- A worker died or was killed while executing a task by an unexpected system error. To troubleshoot the problem, check the logs for the dead worker. RayTask ID: 99a57933554c302c87e597f7cc57730f2e876b6301000000 Worker ID: eb3f436cb9718c1887fa72cc339a27ec00e192d1599358ca7bc00a9b Node ID: aa96a6b33c1506e14e35c2d0d099021b0886c14dc8743b576a3378bf Worker IP address: 127.0.0.1 Worker port: 58719 Worker PID: 11256\n",
      "2022-05-12 10:26:31,973\tWARNING worker.py:1257 -- A worker died or was killed while executing a task by an unexpected system error. To troubleshoot the problem, check the logs for the dead worker. RayTask ID: 6a3fb137773b22a5ef5f6309cdf413490944481201000000 Worker ID: 1f56d1dd59fcc94d1b41f4688ce895c15f11bc2dd1d3d3e455fe5c8f Node ID: aa96a6b33c1506e14e35c2d0d099021b0886c14dc8743b576a3378bf Worker IP address: 127.0.0.1 Worker port: 58750 Worker PID: 12784\n",
      "2022-05-12 10:29:20,305\tWARNING worker.py:1257 -- The log monitor on node LC-DIY2020UZBFD failed with the following error:\n",
      "OSError: [WinError 87] 参数错误。\n",
      "\n",
      "The above exception was the direct cause of the following exception:\n",
      "\n",
      "Traceback (most recent call last):\n",
      "  File \"E:\\Python\\anaconda\\envs\\Pytorch\\lib\\site-packages\\ray\\_private\\log_monitor.py\", line 449, in <module>\n",
      "    log_monitor.run()\n",
      "  File \"E:\\Python\\anaconda\\envs\\Pytorch\\lib\\site-packages\\ray\\_private\\log_monitor.py\", line 365, in run\n",
      "    self.open_closed_files()\n",
      "  File \"E:\\Python\\anaconda\\envs\\Pytorch\\lib\\site-packages\\ray\\_private\\log_monitor.py\", line 207, in open_closed_files\n",
      "    self.close_all_files()\n",
      "  File \"E:\\Python\\anaconda\\envs\\Pytorch\\lib\\site-packages\\ray\\_private\\log_monitor.py\", line 128, in close_all_files\n",
      "    os.kill(file_info.worker_pid, 0)\n",
      "SystemError: <built-in function kill> returned a result with an error set\n",
      "\n",
      "2022-05-12 10:35:34,204\tWARNING worker.py:1257 -- A worker died or was killed while executing a task by an unexpected system error. To troubleshoot the problem, check the logs for the dead worker. RayTask ID: f996fc639e7699611d58273f8615d2f8eaea5d4b01000000 Worker ID: 229c0fea932ba0c83638868a4fbb805f4e278000a34e7a0ad0922b8c Node ID: aa96a6b33c1506e14e35c2d0d099021b0886c14dc8743b576a3378bf Worker IP address: 127.0.0.1 Worker port: 59811 Worker PID: 14196\n"
     ]
    },
    {
     "name": "stderr",
     "output_type": "stream",
     "text": [
      "2022-05-12 10:37:44,819\tWARNING worker.py:1257 -- This worker was asked to execute a function that it does not have registered. You may have to restart Ray.\n",
      "2022-05-12 10:37:44,843\tWARNING worker.py:1257 -- This worker was asked to execute a function that it does not have registered. You may have to restart Ray.\n",
      "2022-05-12 10:37:44,844\tWARNING worker.py:1257 -- This worker was asked to execute a function that it does not have registered. You may have to restart Ray.\n",
      "2022-05-12 10:37:44,845\tWARNING worker.py:1257 -- This worker was asked to execute a function that it does not have registered. You may have to restart Ray.\n",
      "2022-05-12 10:37:44,846\tWARNING worker.py:1257 -- This worker was asked to execute a function that it does not have registered. You may have to restart Ray.\n",
      "2022-05-12 10:37:44,847\tWARNING worker.py:1257 -- This worker was asked to execute a function that it does not have registered. You may have to restart Ray.\n",
      "2022-05-12 10:37:44,847\tWARNING worker.py:1257 -- This worker was asked to execute a function that it does not have registered. You may have to restart Ray.\n",
      "2022-05-12 10:37:44,848\tWARNING worker.py:1257 -- This worker was asked to execute a function that it does not have registered. You may have to restart Ray.\n",
      "2022-05-12 10:48:48,953\tWARNING worker.py:1257 -- This worker was asked to execute a function that it does not have registered. You may have to restart Ray.\n",
      "2022-05-12 10:48:49,068\tWARNING worker.py:1257 -- This worker was asked to execute a function that it does not have registered. You may have to restart Ray.\n",
      "2022-05-12 10:48:49,097\tWARNING worker.py:1257 -- This worker was asked to execute a function that it does not have regi"
     ]
    },
    {
     "data": {
      "text/html": [
       "<b>limit_output extension: Maximum message size of 10000 exceeded with 10037 characters</b>"
      ]
     },
     "metadata": {},
     "output_type": "display_data"
    }
   ],
   "source": [
    "from autogluon.tabular import TabularDataset, TabularPredictor\n",
    "\n",
    "label = \"LABEL\"\n",
    "eval_metric = 'roc_auc'\n",
    "# predictor = TabularPredictor(label= label).fit(train_data=train_data,\n",
    "#                                                num_bag_folds=5, num_bag_sets=1, num_stack_levels=2,\n",
    "#                                                ag_args_fit={'num_gpus': 0})\n",
    "\n",
    "predictor = TabularPredictor(label=label, eval_metric=eval_metric, verbosity=0\n",
    "                             ,sample_weight = \"balance_weight\"\n",
    "#                              ,sample_weight = \"auto_weight\"   \n",
    "                            )\\\n",
    "                            .fit(\n",
    "                                    new_train_data\n",
    "                                    ,ag_args_fit={'num_gpus': 1}\n",
    "#                                     ,hyperparameters = 'multimodal',num_stack_levels=1,num_bag_folds=5                                  \n",
    "                                    , presets='best_quality'\n",
    "                                    , time_limit=3600*5\n",
    "                                )\n"
   ]
  },
  {
   "cell_type": "code",
   "execution_count": 25,
   "id": "b850e7d5",
   "metadata": {
    "ExecuteTime": {
     "end_time": "2022-05-12T03:27:36.643946Z",
     "start_time": "2022-05-12T03:27:33.859670Z"
    }
   },
   "outputs": [
    {
     "name": "stdout",
     "output_type": "stream",
     "text": [
      "*** Summary of fit() ***\n",
      "Estimated performance of each model:\n",
      "                      model  score_val  pred_time_val     fit_time  pred_time_val_marginal  fit_time_marginal  stack_level  can_infer  fit_order\n",
      "0       WeightedEnsemble_L3   0.940178     268.265235  4367.967899                0.008977           7.818259            3       True         21\n",
      "1       WeightedEnsemble_L2   0.940120     150.778687  2779.850537                0.009973           9.518566            2       True         11\n",
      "2           CatBoost_BAG_L2   0.939940     507.944576  4410.162146              303.874515        1621.085564            2       True         16\n",
      "3           LightGBM_BAG_L2   0.939923     220.794470  3105.623621               16.724409         316.547039            2       True         13\n",
      "4         LightGBMXT_BAG_L2   0.939903     223.776563  3124.119667               19.706502         335.043086            2       True         12\n",
      "5      LightGBMLarge_BAG_L2   0.939902     225.051263  3688.021961               20.981202         898.945380            2       True         20\n",
      "6      LightGBMLarge_BAG_L1   0.939393      23.938122   907.869116               23.938122         907.869116            1       True         10\n",
      "7           LightGBM_BAG_L1   0.939339      22.524613   380.197503               22.524613         380.197503            1       True          4\n",
      "8         LightGBMXT_BAG_L1   0.939086      36.637854   583.749575               36.637854         583.749575            1       True          3\n",
      "9            XGBoost_BAG_L1   0.938554      20.999004   898.440822               20.999004         898.440822            1       True          9\n",
      "10           XGBoost_BAG_L2   0.938336     224.175575  3753.368255               20.105514         964.291674            2       True         19\n",
      "11    ExtraTreesEntr_BAG_L2   0.938114     206.323846  2793.901283                2.253785           4.824702            2       True         18\n",
      "12  RandomForestEntr_BAG_L2   0.937631     206.065722  2794.376899                1.995661           5.300317            2       True         15\n",
      "13    ExtraTreesGini_BAG_L2   0.937562     206.524884  2799.239284                2.454823          10.162703            2       True         17\n",
      "14  RandomForestGini_BAG_L2   0.937190     206.135537  2794.626731                2.065476           5.550149            2       True         14\n",
      "15  RandomForestEntr_BAG_L1   0.933823       1.828881     3.608293                1.828881           3.608293            1       True          6\n",
      "16  RandomForestGini_BAG_L1   0.932293       1.800169     4.025345                1.800169           4.025345            1       True          5\n",
      "17    ExtraTreesEntr_BAG_L1   0.923479       1.957829     3.067855                1.957829           3.067855            1       True          8\n",
      "18    ExtraTreesGini_BAG_L1   0.922362       1.976711     7.932265                1.976711           7.932265            1       True          7\n",
      "19    KNeighborsDist_BAG_L1   0.784268      46.669122     0.074954               46.669122           0.074954            1       True          2\n",
      "20    KNeighborsUnif_BAG_L1   0.779476      45.737758     0.110853               45.737758           0.110853            1       True          1\n",
      "Number of models trained: 21\n",
      "Types of models trained:\n",
      "{'WeightedEnsembleModel', 'StackerEnsembleModel_CatBoost', 'StackerEnsembleModel_XGBoost', 'StackerEnsembleModel_LGB', 'StackerEnsembleModel_XT', 'StackerEnsembleModel_RF', 'StackerEnsembleModel_KNN'}\n",
      "Bagging used: True  (with 8 folds)\n",
      "Multi-layer stack-ensembling used: True  (with 3 levels)\n",
      "Feature Metadata (Processed):\n",
      "(raw dtype, special dtypes):\n",
      "('category', [])             :  2 | ['NB_CTC_HLD_IDV_AIO_CARD_SITU', 'WTHR_OPN_ONL_ICO']\n",
      "('float', [])                : 51 | ['LGP_HLD_CARD_LVL_ratio', 'SHH_BCK_ratio', 'NB_CTC_HLD_IDV_AIO_CARD_SITU_ratio', 'AI_STAR_SCO', 'MON_12_CUST_CNT_PTY_ID_ratio', ...]\n",
      "('int', ['datetime_as_int']) :  2 | ['MON_12_CUST_CNT_PTY_ID', 'LGP_HLD_CARD_LVL']\n",
      "*** End of fit() summary ***\n"
     ]
    },
    {
     "data": {
      "text/plain": [
       "{'model_types': {'KNeighborsUnif_BAG_L1': 'StackerEnsembleModel_KNN',\n",
       "  'KNeighborsDist_BAG_L1': 'StackerEnsembleModel_KNN',\n",
       "  'LightGBMXT_BAG_L1': 'StackerEnsembleModel_LGB',\n",
       "  'LightGBM_BAG_L1': 'StackerEnsembleModel_LGB',\n",
       "  'RandomForestGini_BAG_L1': 'StackerEnsembleModel_RF',\n",
       "  'RandomForestEntr_BAG_L1': 'StackerEnsembleModel_RF',\n",
       "  'ExtraTreesGini_BAG_L1': 'StackerEnsembleModel_XT',\n",
       "  'ExtraTreesEntr_BAG_L1': 'StackerEnsembleModel_XT',\n",
       "  'XGBoost_BAG_L1': 'StackerEnsembleModel_XGBoost',\n",
       "  'LightGBMLarge_BAG_L1': 'StackerEnsembleModel_LGB',\n",
       "  'WeightedEnsemble_L2': 'WeightedEnsembleModel',\n",
       "  'LightGBMXT_BAG_L2': 'StackerEnsembleModel_LGB',\n",
       "  'LightGBM_BAG_L2': 'StackerEnsembleModel_LGB',\n",
       "  'RandomForestGini_BAG_L2': 'StackerEnsembleModel_RF',\n",
       "  'RandomForestEntr_BAG_L2': 'StackerEnsembleModel_RF',\n",
       "  'CatBoost_BAG_L2': 'StackerEnsembleModel_CatBoost',\n",
       "  'ExtraTreesGini_BAG_L2': 'StackerEnsembleModel_XT',\n",
       "  'ExtraTreesEntr_BAG_L2': 'StackerEnsembleModel_XT',\n",
       "  'XGBoost_BAG_L2': 'StackerEnsembleModel_XGBoost',\n",
       "  'LightGBMLarge_BAG_L2': 'StackerEnsembleModel_LGB',\n",
       "  'WeightedEnsemble_L3': 'WeightedEnsembleModel'},\n",
       " 'model_performance': {'KNeighborsUnif_BAG_L1': 0.7794755816666666,\n",
       "  'KNeighborsDist_BAG_L1': 0.7842680766666668,\n",
       "  'LightGBMXT_BAG_L1': 0.9390858533333335,\n",
       "  'LightGBM_BAG_L1': 0.9393385000000001,\n",
       "  'RandomForestGini_BAG_L1': 0.9322930233333334,\n",
       "  'RandomForestEntr_BAG_L1': 0.9338227066666667,\n",
       "  'ExtraTreesGini_BAG_L1': 0.9223619066666666,\n",
       "  'ExtraTreesEntr_BAG_L1': 0.9234786566666667,\n",
       "  'XGBoost_BAG_L1': 0.9385536333333333,\n",
       "  'LightGBMLarge_BAG_L1': 0.9393933616666666,\n",
       "  'WeightedEnsemble_L2': 0.9401196000000002,\n",
       "  'LightGBMXT_BAG_L2': 0.9399030266666666,\n",
       "  'LightGBM_BAG_L2': 0.9399232433333333,\n",
       "  'RandomForestGini_BAG_L2': 0.9371901450000001,\n",
       "  'RandomForestEntr_BAG_L2': 0.9376311566666667,\n",
       "  'CatBoost_BAG_L2': 0.9399400833333332,\n",
       "  'ExtraTreesGini_BAG_L2': 0.93756167,\n",
       "  'ExtraTreesEntr_BAG_L2': 0.9381138699999999,\n",
       "  'XGBoost_BAG_L2': 0.9383359749999999,\n",
       "  'LightGBMLarge_BAG_L2': 0.9399015333333334,\n",
       "  'WeightedEnsemble_L3': 0.9401775916666668},\n",
       " 'model_best': 'WeightedEnsemble_L3',\n",
       " 'model_paths': {'KNeighborsUnif_BAG_L1': 'AutogluonModels/ag-20220512_010806\\\\models\\\\KNeighborsUnif_BAG_L1\\\\',\n",
       "  'KNeighborsDist_BAG_L1': 'AutogluonModels/ag-20220512_010806\\\\models\\\\KNeighborsDist_BAG_L1\\\\',\n",
       "  'LightGBMXT_BAG_L1': 'AutogluonModels/ag-20220512_010806\\\\models\\\\LightGBMXT_BAG_L1\\\\',\n",
       "  'LightGBM_BAG_L1': 'AutogluonModels/ag-20220512_010806\\\\models\\\\LightGBM_BAG_L1\\\\',\n",
       "  'RandomForestGini_BAG_L1': 'AutogluonModels/ag-20220512_010806\\\\models\\\\RandomForestGini_BAG_L1\\\\',\n",
       "  'RandomForestEntr_BAG_L1': 'AutogluonModels/ag-20220512_010806\\\\models\\\\RandomForestEntr_BAG_L1\\\\',\n",
       "  'ExtraTreesGini_BAG_L1': 'AutogluonModels/ag-20220512_010806\\\\models\\\\ExtraTreesGini_BAG_L1\\\\',\n",
       "  'ExtraTreesEntr_BAG_L1': 'AutogluonModels/ag-20220512_010806\\\\models\\\\ExtraTreesEntr_BAG_L1\\\\',\n",
       "  'XGBoost_BAG_L1': 'AutogluonModels/ag-20220512_010806\\\\models\\\\XGBoost_BAG_L1\\\\',\n",
       "  'LightGBMLarge_BAG_L1': 'AutogluonModels/ag-20220512_010806\\\\models\\\\LightGBMLarge_BAG_L1\\\\',\n",
       "  'WeightedEnsemble_L2': 'AutogluonModels/ag-20220512_010806\\\\models\\\\WeightedEnsemble_L2\\\\',\n",
       "  'LightGBMXT_BAG_L2': 'AutogluonModels/ag-20220512_010806\\\\models\\\\LightGBMXT_BAG_L2\\\\',\n",
       "  'LightGBM_BAG_L2': 'AutogluonModels/ag-20220512_010806\\\\models\\\\LightGBM_BAG_L2\\\\',\n",
       "  'RandomForestGini_BAG_L2': 'AutogluonModels/ag-20220512_010806\\\\models\\\\RandomForestGini_BAG_L2\\\\',\n",
       "  'RandomForestEntr_BAG_L2': 'AutogluonModels/ag-20220512_010806\\\\models\\\\RandomForestEntr_BAG_L2\\\\',\n",
       "  'CatBoost_BAG_L2': 'AutogluonModels/ag-20220512_010806\\\\models\\\\CatBoost_BAG_L2\\\\',\n",
       "  'ExtraTreesGini_BAG_L2': 'AutogluonModels/ag-20220512_010806\\\\models\\\\ExtraTreesGini_BAG_L2\\\\',\n",
       "  'ExtraTreesEntr_BAG_L2': 'AutogluonModels/ag-20220512_010806\\\\models\\\\ExtraTreesEntr_BAG_L2\\\\',\n",
       "  'XGBoost_BAG_L2': 'AutogluonModels/ag-20220512_010806\\\\models\\\\XGBoost_BAG_L2\\\\',\n",
       "  'LightGBMLarge_BAG_L2': 'AutogluonModels/ag-20220512_010806\\\\models\\\\LightGBMLarge_BAG_L2\\\\',\n",
       "  'WeightedEnsemble_L3': 'AutogluonModels/ag-20220512_010806\\\\models\\\\WeightedEnsemble_L3\\\\'},\n",
       " 'model_fit_times': {'KNeighborsUnif_BAG_L1': 0.11085271835327148,\n",
       "  'KNeighborsDist_BAG_L1': 0.07495355606079102,\n",
       "  'LightGBMXT_BAG_L1': 583.7495753765106,\n",
       "  'LightGBM_BAG_L1': 380.1975030899048,\n",
       "  'RandomForestGini_BAG_L1': 4.025345087051392,\n",
       "  'RandomForestEntr_BAG_L1': 3.608293294906616,\n",
       "  'ExtraTreesGini_BAG_L1': 7.932265281677246,\n",
       "  'ExtraTreesEntr_BAG_L1': 3.067854642868042,\n",
       "  'XGBoost_BAG_L1': 898.4408223628998,\n",
       "  'LightGBMLarge_BAG_L1': 907.8691163063049,\n",
       "  'WeightedEnsemble_L2': 9.518566370010376,\n",
       "  'LightGBMXT_BAG_L2': 335.04308557510376,\n",
       "  'LightGBM_BAG_L2': 316.547039270401,\n",
       "  'RandomForestGini_BAG_L2': 5.550149202346802,\n",
       "  'RandomForestEntr_BAG_L2': 5.300317049026489,\n",
       "  'CatBoost_BAG_L2': 1621.0855638980865,\n",
       "  'ExtraTreesGini_BAG_L2': 10.162702560424805,\n",
       "  'ExtraTreesEntr_BAG_L2': 4.824701547622681,\n",
       "  'XGBoost_BAG_L2': 964.2916736602783,\n",
       "  'LightGBMLarge_BAG_L2': 898.9453797340393,\n",
       "  'WeightedEnsemble_L3': 7.8182594776153564},\n",
       " 'model_pred_times': {'KNeighborsUnif_BAG_L1': 45.73775839805603,\n",
       "  'KNeighborsDist_BAG_L1': 46.669121742248535,\n",
       "  'LightGBMXT_BAG_L1': 36.63785362243652,\n",
       "  'LightGBM_BAG_L1': 22.52461314201355,\n",
       "  'RandomForestGini_BAG_L1': 1.800168514251709,\n",
       "  'RandomForestEntr_BAG_L1': 1.8288805484771729,\n",
       "  'ExtraTreesGini_BAG_L1': 1.9767107963562012,\n",
       "  'ExtraTreesEntr_BAG_L1': 1.9578285217285156,\n",
       "  'XGBoost_BAG_L1': 20.999003887176514,\n",
       "  'LightGBMLarge_BAG_L1': 23.938121795654297,\n",
       "  'WeightedEnsemble_L2': 0.00997304916381836,\n",
       "  'LightGBMXT_BAG_L2': 19.706502199172974,\n",
       "  'LightGBM_BAG_L2': 16.724409341812134,\n",
       "  'RandomForestGini_BAG_L2': 2.0654757022857666,\n",
       "  'RandomForestEntr_BAG_L2': 1.9956607818603516,\n",
       "  'CatBoost_BAG_L2': 303.8745152950287,\n",
       "  'ExtraTreesGini_BAG_L2': 2.454822540283203,\n",
       "  'ExtraTreesEntr_BAG_L2': 2.2537851333618164,\n",
       "  'XGBoost_BAG_L2': 20.10551357269287,\n",
       "  'LightGBMLa"
      ]
     },
     "execution_count": 25,
     "metadata": {},
     "output_type": "execute_result"
    },
    {
     "data": {
      "text/html": [
       "<b>limit_output extension: Maximum message size of 10000 exceeded with 16976 characters</b>"
      ]
     },
     "metadata": {},
     "output_type": "display_data"
    }
   ],
   "source": [
    "predictor.fit_summary(verbosity=1)"
   ]
  },
  {
   "cell_type": "code",
   "execution_count": 26,
   "id": "43ac3adb",
   "metadata": {
    "ExecuteTime": {
     "end_time": "2022-05-12T03:31:29.987098Z",
     "start_time": "2022-05-12T03:27:37.240033Z"
    }
   },
   "outputs": [],
   "source": [
    "get_result(predictor,new_test_data,test_data)"
   ]
  },
  {
   "cell_type": "code",
   "execution_count": null,
   "id": "2f5ff5f5",
   "metadata": {},
   "outputs": [],
   "source": []
  }
 ],
 "metadata": {
  "kernelspec": {
   "display_name": "PyTorch",
   "language": "python",
   "name": "pytorch"
  },
  "language_info": {
   "codemirror_mode": {
    "name": "ipython",
    "version": 3
   },
   "file_extension": ".py",
   "mimetype": "text/x-python",
   "name": "python",
   "nbconvert_exporter": "python",
   "pygments_lexer": "ipython3",
   "version": "3.7.12"
  },
  "latex_envs": {
   "LaTeX_envs_menu_present": true,
   "autoclose": false,
   "autocomplete": true,
   "bibliofile": "biblio.bib",
   "cite_by": "apalike",
   "current_citInitial": 1,
   "eqLabelWithNumbers": true,
   "eqNumInitial": 1,
   "hotkeys": {
    "equation": "Ctrl-E",
    "itemize": "Ctrl-I"
   },
   "labels_anchors": false,
   "latex_user_defs": false,
   "report_style_numbering": false,
   "user_envs_cfg": false
  },
  "nbTranslate": {
   "displayLangs": [
    "*"
   ],
   "hotkey": "alt-t",
   "langInMainMenu": true,
   "sourceLang": "en",
   "targetLang": "fr",
   "useGoogleTranslate": true
  },
  "toc": {
   "base_numbering": 1,
   "nav_menu": {},
   "number_sections": true,
   "sideBar": true,
   "skip_h1_title": false,
   "title_cell": "Table of Contents",
   "title_sidebar": "Contents",
   "toc_cell": false,
   "toc_position": {},
   "toc_section_display": true,
   "toc_window_display": true
  },
  "varInspector": {
   "cols": {
    "lenName": 16,
    "lenType": 16,
    "lenVar": 40
   },
   "kernels_config": {
    "python": {
     "delete_cmd_postfix": "",
     "delete_cmd_prefix": "del ",
     "library": "var_list.py",
     "varRefreshCmd": "print(var_dic_list())"
    },
    "r": {
     "delete_cmd_postfix": ") ",
     "delete_cmd_prefix": "rm(",
     "library": "var_list.r",
     "varRefreshCmd": "cat(var_dic_list()) "
    }
   },
   "types_to_exclude": [
    "module",
    "function",
    "builtin_function_or_method",
    "instance",
    "_Feature"
   ],
   "window_display": false
  }
 },
 "nbformat": 4,
 "nbformat_minor": 5
}
