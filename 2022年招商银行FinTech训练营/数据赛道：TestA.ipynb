{
 "cells": [
  {
   "cell_type": "code",
   "execution_count": 1,
   "id": "2db8fc40",
   "metadata": {
    "ExecuteTime": {
     "end_time": "2022-05-07T05:19:26.991539Z",
     "start_time": "2022-05-07T05:19:13.497990Z"
    }
   },
   "outputs": [],
   "source": [
    "import itertools\n",
    "import random\n",
    "import os \n",
    "import pandas as pd \n",
    "import numpy as np \n",
    "import matplotlib.pyplot as plt \n",
    "import warnings\n",
    "warnings.filterwarnings('ignore')\n",
    "from sklearn import preprocessing \n",
    "from sklearn import metrics\n",
    "from sklearn.model_selection import cross_val_score"
   ]
  },
  {
   "cell_type": "markdown",
   "id": "1ff70545",
   "metadata": {
    "heading_collapsed": true
   },
   "source": [
    "#  BenchMark"
   ]
  },
  {
   "cell_type": "code",
   "execution_count": 2,
   "id": "4bd2240e",
   "metadata": {
    "ExecuteTime": {
     "end_time": "2022-05-03T03:58:39.311272Z",
     "start_time": "2022-05-03T03:58:15.390514Z"
    },
    "hidden": true
   },
   "outputs": [],
   "source": [
    "train_data = pd.read_excel(\"./数据集/train.xlsx\",index_col=False)\n",
    "test_data = pd.read_excel(\"./数据集/test_A榜.xlsx\",index_col=False)\n",
    "new_train_data = train_data.replace('?',np.nan) # 用np.nan替换？"
   ]
  },
  {
   "cell_type": "code",
   "execution_count": 60,
   "id": "6984c505",
   "metadata": {
    "ExecuteTime": {
     "end_time": "2022-05-01T03:31:33.850586Z",
     "start_time": "2022-05-01T03:28:46.478661Z"
    },
    "hidden": true
   },
   "outputs": [
    {
     "name": "stderr",
     "output_type": "stream",
     "text": [
      "No path specified. Models will be saved in: \"AutogluonModels/ag-20220501_032846\\\"\n",
      "============ fit kwarg info ============\n",
      "User Specified kwargs:\n",
      "{'ag_args_fit': {'num_gpus': 1}}\n",
      "Full kwargs:\n",
      "{'_feature_generator_kwargs': None,\n",
      " '_save_bag_folds': None,\n",
      " 'ag_args': None,\n",
      " 'ag_args_ensemble': None,\n",
      " 'ag_args_fit': {'num_gpus': 1},\n",
      " 'auto_stack': False,\n",
      " 'calibrate': 'auto',\n",
      " 'excluded_model_types': None,\n",
      " 'feature_generator': 'auto',\n",
      " 'feature_prune_kwargs': None,\n",
      " 'holdout_frac': None,\n",
      " 'hyperparameter_tune_kwargs': None,\n",
      " 'keep_only_best': False,\n",
      " 'name_suffix': None,\n",
      " 'num_bag_folds': None,\n",
      " 'num_bag_sets': None,\n",
      " 'num_stack_levels': None,\n",
      " 'pseudo_data': None,\n",
      " 'quantile_levels': None,\n",
      " 'refit_full': False,\n",
      " 'save_space': False,\n",
      " 'set_best_to_refit_full': False,\n",
      " 'unlabeled_data': None,\n",
      " 'use_bag_holdout': False,\n",
      " 'verbosity': 3}\n",
      "========================================\n",
      "Saving AutogluonModels/ag-20220501_032846\\learner.pkl\n",
      "Saving AutogluonModels/ag-20220501_032846\\predictor.pkl\n",
      "Beginning AutoGluon training ...\n",
      "AutoGluon will save models to \"AutogluonModels/ag-20220501_032846\\\"\n",
      "AutoGluon Version:  0.4.1b20220319\n",
      "Python Version:     3.7.12\n",
      "Operating System:   Windows\n",
      "Train Data Rows:    40000\n",
      "Train Data Columns: 50\n",
      "Label Column: LABEL\n",
      "Preprocessing data ...\n",
      "AutoGluon infers your prediction problem is: 'binary' (because only two unique label-values observed).\n",
      "\t2 unique label values:  [0, 1]\n",
      "\tIf 'binary' is not the correct problem_type, please manually specify the problem_type parameter during predictor init (You may specify problem_type as one of: ['binary', 'multiclass', 'regression'])\n",
      "Selected class <--> label mapping:  class 1 = 1, class 0 = 0\n",
      "Using Feature Generators to preprocess the data ...\n",
      "Fitting AutoMLPipelineFeatureGenerator...\n",
      "\tAvailable Memory:                    7901.04 MB\n",
      "\tTrain Data (Original)  Memory Usage: 25.99 MB (0.3% of available memory)\n",
      "\tInferring data type of each feature based on column values. Set feature_metadata_in to manually specify special dtypes of the features.\n",
      "\tStage 1 Generators:\n",
      "\t\tFitting AsTypeFeatureGenerator...\n",
      "\t\t\tNote: Converting 1 features to boolean dtype as they only contain 2 unique values.\n",
      "\t\t\tOriginal Features (exact raw dtype, raw dtype):\n",
      "\t\t\t\t('float64', 'float') : 45 | ['AGN_CNT_RCT_12_MON', 'ICO_CUR_MON_ACM_TRX_TM', 'NB_RCT_3_MON_LGN_TMS_AGV', 'AGN_CUR_YEAR_AMT', 'AGN_CUR_YEAR_WAG_AMT', ...]\n",
      "\t\t\t\t('object', 'object') :  5 | ['CUST_UID', 'MON_12_CUST_CNT_PTY_ID', 'WTHR_OPN_ONL_ICO', 'LGP_HLD_CARD_LVL', 'NB_CTC_HLD_IDV_AIO_CARD_SITU']\n",
      "\t\t\tTypes of features in original data (raw dtype, special dtypes):\n",
      "\t\t\t\t('float', [])  : 45 | ['AGN_CNT_RCT_12_MON', 'ICO_CUR_MON_ACM_TRX_TM', 'NB_RCT_3_MON_LGN_TMS_AGV', 'AGN_CUR_YEAR_AMT', 'AGN_CUR_YEAR_WAG_AMT', ...]\n",
      "\t\t\t\t('object', []) :  5 | ['CUST_UID', 'MON_12_CUST_CNT_PTY_ID', 'WTHR_OPN_ONL_ICO', 'LGP_HLD_CARD_LVL', 'NB_CTC_HLD_IDV_AIO_CARD_SITU']\n",
      "\t\t\tTypes of features in processed data (raw dtype, special dtypes):\n",
      "\t\t\t\t('float', [])     : 45 | ['AGN_CNT_RCT_12_MON', 'ICO_CUR_MON_ACM_TRX_TM', 'NB_RCT_3_MON_LGN_TMS_AGV', 'AGN_CUR_YEAR_AMT', 'AGN_CUR_YEAR_WAG_AMT', ...]\n",
      "\t\t\t\t('int', ['bool']) :  1 | ['MON_12_CUST_CNT_PTY_ID']\n",
      "\t\t\t\t('object', [])    :  4 | ['CUST_UID', 'WTHR_OPN_ONL_ICO', 'LGP_HLD_CARD_LVL', 'NB_CTC_HLD_IDV_AIO_CARD_SITU']\n",
      "\t\t\t0.1s = Fit runtime\n",
      "\t\t\t50 features in original data used to generate 50 features in processed data.\n",
      "\tStage 2 Generators:\n",
      "\t\tFitting FillNaFeatureGenerator...\n",
      "\t\t\tTypes of features in original data (raw dtype, special dtypes):\n",
      "\t\t\t\t('float', [])     : 45 | ['AGN_CNT_RCT_12_MON', 'ICO_CUR_MON_ACM_TRX_TM', 'NB_RCT_3_MON_LGN_TMS_AGV', 'AGN_CUR_YEAR_AMT', 'AGN_CUR_YEAR_WAG_AMT', ...]\n",
      "\t\t\t\t('int', ['bool']) :  1 | ['MON_12_CUST_CNT_PTY_ID']\n",
      "\t\t\t\t('object', [])    :  4 | ['CUST_UID', 'WTHR_OPN_ONL_ICO', 'LGP_HLD_CARD_LVL', 'NB_CTC_HLD_IDV_AIO_CARD_SITU']\n",
      "\t\t\tTypes of features in processed data (raw dtype, special dtypes):\n",
      "\t\t\t\t('float', [])     : 45 | ['AGN_CNT_RCT_12_MON', 'ICO_CUR_MON_ACM_TRX_TM', 'NB_RCT_3_MON_LGN_TMS_AGV', 'AGN_CUR_YEAR_AMT', 'AGN_CUR_YEAR_WAG_AMT', ...]\n",
      "\t\t\t\t('int', ['bool']) :  1 | ['MON_12_CUST_CNT_PTY_ID']\n",
      "\t\t\t\t('object', [])    :  4 | ['CUST_UID', 'WTHR_OPN_ONL_ICO', 'LGP_HLD_CARD_LVL', 'NB_CTC_HLD_IDV_AIO_CARD_SITU']\n",
      "\t\t\t0.0s = Fit runtime\n",
      "\t\t\t50 features in original data used to generate 50 features in processed data.\n",
      "\tStage 3 Generators:\n",
      "\t\tFitting IdentityFeatureGenerator...\n",
      "\t\t\tTypes of features in original data (raw dtype, special dtypes):\n",
      "\t\t\t\t('float', [])     : 45 | ['AGN_CNT_RCT_12_MON', 'ICO_CUR_MON_ACM_TRX_TM', 'NB_RCT_3_MON_LGN_TMS_AGV', 'AGN_CUR_YEAR_AMT', 'AGN_CUR_YEAR_WAG_AMT', ...]\n",
      "\t\t\t\t('int', ['bool']) :  1 | ['MON_12_CUST_CNT_PTY_ID']\n",
      "\t\t\tTypes of features in processed data (raw dtype, special dtypes):\n",
      "\t\t\t\t('float', [])     : 45 | ['AGN_CNT_RCT_12_MON', 'ICO_CUR_MON_ACM_TRX_TM', 'NB_RCT_3_MON_LGN_TMS_AGV', 'AGN_CUR_YEAR_AMT', 'AGN_CUR_YEAR_WAG_AMT', ...]\n",
      "\t\t\t\t('int', ['bool']) :  1 | ['MON_12_CUST_CNT_PTY_ID']\n",
      "\t\t\t0.0s = Fit runtime\n",
      "\t\t\t46 features in original data used to generate 46 features in processed data.\n",
      "\t\tFitting CategoryFeatureGenerator...\n",
      "\t\t\tFitting CategoryMemoryMinimizeFeatureGenerator...\n",
      "\t\t\t\tTypes of features in original data (raw dtype, special dtypes):\n",
      "\t\t\t\t\t('category', []) : 4 | ['CUST_UID', 'WTHR_OPN_ONL_ICO', 'LGP_HLD_CARD_LVL', 'NB_CTC_HLD_IDV_AIO_CARD_SITU']\n",
      "\t\t\t\tTypes of features in processed data (raw dtype, special dtypes):\n",
      "\t\t\t\t\t('category', []) : 4 | ['CUST_UID', 'WTHR_OPN_ONL_ICO', 'LGP_HLD_CARD_LVL', 'NB_CTC_HLD_IDV_AIO_CARD_SITU']\n",
      "\t\t\t\t0.0s = Fit runtime\n",
      "\t\t\t\t4 features in original data used to generate 4 features in processed data.\n",
      "\t\t\tTypes of features in original data (raw dtype, special dtypes):\n",
      "\t\t\t\t('object', []) : 4 | ['CUST_UID', 'WTHR_OPN_ONL_ICO', 'LGP_HLD_CARD_LVL', 'NB_CTC_HLD_IDV_AIO_CARD_SITU']\n",
      "\t\t\tTypes of features in processed data (raw dtype, special dtypes):\n",
      "\t\t\t\t('category', []) : 4 | ['CUST_UID', 'WTHR_OPN_ONL_ICO', 'LGP_HLD_CARD_LVL', 'NB_CTC_HLD_IDV_AIO_CARD_SITU']\n",
      "\t\t\t0.1s = Fit runtime\n",
      "\t\t\t4 features in original data used to generate 4 features in processed data.\n",
      "\t\tSkipping DatetimeFeatureGenerator: No input feature with required dtypes.\n",
      "\t\tSkipping TextSpecialFeatureGenerator: No input feature with required dtypes.\n",
      "\t\tSkipping TextNgramFeatureGenerator: No input feature with required dtypes.\n",
      "\t\tSkipping IdentityFeatureGenerator: No input feature with required dtypes.\n",
      "\t\tSkipping IsNanFeatureGenerator: No input feature with required dtypes.\n",
      "\tStage 4 Generators:\n",
      "\t\tFitting DropUniqueFeatureGenerator...\n",
      "\t\t\tTypes of features in original data (raw dtype, special dtypes):\n",
      "\t\t\t\t('category', [])  :  3 | ['WTHR_OPN_ONL_ICO', 'LGP_HLD_CARD_LVL', 'NB_CTC_HLD_IDV_AIO_CARD_SITU']\n",
      "\t\t\t\t('float', [])     : 45 | ['AGN_CNT_RCT_12_MON', 'ICO_CUR_MON_ACM_TRX_TM', 'NB_RCT_3_MON_LGN_TMS_AGV', 'AGN_CUR_YEAR_AMT', 'AGN_CUR_YEAR_WAG_AMT', ...]\n",
      "\t\t\t\t('int', ['bool']) :  1 | ['MON_12_CUST_CNT_PTY_ID']\n",
      "\t\t\tTypes of features in processed data (raw dtype, special dtypes):\n",
      "\t\t\t\t('category', [])  :  3 | ['WTHR_OPN_ONL_ICO', 'LGP_HLD_CARD_LVL', 'NB_CTC_HLD_IDV_AIO_CARD_SITU']\n",
      "\t\t\t\t('float', [])     : 45 | ['AGN_CNT_RCT_12_MON', 'ICO_CUR_MON_ACM_TRX_TM', 'NB_RCT_3_MON_LGN_TMS_AGV', 'AGN_CUR_YEAR_AMT', 'AGN_CUR_YEAR_WAG_AMT', ...]\n",
      "\t\t\t\t('int', ['bool']) :  1 | ['MON_12_CUST_CNT_PTY_ID']\n",
      "\t\t\t0.1s = Fit runtime\n",
      "\t\t\t49 features in original data used to generate 49 features in processed data.\n",
      "\tUnused Original Features (Count: 1): ['CUST_UID']\n",
      "\t\tThese features were not used to generate any of the output features. Add a feature generator compatible with these features to utilize them.\n",
      "\t\tFeatures can also be unused if they carry very little information, such as being categorical but having almost entirely unique values or being duplicates of other features.\n",
      "\t\tThese features do not need to be present at inference time.\n",
      "\t\t('object', []) : 1 | ['CUST_UID']\n",
      "\tTypes of features in original data (exact raw dtype, raw dtype):\n",
      "\t\t('float64', 'float') : 45 | ['AGN_CNT_RCT_12_MON', 'ICO_CUR_MON_ACM_TRX_TM', 'NB_RCT_3_MON_LGN_TMS_AGV', 'AGN_CUR_YEAR_AMT', 'AGN_CUR_YEAR_WAG_AMT', ...]\n",
      "\t\t('object', 'object') :  4 | ['MON_12_CUST_CNT_PTY_ID', 'WTHR_OPN_ONL_ICO', 'LGP_HLD_CARD_LVL', 'NB_CTC_HLD_IDV_AIO_CARD_SITU']\n",
      "\tTypes of features in original data (raw dtype, special dtypes):\n",
      "\t\t('float', [])  : 45 | ['AGN_CNT_RCT_12_MON', 'ICO_CUR_MON_ACM_TRX_TM', 'NB_RCT_3_MON_LGN_TMS_AGV', 'AGN_CUR_YEAR_AMT', 'AGN_CUR_YEAR_WAG_AMT', ...]\n",
      "\t\t('object', []) :  4 | ['MON_12_CUST_CNT_PTY_ID', 'WTHR_OPN_ONL_ICO', 'LGP_HLD_CARD_LVL', 'NB_CTC_HLD_IDV_AIO_CARD_SITU']\n",
      "\tTypes of features in processed data (exact raw dtype, raw dtype):\n",
      "\t\t('category', 'category') :  3 | ['WTHR_OPN_ONL_ICO', 'LGP_HLD_CARD_LVL', 'NB_CTC_HLD_IDV_AIO_CARD_SITU']\n",
      "\t\t('float64', 'float')     : 45 | ['AGN_CNT_RCT_12_MON', 'ICO_CUR_MON_ACM_TRX_TM', 'NB_RCT_3_MON_LGN_TMS_AGV', 'AGN_CUR_YEAR_AMT', 'AGN_CUR_YEAR_WAG_AMT', ...]\n",
      "\t\t('int8', 'int')          :  1 | ['MON_12_CUST_CNT_PTY_ID']\n",
      "\tTypes of features in processed data (raw dtype, special dtypes):\n",
      "\t\t('category', [])  :  3 | ['WTHR_OPN_ONL_ICO', 'LGP_HLD_CARD_LVL', 'NB_CTC_HLD_IDV_AIO_CARD_SITU']\n",
      "\t\t('float', [])     : 45 | ['AGN_CNT_RCT_12_MON', 'ICO_CUR_MON_ACM_TRX_TM', 'NB_RCT_3_MON_LGN_TMS_AGV', 'AGN_CUR_YEAR_AMT', 'AGN_CUR_YEAR_WAG_AMT', ...]\n",
      "\t\t('int', ['bool']) :  1 | ['MON_12_CUST_CNT_PTY_ID']\n",
      "\t0.5s = Fit runtime\n",
      "\t49 features in original data used to generate 49 features in processed data.\n",
      "\tTrain Data (Processed) Memory Usage: 14.56 MB (0.2% of available memory)\n",
      "Data preprocessing and feature engineering runtime = 0.59s ...\n",
      "AutoGluon will gauge predictive performance using evaluation metric: 'roc_auc'\n",
      "\tThis metric expects predicted probabilities rather than predicted class labels, so you'll need to use predict_proba() instead of predict()\n",
      "\tTo change this, specify the eval_metric parameter of Predictor()\n",
      "Saving AutogluonModels/ag-20220501_032846\\learner.pkl\n",
      "Automatically generating train/validation split with holdout_frac=0.0625, Train Rows: 37500, Val Rows: 2500\n",
      "Saving AutogluonModels/ag-20220501_0328"
     ]
    },
    {
     "data": {
      "text/html": [
       "<b>limit_output extension: Maximum message size of 10000 exceeded with 10020 characters</b>"
      ]
     },
     "metadata": {},
     "output_type": "display_data"
    }
   ],
   "source": [
    "from autogluon.tabular import TabularDataset, TabularPredictor\n",
    "\n",
    "label = \"LABEL\"\n",
    "eval_metric = 'roc_auc'\n",
    "\n",
    "# predictor = TabularPredictor(label= label).fit(train_data=train_data,\n",
    "# #                                                num_bag_folds=5, num_bag_sets=1, num_stack_levels=2,\n",
    "#                                                ag_args_fit={'num_gpus': 0})\n",
    "\n",
    "predictor = TabularPredictor(label=label, eval_metric=eval_metric, verbosity=3)\\\n",
    "                            .fit(\n",
    "                                    new_train_data\n",
    "                                    ,ag_args_fit={'num_gpus': 1}\n",
    "                                )"
   ]
  },
  {
   "cell_type": "code",
   "execution_count": 61,
   "id": "a9aa88f6",
   "metadata": {
    "ExecuteTime": {
     "end_time": "2022-05-01T03:31:35.134992Z",
     "start_time": "2022-05-01T03:31:34.073830Z"
    },
    "hidden": true
   },
   "outputs": [
    {
     "name": "stderr",
     "output_type": "stream",
     "text": [
      "Loading: AutogluonModels/ag-20220501_032846\\models\\KNeighborsUnif\\model.pkl\n",
      "Loading: AutogluonModels/ag-20220501_032846\\models\\KNeighborsDist\\model.pkl\n",
      "Loading: AutogluonModels/ag-20220501_032846\\models\\LightGBMXT\\model.pkl\n",
      "Loading: AutogluonModels/ag-20220501_032846\\models\\LightGBM\\model.pkl\n",
      "Loading: AutogluonModels/ag-20220501_032846\\models\\RandomForestGini\\model.pkl\n",
      "Loading: AutogluonModels/ag-20220501_032846\\models\\RandomForestEntr\\model.pkl\n",
      "Loading: AutogluonModels/ag-20220501_032846\\models\\CatBoost\\model.pkl\n",
      "Loading: AutogluonModels/ag-20220501_032846\\models\\ExtraTreesGini\\model.pkl\n",
      "Loading: AutogluonModels/ag-20220501_032846\\models\\ExtraTreesEntr\\model.pkl\n",
      "Loading: AutogluonModels/ag-20220501_032846\\models\\NeuralNetFastAI\\model.pkl\n",
      "Loading: AutogluonModels/ag-20220501_032846\\models\\NeuralNetFastAI\\model-internals.pkl\n",
      "Loading: AutogluonModels/ag-20220501_032846\\models\\XGBoost\\model.pkl\n",
      "Loading: AutogluonModels/ag-20220501_032846\\models\\NeuralNetTorch\\model.pkl\n",
      "Loading: AutogluonModels/ag-20220501_032846\\models\\LightGBMLarge\\model.pkl\n",
      "Loading: AutogluonModels/ag-20220501_032846\\models\\WeightedEnsemble_L2\\model.pkl\n"
     ]
    },
    {
     "name": "stdout",
     "output_type": "stream",
     "text": [
      "*** Summary of fit() ***\n",
      "Estimated performance of each model:\n",
      "                  model  score_val  pred_time_val    fit_time  pred_time_val_marginal  fit_time_marginal  stack_level  can_infer  fit_order\n",
      "0   WeightedEnsemble_L2   0.952911       2.925409  109.959228                0.002025           1.576801            2       True         14\n",
      "1               XGBoost   0.952399       0.017951    1.941504                0.017951           1.941504            1       True         11\n",
      "2              LightGBM   0.951463       0.014953    3.506632                0.014953           3.506632            1       True          4\n",
      "3         LightGBMLarge   0.950722       0.015957    8.059452                0.015957           8.059452            1       True         13\n",
      "4              CatBoost   0.949586       0.009972   42.239246                0.009972          42.239246            1       True          7\n",
      "5            LightGBMXT   0.949358       0.024932    4.007109                0.024932           4.007109            1       True          3\n",
      "6      RandomForestEntr   0.944971       0.125389    6.058845                0.125389           6.058845            1       True          6\n",
      "7      RandomForestGini   0.943775       0.111072    5.177150                0.111072           5.177150            1       True          5\n",
      "8        NeuralNetTorch   0.939549       0.066844   50.257951                0.066844          50.257951            1       True         12\n",
      "9        ExtraTreesEntr   0.907942       0.111286    2.464300                0.111286           2.464300            1       True          9\n",
      "10       ExtraTreesGini   0.901821       0.111275    2.296859                0.111275           2.296859            1       True          8\n",
      "11       KNeighborsDist   0.793929       2.686433    0.080784                2.686433           0.080784            1       True          2\n",
      "12       KNeighborsUnif   0.789865       2.679835    0.060837                2.679835           0.060837            1       True          1\n",
      "13      NeuralNetFastAI   0.700720       0.047873   24.414724                0.047873          24.414724            1       True         10\n",
      "Number of models trained: 14\n",
      "Types of models trained:\n",
      "{'XGBoostModel', 'TabularNeuralNetTorchModel', 'XTModel', 'WeightedEnsembleModel', 'KNNModel', 'RFModel', 'CatBoostModel', 'LGBModel', 'NNFastAiTabularModel'}\n",
      "Bagging used: False \n",
      "Multi-layer stack-ensembling used: False \n",
      "Feature Metadata (Processed):\n",
      "(raw dtype, special dtypes):\n",
      "('category', [])  :  3 | ['WTHR_OPN_ONL_ICO', 'LGP_HLD_CARD_LVL', 'NB_CTC_HLD_IDV_AIO_CARD_SITU']\n",
      "('float', [])     : 45 | ['AGN_CNT_RCT_12_MON', 'ICO_CUR_MON_ACM_TRX_TM', 'NB_RCT_3_MON_LGN_TMS_AGV', 'AGN_CUR_YEAR_AMT', 'AGN_CUR_YEAR_WAG_AMT', ...]\n",
      "('int', ['bool']) :  1 | ['MON_12_CUST_CNT_PTY_ID']\n",
      "*** End of fit() summary ***\n"
     ]
    }
   ],
   "source": [
    "results = predictor.fit_summary()"
   ]
  },
  {
   "cell_type": "markdown",
   "id": "cbe6ed99",
   "metadata": {},
   "source": [
    "# 查看数据"
   ]
  },
  {
   "cell_type": "markdown",
   "id": "36d20c5d",
   "metadata": {},
   "source": [
    "## 数据分布"
   ]
  },
  {
   "cell_type": "code",
   "execution_count": 2,
   "id": "b76feb62",
   "metadata": {
    "ExecuteTime": {
     "end_time": "2022-05-07T05:19:50.356263Z",
     "start_time": "2022-05-07T05:19:26.995529Z"
    }
   },
   "outputs": [],
   "source": [
    "train_data = pd.read_excel(\"./数据集/train.xlsx\",index_col=False)\n",
    "test_data = pd.read_excel(\"./数据集/test_A榜.xlsx\",index_col=False)"
   ]
  },
  {
   "cell_type": "code",
   "execution_count": 3,
   "id": "5fa88fca",
   "metadata": {
    "ExecuteTime": {
     "end_time": "2022-05-07T05:19:50.372249Z",
     "start_time": "2022-05-07T05:19:50.357262Z"
    }
   },
   "outputs": [
    {
     "data": {
      "text/plain": [
       "0    0.75\n",
       "1    0.25\n",
       "Name: LABEL, dtype: float64"
      ]
     },
     "execution_count": 3,
     "metadata": {},
     "output_type": "execute_result"
    }
   ],
   "source": [
    "# 查看标签分布\n",
    "train_data[\"LABEL\"].value_counts(normalize=True)"
   ]
  },
  {
   "cell_type": "code",
   "execution_count": 4,
   "id": "afd1715a",
   "metadata": {
    "ExecuteTime": {
     "end_time": "2022-05-07T05:19:50.434427Z",
     "start_time": "2022-05-07T05:19:50.374216Z"
    },
    "scrolled": true
   },
   "outputs": [
    {
     "data": {
      "text/html": [
       "<div>\n",
       "<style scoped>\n",
       "    .dataframe tbody tr th:only-of-type {\n",
       "        vertical-align: middle;\n",
       "    }\n",
       "\n",
       "    .dataframe tbody tr th {\n",
       "        vertical-align: top;\n",
       "    }\n",
       "\n",
       "    .dataframe thead th {\n",
       "        text-align: right;\n",
       "    }\n",
       "</style>\n",
       "<table border=\"1\" class=\"dataframe\">\n",
       "  <thead>\n",
       "    <tr style=\"text-align: right;\">\n",
       "      <th></th>\n",
       "      <th>CUST_UID</th>\n",
       "      <th>LABEL</th>\n",
       "      <th>AGN_CNT_RCT_12_MON</th>\n",
       "      <th>ICO_CUR_MON_ACM_TRX_TM</th>\n",
       "      <th>NB_RCT_3_MON_LGN_TMS_AGV</th>\n",
       "      <th>AGN_CUR_YEAR_AMT</th>\n",
       "      <th>AGN_CUR_YEAR_WAG_AMT</th>\n",
       "      <th>AGN_AGR_LATEST_AGN_AMT</th>\n",
       "      <th>ICO_CUR_MON_ACM_TRX_AMT</th>\n",
       "      <th>COUNTER_CUR_YEAR_CNT_AMT</th>\n",
       "      <th>...</th>\n",
       "      <th>WTHR_OPN_ONL_ICO</th>\n",
       "      <th>EMP_NBR</th>\n",
       "      <th>REG_CPT</th>\n",
       "      <th>SHH_BCK</th>\n",
       "      <th>HLD_DMS_CCY_ACT_NBR</th>\n",
       "      <th>REG_DT</th>\n",
       "      <th>LGP_HLD_CARD_LVL</th>\n",
       "      <th>OPN_TM</th>\n",
       "      <th>NB_CTC_HLD_IDV_AIO_CARD_SITU</th>\n",
       "      <th>HLD_FGN_CCY_ACT_NBR</th>\n",
       "    </tr>\n",
       "  </thead>\n",
       "  <tbody>\n",
       "    <tr>\n",
       "      <th>0</th>\n",
       "      <td>2a171d461bf24a739b804c2843ad4f6e</td>\n",
       "      <td>0</td>\n",
       "      <td>?</td>\n",
       "      <td>72</td>\n",
       "      <td>425.3</td>\n",
       "      <td>?</td>\n",
       "      <td>?</td>\n",
       "      <td>?</td>\n",
       "      <td>25879985.3</td>\n",
       "      <td>2</td>\n",
       "      <td>...</td>\n",
       "      <td>B</td>\n",
       "      <td>2</td>\n",
       "      <td>1200000002</td>\n",
       "      <td>32</td>\n",
       "      <td>12</td>\n",
       "      <td>1708.45</td>\n",
       "      <td>?</td>\n",
       "      <td>416.84</td>\n",
       "      <td>?</td>\n",
       "      <td>2</td>\n",
       "    </tr>\n",
       "    <tr>\n",
       "      <th>1</th>\n",
       "      <td>c58d5848d18548e297963c2d9e092699</td>\n",
       "      <td>0</td>\n",
       "      <td>2282</td>\n",
       "      <td>222</td>\n",
       "      <td>?</td>\n",
       "      <td>11776572.4</td>\n",
       "      <td>?</td>\n",
       "      <td>1964626.4</td>\n",
       "      <td>14755499.8</td>\n",
       "      <td>2</td>\n",
       "      <td>...</td>\n",
       "      <td>B</td>\n",
       "      <td>1002</td>\n",
       "      <td>5000002</td>\n",
       "      <td>32</td>\n",
       "      <td>22</td>\n",
       "      <td>199.42</td>\n",
       "      <td>F</td>\n",
       "      <td>195.87</td>\n",
       "      <td>D</td>\n",
       "      <td>2</td>\n",
       "    </tr>\n",
       "    <tr>\n",
       "      <th>2</th>\n",
       "      <td>74e6d8179e784a039bcb5a722014f4a4</td>\n",
       "      <td>0</td>\n",
       "      <td>?</td>\n",
       "      <td>2</td>\n",
       "      <td>?</td>\n",
       "      <td>?</td>\n",
       "      <td>?</td>\n",
       "      <td>4599822.3</td>\n",
       "      <td>2</td>\n",
       "      <td>2</td>\n",
       "      <td>...</td>\n",
       "      <td>B</td>\n",
       "      <td>2</td>\n",
       "      <td>?</td>\n",
       "      <td>2</td>\n",
       "      <td>12</td>\n",
       "      <td>1135.55</td>\n",
       "      <td>F</td>\n",
       "      <td>1122</td>\n",
       "      <td>NaN</td>\n",
       "      <td>2</td>\n",
       "    </tr>\n",
       "    <tr>\n",
       "      <th>3</th>\n",
       "      <td>1b6a8be2c2e34de09ca00d71470ec180</td>\n",
       "      <td>1</td>\n",
       "      <td>?</td>\n",
       "      <td>?</td>\n",
       "      <td>22</td>\n",
       "      <td>?</td>\n",
       "      <td>?</td>\n",
       "      <td>?</td>\n",
       "      <td>?</td>\n",
       "      <td>2</td>\n",
       "      <td>...</td>\n",
       "      <td>A</td>\n",
       "      <td>2</td>\n",
       "      <td>500002</td>\n",
       "      <td>12</td>\n",
       "      <td>12</td>\n",
       "      <td>98.45</td>\n",
       "      <td>NaN</td>\n",
       "      <td>92</td>\n",
       "      <td>C</td>\n",
       "      <td>2</td>\n",
       "    </tr>\n",
       "    <tr>\n",
       "      <th>4</th>\n",
       "      <td>1974b5e0440a41128a416a8cdc8a7c16</td>\n",
       "      <td>1</td>\n",
       "      <td>?</td>\n",
       "      <td>?</td>\n",
       "      <td>?</td>\n",
       "      <td>?</td>\n",
       "      <td>?</td>\n",
       "      <td>?</td>\n",
       "      <td>?</td>\n",
       "      <td>?</td>\n",
       "      <td>...</td>\n",
       "      <td>A</td>\n",
       "      <td>2</td>\n",
       "      <td>?</td>\n",
       "      <td>2</td>\n",
       "      <td>12</td>\n",
       "      <td>?</td>\n",
       "      <td>NaN</td>\n",
       "      <td>355.87</td>\n",
       "      <td>C</td>\n",
       "      <td>2</td>\n",
       "    </tr>\n",
       "  </tbody>\n",
       "</table>\n",
       "<p>5 rows × 51 columns</p>\n",
       "</div>"
      ],
      "text/plain": [
       "                           CUST_UID  LABEL AGN_CNT_RCT_12_MON  \\\n",
       "0  2a171d461bf24a739b804c2843ad4f6e      0                  ?   \n",
       "1  c58d5848d18548e297963c2d9e092699      0               2282   \n",
       "2  74e6d8179e784a039bcb5a722014f4a4      0                  ?   \n",
       "3  1b6a8be2c2e34de09ca00d71470ec180      1                  ?   \n",
       "4  1974b5e0440a41128a416a8cdc8a7c16      1                  ?   \n",
       "\n",
       "  ICO_CUR_MON_ACM_TRX_TM NB_RCT_3_MON_LGN_TMS_AGV AGN_CUR_YEAR_AMT  \\\n",
       "0                     72                    425.3                ?   \n",
       "1                    222                        ?       11776572.4   \n",
       "2                      2                        ?                ?   \n",
       "3                      ?                       22                ?   \n",
       "4                      ?                        ?                ?   \n",
       "\n",
       "  AGN_CUR_YEAR_WAG_AMT AGN_AGR_LATEST_AGN_AMT ICO_CUR_MON_ACM_TRX_AMT  \\\n",
       "0                    ?                      ?              25879985.3   \n",
       "1                    ?              1964626.4              14755499.8   \n",
       "2                    ?              4599822.3                       2   \n",
       "3                    ?                      ?                       ?   \n",
       "4                    ?                      ?                       ?   \n",
       "\n",
       "  COUNTER_CUR_YEAR_CNT_AMT  ... WTHR_OPN_ONL_ICO EMP_NBR     REG_CPT SHH_BCK  \\\n",
       "0                        2  ...                B       2  1200000002      32   \n",
       "1                        2  ...                B    1002     5000002      32   \n",
       "2                        2  ...                B       2           ?       2   \n",
       "3                        2  ...                A       2      500002      12   \n",
       "4                        ?  ...                A       2           ?       2   \n",
       "\n",
       "  HLD_DMS_CCY_ACT_NBR   REG_DT LGP_HLD_CARD_LVL  OPN_TM  \\\n",
       "0                  12  1708.45                ?  416.84   \n",
       "1                  22   199.42                F  195.87   \n",
       "2                  12  1135.55                F    1122   \n",
       "3                  12    98.45              NaN      92   \n",
       "4                  12        ?              NaN  355.87   \n",
       "\n",
       "  NB_CTC_HLD_IDV_AIO_CARD_SITU HLD_FGN_CCY_ACT_NBR  \n",
       "0                            ?                   2  \n",
       "1                            D                   2  \n",
       "2                          NaN                   2  \n",
       "3                            C                   2  \n",
       "4                            C                   2  \n",
       "\n",
       "[5 rows x 51 columns]"
      ]
     },
     "execution_count": 4,
     "metadata": {},
     "output_type": "execute_result"
    }
   ],
   "source": [
    "# 查看数据分布，发现有很多问号，应该也是缺失值的一种\n",
    "train_data.head(5)"
   ]
  },
  {
   "cell_type": "code",
   "execution_count": 5,
   "id": "f6dd8143",
   "metadata": {
    "ExecuteTime": {
     "end_time": "2022-05-07T05:19:50.480337Z",
     "start_time": "2022-05-07T05:19:50.436422Z"
    }
   },
   "outputs": [
    {
     "name": "stdout",
     "output_type": "stream",
     "text": [
      "<class 'pandas.core.frame.DataFrame'>\n",
      "RangeIndex: 12000 entries, 0 to 11999\n",
      "Data columns (total 50 columns):\n",
      " #   Column                                   Non-Null Count  Dtype \n",
      "---  ------                                   --------------  ----- \n",
      " 0   CUST_UID                                 12000 non-null  object\n",
      " 1   AGN_CNT_RCT_12_MON                       12000 non-null  object\n",
      " 2   ICO_CUR_MON_ACM_TRX_TM                   12000 non-null  object\n",
      " 3   NB_RCT_3_MON_LGN_TMS_AGV                 12000 non-null  object\n",
      " 4   AGN_CUR_YEAR_AMT                         12000 non-null  object\n",
      " 5   AGN_CUR_YEAR_WAG_AMT                     12000 non-null  object\n",
      " 6   AGN_AGR_LATEST_AGN_AMT                   12000 non-null  object\n",
      " 7   ICO_CUR_MON_ACM_TRX_AMT                  12000 non-null  object\n",
      " 8   COUNTER_CUR_YEAR_CNT_AMT                 12000 non-null  object\n",
      " 9   PUB_TO_PRV_TRX_AMT_CUR_YEAR              12000 non-null  object\n",
      " 10  MON_12_EXT_SAM_TRSF_IN_AMT               12000 non-null  object\n",
      " 11  MON_12_EXT_SAM_TRSF_OUT_AMT              12000 non-null  object\n",
      " 12  MON_12_EXT_SAM_NM_TRSF_OUT_CNT           12000 non-null  object\n",
      " 13  MON_12_EXT_SAM_AMT                       12000 non-null  object\n",
      " 14  CUR_MON_EXT_SAM_CUST_TRSF_IN_AMT         12000 non-null  object\n",
      " 15  CUR_MON_EXT_SAM_CUST_TRSF_OUT_AMT        12000 non-null  object\n",
      " 16  MON_12_CUST_CNT_PTY_ID                   5069 non-null   object\n",
      " 17  MON_12_TRX_AMT_MAX_AMT_PCTT              12000 non-null  object\n",
      " 18  CUR_YEAR_MON_AGV_TRX_CNT                 12000 non-null  object\n",
      " 19  MON_12_AGV_TRX_CNT                       12000 non-null  object\n",
      " 20  MON_12_ACM_ENTR_ACT_CNT                  12000 non-null  object\n",
      " 21  MON_12_AGV_ENTR_ACT_CNT                  12000 non-null  object\n",
      " 22  MON_12_ACM_LVE_ACT_CNT                   12000 non-null  object\n",
      " 23  MON_12_AGV_LVE_ACT_CNT                   12000 non-null  object\n",
      " 24  CUR_YEAR_PUB_TO_PRV_TRX_PTY_CNT          12000 non-null  object\n",
      " 25  MON_6_50_UP_ENTR_ACT_CNT                 12000 non-null  object\n",
      " 26  MON_6_50_UP_LVE_ACT_CNT                  12000 non-null  object\n",
      " 27  CUR_YEAR_COUNTER_ENCASH_CNT              12000 non-null  object\n",
      " 28  MON_12_ACT_OUT_50_UP_CNT_PTY_QTY         12000 non-null  object\n",
      " 29  MON_12_ACT_IN_50_UP_CNT_PTY_QTY          12000 non-null  object\n",
      " 30  LAST_12_MON_COR_DPS_TM_PNT_BAL_PEAK_VAL  12000 non-null  object\n",
      " 31  LAST_12_MON_COR_DPS_DAY_AVG_BAL          12000 non-null  object\n",
      " 32  CUR_MON_COR_DPS_MON_DAY_AVG_BAL          12000 non-null  object\n",
      " 33  CUR_YEAR_COR_DMND_DPS_DAY_AVG_BAL        12000 non-null  object\n",
      " 34  CUR_YEAR_COR_DPS_YEAR_DAY_AVG_INCR       12000 non-null  object\n",
      " 35  LAST_12_MON_DIF_NM_MON_AVG_TRX_AMT_NAV   12000 non-null  object\n",
      " 36  LAST_12_MON_MON_AVG_TRX_AMT_NAV          12000 non-null  object\n",
      " 37  COR_KEY_PROD_HLD_NBR                     12000 non-null  object\n",
      " 38  CUR_YEAR_MID_BUS_INC                     12000 non-null  object\n",
      " 39  AI_STAR_SCO                              12000 non-null  object\n",
      " 40  WTHR_OPN_ONL_ICO                         11634 non-null  object\n",
      " 41  EMP_NBR                                  12000 non-null  object\n",
      " 42  REG_CPT                                  12000 non-null  object\n",
      " 43  SHH_BCK                                  12000 non-null  object\n",
      " 44  HLD_DMS_CCY_ACT_NBR                      12000 non-null  object\n",
      " 45  REG_DT                                   12000 non-null  object\n",
      " 46  LGP_HLD_CARD_LVL                         8200 non-null   object\n",
      " 47  OPN_TM                                   12000 non-null  object\n",
      " 48  NB_CTC_HLD_IDV_AIO_CARD_SITU             11211 non-null  object\n",
      " 49  HLD_FGN_CCY_ACT_NBR                      12000 non-null  object\n",
      "dtypes: object(50)\n",
      "memory usage: 4.6+ MB\n"
     ]
    }
   ],
   "source": [
    "test_data.info()"
   ]
  },
  {
   "cell_type": "code",
   "execution_count": 6,
   "id": "7ed6130a",
   "metadata": {
    "ExecuteTime": {
     "end_time": "2022-05-07T05:19:50.527621Z",
     "start_time": "2022-05-07T05:19:50.482300Z"
    }
   },
   "outputs": [],
   "source": [
    "# 查看各特征的数据类型\n",
    "fea_type = pd.read_excel(\"./数据集/特征说明.xlsx\",index_col=False,header=1)\n",
    "\n",
    "fea_type.index = fea_type[\"字段名称\"]\n",
    "fea_type.drop(columns=[\"字段名称\"],inplace=True)\n",
    "\n",
    "# 字符型数据\n",
    "fea_type = fea_type.loc[fea_type.index!=\"CUST_UID\"]\n",
    "char_type_fea = fea_type[fea_type[\"字符类型\"] == \"字符型\"].index"
   ]
  },
  {
   "cell_type": "code",
   "execution_count": 7,
   "id": "16a00d65",
   "metadata": {
    "ExecuteTime": {
     "end_time": "2022-05-07T05:19:50.543140Z",
     "start_time": "2022-05-07T05:19:50.528389Z"
    }
   },
   "outputs": [],
   "source": [
    "# 数值型数据\n",
    "fea_type = fea_type.loc[fea_type.index!=\"LABEL\"]\n",
    "fea_type = fea_type.loc[fea_type.index!=\"CUR_MON_VAL_VLD_CUST_NED_HLD_YEAR_DAY_AVG\"]\n",
    "num_type_fea = fea_type[fea_type[\"字符类型\"] == \"数值型\"].index"
   ]
  },
  {
   "cell_type": "markdown",
   "id": "f28ea5ee",
   "metadata": {},
   "source": [
    "### 缺失值查看"
   ]
  },
  {
   "cell_type": "code",
   "execution_count": 8,
   "id": "67d90479",
   "metadata": {
    "ExecuteTime": {
     "end_time": "2022-05-07T05:19:50.734693Z",
     "start_time": "2022-05-07T05:19:50.545065Z"
    }
   },
   "outputs": [
    {
     "data": {
      "text/plain": [
       "MON_12_CUST_CNT_PTY_ID          0.570750\n",
       "WTHR_OPN_ONL_ICO                0.031200\n",
       "LGP_HLD_CARD_LVL                0.318000\n",
       "NB_CTC_HLD_IDV_AIO_CARD_SITU    0.070025\n",
       "dtype: float64"
      ]
     },
     "execution_count": 8,
     "metadata": {},
     "output_type": "execute_result"
    }
   ],
   "source": [
    "# 原始特征缺失值分布\n",
    "train_data.isnull().mean()[train_data.isnull().mean()>0]"
   ]
  },
  {
   "cell_type": "code",
   "execution_count": 9,
   "id": "7258c2f8",
   "metadata": {
    "ExecuteTime": {
     "end_time": "2022-05-07T05:19:50.861541Z",
     "start_time": "2022-05-07T05:19:50.735694Z"
    }
   },
   "outputs": [],
   "source": [
    "train_data = train_data.fillna(1)"
   ]
  },
  {
   "cell_type": "code",
   "execution_count": 10,
   "id": "42692efb",
   "metadata": {
    "ExecuteTime": {
     "end_time": "2022-05-07T05:19:51.307309Z",
     "start_time": "2022-05-07T05:19:50.862157Z"
    }
   },
   "outputs": [
    {
     "name": "stdout",
     "output_type": "stream",
     "text": [
      "AGN_CNT_RCT_12_MON                  0.535200\n",
      "AGN_CUR_YEAR_AMT                    0.563525\n",
      "AGN_CUR_YEAR_WAG_AMT                0.699625\n",
      "AGN_AGR_LATEST_AGN_AMT              0.489825\n",
      "MON_12_TRX_AMT_MAX_AMT_PCTT         0.240000\n",
      "CUR_YEAR_PUB_TO_PRV_TRX_PTY_CNT     0.503400\n",
      "MON_6_50_UP_ENTR_ACT_CNT            0.165500\n",
      "MON_6_50_UP_LVE_ACT_CNT             0.165500\n",
      "MON_12_ACT_OUT_50_UP_CNT_PTY_QTY    0.146500\n",
      "MON_12_ACT_IN_50_UP_CNT_PTY_QTY     0.146500\n",
      "LGP_HLD_CARD_LVL                    0.100800\n",
      "NB_CTC_HLD_IDV_AIO_CARD_SITU        0.100800\n",
      "dtype: float64\n"
     ]
    }
   ],
   "source": [
    "# 将问题replace为np.nan值后查看各特征问号的占比\n",
    "new_train_data = train_data.replace('?',np.nan)#用np.nan替换？\n",
    "\n",
    "# 替换后特征缺失值分布\n",
    "miss_fea = new_train_data.isnull().mean()[new_train_data.isnull().mean()>0.1].index\n",
    "print(new_train_data.isnull().mean()[new_train_data.isnull().mean()>0.1])"
   ]
  },
  {
   "cell_type": "markdown",
   "id": "3ed86a37",
   "metadata": {},
   "source": [
    "### 重复值查看"
   ]
  },
  {
   "cell_type": "code",
   "execution_count": 11,
   "id": "92447d7e",
   "metadata": {
    "ExecuteTime": {
     "end_time": "2022-05-07T05:19:51.529610Z",
     "start_time": "2022-05-07T05:19:51.310194Z"
    }
   },
   "outputs": [
    {
     "data": {
      "text/plain": [
       "0        False\n",
       "1        False\n",
       "2        False\n",
       "3        False\n",
       "4        False\n",
       "         ...  \n",
       "39995    False\n",
       "39996    False\n",
       "39997    False\n",
       "39998    False\n",
       "39999    False\n",
       "Length: 40000, dtype: bool"
      ]
     },
     "execution_count": 11,
     "metadata": {},
     "output_type": "execute_result"
    }
   ],
   "source": [
    "train_data.duplicated()"
   ]
  },
  {
   "cell_type": "markdown",
   "id": "4b466662",
   "metadata": {
    "heading_collapsed": true
   },
   "source": [
    "### 更改数据类型"
   ]
  },
  {
   "cell_type": "code",
   "execution_count": 11,
   "id": "c56b8d48",
   "metadata": {
    "ExecuteTime": {
     "end_time": "2022-05-05T03:56:22.248300Z",
     "start_time": "2022-05-05T03:56:22.138876Z"
    },
    "hidden": true
   },
   "outputs": [],
   "source": [
    "for col in fea_type.index: \n",
    "    if col != \"CUR_MON_VAL_VLD_CUST_NED_HLD_YEAR_DAY_AVG\":\n",
    "        \n",
    "        if col == \"LABEL\":\n",
    "            new_train_data[col] = new_train_data[col].astype(\"category\")\n",
    "\n",
    "        elif fea_type.loc[col,\"字符类型\"] == \"数值型\": \n",
    "            new_train_data[col] = new_train_data[col].astype(\"float32\")\n",
    "\n",
    "        elif fea_type.loc[col,\"字符类型\"] == \"字符型\":\n",
    "            new_train_data[col] == new_train_data[col].astype(\"string\")"
   ]
  },
  {
   "cell_type": "markdown",
   "id": "4c2bab4f",
   "metadata": {},
   "source": [
    "## 数据无量纲化"
   ]
  },
  {
   "cell_type": "markdown",
   "id": "c2ec1828",
   "metadata": {},
   "source": [
    "### log"
   ]
  },
  {
   "cell_type": "code",
   "execution_count": null,
   "id": "a6566b73",
   "metadata": {},
   "outputs": [],
   "source": [
    "def data_log(num_type_fea,data,num=1):\n",
    "    \n",
    "    new_train_data = data \n",
    "    for col in num_type_fea:\n",
    "        if min(new_train_data.loc[:,col]+num-1)>=0:\n",
    "            new_train_data.loc[:,col]  = np.log(new_train_data.loc[:,col]+num)\n",
    "        else:\n",
    "            values = new_train_data.loc[:,col].values \n",
    "            new_values = []\n",
    "            for value in values:\n",
    "                if value >=0:\n",
    "                    new_values.append(np.log(value+num))\n",
    "                else:\n",
    "                    new_values.append(-np.log(np.abs(value)+num))\n",
    "            new_train_data.loc[:,col] = pd.DataFrame(new_values,columns=[col])   \n",
    "    return new_train_data"
   ]
  },
  {
   "cell_type": "markdown",
   "id": "902cdff4",
   "metadata": {},
   "source": [
    "### one-hot"
   ]
  },
  {
   "cell_type": "code",
   "execution_count": null,
   "id": "6cc6cc33",
   "metadata": {},
   "outputs": [],
   "source": [
    "def One_Hot(char_type_fea,train_X,test_X,usetype=\"train\"):\n",
    "\n",
    "    from sklearn.preprocessing import OrdinalEncoder\n",
    "    \n",
    "    if usetype == \"train\":\n",
    "        for i in char_type_fea:\n",
    "            train_X.loc[:,i] = OrdinalEncoder().fit_transform(train_X.loc[:,i].values.reshape(-1, 1)) \n",
    "        return train_X\n",
    "        \n",
    "    else:\n",
    "        for i in char_type_fea:\n",
    "            transformer = OrdinalEncoder(handle_unknown='use_encoded_value',unknown_value=-1)\\\n",
    "                                    .fit(train_X.loc[:,i].values.reshape(-1, 1))\n",
    "            test_X.loc[:,i] = transformer.transform(test_X.loc[:,i].values.reshape(-1,1))\n",
    "        return test_X"
   ]
  },
  {
   "cell_type": "markdown",
   "id": "44bc5fa4",
   "metadata": {},
   "source": [
    "### 特征构造"
   ]
  },
  {
   "cell_type": "code",
   "execution_count": null,
   "id": "c2cd44f8",
   "metadata": {},
   "outputs": [],
   "source": [
    "def GroupbyFeature(column,train,test,newcolumn):\n",
    "    \n",
    "    # 使用训练集创建map用的字典，方便以后遇到新的数据后，也能进行与训练集相同的处理；\n",
    "    # 相当于构建以个函数的映射关系\n",
    "    dic_f = dict(train.groupby(column)['LABEL'].mean())\n",
    "    \n",
    "    # 建立新特征\n",
    "    train[newcolumn] = train[column].map(dic_f)\n",
    "    test[newcolumn] = test[column].map(dic_f)\n",
    "    \n",
    "    return train,test     "
   ]
  },
  {
   "cell_type": "markdown",
   "id": "8a8302a6",
   "metadata": {},
   "source": [
    "## 填补缺失值"
   ]
  },
  {
   "cell_type": "markdown",
   "id": "c5838f1a",
   "metadata": {},
   "source": [
    "### 均值填补(都使用均值填补）"
   ]
  },
  {
   "cell_type": "code",
   "execution_count": 28,
   "id": "12656616",
   "metadata": {
    "ExecuteTime": {
     "end_time": "2022-05-03T04:09:23.431356Z",
     "start_time": "2022-05-03T04:09:19.641468Z"
    }
   },
   "outputs": [
    {
     "data": {
      "text/plain": [
       "0.0"
      ]
     },
     "execution_count": 28,
     "metadata": {},
     "output_type": "execute_result"
    }
   ],
   "source": [
    "new_train_data = train_data.replace('?',np.nan)#用np.nan替换？\n",
    "new_train_data = new_train_data.fillna(new_train_data.mean())\n",
    "new_train_data = new_train_data.fillna(0)\n",
    "new_train_data.isnull().mean().sum()"
   ]
  },
  {
   "cell_type": "code",
   "execution_count": 29,
   "id": "218850cf",
   "metadata": {
    "ExecuteTime": {
     "end_time": "2022-05-03T04:11:52.229194Z",
     "start_time": "2022-05-03T04:09:23.732522Z"
    }
   },
   "outputs": [
    {
     "name": "stderr",
     "output_type": "stream",
     "text": [
      "No path specified. Models will be saved in: \"AutogluonModels/ag-20220503_040923\\\"\n",
      "============ fit kwarg info ============\n",
      "User Specified kwargs:\n",
      "{'ag_args_fit': {'num_gpus': 1}}\n",
      "Full kwargs:\n",
      "{'_feature_generator_kwargs': None,\n",
      " '_save_bag_folds': None,\n",
      " 'ag_args': None,\n",
      " 'ag_args_ensemble': None,\n",
      " 'ag_args_fit': {'num_gpus': 1},\n",
      " 'auto_stack': False,\n",
      " 'calibrate': 'auto',\n",
      " 'excluded_model_types': None,\n",
      " 'feature_generator': 'auto',\n",
      " 'feature_prune_kwargs': None,\n",
      " 'holdout_frac': None,\n",
      " 'hyperparameter_tune_kwargs': None,\n",
      " 'keep_only_best': False,\n",
      " 'name_suffix': None,\n",
      " 'num_bag_folds': None,\n",
      " 'num_bag_sets': None,\n",
      " 'num_stack_levels': None,\n",
      " 'pseudo_data': None,\n",
      " 'quantile_levels': None,\n",
      " 'refit_full': False,\n",
      " 'save_space': False,\n",
      " 'set_best_to_refit_full': False,\n",
      " 'unlabeled_data': None,\n",
      " 'use_bag_holdout': False,\n",
      " 'verbosity': 3}\n",
      "========================================\n",
      "Saving AutogluonModels/ag-20220503_040923\\learner.pkl\n",
      "Saving AutogluonModels/ag-20220503_040923\\predictor.pkl\n",
      "Beginning AutoGluon training ...\n",
      "AutoGluon will save models to \"AutogluonModels/ag-20220503_040923\\\"\n",
      "AutoGluon Version:  0.4.1b20220319\n",
      "Python Version:     3.7.12\n",
      "Operating System:   Windows\n",
      "Train Data Rows:    40000\n",
      "Train Data Columns: 50\n",
      "Label Column: LABEL\n",
      "Preprocessing data ...\n",
      "AutoGluon infers your prediction problem is: 'binary' (because only two unique label-values observed).\n",
      "\t2 unique label values:  [0, 1]\n",
      "\tIf 'binary' is not the correct problem_type, please manually specify the problem_type parameter during predictor init (You may specify problem_type as one of: ['binary', 'multiclass', 'regression'])\n",
      "Selected class <--> label mapping:  class 1 = 1, class 0 = 0\n",
      "Using Feature Generators to preprocess the data ...\n",
      "Fitting AutoMLPipelineFeatureGenerator...\n",
      "\tAvailable Memory:                    8554.1 MB\n",
      "\tTrain Data (Original)  Memory Usage: 25.97 MB (0.3% of available memory)\n",
      "\tInferring data type of each feature based on column values. Set feature_metadata_in to manually specify special dtypes of the features.\n",
      "\tStage 1 Generators:\n",
      "\t\tFitting AsTypeFeatureGenerator...\n",
      "\t\t\tNote: Converting 1 features to boolean dtype as they only contain 2 unique values.\n",
      "\t\t\tOriginal Features (exact raw dtype, raw dtype):\n",
      "\t\t\t\t('float64', 'float') : 45 | ['AGN_CNT_RCT_12_MON', 'ICO_CUR_MON_ACM_TRX_TM', 'NB_RCT_3_MON_LGN_TMS_AGV', 'AGN_CUR_YEAR_AMT', 'AGN_CUR_YEAR_WAG_AMT', ...]\n",
      "\t\t\t\t('object', 'object') :  5 | ['CUST_UID', 'MON_12_CUST_CNT_PTY_ID', 'WTHR_OPN_ONL_ICO', 'LGP_HLD_CARD_LVL', 'NB_CTC_HLD_IDV_AIO_CARD_SITU']\n",
      "\t\t\tTypes of features in original data (raw dtype, special dtypes):\n",
      "\t\t\t\t('float', [])                      : 45 | ['AGN_CNT_RCT_12_MON', 'ICO_CUR_MON_ACM_TRX_TM', 'NB_RCT_3_MON_LGN_TMS_AGV', 'AGN_CUR_YEAR_AMT', 'AGN_CUR_YEAR_WAG_AMT', ...]\n",
      "\t\t\t\t('object', [])                     :  3 | ['CUST_UID', 'WTHR_OPN_ONL_ICO', 'NB_CTC_HLD_IDV_AIO_CARD_SITU']\n",
      "\t\t\t\t('object', ['datetime_as_object']) :  2 | ['MON_12_CUST_CNT_PTY_ID', 'LGP_HLD_CARD_LVL']\n",
      "\t\t\tTypes of features in processed data (raw dtype, special dtypes):\n",
      "\t\t\t\t('float', [])                      : 45 | ['AGN_CNT_RCT_12_MON', 'ICO_CUR_MON_ACM_TRX_TM', 'NB_RCT_3_MON_LGN_TMS_AGV', 'AGN_CUR_YEAR_AMT', 'AGN_CUR_YEAR_WAG_AMT', ...]\n",
      "\t\t\t\t('int', ['bool'])                  :  1 | ['MON_12_CUST_CNT_PTY_ID']\n",
      "\t\t\t\t('object', [])                     :  3 | ['CUST_UID', 'WTHR_OPN_ONL_ICO', 'NB_CTC_HLD_IDV_AIO_CARD_SITU']\n",
      "\t\t\t\t('object', ['datetime_as_object']) :  1 | ['LGP_HLD_CARD_LVL']\n",
      "\t\t\t0.1s = Fit runtime\n",
      "\t\t\t50 features in original data used to generate 50 features in processed data.\n",
      "\tStage 2 Generators:\n",
      "\t\tFitting FillNaFeatureGenerator...\n",
      "\t\t\tTypes of features in original data (raw dtype, special dtypes):\n",
      "\t\t\t\t('float', [])                      : 45 | ['AGN_CNT_RCT_12_MON', 'ICO_CUR_MON_ACM_TRX_TM', 'NB_RCT_3_MON_LGN_TMS_AGV', 'AGN_CUR_YEAR_AMT', 'AGN_CUR_YEAR_WAG_AMT', ...]\n",
      "\t\t\t\t('int', ['bool'])                  :  1 | ['MON_12_CUST_CNT_PTY_ID']\n",
      "\t\t\t\t('object', [])                     :  3 | ['CUST_UID', 'WTHR_OPN_ONL_ICO', 'NB_CTC_HLD_IDV_AIO_CARD_SITU']\n",
      "\t\t\t\t('object', ['datetime_as_object']) :  1 | ['LGP_HLD_CARD_LVL']\n",
      "\t\t\tTypes of features in processed data (raw dtype, special dtypes):\n",
      "\t\t\t\t('float', [])                      : 45 | ['AGN_CNT_RCT_12_MON', 'ICO_CUR_MON_ACM_TRX_TM', 'NB_RCT_3_MON_LGN_TMS_AGV', 'AGN_CUR_YEAR_AMT', 'AGN_CUR_YEAR_WAG_AMT', ...]\n",
      "\t\t\t\t('int', ['bool'])                  :  1 | ['MON_12_CUST_CNT_PTY_ID']\n",
      "\t\t\t\t('object', [])                     :  3 | ['CUST_UID', 'WTHR_OPN_ONL_ICO', 'NB_CTC_HLD_IDV_AIO_CARD_SITU']\n",
      "\t\t\t\t('object', ['datetime_as_object']) :  1 | ['LGP_HLD_CARD_LVL']\n",
      "\t\t\t0.0s = Fit runtime\n",
      "\t\t\t50 features in original data used to generate 50 features in processed data.\n",
      "\tStage 3 Generators:\n",
      "\t\tFitting IdentityFeatureGenerator...\n",
      "\t\t\tTypes of features in original data (raw dtype, special dtypes):\n",
      "\t\t\t\t('float', [])     : 45 | ['AGN_CNT_RCT_12_MON', 'ICO_CUR_MON_ACM_TRX_TM', 'NB_RCT_3_MON_LGN_TMS_AGV', 'AGN_CUR_YEAR_AMT', 'AGN_CUR_YEAR_WAG_AMT', ...]\n",
      "\t\t\t\t('int', ['bool']) :  1 | ['MON_12_CUST_CNT_PTY_ID']\n",
      "\t\t\tTypes of features in processed data (raw dtype, special dtypes):\n",
      "\t\t\t\t('float', [])     : 45 | ['AGN_CNT_RCT_12_MON', 'ICO_CUR_MON_ACM_TRX_TM', 'NB_RCT_3_MON_LGN_TMS_AGV', 'AGN_CUR_YEAR_AMT', 'AGN_CUR_YEAR_WAG_AMT', ...]\n",
      "\t\t\t\t('int', ['bool']) :  1 | ['MON_12_CUST_CNT_PTY_ID']\n",
      "\t\t\t0.0s = Fit runtime\n",
      "\t\t\t46 features in original data used to generate 46 features in processed data.\n",
      "\t\tFitting CategoryFeatureGenerator...\n",
      "\t\t\tFitting CategoryMemoryMinimizeFeatureGenerator...\n",
      "\t\t\t\tTypes of features in original data (raw dtype, special dtypes):\n",
      "\t\t\t\t\t('category', []) : 3 | ['CUST_UID', 'WTHR_OPN_ONL_ICO', 'NB_CTC_HLD_IDV_AIO_CARD_SITU']\n",
      "\t\t\t\tTypes of features in processed data (raw dtype, special dtypes):\n",
      "\t\t\t\t\t('category', []) : 3 | ['CUST_UID', 'WTHR_OPN_ONL_ICO', 'NB_CTC_HLD_IDV_AIO_CARD_SITU']\n",
      "\t\t\t\t0.0s = Fit runtime\n",
      "\t\t\t\t3 features in original data used to generate 3 features in processed data.\n",
      "\t\t\tTypes of features in original data (raw dtype, special dtypes):\n",
      "\t\t\t\t('object', []) : 3 | ['CUST_UID', 'WTHR_OPN_ONL_ICO', 'NB_CTC_HLD_IDV_AIO_CARD_SITU']\n",
      "\t\t\tTypes of features in processed data (raw dtype, special dtypes):\n",
      "\t\t\t\t('category', []) : 3 | ['CUST_UID', 'WTHR_OPN_ONL_ICO', 'NB_CTC_HLD_IDV_AIO_CARD_SITU']\n",
      "\t\t\t0.1s = Fit runtime\n",
      "\t\t\t3 features in original data used to generate 3 features in processed data.\n",
      "\t\tFitting DatetimeFeatureGenerator...\n",
      "\t\t\tTypes of features in original data (raw dtype, special dtypes):\n",
      "\t\t\t\t('object', ['datetime_as_object']) : 1 | ['LGP_HLD_CARD_LVL']\n",
      "\t\t\tTypes of features in processed data (raw dtype, special dtypes):\n",
      "\t\t\t\t('int', ['datetime_as_int']) : 5 | ['LGP_HLD_CARD_LVL', 'LGP_HLD_CARD_LVL.year', 'LGP_HLD_CARD_LVL.month', 'LGP_HLD_CARD_LVL.day', 'LGP_HLD_CARD_LVL.dayofweek']\n",
      "\t\t\t0.0s = Fit runtime\n",
      "\t\t\t1 features in original data used to generate 5 features in processed data.\n",
      "\t\tSkipping TextSpecialFeatureGenerator: No input feature with required dtypes.\n",
      "\t\tSkipping TextNgramFeatureGenerator: No input feature with required dtypes.\n",
      "\t\tSkipping IdentityFeatureGenerator: No input feature with required dtypes.\n",
      "\t\tSkipping IsNanFeatureGenerator: No input feature with required dtypes.\n",
      "\tStage 4 Generators:\n",
      "\t\tFitting DropUniqueFeatureGenerator...\n",
      "\t\t\tTypes of features in original data (raw dtype, special dtypes):\n",
      "\t\t\t\t('category', [])  :  2 | ['WTHR_OPN_ONL_ICO', 'NB_CTC_HLD_IDV_AIO_CARD_SITU']\n",
      "\t\t\t\t('float', [])     : 45 | ['AGN_CNT_RCT_12_MON', 'ICO_CUR_MON_ACM_TRX_TM', 'NB_RCT_3_MON_LGN_TMS_AGV', 'AGN_CUR_YEAR_AMT', 'AGN_CUR_YEAR_WAG_AMT', ...]\n",
      "\t\t\t\t('int', ['bool']) :  1 | ['MON_12_CUST_CNT_PTY_ID']\n",
      "\t\t\tTypes of features in processed data (raw dtype, special dtypes):\n",
      "\t\t\t\t('category', [])  :  2 | ['WTHR_OPN_ONL_ICO', 'NB_CTC_HLD_IDV_AIO_CARD_SITU']\n",
      "\t\t\t\t('float', [])     : 45 | ['AGN_CNT_RCT_12_MON', 'ICO_CUR_MON_ACM_TRX_TM', 'NB_RCT_3_MON_LGN_TMS_AGV', 'AGN_CUR_YEAR_AMT', 'AGN_CUR_YEAR_WAG_AMT', ...]\n",
      "\t\t\t\t('int', ['bool']) :  1 | ['MON_12_CUST_CNT_PTY_ID']\n",
      "\t\t\t0.1s = Fit runtime\n",
      "\t\t\t48 features in original data used to generate 48 features in processed data.\n",
      "\tUnused Original Features (Count: 2): ['CUST_UID', 'LGP_HLD_CARD_LVL']\n",
      "\t\tThese features were not used to generate any of the output features. Add a feature generator compatible with these features to utilize them.\n",
      "\t\tFeatures can also be unused if they carry very little information, such as being categorical but having almost entirely unique values or being duplicates of other features.\n",
      "\t\tThese features do not need to be present at inference time.\n",
      "\t\t('object', [])                     : 1 | ['CUST_UID']\n",
      "\t\t('object', ['datetime_as_object']) : 1 | ['LGP_HLD_CARD_LVL']\n",
      "\tTypes of features in original data (exact raw dtype, raw dtype):\n",
      "\t\t('float64', 'float') : 45 | ['AGN_CNT_RCT_12_MON', 'ICO_CUR_MON_ACM_TRX_TM', 'NB_RCT_3_MON_LGN_TMS_AGV', 'AGN_CUR_YEAR_AMT', 'AGN_CUR_YEAR_WAG_AMT', ...]\n",
      "\t\t('object', 'object') :  3 | ['MON_12_CUST_CNT_PTY_ID', 'WTHR_OPN_ONL_ICO', 'NB_CTC_HLD_IDV_AIO_CARD_SITU']\n",
      "\tTypes of features in original data (raw dtype, special dtypes):\n",
      "\t\t('float', [])                      : 45 | ['AGN_CNT_RCT_12_MON', 'ICO_CUR_MON_ACM_TRX_TM', 'NB_RCT_3_MON_LGN_TMS_AGV', 'AGN_CUR_YEAR_AMT', 'AGN_CUR_YEAR_WAG_AMT', ...]\n",
      "\t\t('object', [])                     :  2 | ['WTHR_OPN_ONL_ICO', 'NB_CTC_HLD_IDV_AIO_CARD_SITU']\n",
      "\t\t('object', ['datetime_as_object']) :  1 | ['MON_12_CUST_CNT_PTY_ID']\n",
      "\tTypes of features in processed data (exact raw dtype, raw dtype):\n",
      "\t\t('category', 'category') :  2 | ['WTHR_OPN_ONL_ICO', 'NB_CTC_HLD_IDV_AIO_CARD_SITU']\n",
      "\t\t('float64', 'float')     : 45 | ['AGN_CNT_RCT_12_MON', 'ICO_CUR_MON_ACM_TRX_TM', 'NB_RCT_3_MON_LGN_TMS_AGV', 'AGN_CUR_YEAR_AMT', 'AGN_CUR_YEAR_WAG_AMT', ...]\n",
      "\t\t('int8', 'int')          :  1 | ['MON_12_CUST_CNT_PTY_ID']\n",
      "\tTypes of features in processed data (raw dtype, special dtypes):\n",
      "\t\t('category', [])  :  2 | ['WTHR_OPN_ONL_ICO', 'NB_CTC_HLD_IDV_AIO_CARD_SITU']\n",
      "\t\t('float', [])     : 45 | ['AGN_CNT_RCT_12_MON', 'ICO_CUR_MON_ACM_TRX_TM', 'NB_RCT_3_MON_LGN_TMS_AGV', 'AGN_CUR_YEAR_AMT', 'AGN_CU"
     ]
    },
    {
     "data": {
      "text/html": [
       "<b>limit_output extension: Maximum message size of 10000 exceeded with 10022 characters</b>"
      ]
     },
     "metadata": {},
     "output_type": "display_data"
    }
   ],
   "source": [
    "from autogluon.tabular import TabularDataset, TabularPredictor\n",
    "\n",
    "label = \"LABEL\"\n",
    "eval_metric = 'roc_auc'\n",
    "# predictor = TabularPredictor(label= label).fit(train_data=train_data,\n",
    "# #                                                num_bag_folds=5, num_bag_sets=1, num_stack_levels=2,\n",
    "#                                                ag_args_fit={'num_gpus': 0})\n",
    "\n",
    "predictor = TabularPredictor(label=label, eval_metric=eval_metric, verbosity=3)\\\n",
    "                            .fit(\n",
    "                                    new_train_data\n",
    "                                    ,ag_args_fit={'num_gpus': 1}\n",
    "                                )"
   ]
  },
  {
   "cell_type": "code",
   "execution_count": 30,
   "id": "1a57b2c2",
   "metadata": {
    "ExecuteTime": {
     "end_time": "2022-05-03T04:11:53.994470Z",
     "start_time": "2022-05-03T04:11:52.500468Z"
    }
   },
   "outputs": [
    {
     "name": "stderr",
     "output_type": "stream",
     "text": [
      "Loading: AutogluonModels/ag-20220503_040923\\models\\KNeighborsUnif\\model.pkl\n",
      "Loading: AutogluonModels/ag-20220503_040923\\models\\KNeighborsDist\\model.pkl\n",
      "Loading: AutogluonModels/ag-20220503_040923\\models\\LightGBMXT\\model.pkl\n",
      "Loading: AutogluonModels/ag-20220503_040923\\models\\LightGBM\\model.pkl\n",
      "Loading: AutogluonModels/ag-20220503_040923\\models\\RandomForestGini\\model.pkl\n",
      "Loading: AutogluonModels/ag-20220503_040923\\models\\RandomForestEntr\\model.pkl\n",
      "Loading: AutogluonModels/ag-20220503_040923\\models\\CatBoost\\model.pkl\n",
      "Loading: AutogluonModels/ag-20220503_040923\\models\\ExtraTreesGini\\model.pkl\n",
      "Loading: AutogluonModels/ag-20220503_040923\\models\\ExtraTreesEntr\\model.pkl\n",
      "Loading: AutogluonModels/ag-20220503_040923\\models\\XGBoost\\model.pkl\n",
      "Loading: AutogluonModels/ag-20220503_040923\\models\\LightGBMLarge\\model.pkl\n",
      "Loading: AutogluonModels/ag-20220503_040923\\models\\WeightedEnsemble_L2\\model.pkl\n"
     ]
    },
    {
     "name": "stdout",
     "output_type": "stream",
     "text": [
      "*** Summary of fit() ***\n",
      "Estimated performance of each model:\n",
      "                  model  score_val  pred_time_val    fit_time  pred_time_val_marginal  fit_time_marginal  stack_level  can_infer  fit_order\n",
      "0   WeightedEnsemble_L2   0.950495       3.162487  105.905785                0.002991           2.368663            2       True         12\n",
      "1              LightGBM   0.949466       0.021940    4.908867                0.021940           4.908867            1       True          4\n",
      "2               XGBoost   0.949283       0.034906    7.498859                0.034906           7.498859            1       True         10\n",
      "3            LightGBMXT   0.948895       0.028922   12.158446                0.028922          12.158446            1       True          3\n",
      "4         LightGBMLarge   0.948335       0.020921   16.988567                0.020921          16.988567            1       True         11\n",
      "5              CatBoost   0.947898       0.013935   61.907583                0.013935          61.907583            1       True          7\n",
      "6      RandomForestEntr   0.943761       0.120807    5.723083                0.120807           5.723083            1       True          6\n",
      "7      RandomForestGini   0.942781       0.121679    4.797164                0.121679           4.797164            1       True          5\n",
      "8        ExtraTreesEntr   0.902373       0.120677    2.826438                0.120677           2.826438            1       True          9\n",
      "9        ExtraTreesGini   0.896478       0.121683    2.583088                0.121683           2.583088            1       True          8\n",
      "10       KNeighborsDist   0.769079       3.038870    0.074800                3.038870           0.074800            1       True          2\n",
      "11       KNeighborsUnif   0.766249       3.198468    0.076796                3.198468           0.076796            1       True          1\n",
      "Number of models trained: 12\n",
      "Types of models trained:\n",
      "{'XGBoostModel', 'KNNModel', 'LGBModel', 'RFModel', 'CatBoostModel', 'WeightedEnsembleModel', 'XTModel'}\n",
      "Bagging used: False \n",
      "Multi-layer stack-ensembling used: False \n",
      "Feature Metadata (Processed):\n",
      "(raw dtype, special dtypes):\n",
      "('category', [])  :  2 | ['WTHR_OPN_ONL_ICO', 'NB_CTC_HLD_IDV_AIO_CARD_SITU']\n",
      "('float', [])     : 45 | ['AGN_CNT_RCT_12_MON', 'ICO_CUR_MON_ACM_TRX_TM', 'NB_RCT_3_MON_LGN_TMS_AGV', 'AGN_CUR_YEAR_AMT', 'AGN_CUR_YEAR_WAG_AMT', ...]\n",
      "('int', ['bool']) :  1 | ['MON_12_CUST_CNT_PTY_ID']\n",
      "*** End of fit() summary ***\n"
     ]
    }
   ],
   "source": [
    "results = predictor.fit_summary(show_plot=True)"
   ]
  },
  {
   "cell_type": "code",
   "execution_count": 33,
   "id": "5a1be686",
   "metadata": {
    "ExecuteTime": {
     "end_time": "2022-05-03T04:23:50.404027Z",
     "start_time": "2022-05-03T04:23:31.111639Z"
    }
   },
   "outputs": [
    {
     "name": "stderr",
     "output_type": "stream",
     "text": [
      "Loading: AutogluonModels/ag-20220503_040923\\models\\WeightedEnsemble_L2\\model.pkl\n",
      "Loading: AutogluonModels/ag-20220503_040923\\models\\CatBoost\\model.pkl\n",
      "Loading: AutogluonModels/ag-20220503_040923\\models\\KNeighborsDist\\model.pkl\n",
      "Loading: AutogluonModels/ag-20220503_040923\\models\\LightGBM\\model.pkl\n",
      "Loading: AutogluonModels/ag-20220503_040923\\models\\LightGBMLarge\\model.pkl\n",
      "Loading: AutogluonModels/ag-20220503_040923\\models\\LightGBMXT\\model.pkl\n",
      "Loading: AutogluonModels/ag-20220503_040923\\models\\XGBoost\\model.pkl\n"
     ]
    }
   ],
   "source": [
    "new_test_data = test_data.replace('?',np.nan)#用np.nan替换？\n",
    "new_test_data = new_test_data.fillna(new_train_data.mean())\n",
    "new_test_data = new_test_data.fillna(0)\n",
    "new_test_data.isnull().mean().sum()\n",
    "\n",
    "if new_test_data.isnull().mean().sum()==0:\n",
    "    get_result(predictor,new_test_data,test_data)"
   ]
  },
  {
   "cell_type": "markdown",
   "id": "943b61c8",
   "metadata": {
    "heading_collapsed": true
   },
   "source": [
    "### 中值填补"
   ]
  },
  {
   "cell_type": "code",
   "execution_count": 62,
   "id": "fd3e17ad",
   "metadata": {
    "ExecuteTime": {
     "end_time": "2022-05-01T03:33:09.477755Z",
     "start_time": "2022-05-01T03:33:09.073760Z"
    },
    "hidden": true
   },
   "outputs": [],
   "source": [
    "new_train_data = new_train_data.fillna(new_train_data.median())"
   ]
  },
  {
   "cell_type": "code",
   "execution_count": 63,
   "id": "8ec69690",
   "metadata": {
    "ExecuteTime": {
     "end_time": "2022-05-01T03:36:14.518310Z",
     "start_time": "2022-05-01T03:33:09.791118Z"
    },
    "hidden": true
   },
   "outputs": [
    {
     "name": "stderr",
     "output_type": "stream",
     "text": [
      "No path specified. Models will be saved in: \"AutogluonModels/ag-20220501_033309\\\"\n",
      "============ fit kwarg info ============\n",
      "User Specified kwargs:\n",
      "{'ag_args_fit': {'num_gpus': 1}}\n",
      "Full kwargs:\n",
      "{'_feature_generator_kwargs': None,\n",
      " '_save_bag_folds': None,\n",
      " 'ag_args': None,\n",
      " 'ag_args_ensemble': None,\n",
      " 'ag_args_fit': {'num_gpus': 1},\n",
      " 'auto_stack': False,\n",
      " 'calibrate': 'auto',\n",
      " 'excluded_model_types': None,\n",
      " 'feature_generator': 'auto',\n",
      " 'feature_prune_kwargs': None,\n",
      " 'holdout_frac': None,\n",
      " 'hyperparameter_tune_kwargs': None,\n",
      " 'keep_only_best': False,\n",
      " 'name_suffix': None,\n",
      " 'num_bag_folds': None,\n",
      " 'num_bag_sets': None,\n",
      " 'num_stack_levels': None,\n",
      " 'pseudo_data': None,\n",
      " 'quantile_levels': None,\n",
      " 'refit_full': False,\n",
      " 'save_space': False,\n",
      " 'set_best_to_refit_full': False,\n",
      " 'unlabeled_data': None,\n",
      " 'use_bag_holdout': False,\n",
      " 'verbosity': 3}\n",
      "========================================\n",
      "Saving AutogluonModels/ag-20220501_033309\\learner.pkl\n",
      "Saving AutogluonModels/ag-20220501_033309\\predictor.pkl\n",
      "Beginning AutoGluon training ...\n",
      "AutoGluon will save models to \"AutogluonModels/ag-20220501_033309\\\"\n",
      "AutoGluon Version:  0.4.1b20220319\n",
      "Python Version:     3.7.12\n",
      "Operating System:   Windows\n",
      "Train Data Rows:    40000\n",
      "Train Data Columns: 50\n",
      "Label Column: LABEL\n",
      "Preprocessing data ...\n",
      "AutoGluon infers your prediction problem is: 'binary' (because only two unique label-values observed).\n",
      "\t2 unique label values:  [0, 1]\n",
      "\tIf 'binary' is not the correct problem_type, please manually specify the problem_type parameter during predictor init (You may specify problem_type as one of: ['binary', 'multiclass', 'regression'])\n",
      "Selected class <--> label mapping:  class 1 = 1, class 0 = 0\n",
      "Using Feature Generators to preprocess the data ...\n",
      "Fitting AutoMLPipelineFeatureGenerator...\n",
      "\tAvailable Memory:                    7945.88 MB\n",
      "\tTrain Data (Original)  Memory Usage: 25.99 MB (0.3% of available memory)\n",
      "\tInferring data type of each feature based on column values. Set feature_metadata_in to manually specify special dtypes of the features.\n",
      "\tStage 1 Generators:\n",
      "\t\tFitting AsTypeFeatureGenerator...\n",
      "\t\t\tNote: Converting 1 features to boolean dtype as they only contain 2 unique values.\n",
      "\t\t\tOriginal Features (exact raw dtype, raw dtype):\n",
      "\t\t\t\t('float64', 'float') : 45 | ['AGN_CNT_RCT_12_MON', 'ICO_CUR_MON_ACM_TRX_TM', 'NB_RCT_3_MON_LGN_TMS_AGV', 'AGN_CUR_YEAR_AMT', 'AGN_CUR_YEAR_WAG_AMT', ...]\n",
      "\t\t\t\t('object', 'object') :  5 | ['CUST_UID', 'MON_12_CUST_CNT_PTY_ID', 'WTHR_OPN_ONL_ICO', 'LGP_HLD_CARD_LVL', 'NB_CTC_HLD_IDV_AIO_CARD_SITU']\n",
      "\t\t\tTypes of features in original data (raw dtype, special dtypes):\n",
      "\t\t\t\t('float', [])  : 45 | ['AGN_CNT_RCT_12_MON', 'ICO_CUR_MON_ACM_TRX_TM', 'NB_RCT_3_MON_LGN_TMS_AGV', 'AGN_CUR_YEAR_AMT', 'AGN_CUR_YEAR_WAG_AMT', ...]\n",
      "\t\t\t\t('object', []) :  5 | ['CUST_UID', 'MON_12_CUST_CNT_PTY_ID', 'WTHR_OPN_ONL_ICO', 'LGP_HLD_CARD_LVL', 'NB_CTC_HLD_IDV_AIO_CARD_SITU']\n",
      "\t\t\tTypes of features in processed data (raw dtype, special dtypes):\n",
      "\t\t\t\t('float', [])     : 45 | ['AGN_CNT_RCT_12_MON', 'ICO_CUR_MON_ACM_TRX_TM', 'NB_RCT_3_MON_LGN_TMS_AGV', 'AGN_CUR_YEAR_AMT', 'AGN_CUR_YEAR_WAG_AMT', ...]\n",
      "\t\t\t\t('int', ['bool']) :  1 | ['MON_12_CUST_CNT_PTY_ID']\n",
      "\t\t\t\t('object', [])    :  4 | ['CUST_UID', 'WTHR_OPN_ONL_ICO', 'LGP_HLD_CARD_LVL', 'NB_CTC_HLD_IDV_AIO_CARD_SITU']\n",
      "\t\t\t0.1s = Fit runtime\n",
      "\t\t\t50 features in original data used to generate 50 features in processed data.\n",
      "\tStage 2 Generators:\n",
      "\t\tFitting FillNaFeatureGenerator...\n",
      "\t\t\tTypes of features in original data (raw dtype, special dtypes):\n",
      "\t\t\t\t('float', [])     : 45 | ['AGN_CNT_RCT_12_MON', 'ICO_CUR_MON_ACM_TRX_TM', 'NB_RCT_3_MON_LGN_TMS_AGV', 'AGN_CUR_YEAR_AMT', 'AGN_CUR_YEAR_WAG_AMT', ...]\n",
      "\t\t\t\t('int', ['bool']) :  1 | ['MON_12_CUST_CNT_PTY_ID']\n",
      "\t\t\t\t('object', [])    :  4 | ['CUST_UID', 'WTHR_OPN_ONL_ICO', 'LGP_HLD_CARD_LVL', 'NB_CTC_HLD_IDV_AIO_CARD_SITU']\n",
      "\t\t\tTypes of features in processed data (raw dtype, special dtypes):\n",
      "\t\t\t\t('float', [])     : 45 | ['AGN_CNT_RCT_12_MON', 'ICO_CUR_MON_ACM_TRX_TM', 'NB_RCT_3_MON_LGN_TMS_AGV', 'AGN_CUR_YEAR_AMT', 'AGN_CUR_YEAR_WAG_AMT', ...]\n",
      "\t\t\t\t('int', ['bool']) :  1 | ['MON_12_CUST_CNT_PTY_ID']\n",
      "\t\t\t\t('object', [])    :  4 | ['CUST_UID', 'WTHR_OPN_ONL_ICO', 'LGP_HLD_CARD_LVL', 'NB_CTC_HLD_IDV_AIO_CARD_SITU']\n",
      "\t\t\t0.0s = Fit runtime\n",
      "\t\t\t50 features in original data used to generate 50 features in processed data.\n",
      "\tStage 3 Generators:\n",
      "\t\tFitting IdentityFeatureGenerator...\n",
      "\t\t\tTypes of features in original data (raw dtype, special dtypes):\n",
      "\t\t\t\t('float', [])     : 45 | ['AGN_CNT_RCT_12_MON', 'ICO_CUR_MON_ACM_TRX_TM', 'NB_RCT_3_MON_LGN_TMS_AGV', 'AGN_CUR_YEAR_AMT', 'AGN_CUR_YEAR_WAG_AMT', ...]\n",
      "\t\t\t\t('int', ['bool']) :  1 | ['MON_12_CUST_CNT_PTY_ID']\n",
      "\t\t\tTypes of features in processed data (raw dtype, special dtypes):\n",
      "\t\t\t\t('float', [])     : 45 | ['AGN_CNT_RCT_12_MON', 'ICO_CUR_MON_ACM_TRX_TM', 'NB_RCT_3_MON_LGN_TMS_AGV', 'AGN_CUR_YEAR_AMT', 'AGN_CUR_YEAR_WAG_AMT', ...]\n",
      "\t\t\t\t('int', ['bool']) :  1 | ['MON_12_CUST_CNT_PTY_ID']\n",
      "\t\t\t0.0s = Fit runtime\n",
      "\t\t\t46 features in original data used to generate 46 features in processed data.\n",
      "\t\tFitting CategoryFeatureGenerator...\n",
      "\t\t\tFitting CategoryMemoryMinimizeFeatureGenerator...\n",
      "\t\t\t\tTypes of features in original data (raw dtype, special dtypes):\n",
      "\t\t\t\t\t('category', []) : 4 | ['CUST_UID', 'WTHR_OPN_ONL_ICO', 'LGP_HLD_CARD_LVL', 'NB_CTC_HLD_IDV_AIO_CARD_SITU']\n",
      "\t\t\t\tTypes of features in processed data (raw dtype, special dtypes):\n",
      "\t\t\t\t\t('category', []) : 4 | ['CUST_UID', 'WTHR_OPN_ONL_ICO', 'LGP_HLD_CARD_LVL', 'NB_CTC_HLD_IDV_AIO_CARD_SITU']\n",
      "\t\t\t\t0.0s = Fit runtime\n",
      "\t\t\t\t4 features in original data used to generate 4 features in processed data.\n",
      "\t\t\tTypes of features in original data (raw dtype, special dtypes):\n",
      "\t\t\t\t('object', []) : 4 | ['CUST_UID', 'WTHR_OPN_ONL_ICO', 'LGP_HLD_CARD_LVL', 'NB_CTC_HLD_IDV_AIO_CARD_SITU']\n",
      "\t\t\tTypes of features in processed data (raw dtype, special dtypes):\n",
      "\t\t\t\t('category', []) : 4 | ['CUST_UID', 'WTHR_OPN_ONL_ICO', 'LGP_HLD_CARD_LVL', 'NB_CTC_HLD_IDV_AIO_CARD_SITU']\n",
      "\t\t\t0.1s = Fit runtime\n",
      "\t\t\t4 features in original data used to generate 4 features in processed data.\n",
      "\t\tSkipping DatetimeFeatureGenerator: No input feature with required dtypes.\n",
      "\t\tSkipping TextSpecialFeatureGenerator: No input feature with required dtypes.\n",
      "\t\tSkipping TextNgramFeatureGenerator: No input feature with required dtypes.\n",
      "\t\tSkipping IdentityFeatureGenerator: No input feature with required dtypes.\n",
      "\t\tSkipping IsNanFeatureGenerator: No input feature with required dtypes.\n",
      "\tStage 4 Generators:\n",
      "\t\tFitting DropUniqueFeatureGenerator...\n",
      "\t\t\tTypes of features in original data (raw dtype, special dtypes):\n",
      "\t\t\t\t('category', [])  :  3 | ['WTHR_OPN_ONL_ICO', 'LGP_HLD_CARD_LVL', 'NB_CTC_HLD_IDV_AIO_CARD_SITU']\n",
      "\t\t\t\t('float', [])     : 45 | ['AGN_CNT_RCT_12_MON', 'ICO_CUR_MON_ACM_TRX_TM', 'NB_RCT_3_MON_LGN_TMS_AGV', 'AGN_CUR_YEAR_AMT', 'AGN_CUR_YEAR_WAG_AMT', ...]\n",
      "\t\t\t\t('int', ['bool']) :  1 | ['MON_12_CUST_CNT_PTY_ID']\n",
      "\t\t\tTypes of features in processed data (raw dtype, special dtypes):\n",
      "\t\t\t\t('category', [])  :  3 | ['WTHR_OPN_ONL_ICO', 'LGP_HLD_CARD_LVL', 'NB_CTC_HLD_IDV_AIO_CARD_SITU']\n",
      "\t\t\t\t('float', [])     : 45 | ['AGN_CNT_RCT_12_MON', 'ICO_CUR_MON_ACM_TRX_TM', 'NB_RCT_3_MON_LGN_TMS_AGV', 'AGN_CUR_YEAR_AMT', 'AGN_CUR_YEAR_WAG_AMT', ...]\n",
      "\t\t\t\t('int', ['bool']) :  1 | ['MON_12_CUST_CNT_PTY_ID']\n",
      "\t\t\t0.1s = Fit runtime\n",
      "\t\t\t49 features in original data used to generate 49 features in processed data.\n",
      "\tUnused Original Features (Count: 1): ['CUST_UID']\n",
      "\t\tThese features were not used to generate any of the output features. Add a feature generator compatible with these features to utilize them.\n",
      "\t\tFeatures can also be unused if they carry very little information, such as being categorical but having almost entirely unique values or being duplicates of other features.\n",
      "\t\tThese features do not need to be present at inference time.\n",
      "\t\t('object', []) : 1 | ['CUST_UID']\n",
      "\tTypes of features in original data (exact raw dtype, raw dtype):\n",
      "\t\t('float64', 'float') : 45 | ['AGN_CNT_RCT_12_MON', 'ICO_CUR_MON_ACM_TRX_TM', 'NB_RCT_3_MON_LGN_TMS_AGV', 'AGN_CUR_YEAR_AMT', 'AGN_CUR_YEAR_WAG_AMT', ...]\n",
      "\t\t('object', 'object') :  4 | ['MON_12_CUST_CNT_PTY_ID', 'WTHR_OPN_ONL_ICO', 'LGP_HLD_CARD_LVL', 'NB_CTC_HLD_IDV_AIO_CARD_SITU']\n",
      "\tTypes of features in original data (raw dtype, special dtypes):\n",
      "\t\t('float', [])  : 45 | ['AGN_CNT_RCT_12_MON', 'ICO_CUR_MON_ACM_TRX_TM', 'NB_RCT_3_MON_LGN_TMS_AGV', 'AGN_CUR_YEAR_AMT', 'AGN_CUR_YEAR_WAG_AMT', ...]\n",
      "\t\t('object', []) :  4 | ['MON_12_CUST_CNT_PTY_ID', 'WTHR_OPN_ONL_ICO', 'LGP_HLD_CARD_LVL', 'NB_CTC_HLD_IDV_AIO_CARD_SITU']\n",
      "\tTypes of features in processed data (exact raw dtype, raw dtype):\n",
      "\t\t('category', 'category') :  3 | ['WTHR_OPN_ONL_ICO', 'LGP_HLD_CARD_LVL', 'NB_CTC_HLD_IDV_AIO_CARD_SITU']\n",
      "\t\t('float64', 'float')     : 45 | ['AGN_CNT_RCT_12_MON', 'ICO_CUR_MON_ACM_TRX_TM', 'NB_RCT_3_MON_LGN_TMS_AGV', 'AGN_CUR_YEAR_AMT', 'AGN_CUR_YEAR_WAG_AMT', ...]\n",
      "\t\t('int8', 'int')          :  1 | ['MON_12_CUST_CNT_PTY_ID']\n",
      "\tTypes of features in processed data (raw dtype, special dtypes):\n",
      "\t\t('category', [])  :  3 | ['WTHR_OPN_ONL_ICO', 'LGP_HLD_CARD_LVL', 'NB_CTC_HLD_IDV_AIO_CARD_SITU']\n",
      "\t\t('float', [])     : 45 | ['AGN_CNT_RCT_12_MON', 'ICO_CUR_MON_ACM_TRX_TM', 'NB_RCT_3_MON_LGN_TMS_AGV', 'AGN_CUR_YEAR_AMT', 'AGN_CUR_YEAR_WAG_AMT', ...]\n",
      "\t\t('int', ['bool']) :  1 | ['MON_12_CUST_CNT_PTY_ID']\n",
      "\t0.5s = Fit runtime\n",
      "\t49 features in original data used to generate 49 features in processed data.\n",
      "\tTrain Data (Processed) Memory Usage: 14.56 MB (0.2% of available memory)\n",
      "Data preprocessing and feature engineering runtime = 0.61s ...\n",
      "AutoGluon will gauge predictive performance using evaluation metric: 'roc_auc'\n",
      "\tThis metric expects predicted probabilities rather than predicted class labels, so you'll need to use predict_proba() instead of predict()\n",
      "\tTo change this, specify the eval_metric parameter of Predictor()\n",
      "Saving AutogluonModels/ag-20220501_033309\\learner.pkl\n",
      "Automatically generating train/validation split with holdout_frac=0.0625, Train Rows: 37500, Val Rows: 2500\n",
      "Saving AutogluonModels/ag-20220501_0333"
     ]
    },
    {
     "data": {
      "text/html": [
       "<b>limit_output extension: Maximum message size of 10000 exceeded with 10020 characters</b>"
      ]
     },
     "metadata": {},
     "output_type": "display_data"
    }
   ],
   "source": [
    "from autogluon.tabular import TabularDataset, TabularPredictor\n",
    "\n",
    "label = \"LABEL\"\n",
    "eval_metric = 'roc_auc'\n",
    "# predictor = TabularPredictor(label= label).fit(train_data=train_data,\n",
    "# #                                                num_bag_folds=5, num_bag_sets=1, num_stack_levels=2,\n",
    "#                                                ag_args_fit={'num_gpus': 0})\n",
    "\n",
    "predictor = TabularPredictor(label=label, eval_metric=eval_metric, verbosity=3)\\\n",
    "                            .fit(\n",
    "                                    new_train_data\n",
    "                                    ,ag_args_fit={'num_gpus': 1}\n",
    "                                )"
   ]
  },
  {
   "cell_type": "code",
   "execution_count": 64,
   "id": "f55fd2ab",
   "metadata": {
    "ExecuteTime": {
     "end_time": "2022-05-01T03:36:15.790113Z",
     "start_time": "2022-05-01T03:36:14.759868Z"
    },
    "hidden": true
   },
   "outputs": [
    {
     "name": "stderr",
     "output_type": "stream",
     "text": [
      "Loading: AutogluonModels/ag-20220501_033309\\models\\KNeighborsUnif\\model.pkl\n",
      "Loading: AutogluonModels/ag-20220501_033309\\models\\KNeighborsDist\\model.pkl\n",
      "Loading: AutogluonModels/ag-20220501_033309\\models\\LightGBMXT\\model.pkl\n",
      "Loading: AutogluonModels/ag-20220501_033309\\models\\LightGBM\\model.pkl\n",
      "Loading: AutogluonModels/ag-20220501_033309\\models\\RandomForestGini\\model.pkl\n",
      "Loading: AutogluonModels/ag-20220501_033309\\models\\RandomForestEntr\\model.pkl\n",
      "Loading: AutogluonModels/ag-20220501_033309\\models\\CatBoost\\model.pkl\n",
      "Loading: AutogluonModels/ag-20220501_033309\\models\\ExtraTreesGini\\model.pkl\n",
      "Loading: AutogluonModels/ag-20220501_033309\\models\\ExtraTreesEntr\\model.pkl\n",
      "Loading: AutogluonModels/ag-20220501_033309\\models\\NeuralNetFastAI\\model.pkl\n",
      "Loading: AutogluonModels/ag-20220501_033309\\models\\NeuralNetFastAI\\model-internals.pkl\n",
      "Loading: AutogluonModels/ag-20220501_033309\\models\\XGBoost\\model.pkl\n",
      "Loading: AutogluonModels/ag-20220501_033309\\models\\NeuralNetTorch\\model.pkl\n",
      "Loading: AutogluonModels/ag-20220501_033309\\models\\LightGBMLarge\\model.pkl\n",
      "Loading: AutogluonModels/ag-20220501_033309\\models\\WeightedEnsemble_L2\\model.pkl\n"
     ]
    },
    {
     "name": "stdout",
     "output_type": "stream",
     "text": [
      "*** Summary of fit() ***\n",
      "Estimated performance of each model:\n",
      "                  model  score_val  pred_time_val   fit_time  pred_time_val_marginal  fit_time_marginal  stack_level  can_infer  fit_order\n",
      "0   WeightedEnsemble_L2   0.950896       0.126631  74.506413                0.001994           1.550854            2       True         14\n",
      "1              LightGBM   0.950411       0.013963   2.558744                0.013963           2.558744            1       True          4\n",
      "2               XGBoost   0.949590       0.018949   1.902912                0.018949           1.902912            1       True         11\n",
      "3         LightGBMLarge   0.948850       0.023906   7.494290                0.023906           7.494290            1       True         13\n",
      "4              CatBoost   0.947793       0.009972  45.842629                0.009972          45.842629            1       True          7\n",
      "5            LightGBMXT   0.947642       0.019945   5.427488                0.019945           5.427488            1       True          3\n",
      "6      RandomForestEntr   0.944373       0.122024   6.233761                0.122024           6.233761            1       True          6\n",
      "7      RandomForestGini   0.942065       0.120744   5.297836                0.120744           5.297836            1       True          5\n",
      "8        NeuralNetTorch   0.938909       0.067819  60.999613                0.067819          60.999613            1       True         12\n",
      "9        ExtraTreesEntr   0.907097       0.120677   3.089740                0.120677           3.089740            1       True          9\n",
      "10       ExtraTreesGini   0.899322       0.120741   2.778631                0.120741           2.778631            1       True          8\n",
      "11       KNeighborsDist   0.788218       2.750151   0.081782                2.750151           0.081782            1       True          2\n",
      "12       KNeighborsUnif   0.783855       2.961576   0.062832                2.961576           0.062832            1       True          1\n",
      "13      NeuralNetFastAI   0.684403       0.048870  25.440995                0.048870          25.440995            1       True         10\n",
      "Number of models trained: 14\n",
      "Types of models trained:\n",
      "{'XGBoostModel', 'TabularNeuralNetTorchModel', 'XTModel', 'WeightedEnsembleModel', 'KNNModel', 'RFModel', 'CatBoostModel', 'LGBModel', 'NNFastAiTabularModel'}\n",
      "Bagging used: False \n",
      "Multi-layer stack-ensembling used: False \n",
      "Feature Metadata (Processed):\n",
      "(raw dtype, special dtypes):\n",
      "('category', [])  :  3 | ['WTHR_OPN_ONL_ICO', 'LGP_HLD_CARD_LVL', 'NB_CTC_HLD_IDV_AIO_CARD_SITU']\n",
      "('float', [])     : 45 | ['AGN_CNT_RCT_12_MON', 'ICO_CUR_MON_ACM_TRX_TM', 'NB_RCT_3_MON_LGN_TMS_AGV', 'AGN_CUR_YEAR_AMT', 'AGN_CUR_YEAR_WAG_AMT', ...]\n",
      "('int', ['bool']) :  1 | ['MON_12_CUST_CNT_PTY_ID']\n",
      "*** End of fit() summary ***\n"
     ]
    }
   ],
   "source": [
    "results = predictor.fit_summary(show_plot=True)"
   ]
  },
  {
   "cell_type": "markdown",
   "id": "ea5e4e40",
   "metadata": {
    "heading_collapsed": true
   },
   "source": [
    "### 0填补"
   ]
  },
  {
   "cell_type": "code",
   "execution_count": 171,
   "id": "e1061329",
   "metadata": {
    "ExecuteTime": {
     "end_time": "2022-05-02T04:45:35.114372Z",
     "start_time": "2022-05-02T04:45:34.456131Z"
    },
    "hidden": true
   },
   "outputs": [],
   "source": [
    "new_train_data = train_data.replace('?',np.nan)#用np.nan替换？\n",
    "new_train_data = new_train_data.fillna(0)"
   ]
  },
  {
   "cell_type": "code",
   "execution_count": null,
   "id": "4ace55ce",
   "metadata": {
    "hidden": true
   },
   "outputs": [],
   "source": [
    "for col in num_type_fea:\n",
    "    if min(new_train_data.loc[:,col])>=0:\n",
    "        new_train_data.loc[:,col]  = np.log(new_train_data.loc[:,col]+1)\n",
    "    else:\n",
    "        values = new_train_data.loc[:,col].values \n",
    "        new_values = []\n",
    "        for value in values:\n",
    "            if value >=0:\n",
    "                new_values.append(np.log(value+1))\n",
    "            else:\n",
    "                new_values.append(-np.log(np.abs(value)+1))\n",
    "        new_train_data.loc[:,col] = pd.DataFrame(new_values,columns=[col])   "
   ]
  },
  {
   "cell_type": "code",
   "execution_count": 172,
   "id": "777dabba",
   "metadata": {
    "ExecuteTime": {
     "end_time": "2022-05-02T04:49:40.377829Z",
     "start_time": "2022-05-02T04:45:36.690828Z"
    },
    "hidden": true
   },
   "outputs": [
    {
     "name": "stderr",
     "output_type": "stream",
     "text": [
      "No path specified. Models will be saved in: \"AutogluonModels/ag-20220502_044536\\\"\n",
      "============ fit kwarg info ============\n",
      "User Specified kwargs:\n",
      "{'ag_args_fit': {'num_gpus': 1}}\n",
      "Full kwargs:\n",
      "{'_feature_generator_kwargs': None,\n",
      " '_save_bag_folds': None,\n",
      " 'ag_args': None,\n",
      " 'ag_args_ensemble': None,\n",
      " 'ag_args_fit': {'num_gpus': 1},\n",
      " 'auto_stack': False,\n",
      " 'calibrate': 'auto',\n",
      " 'excluded_model_types': None,\n",
      " 'feature_generator': 'auto',\n",
      " 'feature_prune_kwargs': None,\n",
      " 'holdout_frac': None,\n",
      " 'hyperparameter_tune_kwargs': None,\n",
      " 'keep_only_best': False,\n",
      " 'name_suffix': None,\n",
      " 'num_bag_folds': None,\n",
      " 'num_bag_sets': None,\n",
      " 'num_stack_levels': None,\n",
      " 'pseudo_data': None,\n",
      " 'quantile_levels': None,\n",
      " 'refit_full': False,\n",
      " 'save_space': False,\n",
      " 'set_best_to_refit_full': False,\n",
      " 'unlabeled_data': None,\n",
      " 'use_bag_holdout': False,\n",
      " 'verbosity': 3}\n",
      "========================================\n",
      "Saving AutogluonModels/ag-20220502_044536\\learner.pkl\n",
      "Saving AutogluonModels/ag-20220502_044536\\predictor.pkl\n",
      "Beginning AutoGluon training ...\n",
      "AutoGluon will save models to \"AutogluonModels/ag-20220502_044536\\\"\n",
      "AutoGluon Version:  0.4.1b20220319\n",
      "Python Version:     3.7.12\n",
      "Operating System:   Windows\n",
      "Train Data Rows:    40000\n",
      "Train Data Columns: 50\n",
      "Label Column: LABEL\n",
      "Preprocessing data ...\n",
      "AutoGluon infers your prediction problem is: 'binary' (because only two unique label-values observed).\n",
      "\t2 unique label values:  [0, 1]\n",
      "\tIf 'binary' is not the correct problem_type, please manually specify the problem_type parameter during predictor init (You may specify problem_type as one of: ['binary', 'multiclass', 'regression'])\n",
      "Selected class <--> label mapping:  class 1 = 1, class 0 = 0\n",
      "Using Feature Generators to preprocess the data ...\n",
      "Fitting AutoMLPipelineFeatureGenerator...\n",
      "\tAvailable Memory:                    6354.52 MB\n",
      "\tTrain Data (Original)  Memory Usage: 26.19 MB (0.4% of available memory)\n",
      "\tInferring data type of each feature based on column values. Set feature_metadata_in to manually specify special dtypes of the features.\n",
      "\tStage 1 Generators:\n",
      "\t\tFitting AsTypeFeatureGenerator...\n",
      "\t\t\tNote: Converting 1 features to boolean dtype as they only contain 2 unique values.\n",
      "\t\t\tOriginal Features (exact raw dtype, raw dtype):\n",
      "\t\t\t\t('float64', 'float') : 45 | ['AGN_CNT_RCT_12_MON', 'ICO_CUR_MON_ACM_TRX_TM', 'NB_RCT_3_MON_LGN_TMS_AGV', 'AGN_CUR_YEAR_AMT', 'AGN_CUR_YEAR_WAG_AMT', ...]\n",
      "\t\t\t\t('object', 'object') :  5 | ['CUST_UID', 'MON_12_CUST_CNT_PTY_ID', 'WTHR_OPN_ONL_ICO', 'LGP_HLD_CARD_LVL', 'NB_CTC_HLD_IDV_AIO_CARD_SITU']\n",
      "\t\t\tTypes of features in original data (raw dtype, special dtypes):\n",
      "\t\t\t\t('float', [])                      : 45 | ['AGN_CNT_RCT_12_MON', 'ICO_CUR_MON_ACM_TRX_TM', 'NB_RCT_3_MON_LGN_TMS_AGV', 'AGN_CUR_YEAR_AMT', 'AGN_CUR_YEAR_WAG_AMT', ...]\n",
      "\t\t\t\t('object', [])                     :  3 | ['CUST_UID', 'WTHR_OPN_ONL_ICO', 'NB_CTC_HLD_IDV_AIO_CARD_SITU']\n",
      "\t\t\t\t('object', ['datetime_as_object']) :  2 | ['MON_12_CUST_CNT_PTY_ID', 'LGP_HLD_CARD_LVL']\n",
      "\t\t\tTypes of features in processed data (raw dtype, special dtypes):\n",
      "\t\t\t\t('float', [])                      : 45 | ['AGN_CNT_RCT_12_MON', 'ICO_CUR_MON_ACM_TRX_TM', 'NB_RCT_3_MON_LGN_TMS_AGV', 'AGN_CUR_YEAR_AMT', 'AGN_CUR_YEAR_WAG_AMT', ...]\n",
      "\t\t\t\t('int', ['bool'])                  :  1 | ['MON_12_CUST_CNT_PTY_ID']\n",
      "\t\t\t\t('object', [])                     :  3 | ['CUST_UID', 'WTHR_OPN_ONL_ICO', 'NB_CTC_HLD_IDV_AIO_CARD_SITU']\n",
      "\t\t\t\t('object', ['datetime_as_object']) :  1 | ['LGP_HLD_CARD_LVL']\n",
      "\t\t\t0.1s = Fit runtime\n",
      "\t\t\t50 features in original data used to generate 50 features in processed data.\n",
      "\tStage 2 Generators:\n",
      "\t\tFitting FillNaFeatureGenerator...\n",
      "\t\t\tTypes of features in original data (raw dtype, special dtypes):\n",
      "\t\t\t\t('float', [])                      : 45 | ['AGN_CNT_RCT_12_MON', 'ICO_CUR_MON_ACM_TRX_TM', 'NB_RCT_3_MON_LGN_TMS_AGV', 'AGN_CUR_YEAR_AMT', 'AGN_CUR_YEAR_WAG_AMT', ...]\n",
      "\t\t\t\t('int', ['bool'])                  :  1 | ['MON_12_CUST_CNT_PTY_ID']\n",
      "\t\t\t\t('object', [])                     :  3 | ['CUST_UID', 'WTHR_OPN_ONL_ICO', 'NB_CTC_HLD_IDV_AIO_CARD_SITU']\n",
      "\t\t\t\t('object', ['datetime_as_object']) :  1 | ['LGP_HLD_CARD_LVL']\n",
      "\t\t\tTypes of features in processed data (raw dtype, special dtypes):\n",
      "\t\t\t\t('float', [])                      : 45 | ['AGN_CNT_RCT_12_MON', 'ICO_CUR_MON_ACM_TRX_TM', 'NB_RCT_3_MON_LGN_TMS_AGV', 'AGN_CUR_YEAR_AMT', 'AGN_CUR_YEAR_WAG_AMT', ...]\n",
      "\t\t\t\t('int', ['bool'])                  :  1 | ['MON_12_CUST_CNT_PTY_ID']\n",
      "\t\t\t\t('object', [])                     :  3 | ['CUST_UID', 'WTHR_OPN_ONL_ICO', 'NB_CTC_HLD_IDV_AIO_CARD_SITU']\n",
      "\t\t\t\t('object', ['datetime_as_object']) :  1 | ['LGP_HLD_CARD_LVL']\n",
      "\t\t\t0.0s = Fit runtime\n",
      "\t\t\t50 features in original data used to generate 50 features in processed data.\n",
      "\tStage 3 Generators:\n",
      "\t\tFitting IdentityFeatureGenerator...\n",
      "\t\t\tTypes of features in original data (raw dtype, special dtypes):\n",
      "\t\t\t\t('float', [])     : 45 | ['AGN_CNT_RCT_12_MON', 'ICO_CUR_MON_ACM_TRX_TM', 'NB_RCT_3_MON_LGN_TMS_AGV', 'AGN_CUR_YEAR_AMT', 'AGN_CUR_YEAR_WAG_AMT', ...]\n",
      "\t\t\t\t('int', ['bool']) :  1 | ['MON_12_CUST_CNT_PTY_ID']\n",
      "\t\t\tTypes of features in processed data (raw dtype, special dtypes):\n",
      "\t\t\t\t('float', [])     : 45 | ['AGN_CNT_RCT_12_MON', 'ICO_CUR_MON_ACM_TRX_TM', 'NB_RCT_3_MON_LGN_TMS_AGV', 'AGN_CUR_YEAR_AMT', 'AGN_CUR_YEAR_WAG_AMT', ...]\n",
      "\t\t\t\t('int', ['bool']) :  1 | ['MON_12_CUST_CNT_PTY_ID']\n",
      "\t\t\t0.0s = Fit runtime\n",
      "\t\t\t46 features in original data used to generate 46 features in processed data.\n",
      "\t\tFitting CategoryFeatureGenerator...\n",
      "\t\t\tFitting CategoryMemoryMinimizeFeatureGenerator...\n",
      "\t\t\t\tTypes of features in original data (raw dtype, special dtypes):\n",
      "\t\t\t\t\t('category', []) : 3 | ['CUST_UID', 'WTHR_OPN_ONL_ICO', 'NB_CTC_HLD_IDV_AIO_CARD_SITU']\n",
      "\t\t\t\tTypes of features in processed data (raw dtype, special dtypes):\n",
      "\t\t\t\t\t('category', []) : 3 | ['CUST_UID', 'WTHR_OPN_ONL_ICO', 'NB_CTC_HLD_IDV_AIO_CARD_SITU']\n",
      "\t\t\t\t0.0s = Fit runtime\n",
      "\t\t\t\t3 features in original data used to generate 3 features in processed data.\n",
      "\t\t\tTypes of features in original data (raw dtype, special dtypes):\n",
      "\t\t\t\t('object', []) : 3 | ['CUST_UID', 'WTHR_OPN_ONL_ICO', 'NB_CTC_HLD_IDV_AIO_CARD_SITU']\n",
      "\t\t\tTypes of features in processed data (raw dtype, special dtypes):\n",
      "\t\t\t\t('category', []) : 3 | ['CUST_UID', 'WTHR_OPN_ONL_ICO', 'NB_CTC_HLD_IDV_AIO_CARD_SITU']\n",
      "\t\t\t0.1s = Fit runtime\n",
      "\t\t\t3 features in original data used to generate 3 features in processed data.\n",
      "\t\tFitting DatetimeFeatureGenerator...\n",
      "\t\t\tTypes of features in original data (raw dtype, special dtypes):\n",
      "\t\t\t\t('object', ['datetime_as_object']) : 1 | ['LGP_HLD_CARD_LVL']\n",
      "\t\t\tTypes of features in processed data (raw dtype, special dtypes):\n",
      "\t\t\t\t('int', ['datetime_as_int']) : 5 | ['LGP_HLD_CARD_LVL', 'LGP_HLD_CARD_LVL.year', 'LGP_HLD_CARD_LVL.month', 'LGP_HLD_CARD_LVL.day', 'LGP_HLD_CARD_LVL.dayofweek']\n",
      "\t\t\t0.1s = Fit runtime\n",
      "\t\t\t1 features in original data used to generate 5 features in processed data.\n",
      "\t\tSkipping TextSpecialFeatureGenerator: No input feature with required dtypes.\n",
      "\t\tSkipping TextNgramFeatureGenerator: No input feature with required dtypes.\n",
      "\t\tSkipping IdentityFeatureGenerator: No input feature with required dtypes.\n",
      "\t\tSkipping IsNanFeatureGenerator: No input feature with required dtypes.\n",
      "\tStage 4 Generators:\n",
      "\t\tFitting DropUniqueFeatureGenerator...\n",
      "\t\t\tTypes of features in original data (raw dtype, special dtypes):\n",
      "\t\t\t\t('category', [])  :  2 | ['WTHR_OPN_ONL_ICO', 'NB_CTC_HLD_IDV_AIO_CARD_SITU']\n",
      "\t\t\t\t('float', [])     : 45 | ['AGN_CNT_RCT_12_MON', 'ICO_CUR_MON_ACM_TRX_TM', 'NB_RCT_3_MON_LGN_TMS_AGV', 'AGN_CUR_YEAR_AMT', 'AGN_CUR_YEAR_WAG_AMT', ...]\n",
      "\t\t\t\t('int', ['bool']) :  1 | ['MON_12_CUST_CNT_PTY_ID']\n",
      "\t\t\tTypes of features in processed data (raw dtype, special dtypes):\n",
      "\t\t\t\t('category', [])  :  2 | ['WTHR_OPN_ONL_ICO', 'NB_CTC_HLD_IDV_AIO_CARD_SITU']\n",
      "\t\t\t\t('float', [])     : 45 | ['AGN_CNT_RCT_12_MON', 'ICO_CUR_MON_ACM_TRX_TM', 'NB_RCT_3_MON_LGN_TMS_AGV', 'AGN_CUR_YEAR_AMT', 'AGN_CUR_YEAR_WAG_AMT', ...]\n",
      "\t\t\t\t('int', ['bool']) :  1 | ['MON_12_CUST_CNT_PTY_ID']\n",
      "\t\t\t0.1s = Fit runtime\n",
      "\t\t\t48 features in original data used to generate 48 features in processed data.\n",
      "\tUnused Original Features (Count: 2): ['CUST_UID', 'LGP_HLD_CARD_LVL']\n",
      "\t\tThese features were not used to generate any of the output features. Add a feature generator compatible with these features to utilize them.\n",
      "\t\tFeatures can also be unused if they carry very little information, such as being categorical but having almost entirely unique values or being duplicates of other features.\n",
      "\t\tThese features do not need to be present at inference time.\n",
      "\t\t('object', [])                     : 1 | ['CUST_UID']\n",
      "\t\t('object', ['datetime_as_object']) : 1 | ['LGP_HLD_CARD_LVL']\n",
      "\tTypes of features in original data (exact raw dtype, raw dtype):\n",
      "\t\t('float64', 'float') : 45 | ['AGN_CNT_RCT_12_MON', 'ICO_CUR_MON_ACM_TRX_TM', 'NB_RCT_3_MON_LGN_TMS_AGV', 'AGN_CUR_YEAR_AMT', 'AGN_CUR_YEAR_WAG_AMT', ...]\n",
      "\t\t('object', 'object') :  3 | ['MON_12_CUST_CNT_PTY_ID', 'WTHR_OPN_ONL_ICO', 'NB_CTC_HLD_IDV_AIO_CARD_SITU']\n",
      "\tTypes of features in original data (raw dtype, special dtypes):\n",
      "\t\t('float', [])                      : 45 | ['AGN_CNT_RCT_12_MON', 'ICO_CUR_MON_ACM_TRX_TM', 'NB_RCT_3_MON_LGN_TMS_AGV', 'AGN_CUR_YEAR_AMT', 'AGN_CUR_YEAR_WAG_AMT', ...]\n",
      "\t\t('object', [])                     :  2 | ['WTHR_OPN_ONL_ICO', 'NB_CTC_HLD_IDV_AIO_CARD_SITU']\n",
      "\t\t('object', ['datetime_as_object']) :  1 | ['MON_12_CUST_CNT_PTY_ID']\n",
      "\tTypes of features in processed data (exact raw dtype, raw dtype):\n",
      "\t\t('category', 'category') :  2 | ['WTHR_OPN_ONL_ICO', 'NB_CTC_HLD_IDV_AIO_CARD_SITU']\n",
      "\t\t('float64', 'float')     : 45 | ['AGN_CNT_RCT_12_MON', 'ICO_CUR_MON_ACM_TRX_TM', 'NB_RCT_3_MON_LGN_TMS_AGV', 'AGN_CUR_YEAR_AMT', 'AGN_CUR_YEAR_WAG_AMT', ...]\n",
      "\t\t('int8', 'int')          :  1 | ['MON_12_CUST_CNT_PTY_ID']\n",
      "\tTypes of features in processed data (raw dtype, special dtypes):\n",
      "\t\t('category', [])  :  2 | ['WTHR_OPN_ONL_ICO', 'NB_CTC_HLD_IDV_AIO_CARD_SITU']\n",
      "\t\t('float', [])     : 45 | ['AGN_CNT_RCT_12_MON', 'ICO_CUR_MON_ACM_TRX_TM', 'NB_RCT_3_MON_LGN_TMS_AGV', 'AGN_CUR_YEAR_AMT', 'AGN_C"
     ]
    },
    {
     "data": {
      "text/html": [
       "<b>limit_output extension: Maximum message size of 10000 exceeded with 10023 characters</b>"
      ]
     },
     "metadata": {},
     "output_type": "display_data"
    }
   ],
   "source": [
    "from autogluon.tabular import TabularDataset, TabularPredictor\n",
    "\n",
    "label = \"LABEL\"\n",
    "eval_metric = 'roc_auc'\n",
    "# predictor = TabularPredictor(label= label).fit(train_data=train_data,\n",
    "# #                                                num_bag_folds=5, num_bag_sets=1, num_stack_levels=2,\n",
    "#                                                ag_args_fit={'num_gpus': 0})\n",
    "\n",
    "predictor = TabularPredictor(label=label, eval_metric=eval_metric, verbosity=3)\\\n",
    "                            .fit(\n",
    "                                    new_train_data\n",
    "                                    ,ag_args_fit={'num_gpus': 1}\n",
    "                                )"
   ]
  },
  {
   "cell_type": "code",
   "execution_count": 173,
   "id": "13a34bb3",
   "metadata": {
    "ExecuteTime": {
     "end_time": "2022-05-02T04:49:44.000100Z",
     "start_time": "2022-05-02T04:49:42.206867Z"
    },
    "hidden": true,
    "scrolled": true
   },
   "outputs": [
    {
     "name": "stderr",
     "output_type": "stream",
     "text": [
      "Loading: AutogluonModels/ag-20220502_044536\\models\\KNeighborsUnif\\model.pkl\n",
      "Loading: AutogluonModels/ag-20220502_044536\\models\\KNeighborsDist\\model.pkl\n",
      "Loading: AutogluonModels/ag-20220502_044536\\models\\LightGBMXT\\model.pkl\n",
      "Loading: AutogluonModels/ag-20220502_044536\\models\\LightGBM\\model.pkl\n",
      "Loading: AutogluonModels/ag-20220502_044536\\models\\RandomForestGini\\model.pkl\n",
      "Loading: AutogluonModels/ag-20220502_044536\\models\\RandomForestEntr\\model.pkl\n",
      "Loading: AutogluonModels/ag-20220502_044536\\models\\CatBoost\\model.pkl\n",
      "Loading: AutogluonModels/ag-20220502_044536\\models\\ExtraTreesGini\\model.pkl\n",
      "Loading: AutogluonModels/ag-20220502_044536\\models\\ExtraTreesEntr\\model.pkl\n",
      "Loading: AutogluonModels/ag-20220502_044536\\models\\NeuralNetFastAI\\model.pkl\n",
      "Loading: AutogluonModels/ag-20220502_044536\\models\\NeuralNetFastAI\\model-internals.pkl\n",
      "Loading: AutogluonModels/ag-20220502_044536\\models\\XGBoost\\model.pkl\n",
      "Loading: AutogluonModels/ag-20220502_044536\\models\\NeuralNetTorch\\model.pkl\n",
      "Loading: AutogluonModels/ag-20220502_044536\\models\\LightGBMLarge\\model.pkl\n",
      "Loading: AutogluonModels/ag-20220502_044536\\models\\WeightedEnsemble_L2\\model.pkl\n"
     ]
    },
    {
     "name": "stdout",
     "output_type": "stream",
     "text": [
      "*** Summary of fit() ***\n",
      "Estimated performance of each model:\n",
      "                  model     score_val  pred_time_val        fit_time  pred_time_val_marginal  fit_time_marginal  stack_level  can_infer  fit_order\n",
      "0   WeightedEnsemble_L2  0.9537147733   4.5961866379  110.5467956066            0.0029900074       2.3345947266            2       True         14\n",
      "1               XGBoost  0.9526523733   0.0329122543    3.5310223103            0.0329122543       3.5310223103            1       True         11\n",
      "2              LightGBM  0.9522948267   0.0229382515    7.7104563713            0.0229382515       7.7104563713            1       True          4\n",
      "3         LightGBMLarge  0.9502796800   0.0229384899   17.0755836964            0.0229384899      17.0755836964            1       True         13\n",
      "4            LightGBMXT  0.9489318400   0.0370810032   13.2984035015            0.0370810032      13.2984035015            1       True          3\n",
      "5              CatBoost  0.9480793600   0.0149598122   35.5015938282            0.0149598122      35.5015938282            1       True          7\n",
      "6      RandomForestEntr  0.9452535467   0.1216747761    6.5923228264            0.1216747761       6.5923228264            1       True          6\n",
      "7        NeuralNetTorch  0.9440422400   0.1097052097   79.7764568329            0.1097052097      79.7764568329            1       True         12\n",
      "8      RandomForestGini  0.9421990400   0.1225574017    5.2803447247            0.1225574017       5.2803447247            1       True          5\n",
      "9        ExtraTreesEntr  0.9077013333   0.2283892632    3.6070344448            0.2283892632       3.6070344448            1       True          9\n",
      "10       ExtraTreesGini  0.8987221333   0.2419688702    3.3964443207            0.2419688702       3.3964443207            1       True          8\n",
      "11       KNeighborsDist  0.7939293867   4.4047024250    0.1186816692            4.4047024250       0.1186816692            1       True          2\n",
      "12       KNeighborsUnif  0.7898653867   4.3329558372    0.1146931648            4.3329558372       0.1146931648            1       True          1\n",
      "13      NeuralNetFastAI  0.6917149867   0.0934863091   40.8995821476            0.0934863091      40.8995821476            1       True         10\n",
      "Number of models trained: 14\n",
      "Types of models trained:\n",
      "{'KNNModel', 'TabularNeuralNetTorchModel', 'RFModel', 'XTModel', 'CatBoostModel', 'XGBoostModel', 'NNFastAiTabularModel', 'LGBModel', 'WeightedEnsembleModel'}\n",
      "Bagging used: False \n",
      "Multi-layer stack-ensembling used: False \n",
      "Feature Metadata (Processed):\n",
      "(raw dtype, special dtypes):\n",
      "('category', [])  :  2 | ['WTHR_OPN_ONL_ICO', 'NB_CTC_HLD_IDV_AIO_CARD_SITU']\n",
      "('float', [])     : 45 | ['AGN_CNT_RCT_12_MON', 'ICO_CUR_MON_ACM_TRX_TM', 'NB_RCT_3_MON_LGN_TMS_AGV', 'AGN_CUR_YEAR_AMT', 'AGN_CUR_YEAR_WAG_AMT', ...]\n",
      "('int', ['bool']) :  1 | ['MON_12_CUST_CNT_PTY_ID']\n",
      "*** End of fit() summary ***\n"
     ]
    }
   ],
   "source": [
    "results = predictor.fit_summary(show_plot=True)"
   ]
  },
  {
   "cell_type": "markdown",
   "id": "8368cfe4",
   "metadata": {},
   "source": [
    "### 数值型数据：算法填补"
   ]
  },
  {
   "cell_type": "code",
   "execution_count": 163,
   "id": "979154b2",
   "metadata": {
    "ExecuteTime": {
     "end_time": "2022-05-05T01:52:12.284359Z",
     "start_time": "2022-05-05T01:52:12.240478Z"
    }
   },
   "outputs": [],
   "source": [
    "def regessor_fillna(char_fea\n",
    "                    ,X\n",
    "                    ,new_data \n",
    "                    ,sortindex\n",
    "                    ,model\n",
    "                    ,usetype=\"train\"\n",
    "                   ):\n",
    "    char_type_fea = char_fea\n",
    "    X_missing_reg = X \n",
    "    rfc = model     \n",
    "    \n",
    "    if usetype == \"train\":\n",
    "        for i in char_type_fea:\n",
    "            X_missing_reg.loc[:,i] = OrdinalEncoder().fit_transform(X_missing_reg.loc[:,i].values.reshape(-1, 1))  \n",
    "    else:\n",
    "        for i in char_type_fea:\n",
    "            transformer = OrdinalEncoder(handle_unknown='use_encoded_value',unknown_value=-1)\\\n",
    "                                    .fit(X_missing_reg.loc[:,i].values.reshape(-1, 1))\n",
    "            new_data.loc[:,i] = transformer.transform(new_data.loc[:,i].values.reshape(-1,1))\n",
    "    \n",
    "    print(\"开始填充\")\n",
    "    for i in sortindex:\n",
    "\n",
    "        if i not in char_type_fea:\n",
    "\n",
    "            #构建我们的新特征矩阵和新标签\n",
    "            df = X_missing_reg\n",
    "            fillc = df.loc[:,i]\n",
    "            df = df.loc[:,df.columns != i]\n",
    "\n",
    "            #在新特征矩阵中，对含有缺失值的列，进行0的填补\n",
    "            df_0 =SimpleImputer(missing_values=np.nan,strategy='constant',fill_value=-1).fit_transform(df)\n",
    "\n",
    "            #在训练集中找出用于填补的训练集和测试集\n",
    "            Ytrain = fillc[fillc.notnull()]\n",
    "            Xtrain = df_0[Ytrain.index,:]\n",
    "            \n",
    "            if usetype==\"train\":\n",
    "                Ytest = fillc[fillc.isnull()]\n",
    "                Xtest = df_0[Ytest.index,:]\n",
    "            else:\n",
    "                df = new_data\n",
    "                fillc = df.loc[:,i]\n",
    "                df = df.loc[:,df.columns != i]\n",
    "                df_0 =SimpleImputer(missing_values=np.nan,strategy='constant',fill_value=-1).fit_transform(df)\n",
    "                Ytest = fillc[fillc.isnull()]\n",
    "                Xtest = df_0[Ytest.index,:]\n",
    "                    \n",
    "\n",
    "            #用回归来填补训练集缺失值\n",
    "            rfc = rfc.fit(Xtrain, Ytrain)\n",
    "            Ypredict = rfc.predict(Xtest)\n",
    "\n",
    "            #将填补好的特征返回到我们的原始的训练集特征矩阵中\n",
    "            X_missing_reg.loc[X_missing_reg.loc[:,i].isnull(),i] = Ypredict\n",
    "            new_data.loc[new_data.loc[:,i].isnull(),i] = Ypredict                            \n",
    "            \n",
    "    print(\"完成填充\")\n",
    "    return new_data"
   ]
  },
  {
   "cell_type": "code",
   "execution_count": 169,
   "id": "3b72faa4",
   "metadata": {
    "ExecuteTime": {
     "end_time": "2022-05-05T02:16:47.918512Z",
     "start_time": "2022-05-05T02:16:47.381947Z"
    }
   },
   "outputs": [],
   "source": [
    "new_train_data = train_data.replace('?',np.nan)#用np.nan替换？\n",
    "y = new_train_data[\"LABEL\"]\n",
    "X_missing = new_train_data.drop(columns=[\"LABEL\",\"CUST_UID\"])\n",
    "# X_missing = new_train_data"
   ]
  },
  {
   "cell_type": "code",
   "execution_count": 170,
   "id": "84e30610",
   "metadata": {
    "ExecuteTime": {
     "end_time": "2022-05-05T02:17:28.262382Z",
     "start_time": "2022-05-05T02:16:49.828198Z"
    }
   },
   "outputs": [
    {
     "name": "stdout",
     "output_type": "stream",
     "text": [
      "开始填充\n",
      "完成填充\n"
     ]
    }
   ],
   "source": [
    "# 对数值型特征使用回归算法填补\n",
    "\n",
    "from sklearn.impute import SimpleImputer\n",
    "from lightgbm import LGBMRegressor\n",
    "from xgboost import XGBRegressor\n",
    "from sklearn.ensemble import RandomForestRegressor\n",
    "from sklearn.preprocessing import OrdinalEncoder\n",
    "\n",
    "# 所使用的算法模型\n",
    "model = LGBMRegressor()\n",
    "# model = XGBRegressor()\n",
    "# model = RandomForestRegressor() \n",
    "\n",
    "X_missing_reg = X_missing.copy()\n",
    "sortindex = np.argsort(X_missing_reg.isnull().sum(axis=0)).index\n",
    "\n",
    "new_train_data = regessor_fillna(char_fea=char_type_fea\n",
    "                                 ,X=X_missing_reg\n",
    "                                 ,new_data=new_train_data\n",
    "                                 ,sortindex=sortindex\n",
    "                                 ,model=model \n",
    "                                 ,usetype=\"train\"\n",
    "                                )\n",
    "new_train_data = new_train_data.fillna(-1)"
   ]
  },
  {
   "cell_type": "code",
   "execution_count": 171,
   "id": "f1159dc4",
   "metadata": {
    "ExecuteTime": {
     "end_time": "2022-05-05T02:17:31.100818Z",
     "start_time": "2022-05-05T02:17:28.750078Z"
    }
   },
   "outputs": [],
   "source": [
    "new_train_data = data_log(num_type_fea,new_train_data,num=1)"
   ]
  },
  {
   "cell_type": "code",
   "execution_count": 172,
   "id": "a4e1e962",
   "metadata": {
    "ExecuteTime": {
     "end_time": "2022-05-05T02:18:27.503859Z",
     "start_time": "2022-05-05T02:17:31.511691Z"
    }
   },
   "outputs": [],
   "source": [
    "Folder_Path = \"./数据集/缺失值处理/\"\n",
    "if not os.path.exists(Folder_Path):\n",
    "    os.makedirs(Folder_Path)\n",
    "new_train_data.to_excel(Folder_Path+\"fillna_regressor_train_data.xlsx\",index=False)\n",
    "# y.to_excel(Folder_Path+\"train_y.xlsx\",index=False)"
   ]
  },
  {
   "cell_type": "code",
   "execution_count": 173,
   "id": "4651d957",
   "metadata": {
    "ExecuteTime": {
     "end_time": "2022-05-05T02:25:58.165932Z",
     "start_time": "2022-05-05T02:18:27.949666Z"
    }
   },
   "outputs": [
    {
     "name": "stderr",
     "output_type": "stream",
     "text": [
      "No path specified. Models will be saved in: \"AutogluonModels/ag-20220505_021827\\\"\n",
      "============ fit kwarg info ============\n",
      "User Specified kwargs:\n",
      "{'ag_args_fit': {'num_gpus': 1}}\n",
      "Full kwargs:\n",
      "{'_feature_generator_kwargs': None,\n",
      " '_save_bag_folds': None,\n",
      " 'ag_args': None,\n",
      " 'ag_args_ensemble': None,\n",
      " 'ag_args_fit': {'num_gpus': 1},\n",
      " 'auto_stack': False,\n",
      " 'calibrate': 'auto',\n",
      " 'excluded_model_types': None,\n",
      " 'feature_generator': 'auto',\n",
      " 'feature_prune_kwargs': None,\n",
      " 'holdout_frac': None,\n",
      " 'hyperparameter_tune_kwargs': None,\n",
      " 'keep_only_best': False,\n",
      " 'name_suffix': None,\n",
      " 'num_bag_folds': None,\n",
      " 'num_bag_sets': None,\n",
      " 'num_stack_levels': None,\n",
      " 'pseudo_data': None,\n",
      " 'quantile_levels': None,\n",
      " 'refit_full': False,\n",
      " 'save_space': False,\n",
      " 'set_best_to_refit_full': False,\n",
      " 'unlabeled_data': None,\n",
      " 'use_bag_holdout': False,\n",
      " 'verbosity': 3}\n",
      "========================================\n",
      "Saving AutogluonModels/ag-20220505_021827\\learner.pkl\n",
      "Saving AutogluonModels/ag-20220505_021827\\predictor.pkl\n",
      "Beginning AutoGluon training ...\n",
      "AutoGluon will save models to \"AutogluonModels/ag-20220505_021827\\\"\n",
      "AutoGluon Version:  0.4.1b20220319\n",
      "Python Version:     3.7.12\n",
      "Operating System:   Windows\n",
      "Train Data Rows:    40000\n",
      "Train Data Columns: 50\n",
      "Label Column: LABEL\n",
      "Preprocessing data ...\n",
      "AutoGluon infers your prediction problem is: 'binary' (because only two unique label-values observed).\n",
      "\t2 unique label values:  [0, 1]\n",
      "\tIf 'binary' is not the correct problem_type, please manually specify the problem_type parameter during predictor init (You may specify problem_type as one of: ['binary', 'multiclass', 'regression'])\n",
      "Selected class <--> label mapping:  class 1 = 1, class 0 = 0\n",
      "Using Feature Generators to preprocess the data ...\n",
      "Fitting AutoMLPipelineFeatureGenerator...\n",
      "\tAvailable Memory:                    11218.68 MB\n",
      "\tTrain Data (Original)  Memory Usage: 26.17 MB (0.2% of available memory)\n",
      "\tInferring data type of each feature based on column values. Set feature_metadata_in to manually specify special dtypes of the features.\n",
      "\tStage 1 Generators:\n",
      "\t\tFitting AsTypeFeatureGenerator...\n",
      "\t\t\tNote: Converting 1 features to boolean dtype as they only contain 2 unique values.\n",
      "\t\t\tOriginal Features (exact raw dtype, raw dtype):\n",
      "\t\t\t\t('float64', 'float') : 45 | ['AGN_CNT_RCT_12_MON', 'ICO_CUR_MON_ACM_TRX_TM', 'NB_RCT_3_MON_LGN_TMS_AGV', 'AGN_CUR_YEAR_AMT', 'AGN_CUR_YEAR_WAG_AMT', ...]\n",
      "\t\t\t\t('object', 'object') :  5 | ['CUST_UID', 'MON_12_CUST_CNT_PTY_ID', 'WTHR_OPN_ONL_ICO', 'LGP_HLD_CARD_LVL', 'NB_CTC_HLD_IDV_AIO_CARD_SITU']\n",
      "\t\t\tTypes of features in original data (raw dtype, special dtypes):\n",
      "\t\t\t\t('float', [])                      : 45 | ['AGN_CNT_RCT_12_MON', 'ICO_CUR_MON_ACM_TRX_TM', 'NB_RCT_3_MON_LGN_TMS_AGV', 'AGN_CUR_YEAR_AMT', 'AGN_CUR_YEAR_WAG_AMT', ...]\n",
      "\t\t\t\t('object', [])                     :  3 | ['CUST_UID', 'WTHR_OPN_ONL_ICO', 'NB_CTC_HLD_IDV_AIO_CARD_SITU']\n",
      "\t\t\t\t('object', ['datetime_as_object']) :  2 | ['MON_12_CUST_CNT_PTY_ID', 'LGP_HLD_CARD_LVL']\n",
      "\t\t\tTypes of features in processed data (raw dtype, special dtypes):\n",
      "\t\t\t\t('float', [])                      : 45 | ['AGN_CNT_RCT_12_MON', 'ICO_CUR_MON_ACM_TRX_TM', 'NB_RCT_3_MON_LGN_TMS_AGV', 'AGN_CUR_YEAR_AMT', 'AGN_CUR_YEAR_WAG_AMT', ...]\n",
      "\t\t\t\t('int', ['bool'])                  :  1 | ['MON_12_CUST_CNT_PTY_ID']\n",
      "\t\t\t\t('object', [])                     :  3 | ['CUST_UID', 'WTHR_OPN_ONL_ICO', 'NB_CTC_HLD_IDV_AIO_CARD_SITU']\n",
      "\t\t\t\t('object', ['datetime_as_object']) :  1 | ['LGP_HLD_CARD_LVL']\n",
      "\t\t\t0.1s = Fit runtime\n",
      "\t\t\t50 features in original data used to generate 50 features in processed data.\n",
      "\tStage 2 Generators:\n",
      "\t\tFitting FillNaFeatureGenerator...\n",
      "\t\t\tTypes of features in original data (raw dtype, special dtypes):\n",
      "\t\t\t\t('float', [])                      : 45 | ['AGN_CNT_RCT_12_MON', 'ICO_CUR_MON_ACM_TRX_TM', 'NB_RCT_3_MON_LGN_TMS_AGV', 'AGN_CUR_YEAR_AMT', 'AGN_CUR_YEAR_WAG_AMT', ...]\n",
      "\t\t\t\t('int', ['bool'])                  :  1 | ['MON_12_CUST_CNT_PTY_ID']\n",
      "\t\t\t\t('object', [])                     :  3 | ['CUST_UID', 'WTHR_OPN_ONL_ICO', 'NB_CTC_HLD_IDV_AIO_CARD_SITU']\n",
      "\t\t\t\t('object', ['datetime_as_object']) :  1 | ['LGP_HLD_CARD_LVL']\n",
      "\t\t\tTypes of features in processed data (raw dtype, special dtypes):\n",
      "\t\t\t\t('float', [])                      : 45 | ['AGN_CNT_RCT_12_MON', 'ICO_CUR_MON_ACM_TRX_TM', 'NB_RCT_3_MON_LGN_TMS_AGV', 'AGN_CUR_YEAR_AMT', 'AGN_CUR_YEAR_WAG_AMT', ...]\n",
      "\t\t\t\t('int', ['bool'])                  :  1 | ['MON_12_CUST_CNT_PTY_ID']\n",
      "\t\t\t\t('object', [])                     :  3 | ['CUST_UID', 'WTHR_OPN_ONL_ICO', 'NB_CTC_HLD_IDV_AIO_CARD_SITU']\n",
      "\t\t\t\t('object', ['datetime_as_object']) :  1 | ['LGP_HLD_CARD_LVL']\n",
      "\t\t\t0.0s = Fit runtime\n",
      "\t\t\t50 features in original data used to generate 50 features in processed data.\n",
      "\tStage 3 Generators:\n",
      "\t\tFitting IdentityFeatureGenerator...\n",
      "\t\t\tTypes of features in original data (raw dtype, special dtypes):\n",
      "\t\t\t\t('float', [])     : 45 | ['AGN_CNT_RCT_12_MON', 'ICO_CUR_MON_ACM_TRX_TM', 'NB_RCT_3_MON_LGN_TMS_AGV', 'AGN_CUR_YEAR_AMT', 'AGN_CUR_YEAR_WAG_AMT', ...]\n",
      "\t\t\t\t('int', ['bool']) :  1 | ['MON_12_CUST_CNT_PTY_ID']\n",
      "\t\t\tTypes of features in processed data (raw dtype, special dtypes):\n",
      "\t\t\t\t('float', [])     : 45 | ['AGN_CNT_RCT_12_MON', 'ICO_CUR_MON_ACM_TRX_TM', 'NB_RCT_3_MON_LGN_TMS_AGV', 'AGN_CUR_YEAR_AMT', 'AGN_CUR_YEAR_WAG_AMT', ...]\n",
      "\t\t\t\t('int', ['bool']) :  1 | ['MON_12_CUST_CNT_PTY_ID']\n",
      "\t\t\t0.0s = Fit runtime\n",
      "\t\t\t46 features in original data used to generate 46 features in processed data.\n",
      "\t\tFitting CategoryFeatureGenerator...\n",
      "\t\t\tFitting CategoryMemoryMinimizeFeatureGenerator...\n",
      "\t\t\t\tTypes of features in original data (raw dtype, special dtypes):\n",
      "\t\t\t\t\t('category', []) : 3 | ['CUST_UID', 'WTHR_OPN_ONL_ICO', 'NB_CTC_HLD_IDV_AIO_CARD_SITU']\n",
      "\t\t\t\tTypes of features in processed data (raw dtype, special dtypes):\n",
      "\t\t\t\t\t('category', []) : 3 | ['CUST_UID', 'WTHR_OPN_ONL_ICO', 'NB_CTC_HLD_IDV_AIO_CARD_SITU']\n",
      "\t\t\t\t0.0s = Fit runtime\n",
      "\t\t\t\t3 features in original data used to generate 3 features in processed data.\n",
      "\t\t\tTypes of features in original data (raw dtype, special dtypes):\n",
      "\t\t\t\t('object', []) : 3 | ['CUST_UID', 'WTHR_OPN_ONL_ICO', 'NB_CTC_HLD_IDV_AIO_CARD_SITU']\n",
      "\t\t\tTypes of features in processed data (raw dtype, special dtypes):\n",
      "\t\t\t\t('category', []) : 3 | ['CUST_UID', 'WTHR_OPN_ONL_ICO', 'NB_CTC_HLD_IDV_AIO_CARD_SITU']\n",
      "\t\t\t0.1s = Fit runtime\n",
      "\t\t\t3 features in original data used to generate 3 features in processed data.\n",
      "\t\tFitting DatetimeFeatureGenerator...\n",
      "\t\t\tTypes of features in original data (raw dtype, special dtypes):\n",
      "\t\t\t\t('object', ['datetime_as_object']) : 1 | ['LGP_HLD_CARD_LVL']\n",
      "\t\t\tTypes of features in processed data (raw dtype, special dtypes):\n",
      "\t\t\t\t('int', ['datetime_as_int']) : 5 | ['LGP_HLD_CARD_LVL', 'LGP_HLD_CARD_LVL.year', 'LGP_HLD_CARD_LVL.month', 'LGP_HLD_CARD_LVL.day', 'LGP_HLD_CARD_LVL.dayofweek']\n",
      "\t\t\t0.0s = Fit runtime\n",
      "\t\t\t1 features in original data used to generate 5 features in processed data.\n",
      "\t\tSkipping TextSpecialFeatureGenerator: No input feature with required dtypes.\n",
      "\t\tSkipping TextNgramFeatureGenerator: No input feature with required dtypes.\n",
      "\t\tSkipping IdentityFeatureGenerator: No input feature with required dtypes.\n",
      "\t\tSkipping IsNanFeatureGenerator: No input feature with required dtypes.\n",
      "\tStage 4 Generators:\n",
      "\t\tFitting DropUniqueFeatureGenerator...\n",
      "\t\t\tTypes of features in original data (raw dtype, special dtypes):\n",
      "\t\t\t\t('category', [])  :  2 | ['WTHR_OPN_ONL_ICO', 'NB_CTC_HLD_IDV_AIO_CARD_SITU']\n",
      "\t\t\t\t('float', [])     : 45 | ['AGN_CNT_RCT_12_MON', 'ICO_CUR_MON_ACM_TRX_TM', 'NB_RCT_3_MON_LGN_TMS_AGV', 'AGN_CUR_YEAR_AMT', 'AGN_CUR_YEAR_WAG_AMT', ...]\n",
      "\t\t\t\t('int', ['bool']) :  1 | ['MON_12_CUST_CNT_PTY_ID']\n",
      "\t\t\tTypes of features in processed data (raw dtype, special dtypes):\n",
      "\t\t\t\t('category', [])  :  2 | ['WTHR_OPN_ONL_ICO', 'NB_CTC_HLD_IDV_AIO_CARD_SITU']\n",
      "\t\t\t\t('float', [])     : 45 | ['AGN_CNT_RCT_12_MON', 'ICO_CUR_MON_ACM_TRX_TM', 'NB_RCT_3_MON_LGN_TMS_AGV', 'AGN_CUR_YEAR_AMT', 'AGN_CUR_YEAR_WAG_AMT', ...]\n",
      "\t\t\t\t('int', ['bool']) :  1 | ['MON_12_CUST_CNT_PTY_ID']\n",
      "\t\t\t0.1s = Fit runtime\n",
      "\t\t\t48 features in original data used to generate 48 features in processed data.\n",
      "\tUnused Original Features (Count: 2): ['CUST_UID', 'LGP_HLD_CARD_LVL']\n",
      "\t\tThese features were not used to generate any of the output features. Add a feature generator compatible with these features to utilize them.\n"
     ]
    },
    {
     "name": "stderr",
     "output_type": "stream",
     "text": [
      "\t\tFeatures can also be unused if they carry very little information, such as being categorical but having almost entirely unique values or being duplicates of other features.\n",
      "\t\tThese features do not need to be present at inference time.\n",
      "\t\t('object', [])                     : 1 | ['CUST_UID']\n",
      "\t\t('object', ['datetime_as_object']) : 1 | ['LGP_HLD_CARD_LVL']\n",
      "\tTypes of features in original data (exact raw dtype, raw dtype):\n",
      "\t\t('float64', 'float') : 45 | ['AGN_CNT_RCT_12_MON', 'ICO_CUR_MON_ACM_TRX_TM', 'NB_RCT_3_MON_LGN_TMS_AGV', 'AGN_CUR_YEAR_AMT', 'AGN_CUR_YEAR_WAG_AMT', ...]\n",
      "\t\t('object', 'object') :  3 | ['MON_12_CUST_CNT_PTY_ID', 'WTHR_OPN_ONL_ICO', 'NB_CTC_HLD_IDV_AIO_CARD_SITU']\n",
      "\tTypes of features in original data (raw dtype, special dtypes):\n",
      "\t\t('float', [])                      : 45 | ['AGN_CNT_RCT_12_MON', 'ICO_CUR_MON_ACM_TRX_TM', 'NB_RCT_3_MON_LGN_TMS_AGV', 'AGN_CUR_YEAR_AMT', 'AGN_CUR_YEAR_WAG_AMT', ...]\n",
      "\t\t('object', [])                     :  2 | ['WTHR_OPN_ONL_ICO', 'NB_CTC_HLD_IDV_AIO_CARD_SITU']\n",
      "\t\t('object', ['datetime_as_object']) :  1 | ['MON_12_CUST_CNT_PTY_ID']\n",
      "\tTypes of features in processed data (exact raw dtype, raw dtype):\n",
      "\t\t('category', 'category') :  2 | ['WTHR_OPN_ONL_ICO', 'NB_CTC_HLD_IDV_AIO_CARD_SITU']\n",
      "\t\t('float64', 'float')     : 45 | ['AGN_CNT_RCT_12_MON', 'ICO_CUR_MON_ACM_TRX_TM', 'NB_RCT_3_MON_LGN_TMS_AGV', 'AGN_CUR_YEAR_AMT', 'AGN_CUR_YEAR_WAG_AMT', ...]\n",
      "\t\t('int8', 'int')          :  1 | ['MON_12_CUST_CNT_PTY_ID']\n",
      "\tTypes of features in processed data (raw dtype, special dtypes):\n",
      "\t\t('category', [])  :  2 | ['WTHR_OPN_ONL_ICO', 'NB_CTC_HLD_IDV_AIO_CARD_SITU']\n",
      "\t\t('float', [])     : 45 | ['AGN_CNT_RCT_12_MON', 'ICO_CUR_MON_ACM_TRX_TM', 'NB_RCT_3_MON_LGN_TMS_AGV', 'AGN_CUR_YEAR_AMT', 'AGN_"
     ]
    },
    {
     "data": {
      "text/html": [
       "<b>limit_output extension: Maximum message size of 10000 exceeded with 10024 characters</b>"
      ]
     },
     "metadata": {},
     "output_type": "display_data"
    }
   ],
   "source": [
    "from autogluon.tabular import TabularDataset, TabularPredictor\n",
    "\n",
    "label = \"LABEL\"\n",
    "eval_metric = 'roc_auc'\n",
    "# predictor = TabularPredictor(label= label).fit(train_data=train_data,\n",
    "# #                                                num_bag_folds=5, num_bag_sets=1, num_stack_levels=2,\n",
    "#                                                ag_args_fit={'num_gpus': 0})\n",
    "\n",
    "predictor = TabularPredictor(label=label, eval_metric=eval_metric, verbosity=3)\\\n",
    "                            .fit(\n",
    "                                    new_train_data\n",
    "                                    ,ag_args_fit={'num_gpus': 1}\n",
    "#                                     ,hyperparameters = 'multimodal',num_stack_levels=1,num_bag_folds=5 \n",
    "                                )"
   ]
  },
  {
   "cell_type": "code",
   "execution_count": 174,
   "id": "a81c47a7",
   "metadata": {
    "ExecuteTime": {
     "end_time": "2022-05-05T02:26:00.418991Z",
     "start_time": "2022-05-05T02:25:58.687373Z"
    }
   },
   "outputs": [
    {
     "name": "stderr",
     "output_type": "stream",
     "text": [
      "Loading: AutogluonModels/ag-20220505_021827\\models\\KNeighborsUnif\\model.pkl\n",
      "Loading: AutogluonModels/ag-20220505_021827\\models\\KNeighborsDist\\model.pkl\n",
      "Loading: AutogluonModels/ag-20220505_021827\\models\\LightGBMXT\\model.pkl\n",
      "Loading: AutogluonModels/ag-20220505_021827\\models\\LightGBM\\model.pkl\n",
      "Loading: AutogluonModels/ag-20220505_021827\\models\\RandomForestGini\\model.pkl\n",
      "Loading: AutogluonModels/ag-20220505_021827\\models\\RandomForestEntr\\model.pkl\n",
      "Loading: AutogluonModels/ag-20220505_021827\\models\\CatBoost\\model.pkl\n",
      "Loading: AutogluonModels/ag-20220505_021827\\models\\ExtraTreesGini\\model.pkl\n",
      "Loading: AutogluonModels/ag-20220505_021827\\models\\ExtraTreesEntr\\model.pkl\n",
      "Loading: AutogluonModels/ag-20220505_021827\\models\\NeuralNetFastAI\\model.pkl\n",
      "Loading: AutogluonModels/ag-20220505_021827\\models\\NeuralNetFastAI\\model-internals.pkl\n",
      "Loading: AutogluonModels/ag-20220505_021827\\models\\XGBoost\\model.pkl\n",
      "Loading: AutogluonModels/ag-20220505_021827\\models\\NeuralNetTorch\\model.pkl\n",
      "Loading: AutogluonModels/ag-20220505_021827\\models\\LightGBMLarge\\model.pkl\n",
      "Loading: AutogluonModels/ag-20220505_021827\\models\\WeightedEnsemble_L2\\model.pkl\n"
     ]
    },
    {
     "name": "stdout",
     "output_type": "stream",
     "text": [
      "*** Summary of fit() ***\n",
      "Estimated performance of each model:\n",
      "                  model     score_val  pred_time_val        fit_time  pred_time_val_marginal  fit_time_marginal  stack_level  can_infer  fit_order\n",
      "0   WeightedEnsemble_L2  0.9526310400   0.3292894363  214.1313459873            0.0039889812       3.0558264256            2       True         14\n",
      "1               XGBoost  0.9516309333   0.1487734318    8.5378367901            0.1487734318       8.5378367901            1       True         11\n",
      "2              LightGBM  0.9511044267   0.0249333382    5.7974925041            0.0249333382       5.7974925041            1       True          4\n",
      "3              CatBoost  0.9489344000   0.0179486275   64.8005261421            0.0179486275      64.8005261421            1       True          7\n",
      "4         LightGBMLarge  0.9488209067   0.0219414234   16.1737334728            0.0219414234      16.1737334728            1       True         13\n",
      "5            LightGBMXT  0.9482056533   0.0478715897   17.5197596550            0.0478715897      17.5197596550            1       True          3\n",
      "6        NeuralNetTorch  0.9439159467   0.1515936852  196.7401902676            0.1515936852     196.7401902676            1       True         12\n",
      "7       NeuralNetFastAI  0.9424968533   0.3650236130  102.3550500870            0.3650236130     102.3550500870            1       True         10\n",
      "8      RandomForestEntr  0.9420125867   0.1277797222    6.2522804737            0.1277797222       6.2522804737            1       True          6\n",
      "9      RandomForestGini  0.9414745600   0.1126978397    5.2469639778            0.1126978397       5.2469639778            1       True          5\n",
      "10       ExtraTreesEntr  0.9288797867   0.1277432442    2.5481832027            0.1277432442       2.5481832027            1       True          9\n",
      "11       ExtraTreesGini  0.9247253333   0.1266822815    2.5552473068            0.1266822815       2.5552473068            1       True          8\n",
      "12       KNeighborsDist  0.7588206933   2.7725834846    0.1117014885            2.7725834846       0.1117014885            1       True          2\n",
      "13       KNeighborsUnif  0.7533576533   2.7316930294    0.0777919292            2.7316930294       0.0777919292            1       True          1\n",
      "Number of models trained: 14\n",
      "Types of models trained:\n",
      "{'TabularNeuralNetTorchModel', 'KNNModel', 'XGBoostModel', 'RFModel', 'NNFastAiTabularModel', 'WeightedEnsembleModel', 'CatBoostModel', 'XTModel', 'LGBModel'}\n",
      "Bagging used: False \n",
      "Multi-layer stack-ensembling used: False \n",
      "Feature Metadata (Processed):\n",
      "(raw dtype, special dtypes):\n",
      "('category', [])  :  2 | ['WTHR_OPN_ONL_ICO', 'NB_CTC_HLD_IDV_AIO_CARD_SITU']\n",
      "('float', [])     : 45 | ['AGN_CNT_RCT_12_MON', 'ICO_CUR_MON_ACM_TRX_TM', 'NB_RCT_3_MON_LGN_TMS_AGV', 'AGN_CUR_YEAR_AMT', 'AGN_CUR_YEAR_WAG_AMT', ...]\n",
      "('int', ['bool']) :  1 | ['MON_12_CUST_CNT_PTY_ID']\n",
      "*** End of fit() summary ***\n"
     ]
    }
   ],
   "source": [
    "results = predictor.fit_summary(show_plot=True)"
   ]
  },
  {
   "cell_type": "markdown",
   "id": "ba9b5253",
   "metadata": {},
   "source": [
    "### 选择性填充与删除"
   ]
  },
  {
   "cell_type": "markdown",
   "id": "2cf7d90d",
   "metadata": {},
   "source": [
    "# 模型集成"
   ]
  },
  {
   "cell_type": "markdown",
   "id": "f4f97b83",
   "metadata": {},
   "source": [
    "## best_quality"
   ]
  },
  {
   "cell_type": "code",
   "execution_count": 16,
   "id": "23e7791c",
   "metadata": {
    "ExecuteTime": {
     "end_time": "2022-05-07T06:12:04.525491Z",
     "start_time": "2022-05-07T06:12:03.684918Z"
    }
   },
   "outputs": [],
   "source": [
    "# 训练数据缺失值处理\n",
    "new_train_data = train_data.replace('?',np.nan)#用np.nan替换？\n",
    "new_train_data.dropna(how=\"all\",inplace=True)\n",
    "new_train_data = new_train_data.fillna(0)\n",
    "new_train_data = data_log(num_type_fea,new_train_data,num=1)"
   ]
  },
  {
   "cell_type": "code",
   "execution_count": 17,
   "id": "b65d928a",
   "metadata": {
    "ExecuteTime": {
     "end_time": "2022-05-07T06:12:04.997895Z",
     "start_time": "2022-05-07T06:12:04.605978Z"
    }
   },
   "outputs": [],
   "source": [
    "# 测试数据缺失值处理\n",
    "test_data.isnull().mean()[test_data.isnull().mean()>0]\n",
    "test_data = test_data.fillna(1)\n",
    "\n",
    "new_test_data = test_data.replace('?',np.nan)#用np.nan替换？\n",
    "new_test_data = new_test_data.fillna(0)\n",
    "new_test_data = data_log(num_type_fea,new_test_data,num=1)"
   ]
  },
  {
   "cell_type": "code",
   "execution_count": 18,
   "id": "e93679d2",
   "metadata": {
    "ExecuteTime": {
     "end_time": "2022-05-07T06:12:05.109183Z",
     "start_time": "2022-05-07T06:12:05.094152Z"
    }
   },
   "outputs": [],
   "source": [
    "# # 特征构造\n",
    "# for col in char_type_fea:\n",
    "#     new_col = col+'_ratio'\n",
    "#     new_train_data,new_test_data = GroupbyFeature(col,new_train_data,new_test_data,new_col) "
   ]
  },
  {
   "cell_type": "code",
   "execution_count": 20,
   "id": "aa1e6e34",
   "metadata": {
    "ExecuteTime": {
     "end_time": "2022-05-07T10:34:07.534131Z",
     "start_time": "2022-05-07T06:12:39.937400Z"
    },
    "jupyter": {
     "outputs_hidden": true
    },
    "scrolled": true,
    "tags": []
   },
   "outputs": [
    {
     "name": "stderr",
     "output_type": "stream",
     "text": [
      "auto_weight currently does not use any sample weights.\n",
      "No path specified. Models will be saved in: \"AutogluonModels/ag-20220507_061239\\\"\n",
      "Presets specified: ['best_quality']\n",
      "============ fit kwarg info ============\n",
      "User Specified kwargs:\n",
      "{'ag_args_fit': {'num_gpus': 1}, 'auto_stack': True}\n",
      "Full kwargs:\n",
      "{'_feature_generator_kwargs': None,\n",
      " '_save_bag_folds': None,\n",
      " 'ag_args': None,\n",
      " 'ag_args_ensemble': None,\n",
      " 'ag_args_fit': {'num_gpus': 1},\n",
      " 'auto_stack': True,\n",
      " 'calibrate': 'auto',\n",
      " 'excluded_model_types': None,\n",
      " 'feature_generator': 'auto',\n",
      " 'feature_prune_kwargs': None,\n",
      " 'holdout_frac': None,\n",
      " 'hyperparameter_tune_kwargs': None,\n",
      " 'keep_only_best': False,\n",
      " 'name_suffix': None,\n",
      " 'num_bag_folds': None,\n",
      " 'num_bag_sets': None,\n",
      " 'num_stack_levels': None,\n",
      " 'pseudo_data': None,\n",
      " 'quantile_levels': None,\n",
      " 'refit_full': False,\n",
      " 'save_space': False,\n",
      " 'set_best_to_refit_full': False,\n",
      " 'unlabeled_data': None,\n",
      " 'use_bag_holdout': False,\n",
      " 'verbosity': 3}\n",
      "========================================\n",
      "Saving AutogluonModels/ag-20220507_061239\\learner.pkl\n",
      "Saving AutogluonModels/ag-20220507_061239\\predictor.pkl\n",
      "Beginning AutoGluon training ... Time limit = 18000s\n",
      "AutoGluon will save models to \"AutogluonModels/ag-20220507_061239\\\"\n",
      "AutoGluon Version:  0.4.1b20220319\n",
      "Python Version:     3.7.12\n",
      "Operating System:   Windows\n",
      "Train Data Rows:    40000\n",
      "Train Data Columns: 50\n",
      "Label Column: LABEL\n",
      "Preprocessing data ...\n",
      "AutoGluon infers your prediction problem is: 'binary' (because only two unique label-values observed).\n",
      "\t2 unique label values:  [0, 1]\n",
      "\tIf 'binary' is not the correct problem_type, please manually specify the problem_type parameter during predictor init (You may specify problem_type as one of: ['binary', 'multiclass', 'regression'])\n",
      "Selected class <--> label mapping:  class 1 = 1, class 0 = 0\n",
      "Using Feature Generators to preprocess the data ...\n",
      "Fitting AutoMLPipelineFeatureGenerator...\n",
      "\tAvailable Memory:                    12034.0 MB\n",
      "\tTrain Data (Original)  Memory Usage: 26.13 MB (0.2% of available memory)\n",
      "\tInferring data type of each feature based on column values. Set feature_metadata_in to manually specify special dtypes of the features.\n",
      "\tStage 1 Generators:\n",
      "\t\tFitting AsTypeFeatureGenerator...\n",
      "\t\t\tOriginal Features (exact raw dtype, raw dtype):\n",
      "\t\t\t\t('float64', 'float') : 45 | ['AGN_CNT_RCT_12_MON', 'ICO_CUR_MON_ACM_TRX_TM', 'NB_RCT_3_MON_LGN_TMS_AGV', 'AGN_CUR_YEAR_AMT', 'AGN_CUR_YEAR_WAG_AMT', ...]\n",
      "\t\t\t\t('object', 'object') :  5 | ['CUST_UID', 'MON_12_CUST_CNT_PTY_ID', 'WTHR_OPN_ONL_ICO', 'LGP_HLD_CARD_LVL', 'NB_CTC_HLD_IDV_AIO_CARD_SITU']\n",
      "\t\t\tTypes of features in original data (raw dtype, special dtypes):\n",
      "\t\t\t\t('float', [])                      : 45 | ['AGN_CNT_RCT_12_MON', 'ICO_CUR_MON_ACM_TRX_TM', 'NB_RCT_3_MON_LGN_TMS_AGV', 'AGN_CUR_YEAR_AMT', 'AGN_CUR_YEAR_WAG_AMT', ...]\n",
      "\t\t\t\t('object', [])                     :  3 | ['CUST_UID', 'WTHR_OPN_ONL_ICO', 'NB_CTC_HLD_IDV_AIO_CARD_SITU']\n",
      "\t\t\t\t('object', ['datetime_as_object']) :  2 | ['MON_12_CUST_CNT_PTY_ID', 'LGP_HLD_CARD_LVL']\n",
      "\t\t\tTypes of features in processed data (raw dtype, special dtypes):\n",
      "\t\t\t\t('float', [])                      : 45 | ['AGN_CNT_RCT_12_MON', 'ICO_CUR_MON_ACM_TRX_TM', 'NB_RCT_3_MON_LGN_TMS_AGV', 'AGN_CUR_YEAR_AMT', 'AGN_CUR_YEAR_WAG_AMT', ...]\n",
      "\t\t\t\t('object', [])                     :  3 | ['CUST_UID', 'WTHR_OPN_ONL_ICO', 'NB_CTC_HLD_IDV_AIO_CARD_SITU']\n",
      "\t\t\t\t('object', ['datetime_as_object']) :  2 | ['MON_12_CUST_CNT_PTY_ID', 'LGP_HLD_CARD_LVL']\n",
      "\t\t\t0.1s = Fit runtime\n",
      "\t\t\t50 features in original data used to generate 50 features in processed data.\n",
      "\tStage 2 Generators:\n",
      "\t\tFitting FillNaFeatureGenerator...\n",
      "\t\t\tTypes of features in original data (raw dtype, special dtypes):\n",
      "\t\t\t\t('float', [])                      : 45 | ['AGN_CNT_RCT_12_MON', 'ICO_CUR_MON_ACM_TRX_TM', 'NB_RCT_3_MON_LGN_TMS_AGV', 'AGN_CUR_YEAR_AMT', 'AGN_CUR_YEAR_WAG_AMT', ...]\n",
      "\t\t\t\t('object', [])                     :  3 | ['CUST_UID', 'WTHR_OPN_ONL_ICO', 'NB_CTC_HLD_IDV_AIO_CARD_SITU']\n",
      "\t\t\t\t('object', ['datetime_as_object']) :  2 | ['MON_12_CUST_CNT_PTY_ID', 'LGP_HLD_CARD_LVL']\n",
      "\t\t\tTypes of features in processed data (raw dtype, special dtypes):\n",
      "\t\t\t\t('float', [])                      : 45 | ['AGN_CNT_RCT_12_MON', 'ICO_CUR_MON_ACM_TRX_TM', 'NB_RCT_3_MON_LGN_TMS_AGV', 'AGN_CUR_YEAR_AMT', 'AGN_CUR_YEAR_WAG_AMT', ...]\n",
      "\t\t\t\t('object', [])                     :  3 | ['CUST_UID', 'WTHR_OPN_ONL_ICO', 'NB_CTC_HLD_IDV_AIO_CARD_SITU']\n",
      "\t\t\t\t('object', ['datetime_as_object']) :  2 | ['MON_12_CUST_CNT_PTY_ID', 'LGP_HLD_CARD_LVL']\n",
      "\t\t\t0.0s = Fit runtime\n",
      "\t\t\t50 features in original data used to generate 50 features in processed data.\n",
      "\tStage 3 Generators:\n",
      "\t\tFitting IdentityFeatureGenerator...\n",
      "\t\t\tTypes of features in original data (raw dtype, special dtypes):\n",
      "\t\t\t\t('float', []) : 45 | ['AGN_CNT_RCT_12_MON', 'ICO_CUR_MON_ACM_TRX_TM', 'NB_RCT_3_MON_LGN_TMS_AGV', 'AGN_CUR_YEAR_AMT', 'AGN_CUR_YEAR_WAG_AMT', ...]\n",
      "\t\t\tTypes of features in processed data (raw dtype, special dtypes):\n",
      "\t\t\t\t('float', []) : 45 | ['AGN_CNT_RCT_12_MON', 'ICO_CUR_MON_ACM_TRX_TM', 'NB_RCT_3_MON_LGN_TMS_AGV', 'AGN_CUR_YEAR_AMT', 'AGN_CUR_YEAR_WAG_AMT', ...]\n",
      "\t\t\t0.0s = Fit runtime\n",
      "\t\t\t45 features in original data used to generate 45 features in processed data.\n",
      "\t\tFitting CategoryFeatureGenerator...\n",
      "\t\t\tFitting CategoryMemoryMinimizeFeatureGenerator...\n",
      "\t\t\t\tTypes of features in original data (raw dtype, special dtypes):\n",
      "\t\t\t\t\t('category', []) : 3 | ['CUST_UID', 'WTHR_OPN_ONL_ICO', 'NB_CTC_HLD_IDV_AIO_CARD_SITU']\n",
      "\t\t\t\tTypes of features in processed data (raw dtype, special dtypes):\n",
      "\t\t\t\t\t('category', []) : 3 | ['CUST_UID', 'WTHR_OPN_ONL_ICO', 'NB_CTC_HLD_IDV_AIO_CARD_SITU']\n",
      "\t\t\t\t0.0s = Fit runtime\n",
      "\t\t\t\t3 features in original data used to generate 3 features in processed data.\n",
      "\t\t\tTypes of features in original data (raw dtype, special dtypes):\n",
      "\t\t\t\t('object', []) : 3 | ['CUST_UID', 'WTHR_OPN_ONL_ICO', 'NB_CTC_HLD_IDV_AIO_CARD_SITU']\n",
      "\t\t\tTypes of features in processed data (raw dtype, special dtypes):\n",
      "\t\t\t\t('category', []) : 3 | ['CUST_UID', 'WTHR_OPN_ONL_ICO', 'NB_CTC_HLD_IDV_AIO_CARD_SITU']\n",
      "\t\t\t0.1s = Fit runtime\n",
      "\t\t\t3 features in original data used to generate 3 features in processed data.\n",
      "\t\tFitting DatetimeFeatureGenerator...\n",
      "\t\t\tTypes of features in original data (raw dtype, special dtypes):\n",
      "\t\t\t\t('object', ['datetime_as_object']) : 2 | ['MON_12_CUST_CNT_PTY_ID', 'LGP_HLD_CARD_LVL']\n",
      "\t\t\tTypes of features in processed data (raw dtype, special dtypes):\n",
      "\t\t\t\t('int', ['datetime_as_int']) : 10 | ['MON_12_CUST_CNT_PTY_ID', 'MON_12_CUST_CNT_PTY_ID.year', 'MON_12_CUST_CNT_PTY_ID.month', 'MON_12_CUST_CNT_PTY_ID.day', 'MON_12_CUST_CNT_PTY_ID.dayofweek', ...]\n",
      "\t\t\t0.1s = Fit runtime\n",
      "\t\t\t2 features in original data used to generate 10 features in processed data.\n",
      "\t\tSkipping TextSpecialFeatureGenerator: No input feature with required dtypes.\n",
      "\t\tSkipping TextNgramFeatureGenerator: No input feature with required dtypes.\n",
      "\t\tSkipping IdentityFeatureGenerator: No input feature with required dtypes.\n",
      "\t\tSkipping IsNanFeatureGenerator: No input feature with required dtypes.\n",
      "\tStage 4 Generators:\n",
      "\t\tFitting DropUniqueFeatureGenerator...\n",
      "\t\t\tTypes of features in original data (raw dtype, special dtypes):\n",
      "\t\t\t\t('category', [])             :  2 | ['WTHR_OPN_ONL_ICO', 'NB_CTC_HLD_IDV_AIO_CARD_SITU']\n",
      "\t\t\t\t('float', [])                : 45 | ['AGN_CNT_RCT_12_MON', 'ICO_CUR_MON_ACM_TRX_TM', 'NB_RCT_3_MON_LGN_TMS_AGV', 'AGN_CUR_YEAR_AMT', 'AGN_CUR_YEAR_WAG_AMT', ...]\n",
      "\t\t\t\t('int', ['datetime_as_int']) :  2 | ['MON_12_CUST_CNT_PTY_ID', 'LGP_HLD_CARD_LVL']\n",
      "\t\t\tTypes of features in processed data (raw dtype, special dtypes):\n",
      "\t\t\t\t('category', [])             :  2 | ['WTHR_OPN_ONL_ICO', 'NB_CTC_HLD_IDV_AIO_CARD_SITU']\n",
      "\t\t\t\t('float', [])                : 45 | ['AGN_CNT_RCT_12_MON', 'ICO_CUR_MON_ACM_TRX_TM', 'NB_RCT_3_MON_LGN_TMS_AGV', 'AGN_CUR_YEAR_AMT', 'AGN_CUR_YEAR_WAG_AMT', ...]\n",
      "\t\t\t\t('int', ['datetime_as_int']) :  2 | ['MON_12_CUST_CNT_PTY_ID', 'LGP_HLD_CARD_LVL']\n",
      "\t\t\t0.1s = Fit runtime\n",
      "\t\t\t49 features in original data used to generate 49 features in processed data.\n",
      "\tUnused Original Features (Count: 1): ['CUST_UID']\n",
      "\t\tThese features were not used to generate any of the output features. Add a feature generator compatible with these features to utilize them.\n",
      "\t\tFeatures can also be unused if they carry very little information, such as being categorical but having almost entirely unique values or being duplicates of other features.\n"
     ]
    },
    {
     "name": "stderr",
     "output_type": "stream",
     "text": [
      "\t\tThese features do not need to be present at inference time.\n",
      "\t\t('object', []) : 1 | ['CUST_UID']\n",
      "\tTypes of features in original data (exact raw dtype, raw dtype):\n",
      "\t\t('float64', 'float') : 45 | ['AGN_CNT_RCT_12_MON', 'ICO_CUR_MON_ACM_TRX_TM', 'NB_RCT_3_MON_LGN_TMS_AGV', 'AGN_CUR_YEAR_AMT', 'AGN_CUR_YEAR_WAG_AMT', ...]\n",
      "\t\t('object', 'object') :  4 | ['MON_12_CUST_CNT_PTY_ID', 'WTHR_OPN_ONL_ICO', 'LGP_HLD_CARD_LVL', 'NB_CTC_HLD_IDV_AIO_CARD_SITU']\n",
      "\tTypes of features in original data (raw dtype, special dtypes):\n",
      "\t\t('float', [])                      : 45 | ['AGN_CNT_RCT_12_MON', 'ICO_CUR_MON_ACM_TRX_TM', 'NB_RCT_3_MON_LGN_TMS_AGV', 'AGN_CUR_YEAR_AMT', 'AGN_CUR_YEAR_WAG_AMT', ...]\n",
      "\t\t('object', [])                     :  2 | ['WTHR_OPN_ONL_ICO', 'NB_CTC_HLD_IDV_AIO_CARD_SITU']\n",
      "\t\t('object', ['datetime_as_object']) :  2 | ['MON_12_CUST_CNT_PTY_ID', 'LGP_HLD_CARD_LVL']\n",
      "\tTypes of features in processed data (exact raw dtype, raw dtype):\n",
      "\t\t('category', 'category') :  2 | ['WTHR_OPN_ONL_ICO', 'NB_CTC_HLD_IDV_AIO_CARD_SITU']\n",
      "\t\t('float64', 'float')     : 45 | ['AGN_CNT_RCT_12_MON', 'ICO_CUR_MON_ACM_TRX_TM', 'NB_RCT_3_MON_LGN_TMS_AGV', 'AGN_CUR_YEAR_AMT', 'AGN_CUR_YEAR_WAG_AMT', ...]\n",
      "\t\t('int64', 'int')         :  2 | ['MON_12_CUST_CNT_PTY_ID', 'LGP_HLD_CARD_LVL']\n",
      "\tTypes of features in processed data (raw dtype, special dtypes):\n",
      "\t\t('category', [])             :  2 | ['WTHR_OPN_ONL_ICO', 'NB_CTC_HLD_IDV_AIO_CARD_SITU']\n",
      "\t\t('float', [])                : 45 | ['AGN_CNT_RCT_12_MON', 'ICO_CUR_MON_ACM_TRX_TM', 'NB_RCT_3_MON_LGN_TMS_AGV', 'AGN_CUR_YEAR_AMT', 'AGN_CUR_YEAR_WAG_AMT', ...]\n",
      "\t\t('int', ['datetime_as_int']) :  2 | ['MON_12_"
     ]
    },
    {
     "data": {
      "text/html": [
       "<b>limit_output extension: Maximum message size of 10000 exceeded with 10038 characters</b>"
      ]
     },
     "metadata": {},
     "output_type": "display_data"
    }
   ],
   "source": [
    "from autogluon.tabular import TabularDataset, TabularPredictor\n",
    "\n",
    "label = \"LABEL\"\n",
    "eval_metric = 'roc_auc'\n",
    "# predictor = TabularPredictor(label= label).fit(train_data=train_data,\n",
    "#                                                num_bag_folds=5, num_bag_sets=1, num_stack_levels=2,\n",
    "#                                                ag_args_fit={'num_gpus': 0})\n",
    "\n",
    "predictor = TabularPredictor(label=label, eval_metric=eval_metric, verbosity=3\n",
    "#                              ,sample_weight = \"balance_weight\"\n",
    "                             ,sample_weight = \"auto_weight\"   \n",
    "                            )\\\n",
    "                            .fit(\n",
    "                                    new_train_data\n",
    "                                    ,ag_args_fit={'num_gpus': 1}\n",
    "#                                     ,hyperparameters = 'multimodal'                                  \n",
    "                                    , presets='best_quality'\n",
    "                                    , time_limit=3600*5\n",
    "                                )"
   ]
  },
  {
   "cell_type": "code",
   "execution_count": 21,
   "id": "d073ea25",
   "metadata": {
    "ExecuteTime": {
     "end_time": "2022-05-07T10:34:07.740712Z",
     "start_time": "2022-05-07T10:34:07.647960Z"
    },
    "scrolled": false
   },
   "outputs": [
    {
     "name": "stderr",
     "output_type": "stream",
     "text": [
      "Loading: AutogluonModels/ag-20220507_061239\\models\\KNeighborsUnif_BAG_L1\\model.pkl\n",
      "Loading: AutogluonModels/ag-20220507_061239\\models\\KNeighborsDist_BAG_L1\\model.pkl\n",
      "Loading: AutogluonModels/ag-20220507_061239\\models\\LightGBMXT_BAG_L1\\model.pkl\n",
      "Loading: AutogluonModels/ag-20220507_061239\\models\\LightGBM_BAG_L1\\model.pkl\n",
      "Loading: AutogluonModels/ag-20220507_061239\\models\\RandomForestGini_BAG_L1\\model.pkl\n",
      "Loading: AutogluonModels/ag-20220507_061239\\models\\RandomForestEntr_BAG_L1\\model.pkl\n",
      "Loading: AutogluonModels/ag-20220507_061239\\models\\CatBoost_BAG_L1\\model.pkl\n",
      "Loading: AutogluonModels/ag-20220507_061239\\models\\ExtraTreesGini_BAG_L1\\model.pkl\n",
      "Loading: AutogluonModels/ag-20220507_061239\\models\\ExtraTreesEntr_BAG_L1\\model.pkl\n",
      "Loading: AutogluonModels/ag-20220507_061239\\models\\NeuralNetFastAI_BAG_L1\\model.pkl\n",
      "Loading: AutogluonModels/ag-20220507_061239\\models\\XGBoost_BAG_L1\\model.pkl\n",
      "Loading: AutogluonModels/ag-20220507_061239\\models\\NeuralNetTorch_BAG_L1\\model.pkl\n",
      "Loading: AutogluonModels/ag-20220507_061239\\models\\LightGBMLarge_BAG_L1\\model.pkl\n",
      "Loading: AutogluonModels/ag-20220507_061239\\models\\WeightedEnsemble_L2\\model.pkl\n",
      "Loading: AutogluonModels/ag-20220507_061239\\models\\LightGBMXT_BAG_L2\\model.pkl\n",
      "Loading: AutogluonModels/ag-20220507_061239\\models\\LightGBM_BAG_L2\\model.pkl\n",
      "Loading: AutogluonModels/ag-20220507_061239\\models\\RandomForestGini_BAG_L2\\model.pkl\n",
      "Loading: AutogluonModels/ag-20220507_061239\\models\\RandomForestEntr_BAG_L2\\model.pkl\n",
      "Loading: AutogluonModels/ag-20220507_061239\\models\\CatBoost_BAG_L2\\model.pkl\n",
      "Loading: AutogluonModels/ag-20220507_061239\\models\\ExtraTreesGini_BAG_L2\\model.pkl\n",
      "Loading: AutogluonModels/ag-20220507_061239\\models\\ExtraTreesEntr_BAG_L2\\model.pkl\n",
      "Loading: AutogluonModels/ag-20220507_061239\\models\\NeuralNetFastAI_BAG_L2\\model.pkl\n",
      "Loading: AutogluonModels/ag-20220507_061239\\models\\XGBoost_BAG_L2\\model.pkl\n",
      "Loading: AutogluonModels/ag-20220507_061239\\models\\NeuralNetTorch_BAG_L2\\model.pkl\n",
      "Loading: AutogluonModels/ag-20220507_061239\\models\\LightGBMLarge_BAG_L2\\model.pkl\n",
      "Loading: AutogluonModels/ag-20220507_061239\\models\\WeightedEnsemble_L3\\model.pkl\n"
     ]
    },
    {
     "name": "stdout",
     "output_type": "stream",
     "text": [
      "*** Summary of fit() ***\n",
      "Estimated performance of each model:\n",
      "                      model  score_val  pred_time_val      fit_time  pred_time_val_marginal  fit_time_marginal  stack_level  can_infer  fit_order\n",
      "0       WeightedEnsemble_L3   0.952544     130.472257  12718.894662                0.009973           9.667130            3       True         26\n",
      "1       WeightedEnsemble_L2   0.952102      14.676834   5884.731272                0.008978          11.517459            2       True         14\n",
      "2         LightGBMXT_BAG_L2   0.951957     120.278841  10262.750093                0.661164          89.414819            2       True         15\n",
      "3      LightGBMLarge_BAG_L2   0.951891     120.292821  10523.148702                0.675144         349.813427            2       True         25\n",
      "4           LightGBM_BAG_L2   0.951879     120.238951  10258.348760                0.621274          85.013486            2       True         16\n",
      "5           CatBoost_BAG_L2   0.951816     120.160300  10632.387432                0.542623         459.052157            2       True         19\n",
      "6            XGBoost_BAG_L2   0.951715     120.971774  10233.961816                1.354096          60.626541            2       True         23\n",
      "7    NeuralNetFastAI_BAG_L2   0.951682     122.562540  11713.275330                2.944863        1539.940055            2       True         22\n",
      "8            XGBoost_BAG_L1   0.951521       1.500828    104.331546                1.500828         104.331546            1       True         11\n",
      "9      LightGBMLarge_BAG_L1   0.951463       0.965314    555.737224                0.965314         555.737224            1       True         13\n",
      "10          LightGBM_BAG_L1   0.951060       0.937425    167.834176                0.937425         167.834176            1       True          4\n",
      "11    NeuralNetTorch_BAG_L2   0.950741     126.869159  12890.389330                7.251481        2717.054055            2       True         24\n",
      "12        LightGBMXT_BAG_L1   0.950314       1.331333    328.983775                1.331333         328.983775            1       True          3\n",
      "13    ExtraTreesEntr_BAG_L2   0.950302     121.439829  10176.458359                1.822151           3.123084            2       True         21\n",
      "14    ExtraTreesGini_BAG_L2   0.950110     121.439801  10176.347198                1.822124           3.011923            2       True         20\n",
      "15          CatBoost_BAG_L1   0.949955       0.666223   1937.856344                0.666223        1937.856344            1       True          7\n",
      "16  RandomForestEntr_BAG_L2   0.949831     121.326128  10180.650044                1.708450           7.314769            2       True         18\n",
      "17  RandomForestGini_BAG_L2   0.949050     121.372942  10179.858580                1.755265           6.523305            2       True         17\n",
      "18  RandomForestEntr_BAG_L1   0.945990       1.748348      6.894521                1.748348           6.894521            1       True          6\n",
      "19   NeuralNetFastAI_BAG_L1   0.945304       3.808701   2182.017053                3.808701        2182.017053            1       True         10\n",
      "20  RandomForestGini_BAG_L1   0.945284       1.760289      6.413900                1.760289           6.413900            1       True          5\n",
      "21    NeuralNetTorch_BAG_L1   0.945250       9.122033   4877.266746                9.122033        4877.266746            1       True         12\n",
      "22    ExtraTreesEntr_BAG_L1   0.925856       1.922873      2.879209                1.922873           2.879209            1       True          9\n",
      "23    ExtraTreesGini_BAG_L1   0.925162       1.929810      2.893230                1.929810           2.893230            1       True          8\n",
      "24    KNeighborsDist_BAG_L1   0.742644      46.613554      0.092754               46.613554           0.092754            1       True          2\n",
      "25    KNeighborsUnif_BAG_L1   0.737232      47.310947      0.134795               47.310947           0.134795            1       True          1\n",
      "Number of models trained: 26\n",
      "Types of models trained:\n",
      "{'StackerEnsembleModel_XT', 'StackerEnsembleModel_NNFastAiTabular', 'StackerEnsembleModel_LGB', 'StackerEnsembleModel_KNN', 'StackerEnsembleModel_XGBoost', 'StackerEnsembleModel_RF', 'WeightedEnsembleModel', 'StackerEnsembleModel_TabularNeuralNetTorch', 'StackerEnsembleModel_CatBoost'}\n",
      "Bagging used: True  (with 8 folds)\n",
      "Multi-layer stack-ensembling used: True  (with 3 levels)\n",
      "Feature Metadata (Processed):\n",
      "(raw dtype, special dtypes):\n",
      "('category', [])             :  2 | ['WTHR_OPN_ONL_ICO', 'NB_CTC_HLD_IDV_AIO_CARD_SITU']\n",
      "('float', [])                : 45 | ['AGN_CNT_RCT_12_MON', 'ICO_CUR_MON_ACM_TRX_TM', 'NB_RCT_3_MON_LGN_TMS_AGV', 'AGN_CUR_YEAR_AMT', 'AGN_CUR_YEAR_WAG_AMT', ...]\n",
      "('int', ['datetime_as_int']) :  2 | ['MON_12_CUST_CNT_PTY_ID', 'LGP_HLD_CARD_LVL']\n",
      "*** End of fit() summary ***\n"
     ]
    }
   ],
   "source": [
    "results = predictor.fit_summary(show_plot=True)"
   ]
  },
  {
   "cell_type": "code",
   "execution_count": 22,
   "id": "ec6f54e9",
   "metadata": {
    "ExecuteTime": {
     "end_time": "2022-05-07T10:34:07.867052Z",
     "start_time": "2022-05-07T10:34:07.852089Z"
    }
   },
   "outputs": [],
   "source": [
    "# save_path = r\"F:\\Anaconda\\Kaggle\\招商银行\\AutogluonModels\\ag-20220506_032511\"\n",
    "# predictor = TabularPredictor.load(save_path) "
   ]
  },
  {
   "cell_type": "code",
   "execution_count": 23,
   "id": "f3bbddfd-6643-48e9-978d-999aff600fdc",
   "metadata": {
    "ExecuteTime": {
     "end_time": "2022-05-07T10:35:40.846100Z",
     "start_time": "2022-05-07T10:34:07.868831Z"
    }
   },
   "outputs": [
    {
     "name": "stderr",
     "output_type": "stream",
     "text": [
      "Loading: AutogluonModels/ag-20220507_061239\\models\\WeightedEnsemble_L3\\model.pkl\n",
      "Loading: AutogluonModels/ag-20220507_061239\\models\\CatBoost_BAG_L1\\model.pkl\n",
      "Loading: AutogluonModels/ag-20220507_061239\\models\\ExtraTreesEntr_BAG_L1\\model.pkl\n",
      "Loading: AutogluonModels/ag-20220507_061239\\models\\ExtraTreesGini_BAG_L1\\model.pkl\n",
      "Loading: AutogluonModels/ag-20220507_061239\\models\\KNeighborsDist_BAG_L1\\model.pkl\n",
      "Loading: AutogluonModels/ag-20220507_061239\\models\\KNeighborsUnif_BAG_L1\\model.pkl\n",
      "Loading: AutogluonModels/ag-20220507_061239\\models\\LightGBMLarge_BAG_L1\\model.pkl\n",
      "Loading: AutogluonModels/ag-20220507_061239\\models\\LightGBMXT_BAG_L1\\model.pkl\n",
      "Loading: AutogluonModels/ag-20220507_061239\\models\\LightGBM_BAG_L1\\model.pkl\n",
      "Loading: AutogluonModels/ag-20220507_061239\\models\\NeuralNetFastAI_BAG_L1\\model.pkl\n",
      "Loading: AutogluonModels/ag-20220507_061239\\models\\NeuralNetTorch_BAG_L1\\model.pkl\n",
      "Loading: AutogluonModels/ag-20220507_061239\\models\\RandomForestEntr_BAG_L1\\model.pkl\n",
      "Loading: AutogluonModels/ag-20220507_061239\\models\\RandomForestGini_BAG_L1\\model.pkl\n",
      "Loading: AutogluonModels/ag-20220507_061239\\models\\XGBoost_BAG_L1\\model.pkl\n",
      "Loading: AutogluonModels/ag-20220507_061239\\models\\CatBoost_BAG_L2\\model.pkl\n",
      "Loading: AutogluonModels/ag-20220507_061239\\models\\ExtraTreesEntr_BAG_L2\\model.pkl\n",
      "Loading: AutogluonModels/ag-20220507_061239\\models\\ExtraTreesGini_BAG_L2\\model.pkl\n",
      "Loading: AutogluonModels/ag-20220507_061239\\models\\LightGBMLarge_BAG_L2\\model.pkl\n",
      "Loading: AutogluonModels/ag-20220507_061239\\models\\LightGBMXT_BAG_L2\\model.pkl\n",
      "Loading: AutogluonModels/ag-20220507_061239\\models\\LightGBM_BAG_L2\\model.pkl\n",
      "Loading: AutogluonModels/ag-20220507_061239\\models\\NeuralNetFastAI_BAG_L2\\model.pkl\n",
      "Loading: AutogluonModels/ag-20220507_061239\\models\\RandomForestGini_BAG_L2\\model.pkl\n"
     ]
    }
   ],
   "source": [
    "get_result(predictor,new_test_data,test_data)"
   ]
  },
  {
   "cell_type": "markdown",
   "id": "df9ee291",
   "metadata": {
    "tags": []
   },
   "source": [
    "## multimodal+stacking"
   ]
  },
  {
   "cell_type": "code",
   "execution_count": 27,
   "id": "67e8eff6",
   "metadata": {
    "ExecuteTime": {
     "end_time": "2022-05-09T01:01:28.780331Z",
     "start_time": "2022-05-09T01:01:27.595778Z"
    }
   },
   "outputs": [],
   "source": [
    "# 训练数据缺失值处理\n",
    "new_train_data = train_data.replace('?',np.nan)#用np.nan替换？\n",
    "new_train_data.dropna(how=\"all\",inplace=True)\n",
    "new_train_data = new_train_data.fillna(0)\n",
    "new_train_data = new_train_data.drop(columns=[\"CUST_UID\"])\n",
    "new_train_data = data_log(num_type_fea,new_train_data,num=1)\n",
    "\n",
    "# 测试数据缺失值处理\n",
    "test_data.isnull().mean()[test_data.isnull().mean()>0]\n",
    "test_data = test_data.fillna(1)\n",
    "\n",
    "new_test_data = test_data.replace('?',np.nan)#用np.nan替换？\n",
    "new_test_data = new_test_data.fillna(0)\n",
    "new_test_data = new_test_data.drop(columns=[\"CUST_UID\"])\n",
    "new_test_data = data_log(num_type_fea,new_test_data,num=1)"
   ]
  },
  {
   "cell_type": "code",
   "execution_count": 28,
   "id": "ffd27592",
   "metadata": {
    "ExecuteTime": {
     "end_time": "2022-05-09T05:25:53.715131Z",
     "start_time": "2022-05-09T01:01:41.984295Z"
    }
   },
   "outputs": [
    {
     "name": "stderr",
     "output_type": "stream",
     "text": [
      "auto_weight currently does not use any sample weights.\n",
      "No path specified. Models will be saved in: \"AutogluonModels/ag-20220509_010141\\\"\n",
      "Presets specified: ['best_quality']\n",
      "============ fit kwarg info ============\n",
      "User Specified kwargs:\n",
      "{'ag_args_fit': {'num_gpus': 1}, 'auto_stack': True}\n",
      "Full kwargs:\n",
      "{'_feature_generator_kwargs': None,\n",
      " '_save_bag_folds': None,\n",
      " 'ag_args': None,\n",
      " 'ag_args_ensemble': None,\n",
      " 'ag_args_fit': {'num_gpus': 1},\n",
      " 'auto_stack': True,\n",
      " 'calibrate': 'auto',\n",
      " 'excluded_model_types': None,\n",
      " 'feature_generator': 'auto',\n",
      " 'feature_prune_kwargs': None,\n",
      " 'holdout_frac': None,\n",
      " 'hyperparameter_tune_kwargs': None,\n",
      " 'keep_only_best': False,\n",
      " 'name_suffix': None,\n",
      " 'num_bag_folds': None,\n",
      " 'num_bag_sets': None,\n",
      " 'num_stack_levels': None,\n",
      " 'pseudo_data': None,\n",
      " 'quantile_levels': None,\n",
      " 'refit_full': False,\n",
      " 'save_space': False,\n",
      " 'set_best_to_refit_full': False,\n",
      " 'unlabeled_data': None,\n",
      " 'use_bag_holdout': False,\n",
      " 'verbosity': 3}\n",
      "========================================\n",
      "Saving AutogluonModels/ag-20220509_010141\\learner.pkl\n",
      "Saving AutogluonModels/ag-20220509_010141\\predictor.pkl\n",
      "Beginning AutoGluon training ... Time limit = 18000s\n",
      "AutoGluon will save models to \"AutogluonModels/ag-20220509_010141\\\"\n",
      "AutoGluon Version:  0.4.1b20220319\n",
      "Python Version:     3.7.12\n",
      "Operating System:   Windows\n",
      "Train Data Rows:    40000\n",
      "Train Data Columns: 49\n",
      "Label Column: LABEL\n",
      "Preprocessing data ...\n",
      "AutoGluon infers your prediction problem is: 'binary' (because only two unique label-values observed).\n",
      "\t2 unique label values:  [0, 1]\n",
      "\tIf 'binary' is not the correct problem_type, please manually specify the problem_type parameter during predictor init (You may specify problem_type as one of: ['binary', 'multiclass', 'regression'])\n",
      "Selected class <--> label mapping:  class 1 = 1, class 0 = 0\n",
      "Using Feature Generators to preprocess the data ...\n",
      "Fitting AutoMLPipelineFeatureGenerator...\n",
      "\tAvailable Memory:                    8847.88 MB\n",
      "\tTrain Data (Original)  Memory Usage: 22.57 MB (0.3% of available memory)\n",
      "\tInferring data type of each feature based on column values. Set feature_metadata_in to manually specify special dtypes of the features.\n",
      "\tStage 1 Generators:\n",
      "\t\tFitting AsTypeFeatureGenerator...\n",
      "\t\t\tOriginal Features (exact raw dtype, raw dtype):\n",
      "\t\t\t\t('float64', 'float') : 45 | ['AGN_CNT_RCT_12_MON', 'ICO_CUR_MON_ACM_TRX_TM', 'NB_RCT_3_MON_LGN_TMS_AGV', 'AGN_CUR_YEAR_AMT', 'AGN_CUR_YEAR_WAG_AMT', ...]\n",
      "\t\t\t\t('object', 'object') :  4 | ['MON_12_CUST_CNT_PTY_ID', 'WTHR_OPN_ONL_ICO', 'LGP_HLD_CARD_LVL', 'NB_CTC_HLD_IDV_AIO_CARD_SITU']\n",
      "\t\t\tTypes of features in original data (raw dtype, special dtypes):\n",
      "\t\t\t\t('float', [])                      : 45 | ['AGN_CNT_RCT_12_MON', 'ICO_CUR_MON_ACM_TRX_TM', 'NB_RCT_3_MON_LGN_TMS_AGV', 'AGN_CUR_YEAR_AMT', 'AGN_CUR_YEAR_WAG_AMT', ...]\n",
      "\t\t\t\t('object', [])                     :  2 | ['WTHR_OPN_ONL_ICO', 'NB_CTC_HLD_IDV_AIO_CARD_SITU']\n",
      "\t\t\t\t('object', ['datetime_as_object']) :  2 | ['MON_12_CUST_CNT_PTY_ID', 'LGP_HLD_CARD_LVL']\n",
      "\t\t\tTypes of features in processed data (raw dtype, special dtypes):\n",
      "\t\t\t\t('float', [])                      : 45 | ['AGN_CNT_RCT_12_MON', 'ICO_CUR_MON_ACM_TRX_TM', 'NB_RCT_3_MON_LGN_TMS_AGV', 'AGN_CUR_YEAR_AMT', 'AGN_CUR_YEAR_WAG_AMT', ...]\n",
      "\t\t\t\t('object', [])                     :  2 | ['WTHR_OPN_ONL_ICO', 'NB_CTC_HLD_IDV_AIO_CARD_SITU']\n",
      "\t\t\t\t('object', ['datetime_as_object']) :  2 | ['MON_12_CUST_CNT_PTY_ID', 'LGP_HLD_CARD_LVL']\n",
      "\t\t\t0.1s = Fit runtime\n",
      "\t\t\t49 features in original data used to generate 49 features in processed data.\n",
      "\tStage 2 Generators:\n",
      "\t\tFitting FillNaFeatureGenerator...\n",
      "\t\t\tTypes of features in original data (raw dtype, special dtypes):\n",
      "\t\t\t\t('float', [])                      : 45 | ['AGN_CNT_RCT_12_MON', 'ICO_CUR_MON_ACM_TRX_TM', 'NB_RCT_3_MON_LGN_TMS_AGV', 'AGN_CUR_YEAR_AMT', 'AGN_CUR_YEAR_WAG_AMT', ...]\n",
      "\t\t\t\t('object', [])                     :  2 | ['WTHR_OPN_ONL_ICO', 'NB_CTC_HLD_IDV_AIO_CARD_SITU']\n",
      "\t\t\t\t('object', ['datetime_as_object']) :  2 | ['MON_12_CUST_CNT_PTY_ID', 'LGP_HLD_CARD_LVL']\n",
      "\t\t\tTypes of features in processed data (raw dtype, special dtypes):\n",
      "\t\t\t\t('float', [])                      : 45 | ['AGN_CNT_RCT_12_MON', 'ICO_CUR_MON_ACM_TRX_TM', 'NB_RCT_3_MON_LGN_TMS_AGV', 'AGN_CUR_YEAR_AMT', 'AGN_CUR_YEAR_WAG_AMT', ...]\n",
      "\t\t\t\t('object', [])                     :  2 | ['WTHR_OPN_ONL_ICO', 'NB_CTC_HLD_IDV_AIO_CARD_SITU']\n",
      "\t\t\t\t('object', ['datetime_as_object']) :  2 | ['MON_12_CUST_CNT_PTY_ID', 'LGP_HLD_CARD_LVL']\n",
      "\t\t\t0.0s = Fit runtime\n",
      "\t\t\t49 features in original data used to generate 49 features in processed data.\n",
      "\tStage 3 Generators:\n",
      "\t\tFitting IdentityFeatureGenerator...\n",
      "\t\t\tTypes of features in original data (raw dtype, special dtypes):\n",
      "\t\t\t\t('float', []) : 45 | ['AGN_CNT_RCT_12_MON', 'ICO_CUR_MON_ACM_TRX_TM', 'NB_RCT_3_MON_LGN_TMS_AGV', 'AGN_CUR_YEAR_AMT', 'AGN_CUR_YEAR_WAG_AMT', ...]\n",
      "\t\t\tTypes of features in processed data (raw dtype, special dtypes):\n",
      "\t\t\t\t('float', []) : 45 | ['AGN_CNT_RCT_12_MON', 'ICO_CUR_MON_ACM_TRX_TM', 'NB_RCT_3_MON_LGN_TMS_AGV', 'AGN_CUR_YEAR_AMT', 'AGN_CUR_YEAR_WAG_AMT', ...]\n",
      "\t\t\t0.0s = Fit runtime\n",
      "\t\t\t45 features in original data used to generate 45 features in processed data.\n",
      "\t\tFitting CategoryFeatureGenerator...\n",
      "\t\t\tFitting CategoryMemoryMinimizeFeatureGenerator...\n",
      "\t\t\t\tTypes of features in original data (raw dtype, special dtypes):\n",
      "\t\t\t\t\t('category', []) : 2 | ['WTHR_OPN_ONL_ICO', 'NB_CTC_HLD_IDV_AIO_CARD_SITU']\n",
      "\t\t\t\tTypes of features in processed data (raw dtype, special dtypes):\n",
      "\t\t\t\t\t('category', []) : 2 | ['WTHR_OPN_ONL_ICO', 'NB_CTC_HLD_IDV_AIO_CARD_SITU']\n",
      "\t\t\t\t0.0s = Fit runtime\n",
      "\t\t\t\t2 features in original data used to generate 2 features in processed data.\n",
      "\t\t\tTypes of features in original data (raw dtype, special dtypes):\n",
      "\t\t\t\t('object', []) : 2 | ['WTHR_OPN_ONL_ICO', 'NB_CTC_HLD_IDV_AIO_CARD_SITU']\n",
      "\t\t\tTypes of features in processed data (raw dtype, special dtypes):\n",
      "\t\t\t\t('category', []) : 2 | ['WTHR_OPN_ONL_ICO', 'NB_CTC_HLD_IDV_AIO_CARD_SITU']\n",
      "\t\t\t0.0s = Fit runtime\n",
      "\t\t\t2 features in original data used to generate 2 features in processed data.\n",
      "\t\tFitting DatetimeFeatureGenerator...\n",
      "\t\t\tTypes of features in original data (raw dtype, special dtypes):\n",
      "\t\t\t\t('object', ['datetime_as_object']) : 2 | ['MON_12_CUST_CNT_PTY_ID', 'LGP_HLD_CARD_LVL']\n",
      "\t\t\tTypes of features in processed data (raw dtype, special dtypes):\n",
      "\t\t\t\t('int', ['datetime_as_int']) : 10 | ['MON_12_CUST_CNT_PTY_ID', 'MON_12_CUST_CNT_PTY_ID.year', 'MON_12_CUST_CNT_PTY_ID.month', 'MON_12_CUST_CNT_PTY_ID.day', 'MON_12_CUST_CNT_PTY_ID.dayofweek', ...]\n",
      "\t\t\t0.1s = Fit runtime\n",
      "\t\t\t2 features in original data used to generate 10 features in processed data.\n",
      "\t\tSkipping TextSpecialFeatureGenerator: No input feature with required dtypes.\n",
      "\t\tSkipping TextNgramFeatureGenerator: No input feature with required dtypes.\n",
      "\t\tSkipping IdentityFeatureGenerator: No input feature with required dtypes.\n",
      "\t\tSkipping IsNanFeatureGenerator: No input feature with required dtypes.\n",
      "\tStage 4 Generators:\n",
      "\t\tFitting DropUniqueFeatureGenerator...\n",
      "\t\t\tTypes of features in original data (raw dtype, special dtypes):\n",
      "\t\t\t\t('category', [])             :  2 | ['WTHR_OPN_ONL_ICO', 'NB_CTC_HLD_IDV_AIO_CARD_SITU']\n",
      "\t\t\t\t('float', [])                : 45 | ['AGN_CNT_RCT_12_MON', 'ICO_CUR_MON_ACM_TRX_TM', 'NB_RCT_3_MON_LGN_TMS_AGV', 'AGN_CUR_YEAR_AMT', 'AGN_CUR_YEAR_WAG_AMT', ...]\n",
      "\t\t\t\t('int', ['datetime_as_int']) :  2 | ['MON_12_CUST_CNT_PTY_ID', 'LGP_HLD_CARD_LVL']\n",
      "\t\t\tTypes of features in processed data (raw dtype, special dtypes):\n",
      "\t\t\t\t('category', [])             :  2 | ['WTHR_OPN_ONL_ICO', 'NB_CTC_HLD_IDV_AIO_CARD_SITU']\n",
      "\t\t\t\t('float', [])                : 45 | ['AGN_CNT_RCT_12_MON', 'ICO_CUR_MON_ACM_TRX_TM', 'NB_RCT_3_MON_LGN_TMS_AGV', 'AGN_CUR_YEAR_AMT', 'AGN_CUR_YEAR_WAG_AMT', ...]\n",
      "\t\t\t\t('int', ['datetime_as_int']) :  2 | ['MON_12_CUST_CNT_PTY_ID', 'LGP_HLD_CARD_LVL']\n",
      "\t\t\t0.1s = Fit runtime\n",
      "\t\t\t49 features in original data used to generate 49 features in processed data.\n",
      "\tTypes of features in original data (exact raw dtype, raw dtype):\n",
      "\t\t('float64', 'float') : 45 | ['AGN_CNT_RCT_12_MON', 'ICO_CUR_MON_ACM_TRX_TM', 'NB_RCT_3_MON_LGN_TMS_AGV', 'AGN_CUR_YEAR_AMT', 'AGN_CUR_YEAR_WAG_AMT', ...]\n",
      "\t\t('object', 'object') :  4 | ['MON_12_CUST_CNT_PTY_ID', 'WTHR_OPN_ONL_ICO', 'LGP_HLD_CARD_LVL', 'NB_CTC_HLD_IDV_AIO_CARD_SITU']\n"
     ]
    },
    {
     "name": "stderr",
     "output_type": "stream",
     "text": [
      "\tTypes of features in original data (raw dtype, special dtypes):\n",
      "\t\t('float', [])                      : 45 | ['AGN_CNT_RCT_12_MON', 'ICO_CUR_MON_ACM_TRX_TM', 'NB_RCT_3_MON_LGN_TMS_AGV', 'AGN_CUR_YEAR_AMT', 'AGN_CUR_YEAR_WAG_AMT', ...]\n",
      "\t\t('object', [])                     :  2 | ['WTHR_OPN_ONL_ICO', 'NB_CTC_HLD_IDV_AIO_CARD_SITU']\n",
      "\t\t('object', ['datetime_as_object']) :  2 | ['MON_12_CUST_CNT_PTY_ID', 'LGP_HLD_CARD_LVL']\n",
      "\tTypes of features in processed data (exact raw dtype, raw dtype):\n",
      "\t\t('category', 'category') :  2 | ['WTHR_OPN_ONL_ICO', 'NB_CTC_HLD_IDV_AIO_CARD_SITU']\n",
      "\t\t('float64', 'float')     : 45 | ['AGN_CNT_RCT_12_MON', 'ICO_CUR_MON_ACM_TRX_TM', 'NB_RCT_3_MON_LGN_TMS_AGV', 'AGN_CUR_YEAR_AMT', 'AGN_CUR_YEAR_WAG_AMT', ...]\n",
      "\t\t('int64', 'int')         :  2 | ['MON_12_CUST_CNT_PTY_ID', 'LGP_HLD_CARD_LVL']\n",
      "\tTypes of features in processed data (raw dtype, special dtypes):\n",
      "\t\t('category', [])             :  2 | ['WTHR_OPN_ONL_ICO', 'NB_CTC_HLD_IDV_AIO_CARD_SITU']\n",
      "\t\t('float', [])                : 45 | ['AGN_CNT_RCT_12_MON', 'ICO_CUR_MON_ACM_TRX_TM', 'NB_RCT_3_MON_LGN_TMS_AGV', 'AGN_CUR_YEAR_AMT', 'AGN_CUR_YEAR_WAG_AMT', ...]\n",
      "\t\t('int', ['datetime_as_int']) :  2 | ['MON_12_CUST_CNT_PTY_ID', 'LGP_HLD_CARD_LVL']\n",
      "\t0.5s = Fit runtime\n",
      "\t49 features in original data used to generate 49 features in processed data.\n",
      "\tTrain Data (Processed) Memory Usage: 15.12 MB (0.2% of available memory)\n",
      "Data preprocessing and feature engineering runtime = 0.53s ...\n",
      "AutoGluon will gauge predictive performance using evaluation metric: 'roc_auc'\n",
      "\tThis metric expects predicted probabilities rather than predicted class labels, so you'll need to use predict_proba() instead of predict()\n",
      "\tTo change this, specify the eval_metric parameter of Predictor()\n",
      "Saving AutogluonM"
     ]
    },
    {
     "data": {
      "text/html": [
       "<b>limit_output extension: Maximum message size of 10000 exceeded with 10037 characters</b>"
      ]
     },
     "metadata": {},
     "output_type": "display_data"
    }
   ],
   "source": [
    "from autogluon.tabular import TabularDataset, TabularPredictor\n",
    "\n",
    "label = \"LABEL\"\n",
    "eval_metric = 'roc_auc'\n",
    "# predictor = TabularPredictor(label= label).fit(train_data=train_data,\n",
    "#                                                num_bag_folds=5, num_bag_sets=1, num_stack_levels=2,\n",
    "#                                                ag_args_fit={'num_gpus': 0})\n",
    "\n",
    "predictor = TabularPredictor(label=label, eval_metric=eval_metric, verbosity=3\n",
    "#                              ,sample_weight = \"balance_weight\"\n",
    "                             ,sample_weight = \"auto_weight\"   \n",
    "                            )\\\n",
    "                            .fit(\n",
    "                                    new_train_data\n",
    "                                    ,ag_args_fit={'num_gpus': 1}\n",
    "#                                     ,hyperparameters = 'multimodal'                                  \n",
    "                                    , presets='best_quality'\n",
    "                                    , time_limit=3600*5\n",
    "                                )\n",
    "get_result(predictor,new_test_data,test_data)"
   ]
  },
  {
   "cell_type": "code",
   "execution_count": 29,
   "id": "31b2c1ca",
   "metadata": {
    "ExecuteTime": {
     "end_time": "2022-05-09T05:29:17.163389Z",
     "start_time": "2022-05-09T05:29:17.064653Z"
    }
   },
   "outputs": [
    {
     "name": "stderr",
     "output_type": "stream",
     "text": [
      "Loading: AutogluonModels/ag-20220509_010141\\models\\KNeighborsUnif_BAG_L1\\model.pkl\n",
      "Loading: AutogluonModels/ag-20220509_010141\\models\\KNeighborsDist_BAG_L1\\model.pkl\n",
      "Loading: AutogluonModels/ag-20220509_010141\\models\\LightGBMXT_BAG_L1\\model.pkl\n",
      "Loading: AutogluonModels/ag-20220509_010141\\models\\LightGBM_BAG_L1\\model.pkl\n",
      "Loading: AutogluonModels/ag-20220509_010141\\models\\RandomForestGini_BAG_L1\\model.pkl\n",
      "Loading: AutogluonModels/ag-20220509_010141\\models\\RandomForestEntr_BAG_L1\\model.pkl\n",
      "Loading: AutogluonModels/ag-20220509_010141\\models\\CatBoost_BAG_L1\\model.pkl\n",
      "Loading: AutogluonModels/ag-20220509_010141\\models\\ExtraTreesGini_BAG_L1\\model.pkl\n",
      "Loading: AutogluonModels/ag-20220509_010141\\models\\ExtraTreesEntr_BAG_L1\\model.pkl\n",
      "Loading: AutogluonModels/ag-20220509_010141\\models\\NeuralNetFastAI_BAG_L1\\model.pkl\n",
      "Loading: AutogluonModels/ag-20220509_010141\\models\\XGBoost_BAG_L1\\model.pkl\n",
      "Loading: AutogluonModels/ag-20220509_010141\\models\\NeuralNetTorch_BAG_L1\\model.pkl\n",
      "Loading: AutogluonModels/ag-20220509_010141\\models\\LightGBMLarge_BAG_L1\\model.pkl\n",
      "Loading: AutogluonModels/ag-20220509_010141\\models\\WeightedEnsemble_L2\\model.pkl\n",
      "Loading: AutogluonModels/ag-20220509_010141\\models\\LightGBMXT_BAG_L2\\model.pkl\n",
      "Loading: AutogluonModels/ag-20220509_010141\\models\\LightGBM_BAG_L2\\model.pkl\n",
      "Loading: AutogluonModels/ag-20220509_010141\\models\\RandomForestGini_BAG_L2\\model.pkl\n",
      "Loading: AutogluonModels/ag-20220509_010141\\models\\RandomForestEntr_BAG_L2\\model.pkl\n",
      "Loading: AutogluonModels/ag-20220509_010141\\models\\CatBoost_BAG_L2\\model.pkl\n",
      "Loading: AutogluonModels/ag-20220509_010141\\models\\ExtraTreesGini_BAG_L2\\model.pkl\n",
      "Loading: AutogluonModels/ag-20220509_010141\\models\\ExtraTreesEntr_BAG_L2\\model.pkl\n",
      "Loading: AutogluonModels/ag-20220509_010141\\models\\NeuralNetFastAI_BAG_L2\\model.pkl\n",
      "Loading: AutogluonModels/ag-20220509_010141\\models\\XGBoost_BAG_L2\\model.pkl\n",
      "Loading: AutogluonModels/ag-20220509_010141\\models\\NeuralNetTorch_BAG_L2\\model.pkl\n",
      "Loading: AutogluonModels/ag-20220509_010141\\models\\LightGBMLarge_BAG_L2\\model.pkl\n",
      "Loading: AutogluonModels/ag-20220509_010141\\models\\WeightedEnsemble_L3\\model.pkl\n"
     ]
    },
    {
     "name": "stdout",
     "output_type": "stream",
     "text": [
      "*** Summary of fit() ***\n",
      "Estimated performance of each model:\n",
      "                      model     score_val   pred_time_val          fit_time  pred_time_val_marginal  fit_time_marginal  stack_level  can_infer  fit_order\n",
      "0       WeightedEnsemble_L3  0.9524625200  135.0573639870  12796.1242277622            0.0099732876      10.0263574123            3       True         26\n",
      "1       WeightedEnsemble_L2  0.9521019417   15.2375683784   5879.3410763741            0.0089755058      11.8373515606            2       True         14\n",
      "2         LightGBMXT_BAG_L2  0.9519995883  122.7544331551  10279.7340404987            0.6911385059      91.4156069756            2       True         15\n",
      "3           LightGBM_BAG_L2  0.9519085367  122.7135260105  10275.2957153320            0.6502313614      86.9772818089            2       True         16\n",
      "4           CatBoost_BAG_L2  0.9518853483  122.6278502941  10670.0767242908            0.5645556450     481.7582907677            2       True         19\n",
      "5      LightGBMLarge_BAG_L2  0.9518559217  122.7683541775  10539.4820284843            0.7050595284     351.1635949612            2       True         25\n",
      "6            XGBoost_BAG_L2  0.9517234033  123.8992524147  10250.5700967312            1.8359577656      62.2516632080            2       True         23\n",
      "7    NeuralNetFastAI_BAG_L2  0.9515526783  125.1957285404  11754.7193055153            3.1324338913    1566.4008719921            2       True         22\n",
      "8            XGBoost_BAG_L1  0.9515212617    2.1588723660    103.7758071423            2.1588723660     103.7758071423            1       True         11\n",
      "9      LightGBMLarge_BAG_L1  0.9514522967    0.9792957306    557.4785158634            0.9792957306     557.4785158634            1       True         13\n",
      "10          LightGBM_BAG_L1  0.9510649517    0.9653379917    168.8410058022            0.9653379917     168.8410058022            1       True          4\n",
      "11    NeuralNetTorch_BAG_L2  0.9507370417  129.1736271381  12897.2896306515            7.1103324890    2708.9711971283            2       True         24\n",
      "12        LightGBMXT_BAG_L1  0.9503332233    1.3522617817    324.1028647423            1.3522617817     324.1028647423            1       True          3\n",
      "13    ExtraTreesGini_BAG_L2  0.9500228833  123.9532365799  10191.5410842896            1.8899419308       3.2226507664            2       True         20\n",
      "14  RandomForestEntr_BAG_L2  0.9499999567  123.7966821194  10195.6671960354            1.7333874702       7.3487625122            2       True         18\n",
      "15          CatBoost_BAG_L1  0.9499905300    0.7021160126   1984.4926264286            0.7021160126    1984.4926264286            1       True          7\n",
      "16    ExtraTreesEntr_BAG_L2  0.9499262317  123.9123463631  10191.4255087376            1.8490517139       3.1070752144            2       True         21\n",
      "17  RandomForestGini_BAG_L2  0.9487379267  123.8315906525  10194.7037353516            1.7682960033       6.3853018284            2       True         17\n",
      "18  RandomForestEntr_BAG_L1  0.9459904333    1.6076979637      6.4714827538            1.6076979637       6.4714827538            1       True          6\n",
      "19   NeuralNetFastAI_BAG_L1  0.9453042600    3.6338315010   2156.9179916382            3.6338315010    2156.9179916382            1       True         10\n",
      "20  RandomForestGini_BAG_L1  0.9452835750    1.6625511646      5.2319459915            1.6625511646       5.2319459915            1       True          5\n",
      "21    NeuralNetTorch_BAG_L1  0.9452495600    9.1304650307   4875.6750543118            9.1304650307    4875.6750543118            1       True         12\n",
      "22    ExtraTreesEntr_BAG_L1  0.9258563267    1.8500747681      2.5485391617            1.8500747681       2.5485391617            1       True          9\n",
      "23    ExtraTreesGini_BAG_L1  0.9251616517    1.8600451946      2.5242888927            1.8600451946       2.5242888927            1       True          8\n",
      "24    KNeighborsDist_BAG_L1  0.7426437300   47.9577233791      0.1525928974           47.9577233791       0.1525928974            1       True          2\n",
      "25    KNeighborsUnif_BAG_L1  0.7372324300   48.2030217648      0.1057178974           48.2030217648       0.1057178974            1       True          1\n",
      "Number of models trained: 26\n",
      "Types of models trained:\n",
      "{'StackerEnsembleModel_XT', 'StackerEnsembleModel_NNFastAiTabular', 'StackerEnsembleModel_LGB', 'StackerEnsembleModel_KNN', 'StackerEnsembleModel_XGBoost', 'StackerEnsembleModel_RF', 'WeightedEnsembleModel', 'StackerEnsembleModel_TabularNeuralNetTorch', 'StackerEnsembleModel_CatBoost'}\n",
      "Bagging used: True  (with 8 folds)\n",
      "Multi-layer stack-ensembling used: True  (with 3 levels)\n",
      "Feature Metadata (Processed):\n",
      "(raw dtype, special dtypes):\n",
      "('category', [])             :  2 | ['WTHR_OPN_ONL_ICO', 'NB_CTC_HLD_IDV_AIO_CARD_SITU']\n",
      "('float', [])                : 45 | ['AGN_CNT_RCT_12_MON', 'ICO_CUR_MON_ACM_TRX_TM', 'NB_RCT_3_MON_LGN_TMS_AGV', 'AGN_CUR_YEAR_AMT', 'AGN_CUR_YEAR_WAG_AMT', ...]\n",
      "('int', ['datetime_as_int']) :  2 | ['MON_12_CUST_CNT_PTY_ID', 'LGP_HLD_CARD_LVL']\n",
      "*** End of fit() summary ***\n"
     ]
    }
   ],
   "source": [
    "results = predictor.fit_summary(show_plot=True)"
   ]
  },
  {
   "cell_type": "markdown",
   "id": "5b9c96df",
   "metadata": {
    "heading_collapsed": true
   },
   "source": [
    "### modal "
   ]
  },
  {
   "cell_type": "code",
   "execution_count": 26,
   "id": "36fdf0bd",
   "metadata": {
    "ExecuteTime": {
     "end_time": "2022-05-08T01:24:12.767688Z",
     "start_time": "2022-05-07T15:20:28.408386Z"
    },
    "hidden": true
   },
   "outputs": [
    {
     "name": "stderr",
     "output_type": "stream",
     "text": [
      "No path specified. Models will be saved in: \"AutogluonModels/ag-20220507_152028\\\"\n",
      "============ fit kwarg info ============\n",
      "User Specified kwargs:\n",
      "{'ag_args_fit': {'num_gpus': 1}, 'num_bag_folds': 5, 'num_stack_levels': 1}\n",
      "Full kwargs:\n",
      "{'_feature_generator_kwargs': None,\n",
      " '_save_bag_folds': None,\n",
      " 'ag_args': None,\n",
      " 'ag_args_ensemble': None,\n",
      " 'ag_args_fit': {'num_gpus': 1},\n",
      " 'auto_stack': False,\n",
      " 'calibrate': 'auto',\n",
      " 'excluded_model_types': None,\n",
      " 'feature_generator': 'auto',\n",
      " 'feature_prune_kwargs': None,\n",
      " 'holdout_frac': None,\n",
      " 'hyperparameter_tune_kwargs': None,\n",
      " 'keep_only_best': False,\n",
      " 'name_suffix': None,\n",
      " 'num_bag_folds': 5,\n",
      " 'num_bag_sets': None,\n",
      " 'num_stack_levels': 1,\n",
      " 'pseudo_data': None,\n",
      " 'quantile_levels': None,\n",
      " 'refit_full': False,\n",
      " 'save_space': False,\n",
      " 'set_best_to_refit_full': False,\n",
      " 'unlabeled_data': None,\n",
      " 'use_bag_holdout': False,\n",
      " 'verbosity': 3}\n",
      "========================================\n",
      "Saving AutogluonModels/ag-20220507_152028\\learner.pkl\n",
      "Saving AutogluonModels/ag-20220507_152028\\predictor.pkl\n",
      "Using predefined sample weighting strategy: balance_weight. Evaluation metrics will ignore sample weights, specify weight_evaluation=True to instead report weighted metrics.\n",
      "Beginning AutoGluon training ...\n",
      "AutoGluon will save models to \"AutogluonModels/ag-20220507_152028\\\"\n",
      "AutoGluon Version:  0.4.1b20220319\n",
      "Python Version:     3.7.12\n",
      "Operating System:   Windows\n",
      "Train Data Rows:    40000\n",
      "Train Data Columns: 49\n",
      "Label Column: LABEL\n",
      "Preprocessing data ...\n",
      "AutoGluon infers your prediction problem is: 'binary' (because only two unique label-values observed).\n",
      "\t2 unique label values:  [0, 1]\n",
      "\tIf 'binary' is not the correct problem_type, please manually specify the problem_type parameter during predictor init (You may specify problem_type as one of: ['binary', 'multiclass', 'regression'])\n",
      "Selected class <--> label mapping:  class 1 = 1, class 0 = 0\n",
      "Assigning sample weights to balance differences in frequency of classes.\n",
      "Balancing classes via the following weights: {0: 0.6666666666666666, 1: 2.0}\n",
      "Using Feature Generators to preprocess the data ...\n",
      "Fitting AutoMLPipelineFeatureGenerator...\n",
      "\tAvailable Memory:                    9280.43 MB\n",
      "\tTrain Data (Original)  Memory Usage: 22.57 MB (0.2% of available memory)\n",
      "\tInferring data type of each feature based on column values. Set feature_metadata_in to manually specify special dtypes of the features.\n",
      "\tStage 1 Generators:\n",
      "\t\tFitting AsTypeFeatureGenerator...\n",
      "\t\t\tOriginal Features (exact raw dtype, raw dtype):\n",
      "\t\t\t\t('float64', 'float') : 45 | ['AGN_CNT_RCT_12_MON', 'ICO_CUR_MON_ACM_TRX_TM', 'NB_RCT_3_MON_LGN_TMS_AGV', 'AGN_CUR_YEAR_AMT', 'AGN_CUR_YEAR_WAG_AMT', ...]\n",
      "\t\t\t\t('object', 'object') :  4 | ['MON_12_CUST_CNT_PTY_ID', 'WTHR_OPN_ONL_ICO', 'LGP_HLD_CARD_LVL', 'NB_CTC_HLD_IDV_AIO_CARD_SITU']\n",
      "\t\t\tTypes of features in original data (raw dtype, special dtypes):\n",
      "\t\t\t\t('float', [])                      : 45 | ['AGN_CNT_RCT_12_MON', 'ICO_CUR_MON_ACM_TRX_TM', 'NB_RCT_3_MON_LGN_TMS_AGV', 'AGN_CUR_YEAR_AMT', 'AGN_CUR_YEAR_WAG_AMT', ...]\n",
      "\t\t\t\t('object', [])                     :  2 | ['WTHR_OPN_ONL_ICO', 'NB_CTC_HLD_IDV_AIO_CARD_SITU']\n",
      "\t\t\t\t('object', ['datetime_as_object']) :  2 | ['MON_12_CUST_CNT_PTY_ID', 'LGP_HLD_CARD_LVL']\n",
      "\t\t\tTypes of features in processed data (raw dtype, special dtypes):\n",
      "\t\t\t\t('float', [])                      : 45 | ['AGN_CNT_RCT_12_MON', 'ICO_CUR_MON_ACM_TRX_TM', 'NB_RCT_3_MON_LGN_TMS_AGV', 'AGN_CUR_YEAR_AMT', 'AGN_CUR_YEAR_WAG_AMT', ...]\n",
      "\t\t\t\t('object', [])                     :  2 | ['WTHR_OPN_ONL_ICO', 'NB_CTC_HLD_IDV_AIO_CARD_SITU']\n",
      "\t\t\t\t('object', ['datetime_as_object']) :  2 | ['MON_12_CUST_CNT_PTY_ID', 'LGP_HLD_CARD_LVL']\n",
      "\t\t\t0.1s = Fit runtime\n",
      "\t\t\t49 features in original data used to generate 49 features in processed data.\n",
      "\tStage 2 Generators:\n",
      "\t\tFitting FillNaFeatureGenerator...\n",
      "\t\t\tTypes of features in original data (raw dtype, special dtypes):\n",
      "\t\t\t\t('float', [])                      : 45 | ['AGN_CNT_RCT_12_MON', 'ICO_CUR_MON_ACM_TRX_TM', 'NB_RCT_3_MON_LGN_TMS_AGV', 'AGN_CUR_YEAR_AMT', 'AGN_CUR_YEAR_WAG_AMT', ...]\n",
      "\t\t\t\t('object', [])                     :  2 | ['WTHR_OPN_ONL_ICO', 'NB_CTC_HLD_IDV_AIO_CARD_SITU']\n",
      "\t\t\t\t('object', ['datetime_as_object']) :  2 | ['MON_12_CUST_CNT_PTY_ID', 'LGP_HLD_CARD_LVL']\n",
      "\t\t\tTypes of features in processed data (raw dtype, special dtypes):\n",
      "\t\t\t\t('float', [])                      : 45 | ['AGN_CNT_RCT_12_MON', 'ICO_CUR_MON_ACM_TRX_TM', 'NB_RCT_3_MON_LGN_TMS_AGV', 'AGN_CUR_YEAR_AMT', 'AGN_CUR_YEAR_WAG_AMT', ...]\n",
      "\t\t\t\t('object', [])                     :  2 | ['WTHR_OPN_ONL_ICO', 'NB_CTC_HLD_IDV_AIO_CARD_SITU']\n",
      "\t\t\t\t('object', ['datetime_as_object']) :  2 | ['MON_12_CUST_CNT_PTY_ID', 'LGP_HLD_CARD_LVL']\n",
      "\t\t\t0.0s = Fit runtime\n",
      "\t\t\t49 features in original data used to generate 49 features in processed data.\n",
      "\tStage 3 Generators:\n",
      "\t\tFitting IdentityFeatureGenerator...\n",
      "\t\t\tTypes of features in original data (raw dtype, special dtypes):\n",
      "\t\t\t\t('float', []) : 45 | ['AGN_CNT_RCT_12_MON', 'ICO_CUR_MON_ACM_TRX_TM', 'NB_RCT_3_MON_LGN_TMS_AGV', 'AGN_CUR_YEAR_AMT', 'AGN_CUR_YEAR_WAG_AMT', ...]\n",
      "\t\t\tTypes of features in processed data (raw dtype, special dtypes):\n",
      "\t\t\t\t('float', []) : 45 | ['AGN_CNT_RCT_12_MON', 'ICO_CUR_MON_ACM_TRX_TM', 'NB_RCT_3_MON_LGN_TMS_AGV', 'AGN_CUR_YEAR_AMT', 'AGN_CUR_YEAR_WAG_AMT', ...]\n",
      "\t\t\t0.0s = Fit runtime\n",
      "\t\t\t45 features in original data used to generate 45 features in processed data.\n",
      "\t\tSkipping IdentityFeatureGenerator: No input feature with required dtypes.\n",
      "\t\tFitting CategoryFeatureGenerator...\n",
      "\t\t\tFitting CategoryMemoryMinimizeFeatureGenerator...\n",
      "\t\t\t\tTypes of features in original data (raw dtype, special dtypes):\n",
      "\t\t\t\t\t('category', []) : 2 | ['WTHR_OPN_ONL_ICO', 'NB_CTC_HLD_IDV_AIO_CARD_SITU']\n",
      "\t\t\t\tTypes of features in processed data (raw dtype, special dtypes):\n",
      "\t\t\t\t\t('category', []) : 2 | ['WTHR_OPN_ONL_ICO', 'NB_CTC_HLD_IDV_AIO_CARD_SITU']\n",
      "\t\t\t\t0.0s = Fit runtime\n",
      "\t\t\t\t2 features in original data used to generate 2 features in processed data.\n",
      "\t\t\tTypes of features in original data (raw dtype, special dtypes):\n",
      "\t\t\t\t('object', []) : 2 | ['WTHR_OPN_ONL_ICO', 'NB_CTC_HLD_IDV_AIO_CARD_SITU']\n",
      "\t\t\tTypes of features in processed data (raw dtype, special dtypes):\n",
      "\t\t\t\t('category', []) : 2 | ['WTHR_OPN_ONL_ICO', 'NB_CTC_HLD_IDV_AIO_CARD_SITU']\n",
      "\t\t\t0.0s = Fit runtime\n",
      "\t\t\t2 features in original data used to generate 2 features in processed data.\n",
      "\t\tFitting DatetimeFeatureGenerator...\n",
      "\t\t\tTypes of features in original data (raw dtype, special dtypes):\n",
      "\t\t\t\t('object', ['datetime_as_object']) : 2 | ['MON_12_CUST_CNT_PTY_ID', 'LGP_HLD_CARD_LVL']\n",
      "\t\t\tTypes of features in processed data (raw dtype, special dtypes):\n",
      "\t\t\t\t('int', ['datetime_as_int']) : 10 | ['MON_12_CUST_CNT_PTY_ID', 'MON_12_CUST_CNT_PTY_ID.year', 'MON_12_CUST_CNT_PTY_ID.month', 'MON_12_CUST_CNT_PTY_ID.day', 'MON_12_CUST_CNT_PTY_ID.dayofweek', ...]\n",
      "\t\t\t0.0s = Fit runtime\n",
      "\t\t\t2 features in original data used to generate 10 features in processed data.\n",
      "\t\tSkipping TextSpecialFeatureGenerator: No input feature with required dtypes.\n",
      "\t\tSkipping TextNgramFeatureGenerator: No input feature with required dtypes.\n",
      "\t\tSkipping IdentityFeatureGenerator: No input feature with required dtypes.\n",
      "\t\tSkipping IsNanFeatureGenerator: No input feature with required dtypes.\n",
      "\tStage 4 Generators:\n",
      "\t\tFitting DropUniqueFeatureGenerator...\n",
      "\t\t\tTypes of features in original data (raw dtype, special dtypes):\n",
      "\t\t\t\t('category', [])             :  2 | ['WTHR_OPN_ONL_ICO', 'NB_CTC_HLD_IDV_AIO_CARD_SITU']\n",
      "\t\t\t\t('float', [])                : 45 | ['AGN_CNT_RCT_12_MON', 'ICO_CUR_MON_ACM_TRX_TM', 'NB_RCT_3_MON_LGN_TMS_AGV', 'AGN_CUR_YEAR_AMT', 'AGN_CUR_YEAR_WAG_AMT', ...]\n",
      "\t\t\t\t('int', ['datetime_as_int']) :  2 | ['MON_12_CUST_CNT_PTY_ID', 'LGP_HLD_CARD_LVL']\n",
      "\t\t\tTypes of features in processed data (raw dtype, special dtypes):\n",
      "\t\t\t\t('category', [])             :  2 | ['WTHR_OPN_ONL_ICO', 'NB_CTC_HLD_IDV_AIO_CARD_SITU']\n",
      "\t\t\t\t('float', [])                : 45 | ['AGN_CNT_RCT_12_MON', 'ICO_CUR_MON_ACM_TRX_TM', 'NB_RCT_3_MON_LGN_TMS_AGV', 'AGN_CUR_YEAR_AMT', 'AGN_CUR_YEAR_WAG_AMT', ...]\n",
      "\t\t\t\t('int', ['datetime_as_int']) :  2 | ['MON_12_CUST_CNT_PTY_ID', 'LGP_HLD_CARD_LVL']\n",
      "\t\t\t0.1s = Fit runtime\n",
      "\t\t\t49 features in original data used to generate 49 features in processed data.\n"
     ]
    },
    {
     "name": "stderr",
     "output_type": "stream",
     "text": [
      "\tTypes of features in original data (exact raw dtype, raw dtype):\n",
      "\t\t('float64', 'float') : 45 | ['AGN_CNT_RCT_12_MON', 'ICO_CUR_MON_ACM_TRX_TM', 'NB_RCT_3_MON_LGN_TMS_AGV', 'AGN_CUR_YEAR_AMT', 'AGN_CUR_YEAR_WAG_AMT', ...]\n",
      "\t\t('object', 'object') :  4 | ['MON_12_CUST_CNT_PTY_ID', 'WTHR_OPN_ONL_ICO', 'LGP_HLD_CARD_LVL', 'NB_CTC_HLD_IDV_AIO_CARD_SITU']\n",
      "\tTypes of features in original data (raw dtype, special dtypes):\n",
      "\t\t('float', [])                      : 45 | ['AGN_CNT_RCT_12_MON', 'ICO_CUR_MON_ACM_TRX_TM', 'NB_RCT_3_MON_LGN_TMS_AGV', 'AGN_CUR_YEAR_AMT', 'AGN_CUR_YEAR_WAG_AMT', ...]\n",
      "\t\t('object', [])                     :  2 | ['WTHR_OPN_ONL_ICO', 'NB_CTC_HLD_IDV_AIO_CARD_SITU']\n",
      "\t\t('object', ['datetime_as_object']) :  2 | ['MON_12_CUST_CNT_PTY_ID', 'LGP_HLD_CARD_LVL']\n",
      "\tTypes of features in processed data (exact raw dtype, raw dtype):\n",
      "\t\t('category', 'category') :  2 | ['WTHR_OPN_ONL_ICO', 'NB_CTC_HLD_IDV_AIO_CARD_SITU']\n",
      "\t\t('float64', 'float')     : 45 | ['AGN_CNT_RCT_12_MON', 'ICO_CUR_MON_ACM_TRX_TM', 'NB_RCT_3_MON_LGN_TMS_AGV', 'AGN_CUR_YEAR_AMT', 'AGN_CUR_YEAR_WAG_AMT', ...]\n",
      "\t\t('int64', 'int')         :  2 | ['MON_12_CUST_CNT_PTY_ID', 'LGP_HLD_CARD_LVL']\n",
      "\tTypes of features in processed data (raw dtype, special dtypes):\n",
      "\t\t('category', [])             :  2 | ['WTHR_OPN_ONL_ICO', 'NB_CTC_HLD_IDV_AIO_CARD_SITU']\n",
      "\t\t('float', [])                : 45 | ['AGN_CNT_RCT_12_MON', 'ICO_CUR_MON_ACM_TRX_TM', 'NB_RCT_3_MON_LGN_TMS_AGV', 'AGN_CUR_YEAR_AMT', 'AGN_CUR_YEAR_WAG_AMT', ...]\n",
      "\t\t('int', ['datetime_as_int']) :  2 | ['MON_12_CUST_CNT_PTY_ID', 'LGP_HLD_CARD_LVL']\n",
      "\t0.4s = Fit runtime\n",
      "\t49 features in original data used to generate 49 features in processed data.\n",
      "\tTrain Data (Processed) Memory Usage: 15.12 MB (0.2% of available memory)\n",
      "Data preprocessing and feature engineering runtime = 0.49s"
     ]
    },
    {
     "data": {
      "text/html": [
       "<b>limit_output extension: Maximum message size of 10000 exceeded with 10005 characters</b>"
      ]
     },
     "metadata": {},
     "output_type": "display_data"
    }
   ],
   "source": [
    "from autogluon.tabular import TabularDataset, TabularPredictor\n",
    "\n",
    "label = \"LABEL\"\n",
    "eval_metric = 'roc_auc'\n",
    "# predictor = TabularPredictor(label= label).fit(train_data=train_data,\n",
    "#                                                num_bag_folds=5, num_bag_sets=1, num_stack_levels=2,\n",
    "#                                                ag_args_fit={'num_gpus': 0})\n",
    "\n",
    "predictor = TabularPredictor(label=label, eval_metric=eval_metric, verbosity=3\n",
    "                            ,sample_weight = \"balance_weight\")\\\n",
    "                            .fit(\n",
    "                                    new_train_data\n",
    "                                    ,ag_args_fit={'num_gpus': 1}\n",
    "                                    ,hyperparameters = 'multimodal',num_stack_levels=1,num_bag_folds=5                                   \n",
    "#                                     , presets='best_quality'\n",
    "#                                     , time_limit=3600*13\n",
    "                                )\n",
    "\n",
    "get_result(predictor,new_test_data,test_data)"
   ]
  },
  {
   "cell_type": "code",
   "execution_count": null,
   "id": "884db0e0",
   "metadata": {
    "ExecuteTime": {
     "end_time": "2022-05-02T07:19:28.201195Z",
     "start_time": "2022-05-02T07:19:28.201195Z"
    },
    "hidden": true,
    "scrolled": true
   },
   "outputs": [],
   "source": [
    "results = predictor.fit_summary(show_plot=True)"
   ]
  },
  {
   "cell_type": "code",
   "execution_count": null,
   "id": "b5443860",
   "metadata": {
    "hidden": true
   },
   "outputs": [],
   "source": [
    "get_result(predictor,new_test_data,test_data)"
   ]
  },
  {
   "cell_type": "markdown",
   "id": "dc49adac",
   "metadata": {
    "heading_collapsed": true
   },
   "source": [
    "## 自定义堆叠"
   ]
  },
  {
   "cell_type": "code",
   "execution_count": 45,
   "id": "ba5919cb",
   "metadata": {
    "ExecuteTime": {
     "end_time": "2022-05-05T04:22:51.223247Z",
     "start_time": "2022-05-05T04:22:51.204298Z"
    },
    "hidden": true
   },
   "outputs": [],
   "source": [
    "from xgboost import XGBClassifier \n",
    "from lightgbm import LGBMClassifier\n",
    "from catboost import CatBoostClassifier\n",
    "from sklearn.neighbors import KNeighborsClassifier \n",
    "from sklearn.neural_network import MLPClassifier\n",
    "from sklearn.ensemble import BaggingClassifier\n",
    "from sklearn.tree import DecisionTreeClassifier \n",
    "from sklearn.ensemble import RandomForestClassifier\n",
    "from sklearn.svm import SVC\n",
    "from sklearn.model_selection import KFold\n",
    "from sklearn.metrics import accuracy_score\n",
    "from combo.models import score_comb \n",
    "from mlxtend.classifier import StackingClassifier\n",
    "from mlxtend.classifier import StackingCVClassifier\n",
    "from mlxtend.classifier import EnsembleVoteClassifier\n",
    "from sklearn.linear_model import LogisticRegression\n",
    "from sklearn.model_selection import KFold\n",
    "import pickle \n",
    "import joblib"
   ]
  },
  {
   "cell_type": "code",
   "execution_count": 46,
   "id": "07e27187",
   "metadata": {
    "ExecuteTime": {
     "end_time": "2022-05-05T04:22:53.085266Z",
     "start_time": "2022-05-05T04:22:51.860542Z"
    },
    "hidden": true
   },
   "outputs": [],
   "source": [
    "new_train_data = train_data.replace('?',np.nan)#用np.nan替换？\n",
    "X = new_train_data.drop(columns=[\"LABEL\",\"CUST_UID\"])\n",
    "y = new_train_data[\"LABEL\"]\n",
    "X = One_Hot(char_type_fea,train_X=X\n",
    "            ,test_X=None\n",
    "            ,usetype=\"train\") \n",
    "X = X.fillna(-1)\n",
    "X = data_log(num_type_fea,X,num=2)\n",
    "\n",
    "new_test_data = test_data.replace('?',np.nan)#用np.nan替换？\n",
    "new_test_data = new_test_data.drop(columns=[\"CUST_UID\"])\n",
    "new_test_data = One_Hot(char_type_fea,train_X=X\n",
    "                        ,test_X=new_test_data\n",
    "                        ,usetype=\"test\")\n",
    "new_test_data = new_test_data.fillna(-1)\n",
    "new_test_data = data_log(num_type_fea,new_test_data,num=2)"
   ]
  },
  {
   "cell_type": "markdown",
   "id": "d3914a0f",
   "metadata": {
    "hidden": true
   },
   "source": [
    "### 先堆叠再平均"
   ]
  },
  {
   "cell_type": "code",
   "execution_count": null,
   "id": "6f756cfe",
   "metadata": {
    "ExecuteTime": {
     "start_time": "2022-05-05T04:22:53.208Z"
    },
    "hidden": true,
    "scrolled": false
   },
   "outputs": [
    {
     "name": "stdout",
     "output_type": "stream",
     "text": [
      "第1轮StackingCV线下ROC： [0.9478250416666667, 0.9477921666666667, 0.9512869583333334, 0.9497621666666668, 0.947717625]\n",
      "第1轮StackingCV线下ROC： 0.9488767916666667\n",
      "**************************************************\n",
      "第2轮StackingCV线下ROC： [0.94937275, 0.9503717916666667, 0.9446195833333333, 0.9495035, 0.9508687083333334]\n",
      "第2轮StackingCV线下ROC： 0.9489472666666667\n",
      "**************************************************\n",
      "第3轮StackingCV线下ROC： [0.9456852916666667, 0.9491201666666667, 0.9505370833333333, 0.9482251666666668, 0.9502675416666667]\n",
      "第3轮StackingCV线下ROC： 0.9487670500000001\n",
      "**************************************************\n",
      "第4轮StackingCV线下ROC： [0.945707, 0.9493045833333333, 0.953247875, 0.9478559166666665, 0.9477972916666667]\n",
      "第4轮StackingCV线下ROC： 0.9487825333333333\n",
      "**************************************************\n",
      "第5轮StackingCV线下ROC： [0.9447268333333333, 0.9470182083333334, 0.95071075, 0.9505665000000001, 0.9503375]\n",
      "第5轮StackingCV线下ROC： 0.9486719583333333\n",
      "**************************************************\n",
      "第6轮StackingCV线下ROC： [0.9496851666666667, 0.9462046666666667, 0.9500204166666667, 0.9498286666666667, 0.9487637916666667]\n",
      "第6轮StackingCV线下ROC： 0.9489005416666668\n",
      "**************************************************\n",
      "第7轮StackingCV线下ROC： [0.9502867916666666, 0.9480839166666666, 0.9445870833333333, 0.9495055000000001, 0.9526329166666666]\n",
      "第7轮StackingCV线下ROC： 0.9490192416666666\n",
      "**************************************************\n",
      "第8轮StackingCV线下ROC： [0.9461193333333332, 0.9516411666666666, 0.9484944583333333, 0.9499006249999999, 0.9491935000000001]\n",
      "第8轮StackingCV线下ROC： 0.9490698166666667\n",
      "**************************************************\n",
      "第9轮StackingCV线下ROC： [0.9466963750000001, 0.9499844583333333, 0.9492732500000002, 0.9484715416666667, 0.9503720000000001]\n",
      "第9轮StackingCV线下ROC： 0.948959525\n",
      "**************************************************\n",
      "第10轮StackingCV线下ROC： [0.9449550833333334, 0.9471255833333332, 0.9484301666666667, 0.9484195833333333, 0.9539818750000001]\n",
      "第10轮StackingCV线下ROC： 0.9485824583333334\n",
      "**************************************************\n",
      "第11轮StackingCV线下ROC： [0.9507522916666669, 0.9484972916666666, 0.947704125, 0.9501902083333333, 0.9477529999999998]\n",
      "第11轮StackingCV线下ROC： 0.9489793833333333\n",
      "**************************************************\n",
      "第12轮StackingCV线下ROC： [0.9496204166666666, 0.9473944999999999, 0.9511535833333333, 0.951335625, 0.946217125]\n",
      "第12轮StackingCV线下ROC： 0.94914425\n",
      "**************************************************\n",
      "第13轮StackingCV线下ROC： [0.945804875, 0.9502724166666666, 0.9452145833333334, 0.9521279583333333, 0.9498430833333333]\n",
      "第13轮StackingCV线下ROC： 0.9486525833333334\n",
      "**************************************************\n",
      "第14轮StackingCV线下ROC： [0.9479810833333332, 0.9460870416666667, 0.9498350000000001, 0.9475969583333334, 0.9531480833333333]\n",
      "第14轮StackingCV线下ROC： 0.9489296333333334\n",
      "**************************************************\n",
      "第15轮StackingCV线下ROC： [0.9491820416666666, 0.9486103333333332, 0.94950475, 0.9473190416666667, 0.9503115000000001]\n",
      "第15轮StackingCV线下ROC： 0.9489855333333332\n",
      "**************************************************\n",
      "第16轮StackingCV线下ROC： [0.9492708750000001, 0.9485710833333333, 0.9455934583333332, 0.9504225416666666, 0.9502315833333334]\n",
      "第16轮StackingCV线下ROC： 0.9488179083333333\n",
      "**************************************************\n",
      "第17轮StackingCV线下ROC： [0.9476017083333333, 0.9463395416666668, 0.9493937083333334, 0.9494013333333334, 0.9499106250000001]\n",
      "第17轮StackingCV线下ROC： 0.9485293833333334\n",
      "**************************************************\n",
      "第18轮StackingCV线下ROC： [0.9498569166666667, 0.94590175, 0.9487515833333332, 0.9501532083333333, 0.9478909166666666]\n",
      "第18轮StackingCV线下ROC： 0.9485108749999999\n",
      "**************************************************\n",
      "第19轮StackingCV线下ROC： [0.9487776250000001, 0.9516269166666667, 0.9458231666666667, 0.9505994166666667, 0.9481647083333333]\n",
      "第19轮StackingCV线下ROC： 0.9489983666666667\n",
      "**************************************************\n",
      "第20轮StackingCV线下ROC： [0.9545404583333335, 0.9466562916666666, 0.9496310833333332, 0.9471888333333334, 0.9458546666666667]\n",
      "第20轮StackingCV线下ROC： 0.9487742666666665\n",
      "**************************************************\n",
      "第21轮StackingCV线下ROC： [0.95259925, 0.9480484166666668, 0.9473726666666668, 0.9480894166666664, 0.9515746666666667]\n",
      "第21轮StackingCV线下ROC： 0.9495368833333334\n",
      "**************************************************\n",
      "第22轮StackingCV线下ROC： [0.942127375, 0.9505078333333332, 0.9494191666666667, 0.9559963333333333, 0.9466463333333335]\n",
      "第22轮StackingCV线下ROC： 0.9489394083333333\n",
      "**************************************************\n",
      "第23轮StackingCV线下ROC： [0.9489801250000002, 0.9544685833333335, 0.9482208333333334, 0.9467040833333334, 0.9476315]\n",
      "第23轮StackingCV线下ROC： 0.9492010250000001\n",
      "**************************************************\n",
      "第24轮StackingCV线下ROC： [0.9483537083333332, 0.9490099166666668, 0.9481658333333334, 0.9461619583333333, 0.9551666666666667]\n",
      "第24轮StackingCV线下ROC： 0.9493716166666667\n",
      "**************************************************\n",
      "第25轮StackingCV线下ROC： [0.951857625, 0.9503148749999999, 0.9462352916666666, 0.9516606666666667, 0.9469954166666669]\n",
      "第25轮StackingCV线下ROC： 0.9494127750000001\n",
      "**************************************************\n",
      "第26轮StackingCV线下ROC： [0.9470507499999999, 0.9472320833333333, 0.9520630833333333, 0.950044625, 0.9497825]\n",
      "第26轮StackingCV线下ROC： 0.9492346083333333\n",
      "**************************************************\n",
      "第27轮StackingCV线下ROC： [0.9496886666666666, 0.9490195833333334, 0.9481094999999999, 0.9482866666666666, 0.9494767500000001]\n",
      "第27轮StackingCV线下ROC： 0.9489162333333333\n",
      "**************************************************\n",
      "第28轮StackingCV线下ROC： [0.951013, 0.945480375, 0.9512433333333334, 0.9501845833333333, 0.9465954583333333]\n",
      "第28轮StackingCV线下ROC： 0.9489033499999999\n",
      "**************************************************\n",
      "第29轮StackingCV线下ROC： [0.9486004583333333, 0.9491413333333334, 0.9472487083333335, 0.950618, 0.9507837083333335]\n",
      "第29轮StackingCV线下ROC： 0.9492784416666668\n",
      "**************************************************\n",
      "第30轮StackingCV线下ROC： [0.9494864166666667, 0.9510965833333334, 0.9546777916666666, 0.9428645, 0.9471097083333335]\n",
      "第30轮StackingCV线下ROC： 0.949047\n",
      "**************************************************\n",
      "第31轮StackingCV线下ROC： [0.9480042500000001, 0.9476975833333333, 0.9531950833333336, 0.9506056666666667, 0.9473874166666667]\n",
      "第31轮StackingCV线下ROC： 0.949378\n",
      "**************************************************\n",
      "第32轮StackingCV线下ROC： [0.9482119166666666, 0.9498772916666666, 0.9492300833333334, 0.9502373749999999, 0.949102625]\n",
      "第32轮StackingCV线下ROC： 0.9493318583333332\n",
      "**************************************************\n",
      "第33轮StackingCV线下ROC： [0.9488058333333335, 0.9470882916666666, 0.9473447083333335, 0.9557500833333333, 0.948503375]\n",
      "第33轮StackingCV线下ROC： 0.9494984583333335\n",
      "**************************************************\n",
      "第34轮StackingCV线下ROC： [0.9476030833333333, 0.9501108333333333, 0.9510243333333332, 0.9480099166666667, 0.9492772083333332]\n",
      "第34轮StackingCV线下ROC： 0.9492050749999998\n",
      "**************************************************\n",
      "第35轮StackingCV线下ROC： [0.9456052916666667, 0.9472365833333333, 0.95299975, 0.9527411666666666, 0.9480630833333333]\n",
      "第35轮StackingCV线下ROC： 0.9493291750000001\n",
      "**************************************************\n",
      "第36轮StackingCV线下ROC： [0.94818875, 0.9509871666666666, 0.9477735833333332, 0.9489229166666667, 0.950766]\n",
      "第36轮StackingCV线下ROC： 0.9493276833333333\n",
      "**************************************************\n",
      "第37轮StackingCV线下ROC： [0.9493873749999998, 0.9462955833333334, 0.9474787500000001, 0.9507951666666667, 0.9533594166666667]\n",
      "第37轮StackingCV线下ROC： 0.9494632583333333\n",
      "**************************************************\n",
      "第38轮StackingCV线下ROC： [0.94730775, 0.9441522916666667, 0.9511492500000001, 0.9524091666666668, 0.9505841666666667]\n",
      "第38轮StackingCV线下ROC： 0.949120525\n",
      "**************************************************\n",
      "第39轮StackingCV线下ROC： [0.9469030833333332, 0.9559838333333334, 0.9503837499999999, 0.9469782500000001, 0.9469935833333333]\n",
      "第39轮StackingCV线下ROC： 0.9494485000000001\n",
      "**************************************************\n",
      "第40轮StackingCV线下ROC： [0.9527899166666667, 0.9455948750000001, 0.9505896666666667, 0.9515275833333333, 0.9467235833333334]\n",
      "第40轮StackingCV线下ROC： 0.9494451249999999\n",
      "**************************************************\n"
     ]
    },
    {
     "name": "stdout",
     "output_type": "stream",
     "text": [
      "第41轮StackingCV线下ROC： [0.9480854166666667, 0.9485437916666667, 0.9481090833333334, 0.9527997499999998, 0.9500298333333332]\n",
      "第41轮StackingCV线下ROC： 0.9495135749999999\n",
      "**************************************************\n",
      "第42轮StackingCV线下ROC： [0.9473690833333333, 0.9526470833333335, 0.9492510000000001, 0.9521353333333334, 0.9466637083333334]\n",
      "第42轮StackingCV线下ROC： 0.9496132416666667\n",
      "**************************************************\n",
      "第43轮StackingCV线下ROC： [0.9564291666666667, 0.9491801666666665, 0.9520019999999999, 0.9461442083333335, 0.9450495416666668]\n",
      "第43轮StackingCV线下ROC： 0.9497610166666666\n",
      "**************************************************\n",
      "第44轮StackingCV线下ROC： [0.9499897500000001, 0.949074625, 0.9490365416666666, 0.9530485, 0.9467545833333332]\n",
      "第44轮StackingCV线下ROC： 0.9495808\n",
      "**************************************************\n",
      "第45轮StackingCV线下ROC： [0.9528117500000002, 0.9497942916666665, 0.951213, 0.9490989583333334, 0.9464824166666665]\n",
      "第45轮StackingCV线下ROC： 0.9498800833333334\n",
      "**************************************************\n",
      "第46轮StackingCV线下ROC： [0.9487038333333334, 0.9502945833333334, 0.9514550416666667, 0.9463959166666667, 0.9515657083333334]\n",
      "第46轮StackingCV线下ROC： 0.9496830166666668\n",
      "**************************************************\n",
      "第47轮StackingCV线下ROC： [0.9526125416666666, 0.9475515833333334, 0.9484587083333333, 0.9483845000000001, 0.9511272083333333]\n",
      "第47轮StackingCV线下ROC： 0.9496269083333335\n",
      "**************************************************\n",
      "第48轮StackingCV线下ROC： [0.9465197500000001, 0.9523276666666667, 0.9488847083333334, 0.9505762916666666, 0.9497217083333332]\n",
      "第48轮StackingCV线下ROC： 0.9496060250000001\n",
      "**************************************************\n",
      "第49轮StackingCV线下ROC： [0.9482290833333333, 0.9509550416666667, 0.9492415416666666, 0.9489380416666668, 0."
     ]
    },
    {
     "data": {
      "text/html": [
       "<b>limit_output extension: Maximum message size of 10000 exceeded with 10109 characters</b>"
      ]
     },
     "metadata": {},
     "output_type": "display_data"
    }
   ],
   "source": [
    "from sklearn.model_selection import StratifiedKFold\n",
    "from sklearn.metrics import roc_auc_score\n",
    "import math \n",
    "\n",
    "random = 407\n",
    "pred_probs = pd.DataFrame()\n",
    "for i in range(100):\n",
    "    \n",
    "    random = random + i \n",
    "    \n",
    "    clf1 = XGBClassifier(\n",
    "        n_estimators = 100 + math.floor(random/5),\n",
    "        max_depth = 3 + math.floor(random/300),\n",
    "        min_child_weight = 1 + math.floor(random/400),\n",
    "        eval_metric='mlogloss',random_state=random)\n",
    "    clf2 = LGBMClassifier(\n",
    "        n_estimators= 100 + math.floor(random/5),\n",
    "        max_depth = 4 + math.floor(random/300),\n",
    "        num_leaves = 10 + math.floor(random/200),\n",
    "        random_state=random)\n",
    "    clf3 = CatBoostClassifier(\n",
    "        n_estimators= 100 + math.floor(random/5),\n",
    "        learning_rate=0.01,\n",
    "        depth = 4 + math.floor(random/300),\n",
    "        silent=True,random_state=random)\n",
    "    clf4 = KNeighborsClassifier(\n",
    "    n_neighbors=1 + math.floor(random/400)\n",
    "                                )\n",
    "\n",
    "    meta_model = MLPClassifier(activation = 'tanh',random_state=random)\n",
    "    # meta_model = LogisticRegression()\n",
    "    cv_num = 3\n",
    "    sclf = StackingCVClassifier(classifiers=[clf1, clf2, clf3,clf4\n",
    "                                            ] \n",
    "                             ,meta_classifier=meta_model\n",
    "                             ,use_probas=True\n",
    "                             ,store_train_meta_features = True\n",
    "                             ,cv=cv_num\n",
    "                             ,random_state=random\n",
    "    #                          ,fit_base_estimators=False\n",
    "                             )\n",
    "\n",
    "    \n",
    "    skf = StratifiedKFold(n_splits=5\n",
    "                          ,shuffle=True\n",
    "                          ,random_state=random)\n",
    "\n",
    "    roc = []\n",
    "    pred_prob = []\n",
    "    for train_index, test_index in skf.split(X, y):\n",
    "        train_X, test_X = X.iloc[train_index,:], X.iloc[test_index,:]\n",
    "        train_y, test_y = y.iloc[train_index], y.iloc[test_index]\n",
    "        \n",
    "#         train_X.index = range(train_X.shape[0]) \n",
    "#         train_y.index =range(train_y.shape[0]) \n",
    "#         test_X.index = range(test_X.shape[0])\n",
    "#         test_y.index = range(test_y.shape[0]) \n",
    "\n",
    "        sclf.fit(train_X,train_y)\n",
    "        auc = roc_auc_score(test_y, sclf.predict_proba(test_X)[:, 1])\n",
    "        roc.append(auc)\n",
    "        pred_prob.append(sclf.predict_proba(new_test_data)[:, 1])\n",
    "    \n",
    "    pred_prob = pd.DataFrame(np.mean(np.array(pred_prob),axis=0)\n",
    "                             ,columns=[\"StackingCV\"])\n",
    "    pred_probs = pd.concat([pred_probs,pred_prob],axis=1)\n",
    "\n",
    "    print(\"第{a}轮StackingCV线下ROC：\".format(a=i+1),roc)\n",
    "    print(\"第{a}轮StackingCV线下ROC：\".format(a=i+1),np.mean(roc))\n",
    "    print(\"*\"*50)"
   ]
  },
  {
   "cell_type": "code",
   "execution_count": null,
   "id": "39d29949",
   "metadata": {
    "ExecuteTime": {
     "start_time": "2022-05-05T04:22:53.987Z"
    },
    "hidden": true
   },
   "outputs": [],
   "source": [
    "pd.set_option('precision',10) #显示3位\n",
    "y_predproba = pred_probs.mean(axis=1)\n",
    "submit = pd.concat([test_data[\"CUST_UID\"],y_predproba],axis=1)"
   ]
  },
  {
   "cell_type": "code",
   "execution_count": null,
   "id": "c30d6d48",
   "metadata": {
    "ExecuteTime": {
     "start_time": "2022-05-05T04:22:54.603Z"
    },
    "hidden": true
   },
   "outputs": [],
   "source": [
    "from datetime import datetime\n",
    "now = datetime.now()\n",
    "day_now = datetime.strftime(now,'%Y-%m-%d')\n",
    "time_now = datetime.strftime(now,\"%H_%M_%S\")\n",
    "\n",
    "Folder_path = \"./testA/{a}/\".format(a=day_now)\n",
    "if not os.path.exists(Folder_path):\n",
    "    os.makedirs(Folder_path)\n",
    "submit.to_csv(Folder_path+\"submission{time}.txt\".format(time=time_now)\n",
    "              ,index=False,header=False,encoding='utf-8',sep='\\t',float_format='%.10f') # 保存的历史文件"
   ]
  },
  {
   "cell_type": "markdown",
   "id": "afecce9a",
   "metadata": {
    "hidden": true
   },
   "source": [
    "### 先训练在堆叠"
   ]
  },
  {
   "cell_type": "code",
   "execution_count": null,
   "id": "33181070",
   "metadata": {
    "ExecuteTime": {
     "start_time": "2022-05-05T04:22:56.354Z"
    },
    "hidden": true
   },
   "outputs": [],
   "source": [
    "from sklearn.model_selection import StratifiedKFold\n",
    "from sklearn.metrics import roc_auc_score\n",
    "\n",
    "random = 407\n",
    "clf_list = []\n",
    "for i in range(100):\n",
    "    \n",
    "    random = random + i \n",
    "    \n",
    "    clf1 = XGBClassifier(\n",
    "        n_estimators = 100 + math.floor(random/5),\n",
    "        max_depth = 3 + math.floor(random/300),\n",
    "        min_child_weight = 1 + math.floor(random/400),\n",
    "        eval_metric='mlogloss',random_state=random)\n",
    "    clf2 = LGBMClassifier(\n",
    "        n_estimators= 100 + math.floor(random/5),\n",
    "        max_depth = 4 + math.floor(random/300),\n",
    "        num_leaves = 10 + math.floor(random/200),\n",
    "        random_state=random)\n",
    "    clf3 = CatBoostClassifier(\n",
    "        n_estimators= 100 + math.floor(random/5),\n",
    "        learning_rate=0.01,\n",
    "        depth = 4 + math.floor(random/300),\n",
    "        silent=True,random_state=random)\n",
    "    clf4 = KNeighborsClassifier(\n",
    "    n_neighbors=1 + math.floor(random/400)\n",
    "                                )\n",
    "\n",
    "    \n",
    "    clf_list.append(clf1)\n",
    "    clf_list.append(clf2)\n",
    "    clf_list.append(clf3)\n",
    "    clf_list.append(clf4)\n",
    "\n",
    "meta_model = MLPClassifier(activation = 'tanh',random_state=random)\n",
    "# meta_model = LogisticRegression()\n",
    "cv_num = 3\n",
    "sclf = StackingCVClassifier(classifiers=clf_list \n",
    "                         ,meta_classifier=meta_model\n",
    "                         ,use_probas=True\n",
    "                         ,store_train_meta_features = True\n",
    "                         ,cv=cv_num\n",
    "                         ,random_state=random\n",
    "#                          ,fit_base_estimators=False\n",
    "                         )\n",
    "\n",
    "skf = StratifiedKFold(n_splits=5\n",
    "                      ,shuffle=True\n",
    "                      ,random_state=random)\n",
    "\n",
    "roc = []\n",
    "pred_prob = []\n",
    "num_k = 0 \n",
    "for train_index, test_index in skf.split(X, y):  \n",
    "    \n",
    "    train_X, test_X = X.iloc[train_index,:], X.iloc[test_index,:]\n",
    "    train_y, test_y = y.iloc[train_index], y.iloc[test_index]\n",
    "\n",
    "    sclf.fit(train_X,train_y)\n",
    "    auc = roc_auc_score(test_y, sclf.predict_proba(test_X)[:, 1])\n",
    "    roc.append(auc)\n",
    "    pred_prob.append(sclf.predict_proba(new_test_data)[:, 1])\n",
    "    \n",
    "    num_k = num_k+1 \n",
    "    print(\"第{a}轮交叉验证结束\".format(a=num_k))\n",
    "\n",
    "pred_prob = pd.DataFrame(np.mean(np.array(pred_prob),axis=0)\n",
    "                             ,columns=[\"StackingCV\"])\n",
    "\n",
    "print(\"StackingCV线下ROC：\",roc)\n",
    "print(\"StackingCV线下ROC：\",np.mean(roc))\n",
    "print(\"*\"*50)"
   ]
  },
  {
   "cell_type": "code",
   "execution_count": null,
   "id": "6b90f6d3",
   "metadata": {
    "ExecuteTime": {
     "start_time": "2022-05-05T04:22:57.166Z"
    },
    "hidden": true
   },
   "outputs": [],
   "source": [
    "y_predproba = pred_prob\n",
    "submit = pd.concat([test_data[\"CUST_UID\"],y_predproba],axis=1)"
   ]
  },
  {
   "cell_type": "code",
   "execution_count": null,
   "id": "1394d1b8",
   "metadata": {
    "ExecuteTime": {
     "start_time": "2022-05-05T04:22:57.821Z"
    },
    "hidden": true
   },
   "outputs": [],
   "source": [
    "from datetime import datetime\n",
    "now = datetime.now()\n",
    "day_now = datetime.strftime(now,'%Y-%m-%d')\n",
    "time_now = datetime.strftime(now,\"%H_%M_%S\")\n",
    "\n",
    "Folder_path = \"./testA/{a}/\".format(a=day_now)\n",
    "if not os.path.exists(Folder_path):\n",
    "    os.makedirs(Folder_path)\n",
    "submit.to_csv(Folder_path+\"submission{time}.txt\".format(time=time_now)\n",
    "              ,index=False,header=False,encoding='utf-8',sep='\\t',float_format='%.10f') # 保存的历史文件"
   ]
  },
  {
   "cell_type": "markdown",
   "id": "424a5242",
   "metadata": {},
   "source": [
    "# 预测结果"
   ]
  },
  {
   "cell_type": "markdown",
   "id": "29b4b479",
   "metadata": {},
   "source": [
    "## 测试集缺失值填补"
   ]
  },
  {
   "cell_type": "code",
   "execution_count": 114,
   "id": "0dcdb1e9",
   "metadata": {
    "ExecuteTime": {
     "end_time": "2022-05-04T05:45:01.024771Z",
     "start_time": "2022-05-04T05:44:59.383164Z"
    }
   },
   "outputs": [],
   "source": [
    "new_train_data = train_data.replace('?',np.nan)#用np.nan替换？\n",
    "X = new_train_data.drop(columns=[\"LABEL\",\"CUST_UID\"])\n",
    "y = new_train_data[\"LABEL\"]\n",
    "X = One_Hot(char_type_fea,train_X=X\n",
    "            ,test_X=None\n",
    "            ,usetype=\"train\") \n",
    "X = X.fillna(-1)\n",
    "X = data_log(num_type_fea,X,num=2)\n",
    "\n",
    "new_test_data = test_data.replace('?',np.nan)#用np.nan替换？\n",
    "new_test_data = new_test_data.drop(columns=[\"CUST_UID\"])\n",
    "new_test_data = One_Hot(char_type_fea,train_X=X\n",
    "                        ,test_X=new_test_data\n",
    "                        ,usetype=\"test\")\n",
    "new_test_data = new_test_data.fillna(-1)\n",
    "new_test_data = data_log(num_type_fea,new_test_data,num=2)"
   ]
  },
  {
   "cell_type": "code",
   "execution_count": 115,
   "id": "b547eb37",
   "metadata": {
    "ExecuteTime": {
     "end_time": "2022-05-04T06:07:59.972489Z",
     "start_time": "2022-05-04T05:45:01.456617Z"
    }
   },
   "outputs": [
    {
     "name": "stdout",
     "output_type": "stream",
     "text": [
      "XGB线下ROC： [0.9441488333333334, 0.9449455000000001, 0.9494190416666665, 0.9478399166666667, 0.9433204166666667]\n",
      "XGB线下ROC： 0.9459347416666667\n",
      "**************************************************\n",
      "LGBM线下ROC： [0.9489535416666666, 0.949116125, 0.9518795833333333, 0.9508032083333333, 0.9478317500000001]\n",
      "LGBM线下ROC： 0.9497168416666666\n",
      "**************************************************\n",
      "Cat线下ROC： [0.9497739583333332, 0.9497801666666668, 0.9523079583333334, 0.951830875, 0.9484618749999999]\n",
      "Cat线下ROC： 0.9504309666666666\n",
      "**************************************************\n",
      "KNN线下ROC： [0.7271356666666666, 0.7375070416666667, 0.7307043333333334, 0.739273625, 0.74134925]\n",
      "KNN线下ROC： 0.7351939833333333\n",
      "**************************************************\n",
      "StackingCV线下ROC： [0.9501445833333333, 0.9504121666666666, 0.9531057916666665, 0.95253025, 0.9489845416666667]\n",
      "StackingCV线下ROC： 0.9510354666666666\n",
      "**************************************************\n"
     ]
    }
   ],
   "source": [
    "from sklearn.model_selection import StratifiedKFold\n",
    "from sklearn.metrics import roc_auc_score\n",
    "skf = StratifiedKFold(n_splits=5\n",
    "                      ,shuffle=True\n",
    "                      ,random_state=407)\n",
    "\n",
    "pred_probs = {}\n",
    "for clf, label in zip([clf1, clf2, clf3,clf4, sclf], \n",
    "                          ['XGB', \n",
    "                           'LGBM', \n",
    "                           'Cat',\n",
    "                           'KNN',\n",
    "                           'StackingCV']):\n",
    "    \n",
    "    roc = []\n",
    "    pred_prob = []\n",
    "    for train_index, test_index in skf.split(X, y):\n",
    "        train_X, test_X = X.iloc[train_index,:], X.iloc[test_index,:]\n",
    "        train_y, test_y = y.iloc[train_index], y.iloc[test_index]\n",
    "        \n",
    "        clf.fit(train_X,train_y)\n",
    "        auc = roc_auc_score(test_y, clf.predict_proba(test_X)[:, 1])\n",
    "        roc.append(auc)\n",
    "        pred_prob.append(clf.predict_proba(new_test_data)[:, 1])\n",
    "        \n",
    "    pred_probs[label] = pred_prob\n",
    "    \n",
    "    print(\"{a}线下ROC：\".format(a=label),roc)\n",
    "    print(\"{a}线下ROC：\".format(a=label),np.mean(roc))\n",
    "    print(\"*\"*50)"
   ]
  },
  {
   "cell_type": "markdown",
   "id": "34a87591",
   "metadata": {},
   "source": [
    "### 数值型：算法填补"
   ]
  },
  {
   "cell_type": "code",
   "execution_count": 175,
   "id": "3ce79585",
   "metadata": {
    "ExecuteTime": {
     "end_time": "2022-05-05T02:30:39.591052Z",
     "start_time": "2022-05-05T02:29:58.877964Z"
    }
   },
   "outputs": [
    {
     "name": "stdout",
     "output_type": "stream",
     "text": [
      "开始填充\n",
      "完成填充\n"
     ]
    }
   ],
   "source": [
    "y = new_train_data[\"LABEL\"]\n",
    "X_missing = new_train_data.drop(columns=[\"LABEL\",\"CUST_UID\"])\n",
    "\n",
    "new_test_data = test_data.replace('?',np.nan)#用np.nan替换？\n",
    "new_test_data = new_test_data.drop(columns=[\"CUST_UID\"])\n",
    "\n",
    "# 算法填补缺失值\n",
    "new_test_data = regessor_fillna(char_fea=char_type_fea\n",
    "                                 ,X=X_missing_reg\n",
    "                                 ,new_data=new_test_data\n",
    "                                 ,sortindex=sortindex\n",
    "                                 ,model=model \n",
    "                                 ,usetype=\"test\"\n",
    "                                )\n",
    "new_test_data = new_test_data.fillna(-1)"
   ]
  },
  {
   "cell_type": "code",
   "execution_count": 176,
   "id": "f285c7a3",
   "metadata": {
    "ExecuteTime": {
     "end_time": "2022-05-05T02:30:40.770982Z",
     "start_time": "2022-05-05T02:30:40.031873Z"
    }
   },
   "outputs": [],
   "source": [
    "new_test_data = data_log(num_type_fea,new_test_data,num=1)"
   ]
  },
  {
   "cell_type": "markdown",
   "id": "9dd67c27",
   "metadata": {
    "heading_collapsed": true
   },
   "source": [
    "### 0填补"
   ]
  },
  {
   "cell_type": "code",
   "execution_count": 113,
   "id": "70db25e6",
   "metadata": {
    "ExecuteTime": {
     "end_time": "2022-05-02T01:28:03.219672Z",
     "start_time": "2022-05-02T01:28:03.069073Z"
    },
    "hidden": true
   },
   "outputs": [],
   "source": [
    "new_test_data = test_data.replace('?',np.nan)#用np.nan替换？\n",
    "new_test_data = new_test_data.fillna(0) "
   ]
  },
  {
   "cell_type": "markdown",
   "id": "890dfbcd",
   "metadata": {},
   "source": [
    "## 计算并保存预测结果"
   ]
  },
  {
   "cell_type": "code",
   "execution_count": 15,
   "id": "7b4f4dfb",
   "metadata": {
    "ExecuteTime": {
     "end_time": "2022-05-07T06:12:03.573190Z",
     "start_time": "2022-05-07T06:12:03.557012Z"
    }
   },
   "outputs": [],
   "source": [
    "def get_result(predictor,new_test_data,test_data):\n",
    "    pd.set_option('precision', 10) #显示3位\n",
    "    y_predproba = predictor.predict_proba(new_test_data, as_multiclass=False)\n",
    "    submit = pd.concat([test_data[\"CUST_UID\"],y_predproba],axis=1)\n",
    "\n",
    "    from datetime import datetime\n",
    "    now = datetime.now()\n",
    "    day_now = datetime.strftime(now,'%Y-%m-%d')\n",
    "    time_now = datetime.strftime(now,\"%H_%M_%S\")\n",
    "\n",
    "    Folder_path = \"./testA/{a}/\".format(a=day_now)\n",
    "    if not os.path.exists(Folder_path):\n",
    "        os.makedirs(Folder_path)\n",
    "    submit.to_csv(Folder_path+\"submission{time}.txt\".format(time=time_now)\n",
    "                  ,index=False,header=False,encoding='utf-8',sep='\\t',float_format='%.10f') # 保存的历史文件"
   ]
  },
  {
   "cell_type": "code",
   "execution_count": 177,
   "id": "6afc19f2",
   "metadata": {
    "ExecuteTime": {
     "end_time": "2022-05-05T02:31:59.591547Z",
     "start_time": "2022-05-05T02:31:58.614162Z"
    }
   },
   "outputs": [
    {
     "name": "stderr",
     "output_type": "stream",
     "text": [
      "Loading: AutogluonModels/ag-20220505_021827\\models\\WeightedEnsemble_L2\\model.pkl\n",
      "Loading: AutogluonModels/ag-20220505_021827\\models\\LightGBM\\model.pkl\n",
      "Loading: AutogluonModels/ag-20220505_021827\\models\\NeuralNetTorch\\model.pkl\n",
      "Loading: AutogluonModels/ag-20220505_021827\\models\\XGBoost\\model.pkl\n"
     ]
    }
   ],
   "source": [
    "pd.set_option('precision', 10) #显示3位\n",
    "y_predproba = predictor.predict_proba(new_test_data, as_multiclass=False)"
   ]
  },
  {
   "cell_type": "code",
   "execution_count": 178,
   "id": "8667437c",
   "metadata": {
    "ExecuteTime": {
     "end_time": "2022-05-05T02:32:00.143467Z",
     "start_time": "2022-05-05T02:32:00.125514Z"
    }
   },
   "outputs": [],
   "source": [
    "submit = pd.concat([test_data[\"CUST_UID\"],y_predproba],axis=1)"
   ]
  },
  {
   "cell_type": "code",
   "execution_count": 179,
   "id": "ab2da2f5",
   "metadata": {
    "ExecuteTime": {
     "end_time": "2022-05-05T02:32:01.084232Z",
     "start_time": "2022-05-05T02:32:00.918455Z"
    }
   },
   "outputs": [],
   "source": [
    "from datetime import datetime\n",
    "now = datetime.now()\n",
    "day_now = datetime.strftime(now,'%Y-%m-%d')\n",
    "time_now = datetime.strftime(now,\"%H_%M_%S\")\n",
    "\n",
    "Folder_path = \"./testA/{a}/\".format(a=day_now)\n",
    "if not os.path.exists(Folder_path):\n",
    "    os.makedirs(Folder_path)\n",
    "submit.to_csv(Folder_path+\"submission{time}.txt\".format(time=time_now)\n",
    "              ,index=False,header=False,encoding='utf-8',sep='\\t',float_format='%.10f') # 保存的历史文件"
   ]
  },
  {
   "cell_type": "code",
   "execution_count": 16,
   "id": "7b08a0e3",
   "metadata": {
    "ExecuteTime": {
     "end_time": "2022-05-01T08:00:19.613836Z",
     "start_time": "2022-05-01T08:00:19.540427Z"
    }
   },
   "outputs": [],
   "source": [
    " # 当天用于提交的结果\n",
    "submit.to_csv(Folder_path+\"submission.txt\"\n",
    "              ,index=False,header=False,encoding='utf-8',sep='\\t',float_format='%.10f')"
   ]
  },
  {
   "cell_type": "markdown",
   "id": "16c4294d",
   "metadata": {
    "ExecuteTime": {
     "end_time": "2022-05-01T03:56:42.877052Z",
     "start_time": "2022-05-01T03:56:42.874060Z"
    },
    "heading_collapsed": true
   },
   "source": [
    "## 判断是否符合输出格式"
   ]
  },
  {
   "cell_type": "code",
   "execution_count": 275,
   "id": "6763c434",
   "metadata": {
    "ExecuteTime": {
     "end_time": "2022-05-01T07:15:24.511150Z",
     "start_time": "2022-05-01T07:15:24.412035Z"
    },
    "hidden": true
   },
   "outputs": [
    {
     "name": "stdout",
     "output_type": "stream",
     "text": [
      "格式正确\n"
     ]
    }
   ],
   "source": [
    "# 检测文件是否是utf-8无bom格式的\n",
    "import sys, codecs\n",
    " \n",
    "def detectUTF8(file_name):\n",
    "    state = 0\n",
    "    line_num = 0\n",
    "    file_obj = open(file_name)\n",
    "    all_lines = file_obj.readlines()\n",
    "    file_obj.close()\n",
    "    for line in all_lines:\n",
    "        line_num += 1\n",
    "        line_len = len(line)\n",
    "        for index in range(line_len):\n",
    "            if state == 0:\n",
    "                if ord(line[index]) & 0x80 == 0x00:  # 上表中的第一种情况\n",
    "                    state = 0\n",
    "                elif ord(line[index]) & 0xE0 == 0xC0:  # 上表中的第二种情况\n",
    "                    state = 1\n",
    "                elif ord(line[index]) & 0xF0 == 0xE0:  # 第三种\n",
    "                    state = 2\n",
    "                elif ord(line[index]) & 0xF8 == 0xF0:  # 第四种\n",
    "                    state = 3\n",
    "                else:\n",
    "                    print(\"%s isn't a utf8 file,line:\\t\" % file_name + str(line_num))\n",
    "                    sys.exit(1)\n",
    "            else:\n",
    "                if not ord(line[index]) & 0xC0 == 0x80:\n",
    "                    print(\"%s isn't a utf8 file in line:\\t\" % file_name + str(line_num))\n",
    "                    sys.exit(1)\n",
    "                state -= 1\n",
    "                \n",
    "    if existBOM(file_name):\n",
    "        print(\"%s isn't a standard utf8 file,include BOM header.\" % file_name)\n",
    "        sys.exit(1)\n",
    "    else:\n",
    "        print(\"格式正确\")\n",
    "    \n",
    "    \n",
    "def existBOM(file_name):\n",
    "    file_obj = open(file_name, 'r')\n",
    "    code = file_obj.read(3)\n",
    "    file_obj.close()\n",
    "    if code == codecs.BOM_UTF8:  # 判断是否包含EF BB BF\n",
    "        return True\n",
    "    return False\n",
    " \n",
    "if __name__ == \"__main__\":\n",
    "    file_name = Folder_path + 'submission.txt'\n",
    "    detectUTF8(file_name)"
   ]
  },
  {
   "cell_type": "code",
   "execution_count": null,
   "id": "d6f92366",
   "metadata": {
    "hidden": true
   },
   "outputs": [],
   "source": []
  }
 ],
 "metadata": {
  "kernelspec": {
   "display_name": "PyTorch",
   "language": "python",
   "name": "pytorch"
  },
  "language_info": {
   "codemirror_mode": {
    "name": "ipython",
    "version": 3
   },
   "file_extension": ".py",
   "mimetype": "text/x-python",
   "name": "python",
   "nbconvert_exporter": "python",
   "pygments_lexer": "ipython3",
   "version": "3.7.12"
  },
  "latex_envs": {
   "LaTeX_envs_menu_present": true,
   "autoclose": false,
   "autocomplete": true,
   "bibliofile": "biblio.bib",
   "cite_by": "apalike",
   "current_citInitial": 1,
   "eqLabelWithNumbers": true,
   "eqNumInitial": 1,
   "hotkeys": {
    "equation": "Ctrl-E",
    "itemize": "Ctrl-I"
   },
   "labels_anchors": false,
   "latex_user_defs": false,
   "report_style_numbering": false,
   "user_envs_cfg": false
  },
  "nbTranslate": {
   "displayLangs": [
    "*"
   ],
   "hotkey": "alt-t",
   "langInMainMenu": true,
   "sourceLang": "en",
   "targetLang": "fr",
   "useGoogleTranslate": true
  },
  "toc": {
   "base_numbering": 1,
   "nav_menu": {},
   "number_sections": true,
   "sideBar": true,
   "skip_h1_title": false,
   "title_cell": "Table of Contents",
   "title_sidebar": "Contents",
   "toc_cell": false,
   "toc_position": {
    "height": "calc(100% - 180px)",
    "left": "10px",
    "top": "150px",
    "width": "255.713px"
   },
   "toc_section_display": true,
   "toc_window_display": true
  },
  "varInspector": {
   "cols": {
    "lenName": 16,
    "lenType": 16,
    "lenVar": 40
   },
   "kernels_config": {
    "python": {
     "delete_cmd_postfix": "",
     "delete_cmd_prefix": "del ",
     "library": "var_list.py",
     "varRefreshCmd": "print(var_dic_list())"
    },
    "r": {
     "delete_cmd_postfix": ") ",
     "delete_cmd_prefix": "rm(",
     "library": "var_list.r",
     "varRefreshCmd": "cat(var_dic_list()) "
    }
   },
   "types_to_exclude": [
    "module",
    "function",
    "builtin_function_or_method",
    "instance",
    "_Feature"
   ],
   "window_display": false
  }
 },
 "nbformat": 4,
 "nbformat_minor": 5
}
