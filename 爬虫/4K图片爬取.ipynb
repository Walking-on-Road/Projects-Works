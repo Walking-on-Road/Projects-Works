{
 "cells": [
  {
   "cell_type": "code",
   "execution_count": 1,
   "metadata": {
    "ExecuteTime": {
     "end_time": "2021-03-14T01:12:00.700704Z",
     "start_time": "2021-03-14T01:12:00.140224Z"
    }
   },
   "outputs": [
    {
     "name": "stdout",
     "output_type": "stream",
     "text": [
      "https://pic.netbian.com/4kmeinv/index_1.html\n",
      "https://pic.netbian.com/4kmeinv/index_2.html\n"
     ]
    }
   ],
   "source": [
    "#!/usr/bin/env python \n",
    "# -*- coding:utf-8 -*-\n",
    "#需求：解析下载图片数据 http://pic.netbian.com/4kmeinv/\n",
    "import requests\n",
    "from lxml import etree\n",
    "import os\n",
    "if __name__ == \"__main__\":\n",
    "    #url = 'https://pic.netbian.com/4kmeinv/index_3.html'\n",
    "    \n",
    "    #设置一个通用的url模板\n",
    "    url = 'https://pic.netbian.com/4kmeinv/index_%d.html' #如此设置，可以爬取多个页面上的数据\n",
    "    # pageNum = 2\n",
    "\n",
    "    for pageNum in range(1,3):\n",
    "        #对应页码的url\n",
    "        new_url = format(url%pageNum)\n",
    "        print(new_url)"
   ]
  },
  {
   "cell_type": "code",
   "execution_count": 3,
   "metadata": {
    "ExecuteTime": {
     "end_time": "2021-03-11T04:45:41.372402Z",
     "start_time": "2021-03-11T04:45:32.611399Z"
    }
   },
   "outputs": [
    {
     "name": "stdout",
     "output_type": "stream",
     "text": [
      "刘亦菲白色衣服4k壁纸.jpg 下载成功！！！\n",
      "刘诗诗侧脸高清图5k壁纸.jpg 下载成功！！！\n",
      "清新 美女 太阳帽 户外摄影 狗尾巴草 4k美女壁纸.jpg 下载成功！！！\n",
      "和服美女4k电脑壁纸.jpg 下载成功！！！\n",
      "绿色植物 清新养美胸美女4k壁纸3840x2160.jpg 下载成功！！！\n",
      "王秋紫写真4k美女壁纸.jpg 下载成功！！！\n",
      "异域风情美女长发低胸装4k美女壁纸.jpg 下载成功！！！\n",
      "美女车模 养眼气质可爱美女4k壁纸.jpg 下载成功！！！\n",
      "复古旗袍美女4k壁纸3840x2160.jpg 下载成功！！！\n",
      "异域风情美女4k壁纸.jpg 下载成功！！！\n",
      "美女车模 长发 白色裙子 4k美女壁纸.jpg 下载成功！！！\n",
      "克拉女神百琳 唯美白色婚纱裙子4k美女高清壁纸.jpg 下载成功！！！\n",
      "克拉女神江琴 高颜值美女 牛仔衣 小裙子 养眼美女4k高清壁纸.jpg 下载成功！！！\n",
      "克拉女神姜璐 穿毛衣养眼美女4k壁纸.jpg 下载成功！！！\n",
      "露肩膀棕色连衣裙 户外写真美女4k壁纸.jpg 下载成功！！！\n",
      "克拉女神江琴 牛仔衣 裙子 高颜值美女4K壁纸.jpg 下载成功！！！\n",
      "克拉女神江琴 长发美女 红色裙子4K美女壁纸.jpg 下载成功！！！\n",
      "克拉女神高清美女江琴 红色长裙子 4k美女壁纸.jpg 下载成功！！！\n",
      "克拉女神高洁 美女模特 沙发 写真4K壁纸.jpg 下载成功！！！\n",
      "克拉女神高洁4k高清壁纸.jpg 下载成功！！！\n"
     ]
    }
   ],
   "source": [
    "    \n",
    "    headers = {\n",
    "        'User-Agent':'Mozilla/5.0 (Macintosh; Intel Mac OS X 10_12_0) AppleWebKit/537.36 (KHTML, like Gecko) Chrome/73.0.3683.103 Safari/537.36'\n",
    "    }\n",
    "    response = requests.get(url=new_url,headers=headers)\n",
    "    #手动设定响应数据的编码格式\n",
    "    # response.encoding = 'utf-8'\n",
    "    page_text = response.text\n",
    "\n",
    "    #数据解析：src的属性值  alt属性\n",
    "    tree = etree.HTML(page_text)\n",
    "    li_list = tree.xpath('//div[@class=\"slist\"]/ul/li')\n",
    "\n",
    "\n",
    "    #创建一个文件夹\n",
    "    if not os.path.exists('./picLibs1'):\n",
    "        os.mkdir('./picLibs1')\n",
    "\n",
    "    for li in li_list:\n",
    "        img_src = 'http://pic.netbian.com'+li.xpath('./a/img/@src')[0]\n",
    "        img_name = li.xpath('./a/img/@alt')[0]+'.jpg'\n",
    "        #通用处理中文乱码的解决方案\n",
    "        img_name = img_name.encode('iso-8859-1').decode('gbk')\n",
    "\n",
    "        # print(img_name,img_src)\n",
    "        #请求图片进行持久化存储\n",
    "        img_data = requests.get(url=img_src,headers=headers).content\n",
    "        img_path = 'picLibs1/'+img_name\n",
    "        with open(img_path,'wb') as fp:\n",
    "            fp.write(img_data)\n",
    "            print(img_name,'下载成功！！！')"
   ]
  }
 ],
 "metadata": {
  "kernelspec": {
   "display_name": "Python 3",
   "language": "python",
   "name": "python3"
  },
  "language_info": {
   "codemirror_mode": {
    "name": "ipython",
    "version": 3
   },
   "file_extension": ".py",
   "mimetype": "text/x-python",
   "name": "python",
   "nbconvert_exporter": "python",
   "pygments_lexer": "ipython3",
   "version": "3.8.3"
  },
  "latex_envs": {
   "LaTeX_envs_menu_present": true,
   "autoclose": false,
   "autocomplete": true,
   "bibliofile": "biblio.bib",
   "cite_by": "apalike",
   "current_citInitial": 1,
   "eqLabelWithNumbers": true,
   "eqNumInitial": 1,
   "hotkeys": {
    "equation": "Ctrl-E",
    "itemize": "Ctrl-I"
   },
   "labels_anchors": false,
   "latex_user_defs": false,
   "report_style_numbering": false,
   "user_envs_cfg": false
  },
  "nbTranslate": {
   "displayLangs": [
    "*"
   ],
   "hotkey": "alt-t",
   "langInMainMenu": true,
   "sourceLang": "en",
   "targetLang": "fr",
   "useGoogleTranslate": true
  },
  "toc": {
   "base_numbering": 1,
   "nav_menu": {},
   "number_sections": true,
   "sideBar": true,
   "skip_h1_title": false,
   "title_cell": "Table of Contents",
   "title_sidebar": "Contents",
   "toc_cell": false,
   "toc_position": {},
   "toc_section_display": true,
   "toc_window_display": false
  },
  "varInspector": {
   "cols": {
    "lenName": 16,
    "lenType": 16,
    "lenVar": 40
   },
   "kernels_config": {
    "python": {
     "delete_cmd_postfix": "",
     "delete_cmd_prefix": "del ",
     "library": "var_list.py",
     "varRefreshCmd": "print(var_dic_list())"
    },
    "r": {
     "delete_cmd_postfix": ") ",
     "delete_cmd_prefix": "rm(",
     "library": "var_list.r",
     "varRefreshCmd": "cat(var_dic_list()) "
    }
   },
   "types_to_exclude": [
    "module",
    "function",
    "builtin_function_or_method",
    "instance",
    "_Feature"
   ],
   "window_display": false
  }
 },
 "nbformat": 4,
 "nbformat_minor": 4
}
