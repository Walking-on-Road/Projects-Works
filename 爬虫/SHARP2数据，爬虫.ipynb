{
 "cells": [
  {
   "cell_type": "code",
   "execution_count": 5,
   "id": "fb036f21-ad58-4363-b5be-6755b9535705",
   "metadata": {
    "ExecuteTime": {
     "end_time": "2021-10-11T07:47:33.427072Z",
     "start_time": "2021-10-11T07:45:47.947089Z"
    }
   },
   "outputs": [
    {
     "name": "stdout",
     "output_type": "stream",
     "text": [
      "200\n"
     ]
    },
    {
     "name": "stderr",
     "output_type": "stream",
     "text": [
      "IOPub data rate exceeded.\n",
      "The notebook server will temporarily stop sending output\n",
      "to the client in order to avoid crashing it.\n",
      "To change this limit, set the config variable\n",
      "`--NotebookApp.iopub_data_rate_limit`.\n",
      "\n",
      "Current values:\n",
      "NotebookApp.iopub_data_rate_limit=1000000.0 (bytes/sec)\n",
      "NotebookApp.rate_limit_window=3.0 (secs)\n",
      "\n"
     ]
    }
   ],
   "source": [
    "#UA：User-Agent（请求载体的身份标识）\n",
    "#UA检测：门户网站的服务器会检测对应请求的载体身份标识，如果检测到请求的载体身份标识为某一款浏览器，\n",
    "#说明该请求是一个正常的请求。但是，如果检测到请求的载体身份标识不是基于某一款浏览器的，则表示该请求\n",
    "#为不正常的请求（爬虫），则服务器端就很有可能拒绝该次请求。\n",
    "\n",
    "#UA伪装：让爬虫对应的请求载体身份标识伪装成某一款浏览器\n",
    "import requests\n",
    "from lxml import etree\n",
    "import pandas as pd\n",
    "import json\n",
    "\n",
    "############\n",
    "session = requests.Session()\n",
    "headers = {\n",
    "        'User-Agent': 'Mozilla/5.0 (Windows NT 10.0; Win64; x64) AppleWebKit/537.36 (KHTML, like Gecko) Chrome/94.0.4606.71 Safari/537.36 Edg/94.0.992.38'\n",
    "    }\n",
    "login_url = \"https://insight.shrp2nds.us/j_spring_security_check\"\n",
    "data = {\n",
    "        \"j_username\": \"826526383@qq.com\",\n",
    "        \"j_password\": \"407407yyds\",\n",
    "}\n",
    "response = session.post(url=login_url,headers=headers,data=data)\n",
    "print(response.status_code)\n",
    "\n",
    "detail_data_list = []\n",
    "detail_url = 'https://insight.shrp2nds.us/dataset/data/38'\n",
    "for page in range(1,168,1):\n",
    "    page = str(page)\n",
    "    data = {\n",
    "        \"page\": page,\n",
    "        \"rows\": \"250\",\n",
    "        \"sidx\": \"1254\",\n",
    "        \"sord\": \"asc\",\n",
    "        \"filters\": \"null\",\n",
    "        }\n",
    "    json_ids = session.post(url=detail_url, headers=headers, data=data).json()\n",
    "    detail_data_list.append(json_ids[\"rows\"])\n",
    "print(detail_data_list)"
   ]
  },
  {
   "cell_type": "code",
   "execution_count": 7,
   "id": "9a464ac0-cd20-4799-8e16-025122736a54",
   "metadata": {
    "ExecuteTime": {
     "end_time": "2021-10-11T07:49:41.395145Z",
     "start_time": "2021-10-11T07:48:49.917100Z"
    }
   },
   "outputs": [
    {
     "name": "stdout",
     "output_type": "stream",
     "text": [
      "         1254    1321        1334            1340     1322       1323  \\\n",
      "0     2834107  572216       Crash  Not Applicable   612515   616021.0   \n",
      "1     2843842  102394       Crash  Not Applicable  1079471       -1.0   \n",
      "2     2880462  444833  Near-Crash  Not Applicable  6035047  6037460.0   \n",
      "3     2880464  135646  Near-Crash  Not Applicable  1171810  1174593.0   \n",
      "4     2880466  345780  Near-Crash  Not Applicable  2531285  2531644.0   \n",
      "..        ...     ...         ...             ...      ...        ...   \n",
      "25  185729800  683754  Near-Crash  Not Applicable   967944     968499   \n",
      "26  185729801  756007       Crash  Not Applicable   341384     341936   \n",
      "27  185729802  760156       Crash  Not Applicable  2766903    2767100   \n",
      "28  185729803  577055       Crash  Not Applicable  1241557         -1   \n",
      "29  185729804  188384  Near-Crash  Not Applicable   184723         -1   \n",
      "\n",
      "         1324       1325                            1326                1327  \\\n",
      "0    616300.0   616954.0        Starting in traffic lane      Safe and legal   \n",
      "1   1084296.0  1085263.0        Starting in traffic lane      Safe and legal   \n",
      "2   6039176.0  6040000.0    Going straight, accelerating      Safe and legal   \n",
      "3   1175502.0  1176251.0        Starting in traffic lane      Safe and legal   \n",
      "4   2535099.0  2535256.0  Going straight, constant speed      Safe and legal   \n",
      "..        ...        ...                             ...                 ...   \n",
      "25     971777     972036                           Other  Unsafe and illegal   \n",
      "26     342378     344672                   Turning right    Unsafe but legal   \n",
      "27    2767965    2769434  Going straight, constant speed      Safe and legal   \n",
      "28    1243510    1246139         Stopped in traffic lane      Safe and legal   \n",
      "29     187011     187879         Stopped in traffic lane  Unsafe and illegal   \n",
      "\n",
      "    ...            1385                                               1386  \\\n",
      "0   ...  Subject driver                A = In front of the subject vehicle   \n",
      "1   ...  Subject driver                A = In front of the subject vehicle   \n",
      "2   ...  Subject driver                A = In front of the subject vehicle   \n",
      "3   ...  Subject driver                A = In front of the subject vehicle   \n",
      "4   ...  Subject driver                A = In front of the subject vehicle   \n",
      "..  ...             ...                                                ...   \n",
      "25  ...  Subject driver                A = In front of the subject vehicle   \n",
      "26  ...  Subject driver  D = On the right side of the subject vehicle, ...   \n",
      "27  ...  Not applicable                A = In front of the subject vehicle   \n",
      "28  ...        Driver 2                     F = Behind the subject vehicle   \n",
      "29  ...  Subject driver                     F = Behind the subject vehicle   \n",
      "\n",
      "                             1387  \\\n",
      "0           Sport Utility Vehicle   \n",
      "1           Sport Utility Vehicle   \n",
      "2   Van (minivan or standard van)   \n",
      "3                      Automobile   \n",
      "4                      Automobile   \n",
      "..                            ...   \n",
      "25                         Object   \n",
      "26                        Cyclist   \n",
      "27                         Animal   \n",
      "28                     Automobile   \n",
      "29          Sport Utility Vehicle   \n",
      "\n",
      "                                              1388  \\\n",
      "0                         Starting in traffic lane   \n",
      "1                          Stopped in traffic lane   \n",
      "2                     Decelerating in traffic lane   \n",
      "3                         Starting in traffic lane   \n",
      "4   Going straight, constant speed, in travel lane   \n",
      "..                                             ...   \n",
      "25                                  Not applicable   \n",
      "26                                         Unknown   \n",
      "27                                  Not applicable   \n",
      "28                        Starting in traffic lane   \n",
      "29                             Negotiating a curve   \n",
      "\n",
      "                               1389            1390            1391  \\\n",
      "0                       No reaction  Not applicable  Not applicable   \n",
      "1                       No reaction  Not applicable  Not applicable   \n",
      "2                       No reaction  Not applicable  Not applicable   \n",
      "3                       No reaction  Not applicable  Not applicable   \n",
      "4                       No reaction  Not applicable  Not applicable   \n",
      "..                              ...             ...             ...   \n",
      "25                   Not applicable  Not applicable  Not applicable   \n",
      "26  Unknown if action was attempted  Not applicable  Not applicable   \n",
      "27                   Not applicable  Not applicable  Not applicable   \n",
      "28  Unknown if action was attempted  Not applicable  Not applicable   \n",
      "29                  Steered to left  Not applicable  Not applicable   \n",
      "\n",
      "              1392            1393  \\\n",
      "0   Not applicable  Not applicable   \n",
      "1   Not applicable  Not applicable   \n",
      "2   Not applicable  Not applicable   \n",
      "3   Not applicable  Not applicable   \n",
      "4   Not applicable  Not applicable   \n",
      "..             ...             ...   \n",
      "25  Not applicable  Not applicable   \n",
      "26  Not applicable  Not applicable   \n",
      "27  Not applicable  Not applicable   \n",
      "28  Not applicable  Not applicable   \n",
      "29  Not applicable  Not applicable   \n",
      "\n",
      "                                                 1394  \n",
      "0   Subject driver is traveling on an undivided fi...  \n",
      "1   Subject is driving on a dry, divided highway w...  \n",
      "2   Subject is driving on a dry, divided highway d...  \n",
      "3   The subject vehicle is stopped in heavy traffi...  \n",
      "4   The subject vehicle is traveling in the right ...  \n",
      "..                                                ...  \n",
      "25  The Subject Vehicle (SV) is parked with half o...  \n",
      "26  The Subject Vehicle (SV) is making a right tur...  \n",
      "27  The Subject Vehicle (SV) is on a 2-lane undivi...  \n",
      "28  The Subject Vehicle (SV) is initially stopped ...  \n",
      "29  The Subject Vehicle (SV) is stopped in the rig...  \n",
      "\n",
      "[41530 rows x 76 columns]\n"
     ]
    }
   ],
   "source": [
    "#持久化存储all_data_list\n",
    "all_data = pd.DataFrame()\n",
    "for i in range (len(detail_data_list)):\n",
    "    all_data = pd.concat([all_data,pd.DataFrame(detail_data_list[i])],axis=0)\n",
    "all_data.to_excel(\n",
    "    excel_writer = r\"./data.xlsx\"\n",
    "    ,index = False \n",
    "    ,encoding=\"utf-8\")\n",
    "print(all_data)"
   ]
  }
 ],
 "metadata": {
  "kernelspec": {
   "display_name": "Python 3",
   "language": "python",
   "name": "python3"
  },
  "language_info": {
   "codemirror_mode": {
    "name": "ipython",
    "version": 3
   },
   "file_extension": ".py",
   "mimetype": "text/x-python",
   "name": "python",
   "nbconvert_exporter": "python",
   "pygments_lexer": "ipython3",
   "version": "3.8.8"
  },
  "latex_envs": {
   "LaTeX_envs_menu_present": true,
   "autoclose": false,
   "autocomplete": true,
   "bibliofile": "biblio.bib",
   "cite_by": "apalike",
   "current_citInitial": 1,
   "eqLabelWithNumbers": true,
   "eqNumInitial": 1,
   "hotkeys": {
    "equation": "Ctrl-E",
    "itemize": "Ctrl-I"
   },
   "labels_anchors": false,
   "latex_user_defs": false,
   "report_style_numbering": false,
   "user_envs_cfg": false
  },
  "nbTranslate": {
   "displayLangs": [
    "*"
   ],
   "hotkey": "alt-t",
   "langInMainMenu": true,
   "sourceLang": "en",
   "targetLang": "fr",
   "useGoogleTranslate": true
  },
  "toc": {
   "base_numbering": 1,
   "nav_menu": {},
   "number_sections": true,
   "sideBar": true,
   "skip_h1_title": false,
   "title_cell": "Table of Contents",
   "title_sidebar": "Contents",
   "toc_cell": false,
   "toc_position": {},
   "toc_section_display": true,
   "toc_window_display": false
  },
  "varInspector": {
   "cols": {
    "lenName": 16,
    "lenType": 16,
    "lenVar": 40
   },
   "kernels_config": {
    "python": {
     "delete_cmd_postfix": "",
     "delete_cmd_prefix": "del ",
     "library": "var_list.py",
     "varRefreshCmd": "print(var_dic_list())"
    },
    "r": {
     "delete_cmd_postfix": ") ",
     "delete_cmd_prefix": "rm(",
     "library": "var_list.r",
     "varRefreshCmd": "cat(var_dic_list()) "
    }
   },
   "types_to_exclude": [
    "module",
    "function",
    "builtin_function_or_method",
    "instance",
    "_Feature"
   ],
   "window_display": false
  }
 },
 "nbformat": 4,
 "nbformat_minor": 5
}
