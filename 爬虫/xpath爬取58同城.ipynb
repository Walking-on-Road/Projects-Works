{
 "cells": [
  {
   "cell_type": "code",
   "execution_count": 1,
   "metadata": {
    "ExecuteTime": {
     "end_time": "2021-03-11T13:47:30.237766Z",
     "start_time": "2021-03-11T13:47:28.600719Z"
    }
   },
   "outputs": [
    {
     "name": "stdout",
     "output_type": "stream",
     "text": [
      "<!doctype html>\n",
      "<html lang=\"en\">\n",
      "    <head>\n",
      "        <title>长沙二手房网，长沙房产网，长沙二手房买卖出售交易信息-长沙58同城</title><meta data-n-head=\"ssr\" charset=\"utf-8\"><meta data-n-head=\"ssr\" name=\"viewport\" content=\"width=device-width, initial-scale=1, maximum-scale=1.0, minimum-scale=1.0,user-scalable=no,viewport-fit=cover\"><meta data-n-head=\"ssr\" name=\"location\" content=\"province=湖南;city=长沙;coord=112.945304,28.234235\"><meta data-n-head=\"ssr\" name=\"mobile-agent\" content=\"format=html5; url=https://m.58.com/cs/ershoufang/\"><meta data-n-head=\"ssr\" name=\"applicable-device\" content=\"pc\"><meta data-n-head=\"ssr\" name=\"keywords\" content=\"长沙二手房，长沙房产网，长沙二手房出售，长沙二手房买卖信息\"><meta data-n-head=\"ssr\" name=\"description\" content=\"58同城长沙二手房网为您提供长沙二手房出售，长沙个人二手房、经纪人发布长沙二手房买卖交易信息，包括长沙商品房价格，长沙次新房，想在长沙买房购房、长沙卖房就来58同城房产网。\"><link data-n-head=\"ssr\" rel=\"icon\" type=\"image/x-icon\" href=\"//pages.anjukestatic.com/usersite/touch/img/favicon-wb.ico\"><link data-n-head=\"ssr\" rel=\"alternate\" media=\"only screen and(max-width: 640px)\" href=\"https://m.58.com/cs/ershoufang/\"><link data-n-head=\"ssr\" href=\"https://cs.58.com/ershoufang/\" rel=\"canonical\"><link rel=\"preload\" crossorigin=\"anonymous\" href=\"//pages.anjukestatic.com/fe/test/hbg_web_hbghousepc/dist/wb/client/runtime.b7b29a0.js\" as=\"script\"><link rel=\"preload\" crossorigin=\"anonymous\" href=\"//pages.anjukestatic.com/fe/test/hbg_web_hbghousepc/dist/wb/client/commons.app.aa31215.js\" as=\"script\"><link rel=\"preload\" crossorigin=\"anonymous\" href=\"//pages.anjukestatic.com/fe/test/hbg_web_hbghousepc/dist/wb/client/vendors.app.9552516.css\" as=\"style\"><link rel=\"preload\" crossorigin=\"anonymous\" href=\"//pages.anjukestatic.com/fe/test/hbg_web_hbghousepc/dist/wb/client/vendors.app.c5247dd.js\" as=\"script\"><link rel=\"preload\" crossorigin=\"anonymous\" href=\"//pages.anjukestatic.com/fe/test/hbg_web_hbghousepc/dist/wb/client/app.6a872df.css\" as=\"style\"><link rel=\"preload\" crossorigin=\"anonymous\" href=\"//pages.anjukestatic.com/fe/test/hbg_web_hbghousepc/dist/wb/client/app.39b6639.js\" as=\"script\"><link rel=\"preload\" crossorigin=\"anonymous\" href=\"//pages.anjukestatic.com/fe/test/hbg_web_hbghousepc/dist/wb/client/9.41f0e54.css\" as=\"style\"><link rel=\"preload\" crossorigin=\"anonymous\" href=\"//pages.anjukestatic.com/fe/test/hbg_web_hbghousepc/dist/wb/client/9.c7649b4.js\" as=\"script\"><link rel=\"preload\" crossorigin=\"anonymous\" href=\"//pages.anjukestatic.com/fe/test/hbg_web_hbghousepc/dist/wb/client/0.4572c8e.css\" as=\"style\"><link rel=\"preload\" crossorigin=\"anonymous\" href=\"//pages.anjukestatic.com/fe/test/hbg_web_hbghousepc/dist/wb/client/0.5c0ffac.js\" as=\"script\"><link rel=\"preload\" crossorigin=\"anonymous\" href=\"//pages.anjukestatic.com/fe/test/hbg_web_hbghousepc/dist/wb/client/11.f30e1a8.css\" as=\"style\"><link rel=\"preload\" crossorigin=\"anonymous\" href=\"//pages.anjukestatic.com/fe/test/hbg_web_hbghousepc/dist/wb/client/11.ac9f7ca.js\" as=\"script\"><link rel=\"preload\" crossorigin=\"anonymous\" href=\"//pages.anjukestatic.com/fe/test/hbg_web_hbghousepc/dist/wb/client/2.3995394.css\" as=\"style\"><link rel=\"preload\" crossorigin=\"anonymous\" href=\"//pages.anjukestatic.com/fe/test/hbg_web_hbghousepc/dist/wb/client/2.fa30d0c.js\" as=\"script\"><link rel=\"stylesheet\" href=\"//pages.anjukestatic.com/fe/test/hbg_web_hbghousepc/dist/wb/client/vendors.app.9552516.css\"><link rel=\"stylesheet\" href=\"//pages.anjukestatic.com/fe/test/hbg_web_hbghousepc/dist/wb/client/app.6a872df.css\"><link rel=\"stylesheet\" href=\"//pages.anjukestatic.com/fe/test/hbg_web_hbghousepc/dist/wb/client/9.41f0e54.css\"><link rel=\"stylesheet\" href=\"//pages.anjukestatic.com/fe/test/hbg_web_hbghousepc/dist/wb/client/0.4572c8e.css\"><link rel=\"stylesheet\" href=\"//pages.anjukestatic.com/fe/test/hbg_web_hbghousepc/dist/wb/client/11.f30e1a8.css\"><link rel=\"stylesheet\" href=\"//pages.anjukestatic.com/fe/test/hbg_web_hbghousepc/dist/wb/client/2.3995394.css\">\n",
      "    </head>\n",
      "    <body>\n",
      "        <div data-server-rendered=\"true\" id=\"__nuxt\"><div id=\"__layout\"><div class=\"list\" data-v-7483f299><div data-v-5c134f09 data-v-7483f299><div id=\"commonTopbar\" class=\"commonTopbar\" data-v-5c134f09></div> <!----></div> <section class=\"list-body\" data-v-7483f299><div id=\"brand_list_top_banner\" tongji_tag=\"fcpc_list_esf_cs_topguanggao\" class=\"brandad1000\" data-v-7483f299></div> <section class=\"banner-wrap\" data-v-5fcb3226 data-v-7483f299><div class=\"banner-wuba\" data-v-5fcb3226><a href=\"https://cs.58.com/house.shtml\" tongji_tag=\"fcpc_list_esf_cs_58fclogo\" target=\"_blank\" class=\"logo fl\" data-v-5fcb3226></a> <a href=\"https://post.58.com/fang/2/12/s5?PGTID=0d40000c-0188-91db-e556-17c15a7657aa&amp;ClickID=1&amp;from=esf_list\" tongji_tag=\"fcpc_list_esf_cs_mffabu\" rel=\"nofollow\" target=\"_blank\" class=\"top-publish-news fr\" data-v-5fcb3226>免费发布</a> <section class=\"search\" data-v-3a062065 data-v-5fcb3226><form action=\"javascript: void(0);\" class=\"search-wrap search-wuba\" data-v-3a062065><div class=\"search-inner\" data-v-3a062065><input id=\"search-input\" data-npv=\"esf_List_search_box\" name=\"搜索\" autocomplete=\"off\" placeholder=\"请输入小区名称、地址\" value=\"\" class=\"search-input\" data-v-3a062065> <i class=\"search-close\" style=\"display:none;\" data-v-3a062065></i> <input id=\"search-button\" tongji_tag=\"fcpc_list_esf_cs_search\" type=\"submit\" value=\"搜索\" data-npv=\"esf_List_search_button\" hideFocus class=\"search-button\" data-v-3a062065></div> <!----></form></section></div> <div class=\"blank\" style=\"width:100%;height:42px;margin-top:8px;\" data-v-5fcb3226></div> <div class=\"navigation\" data-v-1791a06c data-v-5fcb3226><ul class=\"navigation-wrap\" data-v-1791a06c><li class=\"navigation-wrap-item\" data-v-1791a06c><a href=\"https://cs.58.com/chuzu/?from=esf&amp;from=esf_list\" tongji_tag=\"200000000723000100000010\" class=\"navigation-wrap-item-name\" data-v-1791a06c>租房\n",
      "            </a></li><li class=\"navigation-wrap-item navigation-wrap-item-on\" data-v-1791a06c><a href=\"https://cs.58.com/ershoufang/?from=esf&amp;from=esf_list\" tongji_tag=\"200000000724000100000010\" class=\"navigation-wrap-item-name\" data-v-1791a06c>二手房\n",
      "            </a></li><li class=\"navigation-wrap-item\" data-v-1791a06c><a href=\"https://cs.58.com/xinfang/loupan/?from=esf&amp;from=esf_list\" tongji_tag=\"200000000732000100000010\" class=\"navigation-wrap-item-name\" data-v-1791a06c>新房\n",
      "            </a></li><li class=\"navigation-wrap-item\" data-v-1791a06c><a href=\"https://cs.58.com/shangpucs/?from=esf&amp;from=esf_list\" tongji_tag=\"200000000725000100000010\" class=\"navigation-wrap-item-name\" data-v-1791a06c>商铺\n",
      "            </a></li><li class=\"navigation-wrap-item\" data-v-1791a06c><a href=\"https://cs.58.com/pve_1092_2/?from=esf&amp;from=esf_list\" tongji_tag=\"200000000727000100000010\" class=\"navigation-wrap-item-name\" data-v-1791a06c>写字楼\n",
      "            </a></li><li class=\"navigation-wrap-item\" data-v-1791a06c><a href=\"https://cs.58.com/cangkucf/b5/?from=esf&amp;from=esf_list\" tongji_tag=\"200000000729000100000010\" class=\"navigation-wrap-item-name\" data-v-1791a06c>仓库\n",
      "            </a></li><li class=\"navigation-wrap-item\" data-v-1791a06c><a href=\"https://cs.58.com/td/b5/?from=esf&amp;from=esf_list\" tongji_tag=\"200000000730000100000010\" class=\"navigation-wrap-item-name\" data-v-1791a06c>土地\n",
      "            </a></li><li class=\"navigation-wrap-item\" data-v-1791a06c><a href=\"https://cs.58.com/cheku/b5?from=esf&amp;from=esf_list\" tongji_tag=\"200000000731000100000010\" class=\"navigation-wrap-item-name\" data-v-1791a06c>车库\n",
      "            </a></li></ul></div> <div class=\"banner-breadcrumbs-wuba\" data-v-5fcb3226><div class=\"p_1180 p_crumbs\" data-v-0d68cbaa data-v-5fcb3226><a href=\"https://cs.58.com/\" target=\"_self\" title=\"\" class=\"anchor anchor-weak\" style=\"color:#979B9E;font-size:12px;line-height:1.1;\" data-v-4f2faa36 data-v-0d68cbaa>长沙58同城</a>  &gt; <a href=\"https://cs.58.com/house.shtml\" target=\"_self\" title=\"\" class=\"anchor anchor-weak\" style=\"color:#979B9E;font-size:12px;line-height:1.1;\" data-v-4f2faa36 data-v-0d68cbaa>长沙房产信息</a>  &gt; <a href=\"https://cs.58.com/ershoufang/\" target=\"_self\" title=\"\" class=\"anchor anchor-weak\" style=\"color:#979B9E;font-size:12px;line-height:1.1;\" data-v-4f2faa36 data-v-0d68cbaa>长沙二手房</a> <!----></div></div> <ul class=\"wuba-list\" data-v-fea10e4a data-v-5fcb3226><li tongji_tag=\"\" class=\"wuba-item wuba-item-active\" data-v-fea10e4a><a href=\"https://cs.58.com/ershoufang/?from=esf&amp;from=esf_list\" target=\"_self\" title=\"\" class=\"anchor anchor-custom\" data-v-4f2faa36 data-v-fea10e4a>二手房</a></li><li tongji_tag=\"fcpc_list_esf_cs_xiaoqu\" class=\"wuba-item\" data-v-fea10e4a><a href=\"https://cs.58.com/xiaoqu/?from=esf&amp;from=esf_list\" target=\"_self\" title=\"\" class=\"anchor anchor-custom\" data-v-4f2faa36 data-v-fea10e4a>小区</a></li><li tongji_tag=\"fcpc_list_esf_cs_dituzhaofang\" class=\"wuba-item\" data-v-fea10e4a><a href=\"https://cs.anjuke.com/map/sale/?from=esf_list\" target=\"_self\" title=\"\" class=\"anchor anchor-custom\" data-v-4f2faa36 data-v-fea10e4a>地图找房</a></li><li tongji_tag=\"\" class=\"wuba-item\" data-v-fea10e4a><a href=\"https://broker.58.com/cs/list?from=esf_list\" target=\"_self\" title=\"\" class=\"anchor anchor-custom\" data-v-4f2faa36 data-v-fea10e4a>找经纪人</a></li></ul></section> <!----> <!----> <section class=\"filter-wrap\" data-v-21009909 data-v-7483f299><section class=\"filter\" data-v-df82b350 data-v-21009909><div class=\"filter-wrap filter-region\" data-v-df82b350><span class=\"filter-title filter-title-region\" data-v-df82b350>区域</span> <section class=\"filter-content\" data-v-df82b350><ul class=\"region region-line1\" data-v-11a7bc58 data-v-df82b350><li tongji_tag=\"\" class=\"region-item region-item-regionall region-item-active\" data-v-11a7bc58><a href=\"https://cs.58.com/ershoufang/\" target=\"_self\" title=\"区域二手房\" data-npv=\"\" data-cp=\"{}\" class=\"anchor anchor-custom\" data-v-4f2faa36 data-v-11a7bc58>区域</a> <i class=\"region-all-arrow\" style=\"background-image:url(https://pages.anjukestatic.com/usersite/site/img/prop_list/esf_list_icon_arrow_red@2x.png);\" data-v-11a7bc58></i></li><li tongji_tag=\"fcpc_list_esf_cs_subline_NaN\" class=\"region-item region-item-regionall\" data-v-11a7bc58><a href=\"https://cs.58.com/ershoufang/sub/\" target=\"_sel"
     ]
    },
    {
     "data": {
      "text/html": [
       "<b>limit_output extension: Maximum message size of 10000 exceeded with 1484793 characters</b>"
      ]
     },
     "metadata": {},
     "output_type": "display_data"
    }
   ],
   "source": [
    "#!/usr/bin/env python \n",
    "# -*- coding:utf-8 -*-\n",
    "import requests\n",
    "from lxml import etree\n",
    "#需求：爬取长沙58二手房中的房源信息\n",
    "if __name__ == \"__main__\":\n",
    "    headers = {\n",
    "        'User-Agent':'Mozilla/5.0 (Macintosh; Intel Mac OS X 10_12_0) AppleWebKit/537.36 (KHTML, like Gecko) Chrome/73.0.3683.103 Safari/537.36'\n",
    "    }\n",
    "    #爬取到页面源码数据\n",
    "    url = 'https://cs.58.com/ershoufang/'\n",
    "    page_text = requests.get(url=url,headers=headers).text\n",
    "    print(page_text)\n",
    "    #数据解析\n",
    "    tree = etree.HTML(page_text)\n",
    "    print(tree)"
   ]
  },
  {
   "cell_type": "code",
   "execution_count": 2,
   "metadata": {
    "ExecuteTime": {
     "end_time": "2021-03-11T13:47:30.272673Z",
     "start_time": "2021-03-11T13:47:30.240758Z"
    }
   },
   "outputs": [
    {
     "name": "stdout",
     "output_type": "stream",
     "text": [
      "[<Element a at 0x193e2278ac0>, <Element a at 0x193e2575c00>, <Element a at 0x193e1ca1dc0>, <Element a at 0x193e1ca11c0>, <Element a at 0x193e1ca14c0>, <Element a at 0x193e1ca16c0>, <Element a at 0x193e1ca4180>, <Element a at 0x193e3794e80>, <Element a at 0x193e3794f00>, <Element a at 0x193e1ca1d80>, <Element a at 0x193e3794ec0>, <Element a at 0x193e3794f80>, <Element a at 0x193e3794480>, <Element a at 0x193e37944c0>, <Element a at 0x193e3794400>, <Element a at 0x193e3794440>, <Element a at 0x193e3794240>, <Element a at 0x193e3794d40>, <Element a at 0x193e2576d80>, <Element a at 0x193e25765c0>, <Element a at 0x193e1c92e40>, <Element a at 0x193e1c92800>, <Element a at 0x193e1c621c0>, <Element a at 0x193e1cd7d00>, <Element a at 0x193e1949f40>, <Element a at 0x193e1c8f340>, <Element a at 0x193e1c8fb00>, <Element a at 0x193e37a5300>, <Element a at 0x193e37a5440>, <Element a at 0x193e37a5480>, <Element a at 0x193e37a54c0>, <Element a at 0x193e37a5500>, <Element a at 0x193e37a5540>, <Element a at 0x193e37a5580>, <Element a at 0x193e37a55c0>, <Element a at 0x193e37a5400>, <Element a at 0x193e37a5640>, <Element a at 0x193e37a53c0>, <Element a at 0x193e37a5680>, <Element a at 0x193e37a56c0>, <Element a at 0x193e37a5700>, <Element a at 0x193e37a5740>, <Element a at 0x193e37a5780>, <Element a at 0x193e37a57c0>, <Element a at 0x193e37a5800>, <Element a at 0x193e37a5600>, <Element a at 0x193e37a5880>, <Element a at 0x193e37a58c0>, <Element a at 0x193e37a5900>, <Element a at 0x193e37a5940>, <Element a at 0x193e37a5980>, <Element a at 0x193e37a59c0>, <Element a at 0x193e37a5a00>, <Element a at 0x193e37a5380>, <Element a at 0x193e37a5d40>, <Element a at 0x193e37a5cc0>, <Element a at 0x193e37a5d00>, <Element a at 0x193e37a5c80>, <Element a at 0x193e37a5c40>, <Element a at 0x193e37a5140>, <Element a at 0x193e37a5c00>, <Element a at 0x193e37a5080>, <Element a at 0x193e37a5040>, <Element a at 0x193e37a50c0>, <Element a at 0x193e37a5100>, <Element a at 0x193e37a5b00>, <Element a at 0x193e37a5fc0>, <Element a at 0x193e37a5f80>, <Element a at 0x193e37a5f40>, <Element a at 0x193e37a5f00>, <Element a at 0x193e37a5dc0>, <Element a at 0x193e37a5ec0>, <Element a at 0x193e37a5e80>, <Element a at 0x193e37a5e40>, <Element a at 0x193e37a5e00>, <Element a at 0x193e37a5d80>, <Element a at 0x193e16732c0>, <Element a at 0x193e378c4c0>, <Element a at 0x193e378c840>, <Element a at 0x193e378c940>, <Element a at 0x193e378ce00>, <Element a at 0x193e378ce40>, <Element a at 0x193e378ce80>, <Element a at 0x193e378cd40>, <Element a at 0x193e378cdc0>, <Element a at 0x193e378ccc0>, <Element a at 0x193e378cc40>, <Element a at 0x193e378cc00>, <Element a at 0x193e378cc80>, <Element a at 0x193e378cf80>, <Element a at 0x193e378cf00>, <Element a at 0x193e378cb80>, <Element a at 0x193e378cb40>, <Element a at 0x193e378cb00>, <Element a at 0x193e378cac0>, <Element a at 0x193e378ca40>, <Element a at 0x193e379a4c0>, <Element a at 0x193e379a140>, <Element a at 0x193e379a2c0>, <Element a at 0x193e379a640>, <Element a at 0x193e379a600>, <Element a at 0x193e379a580>, <Element a at 0x193e379a500>, <Element a at 0x193e379a540>, <Element a at 0x193e379a440>, <Element a at 0x193e379acc0>, <Element a at 0x193e379af80>, <Element a at 0x193e379aa40>, <Element a at 0x193e379aa00>, <Element a at 0x193e379a780>, <Element a at 0x193e379ad40>, <Element a at 0x193e379a840>, <Element a at 0x193e379a880>, <Element a at 0x193e379ab00>, <Element a at 0x193e379a280>, <Element a at 0x193e379a340>, <Element a at 0x193e379a300>, <Element a at 0x193e379adc0>, <Element a at 0x193e37b3140>, <Element a at 0x193e37b3f80>]\n"
     ]
    }
   ],
   "source": [
    "    #存储的就是li标签对象\n",
    "    li_list = tree.xpath('//div[@tongji_tag=\"fcpc_ersflist_gzcount\"]/a')\n",
    "    print(li_list)"
   ]
  },
  {
   "cell_type": "code",
   "execution_count": 3,
   "metadata": {
    "ExecuteTime": {
     "end_time": "2021-03-11T13:47:30.310572Z",
     "start_time": "2021-03-11T13:47:30.273669Z"
    }
   },
   "outputs": [
    {
     "name": "stdout",
     "output_type": "stream",
     "text": [
      "4280买精装3房2卫带车库，总价54买3房送车库.\n",
      "保真江景房 满五  省个税 读师大滨江学校 滨江金座 随时看\n",
      "武广高铁片.区伊景苑9字头毛坯近地铁大塘站南雅本部雨花\n",
      "  一套 地铁口6号 湘腾琴岛 21户型 居家两房人车分流\n",
      "龙湖天街对面，南朝向，视野好，近地铁口，明德中小学，居家精装\n",
      "皇庭尚品精装大三房，视野开阔，无遮挡，采光好。\n",
      "想下楼就是地铁吗不想搞装修吗 来客官看这里 一步到位 安排\n",
      "低68W 首付低 读东郡小学 配公立幼儿园 三线地铁近轻轨站\n",
      "0距离地铁口 东塘品质新小区 豪华装修 户型好 采光非常好\n",
      "二环正地铁口，清水塘合同入读，高端  住宅，错过再无\n",
      "星沙凤凰城二期毛坯大五房，南北通透，中间楼层，随时看房\n",
      "花语王朝精装大三房  周边配套成熟 国际翡翠湖商圈\n",
      "金亭小学 水木天成朝廷 4房电梯中低层 装修九成新带品牌家具\n",
      "双湾通透大五房，纯毛坯格局好，看房方便业主 诚售\n",
      "开心广场小区齐心楼 131平 四室两厅两卫\n",
      "洋湖的八方小区，地铁旁，读长郡雅礼麓山，5.8米超大开间\n",
      "绿地   的毛坯6200多一平，南北通透三阳台\n",
      "阳光城联利悦澜府月亮岛板块长沙市一中复式洋房高端品质\n",
      "超真实新上！麓谷明珠毛坯大三房 采光视野好   好 随时看！\n",
      "泉星小学对面方略萧邦经典小三房，随时看房业主诚心出售\n",
      "君悦阳光城，4房高档装修，进修附小对面，\n",
      "市政府 八方小区 长郡双语 长沙实验 清水毛坯 指标未用\n",
      "不是好房不推荐 地铁口少有毛坯 满五   有钥匙可随时看房\n",
      "次新小区不要房票 博才本部 蓝光雍锦阁 西山汇景旁 西湖公园\n",
      "德政园聚心苑 2室2厅 精装修 62万 房东急置换 诚意买房\n",
      "正地铁口 满无   省个税  楼层 设施配套成熟 随时看房\n",
      "致敬塔尖人物！凤凰城二期精装5房  栋环境优美配套成熟手慢无\n",
      "捡漏！高铁站旁双地铁口央企品质大盘读师大公摊小\n",
      "投资好房可租4000元月，办公装修价格全小区  \n",
      "锦泰地铁口，德政园荷花园，婚房装修拎包入住，中间楼层育英指标\n",
      "311无需资格可按揭绿城桂花城砂子塘东澜湾小学广益实验中学\n",
      "湘江金融中心 4号线配套 精装空房 从未入住 免个税\n",
      "房东诚售 东塘双地铁口 电梯三房采光极好 精致装修\n",
      "望城6字头毛坯四房 4号线延长线 望城南雅九年一贯制教育\n",
      "湖景房41室2厅128万南北通透看房方便有钥匙视野无遮挡\n",
      "长兴湖经典户型 95平精装三房 北欧风格 全新装修\n",
      "（实拍）一线临湖，1200平花园，户型大气，业主急售中粮北纬\n",
      "阳光100后海 总价低 大三房\n",
      "8字头，毛坯三房，北二环内，清水塘实验学校\n",
      "首付15万！双阳台高桥北地铁60咪电梯两房，读枫树山周南雨花\n",
      "万家丽双地铁口 入读东郡小学 中间楼层 户型周正 看房方便\n",
      "马上加推！高品质豪宅，地铁无缝对接，商业就在门口配套西雅名校\n",
      "城南嘉园北苑，房东急售，凤形小学，步梯2楼装修大三房出价就谈\n",
      "真实上新！送车位，送自住精装修，送书房，地铁口，有兴趣的来\n",
      "(壹仟平花园！)全小区花园Z大，产证面积Z大的独栋别墅！\n",
      "新出 满五   三房 兴威帕克水岸 南国新城 天翔通用新开铺\n",
      "小区景观位置 房东周转急售 低于同户型30万 保利国际广场\n",
      "136万 岳泰理想城 精装修 南北通透 148平 3室2厅\n",
      "    二环内 堤亚纳湾600平花园 湖区双拼 离尘不离城\n",
      "电梯房 南北通透 北正北路小区 精装修 46万 满五 楼层好\n",
      "降价未来高铁站口 幸福里 读名校 伴公园 带前后院子的小洋房\n",
      "首付18万，中一九骏，精装修电梯小两房，可以租金抵月供\n",
      "品牌开发商，业主诚心卖，满五  省税，此房价包含一个车位急售\n",
      "书院路长征花园 南北通透大俩房 采光位置好 满五  \n",
      "报价105万可谈 房东急售诚心出售 南北通透自主装修\n",
      "左家塘，桂花树小学入读，曙光大邸东方新世界，颐美园，曙光领峰\n",
      "首付低 看房议价 有加建面积 随时看房 近地铁口 轻轨站\n",
      "天呐！1室1厅 精装修 恒大翡翠华庭 诚意买 租金可以抵月租\n",
      "满二  住房 南北通透 86万 125平 采光好 周边商圈成\n",
      "榔梨八字曹门97平满五两房售！居家装修，拎包入住！随时看房！\n",
      "怒降15万急售！！！阳光100后海精装三房 坐等签约 跳楼价\n",
      "业主外地发展 精装空房 从未入住 南北通透户型 楼层好\n",
      "老城区中心  人人乐附近  紫荆城  三房两厅两卫\n",
      "直升南雅本部 小区Z优价格 孩子的未来是重要的 随时可以看房\n",
      "利通太悦城悦府3室2厅1卫，豪华装修，本人定居外地，低价出售\n",
      "买山语城还不如买金地兰亭樾，1号线地铁口，精装11000起\n",
      "一线湖景豪华装修房，带一个超大露台，送中央空调地暖热水器。\n",
      "沿江风光带   一线江景  三房两厅两卫双阳台  拎宅入住\n",
      "156平 电梯房 鸿园小区 4室2厅 房东急卖\n",
      "一口价63万，满五  省个税，新城国际花都，高铁西，欲购从速\n",
      "两室双阳台  首付十五万 民水民电带燃气 生活便利 速来信！\n",
      "首付20万 东塘地铁口 东上一品 精装两房 明厨明卫独立阳台\n",
      "满五 3室2厅 93万 精装修 楼层好 视野无遮挡\n",
      "花语王朝3室2厅2卫，行政中心、名校旁边、高性价比。\n",
      "带200平大坪！住家好房，南北通透，滨江小学，精装三房\n",
      "世纪城（贯江苑）中间楼层双阳台（学校可用）户型周正（视野开阔\n",
      "润和紫郡首付48万 望城的八方小区 长郡月亮岛学校 豪装拎包\n",
      "  ！瑞宁花园 63W 2室1厅 光线舒适\n",
      "金科东方大院(三期) 满四  住房 洋房 南北通透 房东急售\n",
      "就读黄泥湾！性价比高精装大三房 拎包入住首付低\n",
      "橘郡礼顿山中心大独栋，宝珍房源，错过再无第二套，集优势于一身\n",
      "业主本人诚心出售！非中介，大学城商圈配套完善，交通便利。\n",
      "过隧道即达万达广场，五一广场|复式超高赠|揽一线咸嘉湖湖景\n",
      "捡漏！9字头 现房 从未住过 湘江揽月 一线江景天然气\n",
      "巨漏不限G！师大附中滨江九年制！恒大御景湾热门楼盘！靠谱法拍\n",
      "不看资格 零公摊 新华联梦想城 四室两厅两卫 急售\n",
      "双地铁口 名都花园2期边户 视野光线非常好 东南朝向\n",
      "爱琴湾121平大三房两厅两卫 价格实惠 先到先得 随时看房\n",
      "浏阳河 万象凯旋湾 业主自住精装三房 客厅带阳台 燕山小学\n",
      "万家丽双地铁口 百纳公寓自住三房 带全套家具电器 育英  \n",
      "  5房）送车位（一线双阳台看江）世纪城临江苑（学校可读\n",
      "五一广场 市中心 地铁口 复试4.5米层高 交通便利 可落户\n",
      "市四医院旁超高复式公寓租金抵月供首开盘价格优惠\n",
      "4280买精装3房2卫带车库，总价54买3房送车库.\n",
      "汀湘十里邻云坊高层复式楼\n",
      "捡漏！市政府滨江板块！正地铁口4号线！读长郡和麓山国际学校！\n",
      "谷山庭苑，不（限购）读长郡滨江实验中学，可拎包入住（法拍）房\n",
      "五矿双学WEI房，123平，176万！！！\n",
      "教育厅（机关单位物管院子）高楼层电梯房26楼两梯四户  房\n",
      "开福北 一号线延长线地铁口 协议入读清水塘 超大阳台\n",
      "业主直售东方银座2室2厅1卫，腾指标，只卖三天，价格可谈\n",
      "岳麓芯区 梅溪湖二期  双地铁 名校环绕  一线湖景\n",
      "一线江景观江房 户型周正 双地铁 师大旁 地铁口 洋湖芯！1\n",
      "28万      1室1厅 生活艺术城 电梯房 楼层好\n",
      "尖山湖丨麓谷核心板块丨直升雅礼中学丨清华控股丨地铁口丨环境美\n",
      "南园小区2室2厅1卫，周边有小学中学，二年内有地铁。价格可谈\n",
      "滨江金融中心！正地铁口4号线！读麓山滨江实验中学！拎包入住！\n",
      "恒大 地铁口 毛坯房8字头 南雅湘江入读 童世界湘江边\n",
      "急售 小三房 咸嘉新村博才 带杂屋 地铁6号线 市政府板块\n",
      "415恒大雅苑 不（限购）世家之窗旁边 读金鹰小学（法拍）房\n",
      "正五一大道 解放西 楼盘 便宜一套 三天必买 随时看房 急售\n",
      "法院宿舍小区，就读人民路小学，机关幼儿园，带双阳台\n",
      "急售，湘郡名额未用，120万拎包入住，配套成熟，南北通透\n",
      "南门口精装大三房 二楼 双地铁 天然气入户 拎包入住随时看房\n",
      "翡翠湖旁  花语王朝  四房两厅两卫 视野开阔\n",
      "急售 阳光丽城 精装修 南北通透 81平95W 房东急置换\n",
      "阳光100后海3室 东面全明户，通风采光好，满5  \n",
      "南城核心板块 地铁口 理工大学 友阿奥特莱斯 红星美凯龙\n",
      "浏阳河小学，浏阳河中学   ，步梯中层，客厅大落地窗\n",
      "南北通透 恒大滨江左岸 3室2厅 89万 楼层好 视野无遮挡\n"
     ]
    }
   ],
   "source": [
    "    fp = open('58.txt','w',encoding='utf-8')\n",
    "    for li in li_list:\n",
    "        #局部解析\n",
    "        title = li.xpath('./div[2]//h3/text()')[0]\n",
    "        print(title)\n",
    "        fp.write(title+'\\n') "
   ]
  },
  {
   "cell_type": "code",
   "execution_count": 4,
   "metadata": {
    "ExecuteTime": {
     "end_time": "2021-03-11T13:47:31.570516Z",
     "start_time": "2021-03-11T13:47:30.312567Z"
    }
   },
   "outputs": [
    {
     "data": {
      "text/plain": [
       "'<!doctype html>\\n<html lang=\"en\">\\n    <head>\\n        <title>长沙二手房网，长沙房产网，长沙二手房买卖出售交易信息-长沙58同城</title><meta data-n-head=\"ssr\" charset=\"utf-8\"><meta data-n-head=\"ssr\" name=\"viewport\" content=\"width=device-width, initial-scale=1, maximum-scale=1.0, minimum-scale=1.0,user-scalable=no,viewport-fit=cover\"><meta data-n-head=\"ssr\" name=\"location\" content=\"province=湖南;city=长沙;coord=112.945304,28.234235\"><meta data-n-head=\"ssr\" name=\"mobile-agent\" content=\"format=html5; url=https://m.58.com/cs/ershoufang/\"><meta data-n-head=\"ssr\" name=\"applicable-device\" content=\"pc\"><meta data-n-head=\"ssr\" name=\"keywords\" content=\"长沙二手房，长沙房产网，长沙二手房出售，长沙二手房买卖信息\"><meta data-n-head=\"ssr\" name=\"description\" content=\"58同城长沙二手房网为您提供长沙二手房出售，长沙个人二手房、经纪人发布长沙二手房买卖交易信息，包括长沙商品房价格，长沙次新房，想在长沙买房购房、长沙卖房就来58同城房产网。\"><link data-n-head=\"ssr\" rel=\"icon\" type=\"image/x-icon\" href=\"//pages.anjukestatic.com/usersite/touch/img/favicon-wb.ico\"><link data-n-head=\"ssr\" rel=\"alternate\" media=\"only screen and(max-width: 640px)\" href=\"https://m.58.com/cs/ershoufang/\"><link data-n-head=\"ssr\" href=\"https://cs.58.com/ershoufang/\" rel=\"canonical\"><link rel=\"preload\" crossorigin=\"anonymous\" href=\"//pages.anjukestatic.com/fe/test/hbg_web_hbghousepc/dist/wb/client/runtime.b7b29a0.js\" as=\"script\"><link rel=\"preload\" crossorigin=\"anonymous\" href=\"//pages.anjukestatic.com/fe/test/hbg_web_hbghousepc/dist/wb/client/commons.app.aa31215.js\" as=\"script\"><link rel=\"preload\" crossorigin=\"anonymous\" href=\"//pages.anjukestatic.com/fe/test/hbg_web_hbghousepc/dist/wb/client/vendors.app.9552516.css\" as=\"style\"><link rel=\"preload\" crossorigin=\"anonymous\" href=\"//pages.anjukestatic.com/fe/test/hbg_web_hbghousepc/dist/wb/client/vendors.app.c5247dd.js\" as=\"script\"><link rel=\"preload\" crossorigin=\"anonymous\" href=\"//pages.anjukestatic.com/fe/test/hbg_web_hbghousepc/dist/wb/client/app.6a872df.css\" as=\"style\"><link rel=\"preload\" crossorigin=\"anonymous\" href=\"//pages.anjukestatic.com/fe/test/hbg_web_hbghousepc/dist/wb/client/app.39b6639.js\" as=\"script\"><link rel=\"preload\" crossorigin=\"anonymous\" href=\"//pages.anjukestatic.com/fe/test/hbg_web_hbghousepc/dist/wb/client/9.41f0e54.css\" as=\"style\"><link rel=\"preload\" crossorigin=\"anonymous\" href=\"//pages.anjukestatic.com/fe/test/hbg_web_hbghousepc/dist/wb/client/9.c7649b4.js\" as=\"script\"><link rel=\"preload\" crossorigin=\"anonymous\" href=\"//pages.anjukestatic.com/fe/test/hbg_web_hbghousepc/dist/wb/client/0.4572c8e.css\" as=\"style\"><link rel=\"preload\" crossorigin=\"anonymous\" href=\"//pages.anjukestatic.com/fe/test/hbg_web_hbghousepc/dist/wb/client/0.5c0ffac.js\" as=\"script\"><link rel=\"preload\" crossorigin=\"anonymous\" href=\"//pages.anjukestatic.com/fe/test/hbg_web_hbghousepc/dist/wb/client/11.f30e1a8.css\" as=\"style\"><link rel=\"preload\" crossorigin=\"anonymous\" href=\"//pages.anjukestatic.com/fe/test/hbg_web_hbghousepc/dist/wb/client/11.ac9f7ca.js\" as=\"script\"><link rel=\"preload\" crossorigin=\"anonymous\" href=\"//pages.anjukestatic.com/fe/test/hbg_web_hbghousepc/dist/wb/client/2.3995394.css\" as=\"style\"><link rel=\"preload\" crossorigin=\"anonymous\" href=\"//pages.anjukestatic.com/fe/test/hbg_web_hbghousepc/dist/wb/client/2.fa30d0c.js\" as=\"script\"><link rel=\"stylesheet\" href=\"//pages.anjukestatic.com/fe/test/hbg_web_hbghousepc/dist/wb/client/vendors.app.9552516.css\"><link rel=\"stylesheet\" href=\"//pages.anjukestatic.com/fe/test/hbg_web_hbghousepc/dist/wb/client/app.6a872df.css\"><link rel=\"stylesheet\" href=\"//pages.anjukestatic.com/fe/test/hbg_web_hbghousepc/dist/wb/client/9.41f0e54.css\"><link rel=\"stylesheet\" href=\"//pages.anjukestatic.com/fe/test/hbg_web_hbghousepc/dist/wb/client/0.4572c8e.css\"><link rel=\"stylesheet\" href=\"//pages.anjukestatic.com/fe/test/hbg_web_hbghousepc/dist/wb/client/11.f30e1a8.css\"><link rel=\"stylesheet\" href=\"//pages.anjukestatic.com/fe/test/hbg_web_hbghousepc/dist/wb/client/2.3995394.css\">\\n    </head>\\n    <body>\\n        <div data-server-rendered=\"true\" id=\"__nuxt\"><div id=\"__layout\"><div class=\"list\" data-v-7483f299><div data-v-5c134f09 data-v-7483f299><div id=\"commonTopbar\" class=\"commonTopbar\" data-v-5c134f09></div> <!----></div> <section class=\"list-body\" data-v-7483f299><div id=\"brand_list_top_banner\" tongji_tag=\"fcpc_list_esf_cs_topguanggao\" class=\"brandad1000\" data-v-7483f299></div> <section class=\"banner-wrap\" data-v-5fcb3226 data-v-7483f299><div class=\"banner-wuba\" data-v-5fcb3226><a href=\"https://cs.58.com/house.shtml\" tongji_tag=\"fcpc_list_esf_cs_58fclogo\" target=\"_blank\" class=\"logo fl\" data-v-5fcb3226></a> <a href=\"https://post.58.com/fang/2/12/s5?PGTID=0d40000c-0188-91db-e556-17c15a7657aa&amp;ClickID=1&amp;from=esf_list\" tongji_tag=\"fcpc_list_esf_cs_mffabu\" rel=\"nofollow\" target=\"_blank\" class=\"top-publish-news fr\" data-v-5fcb3226>免费发布</a> <section class=\"search\" data-v-3a062065 data-v-5fcb3226><form action=\"javascript: void(0);\" class=\"search-wrap search-wuba\" data-v-3a062065><div class=\"search-inner\" data-v-3a062065><input id=\"search-input\" data-npv=\"esf_List_search_box\" name=\"搜索\" autocomplete=\"off\" placeholder=\"请输入小区名称、地址\" value=\"\" class=\"search-input\" data-v-3a062065> <i class=\"search-close\" style=\"display:none;\" data-v-3a062065></i> <input id=\"search-button\" tongji_tag=\"fcpc_list_esf_cs_search\" type=\"submit\" value=\"搜索\" data-npv=\"esf_List_search_button\" hideFocus class=\"search-button\" data-v-3a062065></div> <!----></form></section></div> <div class=\"blank\" style=\"width:100%;height:42px;margin-top:8px;\" data-v-5fcb3226></div> <div class=\"navigation\" data-v-1791a06c data-v-5fcb3226><ul class=\"navigation-wrap\" data-v-1791a06c><li class=\"navigation-wrap-item\" data-v-1791a06c><a href=\"https://cs.58.com/chuzu/?from=esf&amp;from=esf_list\" tongji_tag=\"200000000723000100000010\" class=\"navigation-wrap-item-name\" data-v-1791a06c>租房\\n            </a></li><li class=\"navigation-wrap-item navigation-wrap-item-on\" data-v-1791a06c><a href=\"https://cs.58.com/ershoufang/?from=esf&amp;from=esf_list\" tongji_tag=\"200000000724000100000010\" class=\"navigation-wrap-item-name\" data-v-1791a06c>二手房\\n            </a></li><li class=\"navigation-wrap-item\" data-v-1791a06c><a href=\"https://cs.58.com/xinfang/loupan/?from=esf&amp;from=esf_list\" tongji_tag=\"200000000732000100000010\" class=\"navigation-wrap-item-name\" data-v-1791a06c>新房\\n            </a></li><li class=\"navigation-wrap-item\" data-v-1791a06c><a href=\"https://cs.58.com/shangpucs/?from=esf&amp;from=esf_list\" tongji_tag=\"200000000725000100000010\" class=\"navigation-wrap-item-name\" data-v-1791a06c>商铺\\n            </a></li><li class=\"navigation-wrap-item\" data-v-1791a06c><a href=\"https://cs.58.com/pve_1092_2/?from=esf&amp;from=esf_list\" tongji_tag=\"200000000727000100000010\" class=\"navigation-wrap-item-name\" data-v-1791a06c>写字楼\\n            </a></li><li class=\"navigation-wrap-item\" data-v-1791a06c><a href=\"https://cs.58.com/cangkucf/b5/?from=esf&amp;from=esf_list\" tongji_tag=\"200000000729000100000010\" class=\"navigation-wrap-item-name\" data-v-1791a06c>仓库\\n            </a></li><li class=\"navigation-wrap-item\" data-v-1791a06c><a href=\"https://cs.58.com/td/b5/?from=esf&amp;from=esf_list\" tongji_tag=\"200000000730000100000010\" class=\"navigation-wrap-item-name\" data-v-1791a06c>土地\\n            </a></li><li class=\"navigation-wrap-item\" data-v-1791a06c><a href=\"https://cs.58.com/cheku/b5?from=esf&amp;from=esf_list\" tongji_tag=\"200000000731000100000010\" class=\"navigation-wrap-item-name\" data-v-1791a06c>车库\\n            </a></li></ul></div> <div class=\"banner-breadcrumbs-wuba\" data-v-5fcb3226><div class=\"p_1180 p_crumbs\" data-v-0d68cbaa data-v-5fcb3226><a href=\"https://cs.58.com/\" target=\"_self\" title=\"\" class=\"anchor anchor-weak\" style=\"color:#979B9E;font-size:12px;line-height:1.1;\" data-v-4f2faa36 data-v-0d68cbaa>长沙58同城</a>  &gt; <a href=\"https://cs.58.com/house.shtml\" target=\"_self\" title=\"\" class=\"anchor anchor-weak\" style=\"color:#979B9E;font-size:12px;line-height:1.1;\" data-v-4f2faa36 data-v-0d68cbaa>长沙房产信息</a>  &gt; <a href=\"https://cs.58.com/ershoufang/\" target=\"_self\" title=\"\" class=\"anchor anchor-weak\" style=\"color:#979B9E;font-size:12px;line-height:1.1;\" data-v-4f2faa36 data-v-0d68cbaa>长沙二手房</a> <!----></div></div> <ul class=\"wuba-list\" data-v-fea10e4a data-v-5fcb3226><li tongji_tag=\"\" class=\"wuba-item wuba-item-active\" data-v-fea10e4a><a href=\"https://cs.58.com/ershoufang/?from=esf&amp;from=esf_list\" target=\"_self\" title=\"\" class=\"anchor anchor-custom\" data-v-4f2faa36 data-v-fea10e4a>二手房</a></li><li tongji_tag=\"fcpc_list_esf_cs_xiaoqu\" class=\"wuba-item\" data-v-fea10e4a><a href=\"https://cs.58.com/xiaoqu/?from=esf&amp;from=esf_list\" target=\"_self\" title=\"\" class=\"anchor anchor-custom\" data-v-4f2faa36 data-v-fea10e4a>小区</a></li><li tongji_tag=\"fcpc_list_esf_cs_dituzhaofang\" class=\"wuba-item\" data-v-fea10e4a><a href=\"https://cs.anjuke.com/map/sale/?from=esf_list\" target=\"_self\" title=\"\" class=\"anchor anchor-custom\" data-v-4f2faa36 data-v-fea10e4a>地图找房</a></li><li tongji_tag=\"\" class=\"wuba-item\" data-v-fea10e4a><a href=\"https://broker.58.com/cs/list?from=esf_list\" target=\"_self\" title=\"\" class=\"anchor anchor-custom\" data-v-4f2faa36 data-v-fea10e4a>找经纪人</a></li></ul></section> <!----> <!----> <section class=\"filter-wrap\" data-v-21009909 data-v-7483f299><section class=\"filter\" data-v-df82b350 data-v-21009909><div class=\"filter-wrap filter-region\" data-v-df82b350><span class=\"filter-title filter-title-region\" data-v-df82b350>区域</span> <section class=\"filter-content\" data-v-df82b350><ul class=\"region region-line1\" data-v-11a7bc58 data-v-df82b350><li tongji_tag=\"\" class=\"region-item region-item-regionall region-item-active\" data-v-11a7bc58><a href=\"https://cs.58.com/ershoufang/\" target=\"_self\" title=\"区域二手房\" data-npv=\"\" data-cp=\"{}\" class=\"anchor anchor-custom\" data-v-4f2faa36 data-v-11a7bc58>区域</a> <i class=\"region-all-arrow\" style=\"background-image:url(https://pages.anjukestatic.com/usersite/site/img/prop_list/esf_list_icon_arrow_red@2x.png);\" data-v-11a7bc58></i></li><li tongji_tag=\"fcpc_list_esf_cs_subline_NaN\" class=\"region-item region-item-regionall\" data-v-11a7bc58><a href=\"https://cs.58.com/ershoufang/sub"
      ]
     },
     "execution_count": 4,
     "metadata": {},
     "output_type": "execute_result"
    },
    {
     "data": {
      "text/html": [
       "<b>limit_output extension: Maximum message size of 10000 exceeded with 1501503 characters</b>"
      ]
     },
     "metadata": {},
     "output_type": "display_data"
    }
   ],
   "source": [
    "#下载相应的图片\n",
    "#创建一个文件夹，保存所有的图片\n",
    "import os\n",
    "\n",
    "if not os.path.exists('./58'):\n",
    "    os.mkdir('./58')\n",
    "headers = {\n",
    "        'User-Agent':'Mozilla/5.0 (Macintosh; Intel Mac OS X 10_12_0) AppleWebKit/537.36 (KHTML, like Gecko) Chrome/73.0.3683.103 Safari/537.36'\n",
    "    }\n",
    "#爬取到页面源码数据\n",
    "url = 'https://cs.58.com/ershoufang/'\n",
    "re = requests.get(url=url,headers=headers).text\n",
    "re "
   ]
  },
  {
   "cell_type": "code",
   "execution_count": 5,
   "metadata": {
    "ExecuteTime": {
     "end_time": "2021-03-11T13:47:31.707672Z",
     "start_time": "2021-03-11T13:47:31.572510Z"
    }
   },
   "outputs": [
    {
     "data": {
      "text/plain": [
       "<Element html at 0x193e37b9300>"
      ]
     },
     "execution_count": 5,
     "metadata": {},
     "output_type": "execute_result"
    }
   ],
   "source": [
    "#数据解析\n",
    "tree = etree.HTML(re) \n",
    "tree"
   ]
  },
  {
   "cell_type": "code",
   "execution_count": 6,
   "metadata": {
    "ExecuteTime": {
     "end_time": "2021-03-11T13:47:31.873749Z",
     "start_time": "2021-03-11T13:47:31.709649Z"
    }
   },
   "outputs": [
    {
     "name": "stdout",
     "output_type": "stream",
     "text": [
      "['https://pages.anjukestatic.com/usersite/touch/img/comm/nopic_list2.png', 'https://pages.anjukestatic.com/usersite/site/img/prop_detail/comm_propdetail_icon_vr_m@2x.png', 'https://pages.anjukestatic.com/usersite/site/img/broker_detail/esf_list_icon_anxuan_pinzhihaofang_gold4@2x.png', 'https://pages.anjukestatic.com/usersite/touch/img/comm/nopic_list2.png', 'https://pages.anjukestatic.com/usersite/touch/img/comm/nopic_list2.png', 'https://pages.anjukestatic.com/usersite/site/img/broker_detail/esf_list_icon_anxuan_pinzhihaofang_gold4@2x.png', 'https://pages.anjukestatic.com/usersite/touch/img/comm/nopic_list2.png', 'https://pages.anjukestatic.com/usersite/touch/img/comm/nopic_list2.png', 'https://pages.anjukestatic.com/usersite/site/img/broker_detail/esf_list_img_anxuan@2x.png', 'https://pages.anjukestatic.com/usersite/touch/img/comm/nopic_list2.png', 'https://pages.anjukestatic.com/usersite/touch/img/comm/nopic_list2.png', 'https://pages.anjukestatic.com/usersite/site/img/broker_detail/esf_list_img_anxuan@2x.png', 'https://pages.anjukestatic.com/usersite/touch/img/comm/nopic_list2.png', 'https://pages.anjukestatic.com/usersite/touch/img/comm/nopic_list2.png', 'https://pages.anjukestatic.com/usersite/site/img/broker_detail/esf_list_img_anxuan@2x.png', 'https://pages.anjukestatic.com/usersite/touch/img/comm/nopic_list2.png', 'https://pages.anjukestatic.com/usersite/touch/img/comm/nopic_list2.png', 'https://pages.anjukestatic.com/usersite/site/img/broker_detail/esf_list_img_anxuan@2x.png', 'https://pages.anjukestatic.com/usersite/touch/img/comm/nopic_list2.png', 'https://pages.anjukestatic.com/usersite/touch/img/comm/nopic_list2.png', 'https://pages.anjukestatic.com/usersite/site/img/prop_detail/comm_propdetail_icon_video_m@2x.png', 'https://pages.anjukestatic.com/usersite/site/img/broker_detail/esf_list_icon_anxuan_pinzhihaofang_gold4@2x.png', 'https://pages.anjukestatic.com/usersite/touch/img/comm/nopic_list2.png', 'https://pages.anjukestatic.com/usersite/touch/img/comm/nopic_list2.png', 'https://pages.anjukestatic.com/usersite/site/img/broker_detail/esf_list_img_anxuan@2x.png', 'https://pages.anjukestatic.com/usersite/touch/img/comm/nopic_list2.png', 'https://pages.anjukestatic.com/usersite/touch/img/comm/nopic_list2.png', 'https://pages.anjukestatic.com/usersite/site/img/broker_detail/esf_list_img_anxuan@2x.png', 'https://pages.anjukestatic.com/usersite/touch/img/comm/nopic_list2.png', 'https://pages.anjukestatic.com/usersite/touch/img/comm/nopic_list2.png', 'https://pages.anjukestatic.com/usersite/site/img/broker_detail/esf_list_img_anxuan@2x.png', 'https://pages.anjukestatic.com/usersite/touch/img/comm/nopic_list2.png', 'https://pages.anjukestatic.com/usersite/touch/img/comm/nopic_list2.png', 'https://pages.anjukestatic.com/usersite/site/img/prop_detail/comm_propdetail_icon_video_m@2x.png', 'https://pages.anjukestatic.com/usersite/site/img/broker_detail/esf_list_icon_anxuan_pinzhihaofang_gold4@2x.png', 'https://pages.anjukestatic.com/usersite/touch/img/comm/nopic_list2.png', 'https://pages.anjukestatic.com/usersite/touch/img/comm/nopic_list2.png', 'https://pages.anjukestatic.com/usersite/site/img/broker_detail/esf_list_icon_anxuan_pinzhihaofang_gold4@2x.png', 'https://pages.anjukestatic.com/usersite/touch/img/comm/nopic_list2.png', 'https://pages.anjukestatic.com/usersite/touch/img/comm/nopic_list2.png', 'https://pages.anjukestatic.com/usersite/site/img/broker_detail/esf_list_img_anxuan@2x.png', 'https://pages.anjukestatic.com/usersite/touch/img/comm/nopic_list2.png', 'https://pages.anjukestatic.com/usersite/touch/img/comm/nopic_list2.png', 'https://pages.anjukestatic.com/usersite/site/img/prop_detail/comm_propdetail_icon_vr_m@2x.png', 'https://pages.anjukestatic.com/usersite/site/img/broker_detail/esf_list_icon_anxuan_pinzhihaofang_gold4@2x.png', 'https://pages.anjukestatic.com/usersite/touch/img/comm/nopic_list2.png', 'https://pages.anjukestatic.com/usersite/touch/img/comm/nopic_list2.png', 'https://pages.anjukestatic.com/usersite/site/img/broker_detail/esf_list_img_anxuan@2x.png', 'https://pages.anjukestatic.com/usersite/touch/img/comm/nopic_list2.png', 'https://pages.anjukestatic.com/usersite/touch/img/comm/nopic_list2.png', 'https://pages.anjukestatic.com/usersite/site/img/prop_detail/comm_propdetail_icon_video_m@2x.png', 'https://pages.anjukestatic.com/usersite/site/img/broker_detail/esf_list_icon_anxuan_pinzhihaofang_gold4@2x.png', 'https://pages.anjukestatic.com/usersite/touch/img/comm/nopic_list2.png', 'https://pages.anjukestatic.com/usersite/touch/img/comm/nopic_list2.png', 'https://pages.anjukestatic.com/usersite/site/img/broker_detail/esf_list_icon_anxuan_pinzhihaofang_gold4@2x.png', 'https://pages.anjukestatic.com/usersite/touch/img/comm/nopic_list2.png', 'https://pages.anjukestatic.com/usersite/touch/img/comm/nopic_list2.png', 'https://pages.anjukestatic.com/usersite/site/img/prop_detail/comm_propdetail_icon_video_m@2x.png', 'https://pages.anjukestatic.com/usersite/site/img/broker_detail/esf_list_icon_anxuan_pinzhihaofang_gold4@2x.png', 'https://pages.anjukestatic.com/usersite/touch/img/comm/nopic_list2.png', 'https://pages.anjukestatic.com/usersite/touch/img/comm/nopic_list2.png', 'https://pages.anjukestatic.com/usersite/site/img/prop_detail/comm_propdetail_icon_video_m@2x.png', 'https://pages.anjukestatic.com/usersite/site/img/broker_detail/esf_list_img_anxuan@2x.png', 'https://pages.anjukestatic.com/usersite/touch/img/comm/nopic_list2.png', 'https://pages.anjukestatic.com/usersite/touch/img/comm/nopic_list2.png', 'https://pages.anjukestatic.com/usersite/site/img/prop_detail/comm_propdetail_icon_video_m@2x.png', 'https://pages.anjukestatic.com/usersite/site/img/broker_detail/esf_list_icon_anxuan_pinzhihaofang_gold4@2x.png', 'https://pages.anjukestatic.com/usersite/touch/img/comm/nopic_list2.png', 'https://pages.anjukestatic.com/usersite/touch/img/comm/nopic_list2.png', 'https://pages.anjukestatic.com/usersite/site/img/prop_detail/comm_propdetail_icon_video_m@2x.png', 'https://pages.anjukestatic.com/usersite/site/img/broker_detail/esf_list_img_anxuan@2x.png', 'https://pages.anjukestatic.com/usersite/touch/img/comm/nopic_list2.png', 'https://pages.anjukestatic.com/usersite/touch/img/comm/nopic_list2.png', 'https://pages.anjukestatic.com/usersite/site/img/broker_detail/esf_list_img_anxuan@2x.png', 'https://pages.anjukestatic.com/usersite/touch/img/comm/nopic_list2.png', 'https://pages.anjukestatic.com/usersite/touch/img/comm/nopic_list2.png', 'https://pages.anjukestatic.com/usersite/site/img/broker_detail/esf_list_icon_anxuan_pinzhihaofang_gold4@2x.png', 'https://pages.anjukestatic.com/usersite/touch/img/comm/nopic_list2.png', 'https://pages.anjukestatic.com/usersite/touch/img/comm/nopic_list2.png', 'https://pages.anjukestatic.com/usersite/site/img/prop_detail/comm_propdetail_icon_video_m@2x.png', 'https://pages.anjukestatic.com/usersite/site/img/broker_detail/esf_list_img_anxuan@2x.png', 'https://pages.anjukestatic.com/usersite/touch/img/comm/nopic_list2.png', 'https://pages.anjukestatic.com/usersite/touch/img/comm/nopic_list2.png', 'https://pages.anjukestatic.com/usersite/site/img/broker_detail/esf_list_img_anxuan@2x.png', 'https://pages.anjukestatic.com/usersite/touch/img/comm/nopic_list2.png', 'https://pages.anjukestatic.com/usersite/touch/img/comm/nopic_list2.png', 'https://pages.anjukestatic.com/usersite/site/img/broker_detail/esf_list_img_anxuan@2x.png', 'https://pages.anjukestatic.com/usersite/touch/img/comm/nopic_list2.png', 'https://pages.anjukestatic.com/usersite/touch/img/comm/nopic_list2.png', 'https://pages.anjukestatic.com/usersite/site/img/broker_detail/esf_list_img_anxuan@2x.png', 'https://pages.anjukestatic.com/usersite/touch/img/comm/nopic_list2.png', 'https://pages.anjukestatic.com/usersite/touch/img/comm/nopic_list2.png', 'https://pages.anjukestatic.com/usersite/site/img/prop_detail/comm_propdetail_icon_vr_m@2x.png', 'https://pages.anjukestatic.com/usersite/site/img/broker_detail/esf_list_icon_anxuan_pinzhihaofang_gold4@2x.png', 'https://pages.anjukestatic.com/usersite/touch/img/comm/nopic_list2.png', 'https://pages.anjukestatic.com/usersite/touch/img/comm/nopic_list2.png', 'https://pages.anjukestatic.com/usersite/site/img/prop_detail/comm_propdetail_icon_video_m@2x.png', 'https://pages.anjukestatic.com/usersite/site/img/broker_detail/esf_list_icon_anxuan_pinzhihaofang_gold4@2x.png', 'https://pages.anjukestatic.com/usersite/touch/img/comm/nopic_list2.png', 'https://pages.anjukestatic.com/usersite/touch/img/comm/nopic_list2.png', 'https://pages.anjukestatic.com/usersite/site/img/prop_detail/comm_propdetail_icon_vr_m@2x.png', 'https://pages.anjukestatic.com/usersite/site/img/broker_detail/esf_list_img_anxuan@2x.png', 'https://pages.anjukestatic.com/usersite/touch/img/comm/nopic_list2.png', 'https://pages.anjukestatic.com/usersite/touch/img/comm/nopic_list2.png', 'https://pages.anjukestatic.com/usersite/site/img/broker_detail/esf_list_icon_anxuan_pinzhihaofang_gold4@2x.png', 'https://pages.anjukestatic.com/usersite/touch/img/comm/nopic_list2.png', 'https://pages.anjukestatic.com/usersite/touch/img/comm/nopic_list2.png', 'https://pages.anjukestatic.com/usersite/site/img/broker_detail/esf_list_img_anxuan@2x.png', 'https://pages.anjukestatic.com/usersite/touch/img/comm/nopic_list2.png', 'https://pages.anjukestatic.com/usersite/touch/img/comm/nopic_list2.png', 'https://pages.anjukestatic.com/usersite/site/img/broker_detail/esf_list_img_anxuan@2x.png', 'https://pages.anjukestatic.com/usersite/touch/img/comm/nopic_list2.png', 'https://pages.anjukestatic.com/usersite/touch/img/comm/nopic_list2.png', 'https://pages.anjukestatic.com/usersite/site/img/broker_detail/esf_list_img_anxuan@2x.png', 'https://pages.anjukestatic.com/usersite/touch/img/comm/nopic_list2.png', 'https://pages.anjukestatic.com/usersite/touch/img/comm/nopic_list2.png', 'https://pages.anjukestatic.com/usersite/site/img/prop_detail/comm_propdetail_icon_video_m@2x.png', 'https://pages.anjukestatic.com/usersite/site/img"
     ]
    },
    {
     "data": {
      "text/html": [
       "<b>limit_output extension: Maximum message size of 10000 exceeded with 36057 characters</b>"
      ]
     },
     "metadata": {},
     "output_type": "display_data"
    }
   ],
   "source": [
    "#存储的就是li标签对象\n",
    "url_list = tree.xpath('//div[@tongji_tag=\"fcpc_ersflist_gzcount\"]//div[1]/img/@src')\n",
    "print(url_list)"
   ]
  },
  {
   "cell_type": "code",
   "execution_count": null,
   "metadata": {
    "ExecuteTime": {
     "start_time": "2021-03-11T13:50:02.826Z"
    }
   },
   "outputs": [],
   "source": [
    "for pic_url in url_list:\n",
    "    \n",
    "    img_data = requests.get(url=pic_url,headers=headers).content\n",
    "\n",
    "    #生成图片名称\n",
    "    img_name = pic_url.split('/')[-1]\n",
    "\n",
    "    #图片存储的路径\n",
    "    imgPath = './58/'+img_name\n",
    "\n",
    "    with open(imgPath,'wb') as fp:\n",
    "        fp.write(img_data)\n",
    "        print(img_name,'下载成功！！！')"
   ]
  },
  {
   "cell_type": "code",
   "execution_count": null,
   "metadata": {
    "ExecuteTime": {
     "end_time": "2021-03-11T13:47:32.346464Z",
     "start_time": "2021-03-11T13:47:28.901Z"
    }
   },
   "outputs": [],
   "source": [
    "https://pic3.ajkimg.com/wuba/e7b65a08635d9ee3823c93099df13527/800x600.jpg\n",
    "https://pic1.ajkimg.com/display/58ajk/65343fdf0fcc12ea1834623527f83bc7/800x600.jpg\n",
    "    \n",
    "https://pic1.ajkimg.com/display/58ajk/68ded8d0fb3946caad2b5e45fd28fff1/800x600.jpg"
   ]
  }
 ],
 "metadata": {
  "kernelspec": {
   "display_name": "Python 3",
   "language": "python",
   "name": "python3"
  },
  "language_info": {
   "codemirror_mode": {
    "name": "ipython",
    "version": 3
   },
   "file_extension": ".py",
   "mimetype": "text/x-python",
   "name": "python",
   "nbconvert_exporter": "python",
   "pygments_lexer": "ipython3",
   "version": "3.8.3"
  },
  "latex_envs": {
   "LaTeX_envs_menu_present": true,
   "autoclose": false,
   "autocomplete": true,
   "bibliofile": "biblio.bib",
   "cite_by": "apalike",
   "current_citInitial": 1,
   "eqLabelWithNumbers": true,
   "eqNumInitial": 1,
   "hotkeys": {
    "equation": "Ctrl-E",
    "itemize": "Ctrl-I"
   },
   "labels_anchors": false,
   "latex_user_defs": false,
   "report_style_numbering": false,
   "user_envs_cfg": false
  },
  "nbTranslate": {
   "displayLangs": [
    "*"
   ],
   "hotkey": "alt-t",
   "langInMainMenu": true,
   "sourceLang": "en",
   "targetLang": "fr",
   "useGoogleTranslate": true
  },
  "toc": {
   "base_numbering": 1,
   "nav_menu": {},
   "number_sections": true,
   "sideBar": true,
   "skip_h1_title": false,
   "title_cell": "Table of Contents",
   "title_sidebar": "Contents",
   "toc_cell": false,
   "toc_position": {},
   "toc_section_display": true,
   "toc_window_display": false
  },
  "varInspector": {
   "cols": {
    "lenName": 16,
    "lenType": 16,
    "lenVar": 40
   },
   "kernels_config": {
    "python": {
     "delete_cmd_postfix": "",
     "delete_cmd_prefix": "del ",
     "library": "var_list.py",
     "varRefreshCmd": "print(var_dic_list())"
    },
    "r": {
     "delete_cmd_postfix": ") ",
     "delete_cmd_prefix": "rm(",
     "library": "var_list.r",
     "varRefreshCmd": "cat(var_dic_list()) "
    }
   },
   "types_to_exclude": [
    "module",
    "function",
    "builtin_function_or_method",
    "instance",
    "_Feature"
   ],
   "window_display": false
  }
 },
 "nbformat": 4,
 "nbformat_minor": 4
}
