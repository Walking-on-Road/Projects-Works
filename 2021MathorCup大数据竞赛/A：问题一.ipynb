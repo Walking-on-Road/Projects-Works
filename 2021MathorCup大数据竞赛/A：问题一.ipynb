{
 "cells": [
  {
   "cell_type": "markdown",
   "id": "cba8f63e",
   "metadata": {},
   "source": [
    "# 数据清洗"
   ]
  },
  {
   "cell_type": "markdown",
   "id": "c282d357",
   "metadata": {},
   "source": [
    "## 缺失值清洗"
   ]
  },
  {
   "cell_type": "code",
   "execution_count": 19,
   "id": "ab0f49d6",
   "metadata": {
    "ExecuteTime": {
     "end_time": "2022-01-18T03:47:11.223529Z",
     "start_time": "2022-01-18T03:47:11.015786Z"
    }
   },
   "outputs": [
    {
     "ename": "FileNotFoundError",
     "evalue": "[Errno 2] No such file or directory: 'C:/Users/Administrator/Desktop/附件1：维度表.xlsx'",
     "output_type": "error",
     "traceback": [
      "\u001b[1;31m---------------------------------------------------------------------------\u001b[0m",
      "\u001b[1;31mFileNotFoundError\u001b[0m                         Traceback (most recent call last)",
      "\u001b[1;32m<ipython-input-19-c297e217d46e>\u001b[0m in \u001b[0;36m<module>\u001b[1;34m\u001b[0m\n\u001b[0;32m      9\u001b[0m \u001b[0mdata_2\u001b[0m \u001b[1;33m=\u001b[0m \u001b[0mpd\u001b[0m\u001b[1;33m.\u001b[0m\u001b[0mread_csv\u001b[0m\u001b[1;33m(\u001b[0m\u001b[1;34m\"./附件/附件2：估价验证数据.txt\"\u001b[0m\u001b[1;33m,\u001b[0m\u001b[0msep\u001b[0m\u001b[1;33m=\u001b[0m\u001b[1;34m\"\\t\"\u001b[0m\u001b[1;33m,\u001b[0m\u001b[0mheader\u001b[0m\u001b[1;33m=\u001b[0m\u001b[1;32mNone\u001b[0m\u001b[1;33m)\u001b[0m\u001b[1;33m\u001b[0m\u001b[1;33m\u001b[0m\u001b[0m\n\u001b[0;32m     10\u001b[0m \u001b[1;33m\u001b[0m\u001b[0m\n\u001b[1;32m---> 11\u001b[1;33m \u001b[0mtable_1\u001b[0m \u001b[1;33m=\u001b[0m \u001b[0mpd\u001b[0m\u001b[1;33m.\u001b[0m\u001b[0mread_excel\u001b[0m\u001b[1;33m(\u001b[0m\u001b[1;34mr\"C:/Users/Administrator/Desktop/附件1：维度表.xlsx\"\u001b[0m\u001b[1;33m)\u001b[0m\u001b[1;33m\u001b[0m\u001b[1;33m\u001b[0m\u001b[0m\n\u001b[0m\u001b[0;32m     12\u001b[0m \u001b[0mcolumn1\u001b[0m \u001b[1;33m=\u001b[0m \u001b[0mdict\u001b[0m\u001b[1;33m(\u001b[0m\u001b[0mtable_1\u001b[0m\u001b[1;33m[\u001b[0m\u001b[1;34m\"Description\"\u001b[0m\u001b[1;33m]\u001b[0m\u001b[1;33m[\u001b[0m\u001b[1;33m:\u001b[0m\u001b[1;33m-\u001b[0m\u001b[1;36m2\u001b[0m\u001b[1;33m]\u001b[0m\u001b[1;33m)\u001b[0m\u001b[1;33m\u001b[0m\u001b[1;33m\u001b[0m\u001b[0m\n\u001b[0;32m     13\u001b[0m \u001b[0mcolumn2\u001b[0m \u001b[1;33m=\u001b[0m \u001b[1;33m{\u001b[0m\u001b[1;33m}\u001b[0m\u001b[1;33m\u001b[0m\u001b[1;33m\u001b[0m\u001b[0m\n",
      "\u001b[1;32mD:\\Python\\Anaconda\\lib\\site-packages\\pandas\\util\\_decorators.py\u001b[0m in \u001b[0;36mwrapper\u001b[1;34m(*args, **kwargs)\u001b[0m\n\u001b[0;32m    297\u001b[0m                 )\n\u001b[0;32m    298\u001b[0m                 \u001b[0mwarnings\u001b[0m\u001b[1;33m.\u001b[0m\u001b[0mwarn\u001b[0m\u001b[1;33m(\u001b[0m\u001b[0mmsg\u001b[0m\u001b[1;33m,\u001b[0m \u001b[0mFutureWarning\u001b[0m\u001b[1;33m,\u001b[0m \u001b[0mstacklevel\u001b[0m\u001b[1;33m=\u001b[0m\u001b[0mstacklevel\u001b[0m\u001b[1;33m)\u001b[0m\u001b[1;33m\u001b[0m\u001b[1;33m\u001b[0m\u001b[0m\n\u001b[1;32m--> 299\u001b[1;33m             \u001b[1;32mreturn\u001b[0m \u001b[0mfunc\u001b[0m\u001b[1;33m(\u001b[0m\u001b[1;33m*\u001b[0m\u001b[0margs\u001b[0m\u001b[1;33m,\u001b[0m \u001b[1;33m**\u001b[0m\u001b[0mkwargs\u001b[0m\u001b[1;33m)\u001b[0m\u001b[1;33m\u001b[0m\u001b[1;33m\u001b[0m\u001b[0m\n\u001b[0m\u001b[0;32m    300\u001b[0m \u001b[1;33m\u001b[0m\u001b[0m\n\u001b[0;32m    301\u001b[0m         \u001b[1;32mreturn\u001b[0m \u001b[0mwrapper\u001b[0m\u001b[1;33m\u001b[0m\u001b[1;33m\u001b[0m\u001b[0m\n",
      "\u001b[1;32mD:\\Python\\Anaconda\\lib\\site-packages\\pandas\\io\\excel\\_base.py\u001b[0m in \u001b[0;36mread_excel\u001b[1;34m(io, sheet_name, header, names, index_col, usecols, squeeze, dtype, engine, converters, true_values, false_values, skiprows, nrows, na_values, keep_default_na, na_filter, verbose, parse_dates, date_parser, thousands, comment, skipfooter, convert_float, mangle_dupe_cols, storage_options)\u001b[0m\n\u001b[0;32m    334\u001b[0m     \u001b[1;32mif\u001b[0m \u001b[1;32mnot\u001b[0m \u001b[0misinstance\u001b[0m\u001b[1;33m(\u001b[0m\u001b[0mio\u001b[0m\u001b[1;33m,\u001b[0m \u001b[0mExcelFile\u001b[0m\u001b[1;33m)\u001b[0m\u001b[1;33m:\u001b[0m\u001b[1;33m\u001b[0m\u001b[1;33m\u001b[0m\u001b[0m\n\u001b[0;32m    335\u001b[0m         \u001b[0mshould_close\u001b[0m \u001b[1;33m=\u001b[0m \u001b[1;32mTrue\u001b[0m\u001b[1;33m\u001b[0m\u001b[1;33m\u001b[0m\u001b[0m\n\u001b[1;32m--> 336\u001b[1;33m         \u001b[0mio\u001b[0m \u001b[1;33m=\u001b[0m \u001b[0mExcelFile\u001b[0m\u001b[1;33m(\u001b[0m\u001b[0mio\u001b[0m\u001b[1;33m,\u001b[0m \u001b[0mstorage_options\u001b[0m\u001b[1;33m=\u001b[0m\u001b[0mstorage_options\u001b[0m\u001b[1;33m,\u001b[0m \u001b[0mengine\u001b[0m\u001b[1;33m=\u001b[0m\u001b[0mengine\u001b[0m\u001b[1;33m)\u001b[0m\u001b[1;33m\u001b[0m\u001b[1;33m\u001b[0m\u001b[0m\n\u001b[0m\u001b[0;32m    337\u001b[0m     \u001b[1;32melif\u001b[0m \u001b[0mengine\u001b[0m \u001b[1;32mand\u001b[0m \u001b[0mengine\u001b[0m \u001b[1;33m!=\u001b[0m \u001b[0mio\u001b[0m\u001b[1;33m.\u001b[0m\u001b[0mengine\u001b[0m\u001b[1;33m:\u001b[0m\u001b[1;33m\u001b[0m\u001b[1;33m\u001b[0m\u001b[0m\n\u001b[0;32m    338\u001b[0m         raise ValueError(\n",
      "\u001b[1;32mD:\\Python\\Anaconda\\lib\\site-packages\\pandas\\io\\excel\\_base.py\u001b[0m in \u001b[0;36m__init__\u001b[1;34m(self, path_or_buffer, engine, storage_options)\u001b[0m\n\u001b[0;32m   1069\u001b[0m                 \u001b[0mext\u001b[0m \u001b[1;33m=\u001b[0m \u001b[1;34m\"xls\"\u001b[0m\u001b[1;33m\u001b[0m\u001b[1;33m\u001b[0m\u001b[0m\n\u001b[0;32m   1070\u001b[0m             \u001b[1;32melse\u001b[0m\u001b[1;33m:\u001b[0m\u001b[1;33m\u001b[0m\u001b[1;33m\u001b[0m\u001b[0m\n\u001b[1;32m-> 1071\u001b[1;33m                 ext = inspect_excel_format(\n\u001b[0m\u001b[0;32m   1072\u001b[0m                     \u001b[0mcontent\u001b[0m\u001b[1;33m=\u001b[0m\u001b[0mpath_or_buffer\u001b[0m\u001b[1;33m,\u001b[0m \u001b[0mstorage_options\u001b[0m\u001b[1;33m=\u001b[0m\u001b[0mstorage_options\u001b[0m\u001b[1;33m\u001b[0m\u001b[1;33m\u001b[0m\u001b[0m\n\u001b[0;32m   1073\u001b[0m                 )\n",
      "\u001b[1;32mD:\\Python\\Anaconda\\lib\\site-packages\\pandas\\io\\excel\\_base.py\u001b[0m in \u001b[0;36minspect_excel_format\u001b[1;34m(path, content, storage_options)\u001b[0m\n\u001b[0;32m    947\u001b[0m     \u001b[1;32massert\u001b[0m \u001b[0mcontent_or_path\u001b[0m \u001b[1;32mis\u001b[0m \u001b[1;32mnot\u001b[0m \u001b[1;32mNone\u001b[0m\u001b[1;33m\u001b[0m\u001b[1;33m\u001b[0m\u001b[0m\n\u001b[0;32m    948\u001b[0m \u001b[1;33m\u001b[0m\u001b[0m\n\u001b[1;32m--> 949\u001b[1;33m     with get_handle(\n\u001b[0m\u001b[0;32m    950\u001b[0m         \u001b[0mcontent_or_path\u001b[0m\u001b[1;33m,\u001b[0m \u001b[1;34m\"rb\"\u001b[0m\u001b[1;33m,\u001b[0m \u001b[0mstorage_options\u001b[0m\u001b[1;33m=\u001b[0m\u001b[0mstorage_options\u001b[0m\u001b[1;33m,\u001b[0m \u001b[0mis_text\u001b[0m\u001b[1;33m=\u001b[0m\u001b[1;32mFalse\u001b[0m\u001b[1;33m\u001b[0m\u001b[1;33m\u001b[0m\u001b[0m\n\u001b[0;32m    951\u001b[0m     ) as handle:\n",
      "\u001b[1;32mD:\\Python\\Anaconda\\lib\\site-packages\\pandas\\io\\common.py\u001b[0m in \u001b[0;36mget_handle\u001b[1;34m(path_or_buf, mode, encoding, compression, memory_map, is_text, errors, storage_options)\u001b[0m\n\u001b[0;32m    649\u001b[0m         \u001b[1;32melse\u001b[0m\u001b[1;33m:\u001b[0m\u001b[1;33m\u001b[0m\u001b[1;33m\u001b[0m\u001b[0m\n\u001b[0;32m    650\u001b[0m             \u001b[1;31m# Binary mode\u001b[0m\u001b[1;33m\u001b[0m\u001b[1;33m\u001b[0m\u001b[1;33m\u001b[0m\u001b[0m\n\u001b[1;32m--> 651\u001b[1;33m             \u001b[0mhandle\u001b[0m \u001b[1;33m=\u001b[0m \u001b[0mopen\u001b[0m\u001b[1;33m(\u001b[0m\u001b[0mhandle\u001b[0m\u001b[1;33m,\u001b[0m \u001b[0mioargs\u001b[0m\u001b[1;33m.\u001b[0m\u001b[0mmode\u001b[0m\u001b[1;33m)\u001b[0m\u001b[1;33m\u001b[0m\u001b[1;33m\u001b[0m\u001b[0m\n\u001b[0m\u001b[0;32m    652\u001b[0m         \u001b[0mhandles\u001b[0m\u001b[1;33m.\u001b[0m\u001b[0mappend\u001b[0m\u001b[1;33m(\u001b[0m\u001b[0mhandle\u001b[0m\u001b[1;33m)\u001b[0m\u001b[1;33m\u001b[0m\u001b[1;33m\u001b[0m\u001b[0m\n\u001b[0;32m    653\u001b[0m \u001b[1;33m\u001b[0m\u001b[0m\n",
      "\u001b[1;31mFileNotFoundError\u001b[0m: [Errno 2] No such file or directory: 'C:/Users/Administrator/Desktop/附件1：维度表.xlsx'"
     ]
    }
   ],
   "source": [
    "import pandas as pd \n",
    "import numpy as np \n",
    "import matplotlib.pyplot as plt \n",
    "import warnings\n",
    "warnings.filterwarnings(\"ignore\")\n",
    "\n",
    "\n",
    "data_1 = pd.read_csv(\"./附件/附件1：估价训练数据.txt\",sep=\"\\t\",header=None)\n",
    "data_2 = pd.read_csv(\"./附件/附件2：估价验证数据.txt\",sep=\"\\t\",header=None)\n",
    "\n",
    "table_1 = pd.read_excel(r\"C:/Users/Administrator/Desktop/附件1：维度表.xlsx\")\n",
    "column1 = dict(table_1[\"Description\"][:-2])\n",
    "column2 = {}\n",
    "for i in range(1,16,1):\n",
    "    column2[i+19] = \"匿名特征{a}\".format(a=i)\n",
    "    \n",
    "data_1.rename(columns=column1,inplace=True)\n",
    "data_1.rename(columns=column2,inplace=True)\n",
    "data_2.rename(columns=column1,inplace=True)\n",
    "data_2.rename(columns=column2,inplace=True)\n",
    "                     \n",
    "data_1.rename(columns={35:\"交易价格\"},inplace=True)\n",
    "\n",
    "import os \n",
    "Floder_Path = \"./数据/\"\n",
    "if not os.path.exists(Floder_Path):\n",
    "    os.mkdir(Floder_Path)\n",
    "Save_Path = Floder_Path + \"train_data_raw.xlsx\"\n",
    "data_1.to_excel(Save_Path,index=False)\n",
    "data_2.to_excel(Floder_Path+\"val_data_raw.xlsx\")\n",
    "\n",
    "data_1[\"展销时间\"] = pd.to_datetime(data_1[\"展销时间\"],format=\"%Y-%m-%d\")\n",
    "data_1[\"注册日期\"] = data_1[\"注册日期\"].astype(\"datetime64\")\n",
    "data_1[\"上牌日期\"] = data_1[\"上牌日期\"].astype(\"datetime64\")\n",
    "\n",
    "# 没有缺失值的特征\n",
    "data_1.iloc[:,data_1.isnull().mean().values==0].to_excel(\"./数据/train_data_notnull.xlsx\")\n",
    "data_2.iloc[:,data_2.isnull().mean().values==0].to_excel(\"./数据/val_data_notnull.xlsx\")\n",
    "\n",
    "data_1[\"匿名特征10\"].fillna(4,inplace=True)\n",
    "data_1[\"匿名特征8\"].fillna(3,inplace=True)\n",
    "data_1[\"国别\"].fillna(773420,inplace=True)\n",
    "data_1[\"国别\"].replace(0,773410,inplace=True)\n",
    "data_1[\"匿名特征9\"].fillna(1,inplace=True)\n",
    "data_1[\"厂商类型\"].fillna(4,inplace=True)\n",
    "data_1.drop([\"匿名特征13\",\"匿名特征11\",\"匿名特征12\",\"匿名特征4\",\"匿名特征7\",\"匿名特征15\"],axis=1,inplace=True)\n",
    "data_1[\"匿名特征1\"].fillna(2,inplace=True)\n",
    "data_1[\"年款\"].fillna(2003,inplace=True)\n",
    "data_1.dropna(axis=0,how = \"any\",inplace = True )\n",
    "\n",
    "Save_Path = Floder_Path + \"train_data_new.xlsx\"\n",
    "data_1.to_excel(Save_Path,index=False)\n",
    "\n",
    "data_2[\"匿名特征10\"].fillna(4,inplace=True)\n",
    "data_2[\"匿名特征8\"].fillna(3,inplace=True)\n",
    "data_2[\"国别\"].fillna(773420,inplace=True)\n",
    "data_2[\"匿名特征9\"].fillna(1,inplace=True)\n",
    "data_2[\"厂商类型\"].fillna(4,inplace=True)\n",
    "data_2.drop([\"匿名特征13\",\"匿名特征12\",\"匿名特征11\",\"匿名特征4\",\"匿名特征7\",\"匿名特征15\"],axis=1,inplace=True)\n",
    "data_2[\"匿名特征1\"].fillna(2,inplace=True)\n",
    "data_2[\"年款\"].fillna(2003,inplace=True)\n",
    "\n",
    "Save_Path = Floder_Path + \"val_data_new.xlsx\"\n",
    "data_2.to_excel(Save_Path,index=False)"
   ]
  },
  {
   "cell_type": "code",
   "execution_count": null,
   "id": "6cc6e467",
   "metadata": {
    "ExecuteTime": {
     "end_time": "2022-01-18T03:47:11.227442Z",
     "start_time": "2022-01-18T03:47:11.015Z"
    }
   },
   "outputs": [],
   "source": [
    "from pandas_profiling import ProfileReport\n",
    "import matplotlib.pyplot as plt \n",
    "report_raw = ProfileReport(data_1)\n",
    "report_raw.to_file(output_file='report_new.html')"
   ]
  },
  {
   "cell_type": "markdown",
   "id": "2d91cd42",
   "metadata": {
    "heading_collapsed": true
   },
   "source": [
    "## 重复值清洗"
   ]
  },
  {
   "cell_type": "code",
   "execution_count": null,
   "id": "4451d403",
   "metadata": {
    "ExecuteTime": {
     "end_time": "2022-01-18T03:47:11.229435Z",
     "start_time": "2022-01-18T03:47:11.017Z"
    },
    "hidden": true
   },
   "outputs": [],
   "source": [
    "data_1[data_1[\"车辆 id\"].duplicated()]\n",
    "data_2[data_2[\"车辆 id\"].duplicated()]"
   ]
  },
  {
   "cell_type": "markdown",
   "id": "7d283e7c",
   "metadata": {
    "heading_collapsed": true
   },
   "source": [
    "# 特征工程"
   ]
  },
  {
   "cell_type": "code",
   "execution_count": null,
   "id": "1eb51f8c",
   "metadata": {
    "ExecuteTime": {
     "end_time": "2022-01-18T03:47:11.230432Z",
     "start_time": "2022-01-18T03:47:11.019Z"
    },
    "hidden": true
   },
   "outputs": [],
   "source": [
    "import os \n",
    "import pandas as pd \n",
    "import numpy as np  # numpy库\n",
    "from sklearn.feature_selection import SelectKBest\n",
    "from sklearn.feature_selection import chi2\n",
    "from sklearn import preprocessing # guiyihua\n",
    "from sklearn.preprocessing import OrdinalEncoder\n",
    "encoder = OrdinalEncoder()\n",
    "\n",
    "Path = r\"./数据/train_data_new.xlsx\"\n",
    "data = pd.read_excel(Path,index_col=False)\n",
    "# X_fschi = SelectKBest(chi2, k=300).fit_transform(X_fsvar, y)\n",
    "X = data.iloc[:,:-1]\n",
    "X = encoder.fit_transform(X)\n",
    "X = preprocessing.MinMaxScaler().fit_transform(X)\n",
    "y = data.iloc[:,-1]\n",
    "y = y.astype(\"float\")\n",
    "\n",
    "c,p = chi2(X,y)\n",
    "#k取多少？我们想要消除所有p值大于设定值，比如0.05或0.01的特征：\n",
    "k = c.shape[0] - (p > 0.05).sum()\n",
    "X_chi2 = SelectKBest(chi2, k).fit_transform(X, y)\n",
    "result = pd.concat([pd.DataFrame(data.columns[:-4],columns=[\"Fea_name\"]),pd.DataFrame(p,columns=[\"P\"])],axis=1)\n",
    "choosen = result[result[\"P\"]>0.05]\n",
    "drop_fea = choosen.Fea_name.tolist()\n",
    "data_choosen = data.drop(drop_fea,axis=1)\n",
    "data_chi2 = data_choosen\n",
    "\n",
    "Floder_Path = \"./数据/\"\n",
    "Use_Method = \"chi2\"\n",
    "Save_Path = Folder_Path+os.path.split(Path)[-1].split(\".\")[0]+\"_\"+Use_Method+\".xlsx\"\n",
    "data_choosen.to_excel(Save_Path,index=False)"
   ]
  },
  {
   "cell_type": "markdown",
   "id": "00728c25",
   "metadata": {
    "hidden": true
   },
   "source": [
    "## 互信息过滤"
   ]
  },
  {
   "cell_type": "code",
   "execution_count": null,
   "id": "e2172607",
   "metadata": {
    "ExecuteTime": {
     "end_time": "2022-01-18T03:47:11.231431Z",
     "start_time": "2022-01-18T03:47:11.022Z"
    },
    "hidden": true
   },
   "outputs": [],
   "source": [
    "data.info()"
   ]
  },
  {
   "cell_type": "code",
   "execution_count": null,
   "id": "43fc906f",
   "metadata": {
    "ExecuteTime": {
     "end_time": "2022-01-18T03:47:11.232427Z",
     "start_time": "2022-01-18T03:47:11.024Z"
    },
    "hidden": true
   },
   "outputs": [],
   "source": [
    "import os \n",
    "import pandas as pd \n",
    "import numpy as np \n",
    "from sklearn.feature_selection import mutual_info_regression as MIR\n",
    "from sklearn.feature_selection import SelectKBest\n",
    "from sklearn import preprocessing\n",
    "from sklearn.preprocessing import OrdinalEncoder\n",
    "encoder = OrdinalEncoder()\n",
    "\n",
    "Path = r\"./数据/train_data_new.xlsx\"\n",
    "data = pd.read_excel(Path,index_col=False)\n",
    "# data[\"展销时间\"] = data[\"展销时间\"].astype(\"object\")\n",
    "# data[\"注册日期\"] = data[\"注册日期\"].astype(\"object\")\n",
    "# data[\"上牌日期\"] = data[\"上牌日期\"].astype(\"object\")\n",
    "\n",
    "X = data.iloc[:,:-1]\n",
    "X = encoder.fit_transform(X)\n",
    "# X = preprocessing.MinMaxScaler().fit_transform(X)\n",
    "y = data.iloc[:,-1]\n",
    "\n",
    "MIR_result = MIR(X,y)\n",
    "k = MIR_result.shape[0] - sum(MIR_result <= 0) # 互信息需要查几篇论文来给定阈值。\n",
    "X_mic = SelectKBest(MIR,k).fit_transform(X, y)\n",
    "\n",
    "result = pd.concat([pd.DataFrame(data.columns[:-1],columns=[\"Fea_name\"]),pd.DataFrame(MIR_result,columns=[\"MIR\"])],axis=1)\n",
    "choosen = result[result[\"MIR\"]<=0]\n",
    "drop_fea = choosen.Fea_name.tolist()\n",
    "data_choosen = data.drop(drop_fea,axis=1)\n",
    "data_MIR = data_choosen\n",
    "\n",
    "Use_Method = \"MIR\"\n",
    "Folder_Path = \"./数据/\"\n",
    "Save_Path = Folder_Path+os.path.split(Path)[-1].split(\".\")[0]+\"_\"+Use_Method+\".xlsx\"\n",
    "data_choosen.to_excel(Save_Path,index=False)"
   ]
  },
  {
   "cell_type": "code",
   "execution_count": null,
   "id": "27c1ab5b",
   "metadata": {
    "ExecuteTime": {
     "end_time": "2022-01-18T03:47:11.234421Z",
     "start_time": "2022-01-18T03:47:11.026Z"
    },
    "hidden": true
   },
   "outputs": [],
   "source": [
    "data_MIR.shape"
   ]
  },
  {
   "cell_type": "markdown",
   "id": "8890b10a",
   "metadata": {
    "hidden": true
   },
   "source": [
    "## RFE"
   ]
  },
  {
   "cell_type": "code",
   "execution_count": null,
   "id": "0a12d836",
   "metadata": {
    "ExecuteTime": {
     "end_time": "2022-01-18T03:47:11.235419Z",
     "start_time": "2022-01-18T03:47:11.028Z"
    },
    "hidden": true
   },
   "outputs": [],
   "source": [
    "import numpy as np  # numpy库\n",
    "from sklearn.ensemble import RandomForestRegressor\n",
    "import matplotlib.pyplot as plt \n",
    "import scipy.io as sio\n",
    "from sklearn import preprocessing # guiyihua\n",
    "from sklearn.model_selection import train_test_split#划分训练集\n",
    "import sklearn.metrics as sm #画混淆矩阵\n",
    "import pandas as pd \n",
    "import scipy \n",
    "from sklearn.feature_selection import RFE\n",
    "\n",
    "Path = r\"./数据/train_data_new.xlsx\"\n",
    "data = pd.read_excel(Path,index_col=False)\n",
    "# data[\"展销时间\"] = data[\"展销时间\"].astype(\"object\")\n",
    "# data[\"注册日期\"] = data[\"注册日期\"].astype(\"object\")\n",
    "# data[\"上牌日期\"] = data[\"上牌日期\"].astype(\"object\")\n",
    "\n",
    "X = data.iloc[:,:-1]\n",
    "X = encoder.fit_transform(X)\n",
    "# X = preprocessing.MinMaxScaler().fit_transform(X)\n",
    "y = data.iloc[:,-1]\n",
    "\n",
    "model = RandomForestRegressor(random_state=0)\n",
    "selector = RFE(model).fit(X, y)\n",
    "selector.support_.sum()\n",
    "selector.ranking_\n",
    "X_wrapper = selector.transform(X)"
   ]
  },
  {
   "cell_type": "code",
   "execution_count": null,
   "id": "19addee9",
   "metadata": {
    "ExecuteTime": {
     "end_time": "2022-01-18T03:47:11.236425Z",
     "start_time": "2022-01-18T03:47:11.029Z"
    },
    "hidden": true
   },
   "outputs": [],
   "source": [
    "data_choosen = data[column3.tolist()]\n",
    "Use_Method = \"RFE\"\n",
    "Folder_Path = \"./数据/\"\n",
    "Save_Path = Folder_Path+os.path.split(Path)[-1].split(\".\")[0]+\"_\"+Use_Method+\".xlsx\"\n",
    "data_choosen.to_excel(Save_Path,index=False)"
   ]
  },
  {
   "cell_type": "code",
   "execution_count": null,
   "id": "5b9cf55c",
   "metadata": {
    "ExecuteTime": {
     "end_time": "2022-01-18T03:47:11.238412Z",
     "start_time": "2022-01-18T03:47:11.031Z"
    },
    "hidden": true
   },
   "outputs": [],
   "source": [
    "column3 = pd.DataFrame([*zip(data.columns,selector.ranking_)]).sort_values(by=1)[:14].iloc[:,0]"
   ]
  },
  {
   "cell_type": "code",
   "execution_count": null,
   "id": "55dd3abb",
   "metadata": {
    "ExecuteTime": {
     "end_time": "2022-01-18T03:47:11.239409Z",
     "start_time": "2022-01-18T03:47:11.032Z"
    },
    "hidden": true
   },
   "outputs": [],
   "source": [
    "data[column3.tolist()]"
   ]
  },
  {
   "cell_type": "code",
   "execution_count": null,
   "id": "77289065",
   "metadata": {
    "ExecuteTime": {
     "end_time": "2022-01-18T03:47:11.241405Z",
     "start_time": "2022-01-18T03:47:11.034Z"
    },
    "hidden": true
   },
   "outputs": [],
   "source": [
    "selector.ranking_"
   ]
  },
  {
   "cell_type": "code",
   "execution_count": null,
   "id": "77e7b38a",
   "metadata": {
    "ExecuteTime": {
     "end_time": "2022-01-18T03:47:11.243421Z",
     "start_time": "2022-01-18T03:47:11.036Z"
    },
    "hidden": true,
    "scrolled": true
   },
   "outputs": [],
   "source": [
    "X_wrapper.shape"
   ]
  },
  {
   "cell_type": "code",
   "execution_count": null,
   "id": "34739b52",
   "metadata": {
    "hidden": true
   },
   "outputs": [],
   "source": []
  },
  {
   "cell_type": "code",
   "execution_count": null,
   "id": "08484b32",
   "metadata": {
    "hidden": true
   },
   "outputs": [],
   "source": []
  },
  {
   "cell_type": "markdown",
   "id": "033bacb0",
   "metadata": {},
   "source": [
    "# 模型建模"
   ]
  },
  {
   "cell_type": "code",
   "execution_count": 41,
   "id": "c6fceeb9",
   "metadata": {
    "ExecuteTime": {
     "end_time": "2022-01-18T08:57:59.679458Z",
     "start_time": "2022-01-18T08:55:53.287163Z"
    }
   },
   "outputs": [
    {
     "name": "stdout",
     "output_type": "stream",
     "text": [
      "Delete number is: 635\n",
      "Now column number is: 29355\n",
      "Description of data less than the lower bound is:\n",
      "count    0.0\n",
      "mean     NaN\n",
      "std      NaN\n",
      "min      NaN\n",
      "25%      NaN\n",
      "50%      NaN\n",
      "75%      NaN\n",
      "max      NaN\n",
      "Name: 交易价格, dtype: float64\n",
      "Description of data larger than the upper bound is:\n",
      "count       635.000000\n",
      "mean        256.191921\n",
      "std        4322.590462\n",
      "min          53.800000\n",
      "25%          58.795000\n",
      "50%          68.000000\n",
      "75%          85.300000\n",
      "max      109000.000000\n",
      "Name: 交易价格, dtype: float64\n",
      "fold  1\n",
      "fold  2\n",
      "fold  3\n",
      "fold  4\n",
      "fold  5\n",
      "------------------------------------------------------------------------------------------------------------------------\n",
      "Accuracy  0    0.83597\n",
      "dtype: float64\n",
      "R2: 0.9773333233690317\n",
      "MAE: 0.07008888321423438\n"
     ]
    },
    {
     "data": {
      "image/png": "[encoded data removed]",
      "text/plain": [
       "<Figure size 720x504 with 2 Axes>"
      ]
     },
     "metadata": {
      "needs_background": "light"
     },
     "output_type": "display_data"
    }
   ],
   "source": [
    "from sklearn.metrics import mean_squared_error\n",
    "from sklearn.model_selection import StratifiedKFold, KFold\n",
    "from sklearn.model_selection import train_test_split\n",
    "from sklearn.metrics import mean_squared_error\n",
    "from sklearn import metrics\n",
    "import pandas as pd\n",
    "import warnings\n",
    "from sklearn.preprocessing import scale\n",
    "from sklearn.model_selection import cross_val_score\n",
    "import lightgbm as lgb\n",
    "import time\n",
    "import numpy as np\n",
    "from sklearn.preprocessing import StandardScaler\n",
    "\n",
    "\n",
    "train = pd.read_excel(r\"./数据/train_data_new.xlsx\")\n",
    "test = pd.read_excel(\"./数据/val_data_new.xlsx\")\n",
    "\n",
    "train[\"展销时间\"] = pd.to_datetime(train[\"展销时间\"])\n",
    "train[\"注册日期\"] = pd.to_datetime(train[\"注册日期\"])\n",
    "train[\"上牌日期\"] = pd.to_datetime(train[\"上牌日期\"])\n",
    "\n",
    "test[\"展销时间\"] = pd.to_datetime(test[\"展销时间\"])\n",
    "test[\"注册日期\"] = pd.to_datetime(test[\"注册日期\"])\n",
    "test[\"上牌日期\"] = pd.to_datetime(test[\"上牌日期\"])\n",
    "\n",
    "\n",
    "\n",
    "train['展销时间_year'] = train['展销时间'].dt.year\n",
    "train['展销时间_month'] = train['展销时间'].dt.month\n",
    "train['展销时间_day'] = train['展销时间'].dt.day\n",
    "train['注册日期_year'] = train['注册日期'].dt.year\n",
    "train['注册日期_month'] = train['注册日期'].dt.month\n",
    "train['注册日期_day'] = train['注册日期'].dt.day\n",
    "test['展销时间_year'] = test['展销时间'].dt.year\n",
    "test['展销时间_month'] = test['展销时间'].dt.month\n",
    "test['展销时间_day'] = test['展销时间'].dt.day\n",
    "test['注册日期_year'] = test['注册日期'].dt.year\n",
    "test['注册日期_month'] = test['注册日期'].dt.month\n",
    "test['注册日期_day'] = test['注册日期'].dt.day\n",
    "del train['展销时间']\n",
    "del test['展销时间']\n",
    "del train['注册日期']\n",
    "del test['注册日期']\n",
    "del train['上牌日期']\n",
    "del test['上牌日期']\n",
    "\n",
    "from Box_Figure import outliers_proc\n",
    "train_X = outliers_proc(train,'交易价格',scale=3) # 使用箱型图处理异常值\n",
    "train_X['交易价格'] = np.log1p(train_X['交易价格'])\n",
    "train_y = train_X['交易价格']\n",
    "del train_X['交易价格']\n",
    "\n",
    "y = train_y\n",
    "fig = sns.kdeplot(y, color='Red', shade=True)\n",
    "scatter_fig = fig.get_figure()\n",
    "\n",
    "data = train_X\n",
    "scaler = StandardScaler()\n",
    "train_x = scaler.fit_transform(train_X)\n",
    "test_x = scaler.fit_transform(test)\n",
    "\n",
    "# 模型的参数\n",
    "params = {'learning_rate': 0.01,\n",
    "          'boosting_type': 'gbdt',\n",
    "          'objective': 'regression_l1',\n",
    "          'metric': 'mae',\n",
    "          'min_child_samples': 46,\n",
    "          'min_child_weight': 0.01,\n",
    "          'feature_fraction': 0.8,\n",
    "          'bagging_fraction': 0.8,\n",
    "          'bagging_freq': 2,\n",
    "          'num_leaves': 32,\n",
    "          'max_depth': 8,\n",
    "          'n_jobs': -1,\n",
    "          'seed': 2021,\n",
    "          'verbose': -1,\n",
    "          }\n",
    "\n",
    "\n",
    "def Accuracy(y_true, y_pred): #赛题给定的指标MAPE\n",
    "\n",
    "    n = len(y_true)\n",
    "    mape = sum(np.abs((y_true - y_pred)/y_true))/n\n",
    "    Apexiaoyu005 = pd.DataFrame(abs(y_true - y_pred)/y_true)\n",
    "    Accuracy = (Apexiaoyu005[Apexiaoyu005 <= 0.05].count() /\n",
    "                Apexiaoyu005.count())*0.8+0.2*(1-mape)\n",
    "    return Accuracy\n",
    "\n",
    "val_pred = np.zeros(len(train_x))\n",
    "val_true = np.zeros(len(train_x))\n",
    "preds = np.zeros(len(test_x))\n",
    "folds = 5\n",
    "kfold = KFold(n_splits=folds, shuffle=True, random_state=4071)\n",
    "for fold, (trn_idx, val_idx) in enumerate(kfold.split(train_x, train_y)):\n",
    "    print('fold ', fold + 1)\n",
    "    x_trn, y_trn, x_val, y_val = train_x[trn_idx], train_y.iloc[trn_idx], train_x[val_idx], train_y.iloc[val_idx]\n",
    "    train_set = lgb.Dataset(x_trn, y_trn)\n",
    "    val_set = lgb.Dataset(x_val, y_val)\n",
    "\n",
    "    model = lgb.train(params, train_set, num_boost_round=5000,\n",
    "                      valid_sets=(\n",
    "                          train_set, val_set), early_stopping_rounds=500,\n",
    "                      verbose_eval=False)\n",
    "    val_pred[val_idx] += model.predict(x_val, predict_disable_shape_check=True)\n",
    "    preds += model.predict(test_x, predict_disable_shape_check=True) / folds\n",
    "    val_true[val_idx] += y_val    \n",
    "\n",
    "from sklearn import metrics\n",
    "acc = Accuracy(val_true, val_pred)\n",
    "print('*'*50)\n",
    "print('Accuracy ', round(acc, 5))\n",
    "print(\"R2:\",metrics.r2_score(val_true,val_pred))\n",
    "print(\"MAE:\",metrics.mean_absolute_error(val_true,val_pred))"
   ]
  },
  {
   "cell_type": "code",
   "execution_count": 42,
   "id": "f2f0d554",
   "metadata": {
    "ExecuteTime": {
     "end_time": "2022-01-18T08:57:59.858948Z",
     "start_time": "2022-01-18T08:57:59.682419Z"
    }
   },
   "outputs": [],
   "source": [
    "submit_df = pd.DataFrame(columns=['price']) \n",
    "submit_df['price'] = preds\n",
    "submit_df = submit_df.price.apply(np.expm1)  # np.log1p与np.expm1互为逆运算\n",
    "submit_df.to_csv('./估价模型结果.csv', header=0)"
   ]
  },
  {
   "cell_type": "code",
   "execution_count": null,
   "id": "db5eb0cf",
   "metadata": {},
   "outputs": [],
   "source": []
  }
 ],
 "metadata": {
  "kernelspec": {
   "display_name": "Python 3",
   "language": "python",
   "name": "python3"
  },
  "language_info": {
   "codemirror_mode": {
    "name": "ipython",
    "version": 3
   },
   "file_extension": ".py",
   "mimetype": "text/x-python",
   "name": "python",
   "nbconvert_exporter": "python",
   "pygments_lexer": "ipython3",
   "version": "3.8.8"
  },
  "latex_envs": {
   "LaTeX_envs_menu_present": true,
   "autoclose": false,
   "autocomplete": true,
   "bibliofile": "biblio.bib",
   "cite_by": "apalike",
   "current_citInitial": 1,
   "eqLabelWithNumbers": true,
   "eqNumInitial": 1,
   "hotkeys": {
    "equation": "Ctrl-E",
    "itemize": "Ctrl-I"
   },
   "labels_anchors": false,
   "latex_user_defs": false,
   "report_style_numbering": false,
   "user_envs_cfg": false
  },
  "nbTranslate": {
   "displayLangs": [
    "*"
   ],
   "hotkey": "alt-t",
   "langInMainMenu": true,
   "sourceLang": "en",
   "targetLang": "fr",
   "useGoogleTranslate": true
  },
  "toc": {
   "base_numbering": 1,
   "nav_menu": {},
   "number_sections": true,
   "sideBar": true,
   "skip_h1_title": false,
   "title_cell": "Table of Contents",
   "title_sidebar": "Contents",
   "toc_cell": false,
   "toc_position": {},
   "toc_section_display": true,
   "toc_window_display": false
  },
  "varInspector": {
   "cols": {
    "lenName": 16,
    "lenType": 16,
    "lenVar": 40
   },
   "kernels_config": {
    "python": {
     "delete_cmd_postfix": "",
     "delete_cmd_prefix": "del ",
     "library": "var_list.py",
     "varRefreshCmd": "print(var_dic_list())"
    },
    "r": {
     "delete_cmd_postfix": ") ",
     "delete_cmd_prefix": "rm(",
     "library": "var_list.r",
     "varRefreshCmd": "cat(var_dic_list()) "
    }
   },
   "types_to_exclude": [
    "module",
    "function",
    "builtin_function_or_method",
    "instance",
    "_Feature"
   ],
   "window_display": false
  }
 },
 "nbformat": 4,
 "nbformat_minor": 5
}
