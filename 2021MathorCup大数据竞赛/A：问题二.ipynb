{
 "cells": [
  {
   "cell_type": "markdown",
   "id": "25500256",
   "metadata": {},
   "source": [
    "# 数据清洗与查看"
   ]
  },
  {
   "cell_type": "code",
   "execution_count": 140,
   "id": "d8182210",
   "metadata": {
    "ExecuteTime": {
     "end_time": "2022-01-17T06:54:41.064377Z",
     "start_time": "2022-01-17T06:54:20.979070Z"
    }
   },
   "outputs": [],
   "source": [
    "import pandas as pd \n",
    "import numpy as np \n",
    "import matplotlib.pyplot as plt \n",
    "import warnings\n",
    "warnings.filterwarnings(\"ignore\")\n",
    "import os \n",
    "import ast\n",
    "\n",
    "data_1 = pd.read_excel(\"./数据/train_data_new.xlsx\")\n",
    "\n",
    "data_4 = pd.read_csv(\"./附件/附件4：门店交易训练数据.txt\",sep=\"\\t\",header=None)\n",
    "column4 = {0:\"车辆 id\",1:\"上架时间\",2:\"上架价格\",3:\"价格调整\",4:\"下架时间\",5:\"成交时间\"}\n",
    "data_4.rename(columns=column4,inplace=True)\n",
    "\n",
    "Floder_Path = \"./问题二/\"\n",
    "if not os.path.exists(Floder_Path):\n",
    "    os.mkdir(Floder_Path)\n",
    "Save_Path = Floder_Path + \"data_4.xlsx\"\n",
    "data_4.to_excel(Save_Path,index=False)\n",
    "\n",
    "data_merge = pd.merge(left=data_1,right=data_4,on=\"车辆 id\")\n",
    "\n",
    "data_merge = pd.merge(left=data_merge,right=data_4,how=\"outer\")\n",
    "\n",
    "PA_whether = {}\n",
    "PA_price = {}\n",
    "PA_time = {}\n",
    "PA_num = {}\n",
    "PA_num = {}\n",
    "PA_freq = {}\n",
    "for i in range(data_merge.shape[0]):\n",
    "    PA = data_merge[\"价格调整\"].values[i]\n",
    "    PA = ast.literal_eval(PA)\n",
    "    if not PA:\n",
    "        PA_price[i] = data_merge[\"上架价格\"].values[i]\n",
    "        PA_time[i] = data_merge[\"上架时间\"].values[i]\n",
    "        PA_num[i] = 0\n",
    "        PA_freq[i] = 0\n",
    "        PA_whether[i] = False\n",
    "    else:\n",
    "        keys = []\n",
    "        values = []\n",
    "        for key,value in PA.items():\n",
    "            keys.append(key)\n",
    "            values.append(value)\n",
    "        \n",
    "        PA_price[i] = values[-1]\n",
    "        PA_time[i] = keys[-1]\n",
    "        PA_num[i] = len(keys)\n",
    "        days = np.timedelta64(pd.to_datetime(PA_time[i])-pd.to_datetime(data_merge[\"上架时间\"].values[i]),\"D\").astype(float)\n",
    "        PA_freq[i] = PA_num[i]/days\n",
    "        PA_whether[i] = True\n",
    "\n",
    "\n",
    "PA_whether = pd.Series(PA_whether)\n",
    "PA_freq = pd.Series(PA_freq)\n",
    "PA_time = pd.Series(PA_time)\n",
    "PA_price = pd.Series(PA_price)\n",
    "PA_num = pd.Series(PA_num)\n",
    "\n",
    "data_merge.insert(data_merge.shape[1]-1,\"是否调价\",PA_whether)\n",
    "data_merge.insert(data_merge.shape[1]-1,\"调价次数\",PA_num)\n",
    "data_merge.insert(data_merge.shape[1]-1,\"调价频率\",PA_freq)\n",
    "data_merge.insert(data_merge.shape[1]-1,\"最终调价时间\",PA_time)\n",
    "data_merge.insert(data_merge.shape[1]-1,\"最终调价\",PA_price)\n",
    "data_merge.insert(data_merge.shape[1],\"成交时间New\",data_merge[data_merge[\"交易价格\"].notnull()][\"下架时间\"])\n",
    "data_merge[\"成交时间New\"][-7:] = data_merge[\"成交时间\"][-7:]\n",
    "data_merge[\"成交周期\"] = data_merge[\"成交时间New\"].astype(\"datetime64\")-data_merge[\"上架时间\"].astype(\"datetime64\")\n",
    "data_merge[\"成交周期\"] = data_merge[\"成交周期\"].astype('timedelta64[D]').astype(int)\n",
    "\n",
    "\n",
    "\n",
    "data_merge.dropna(subset=[\"年款\"],inplace=True)\n",
    "\n",
    "# 成交周期分箱\n",
    "data_merge[\"成交速度\"] = 1\n",
    "data_merge[\"成交速度\"][data_merge[\"成交周期\"]<=7] = 1\n",
    "data_merge[\"成交速度\"][(data_merge[\"成交周期\"]>7)&(data_merge[\"成交周期\"]<=14)] = 2\n",
    "data_merge[\"成交速度\"][(data_merge[\"成交周期\"]>14)&(data_merge[\"成交周期\"]<=21)] = 3\n",
    "data_merge[\"成交速度\"][(data_merge[\"成交周期\"]>21)&(data_merge[\"成交周期\"]<=28)] = 4\n",
    "data_merge[\"成交速度\"][(data_merge[\"成交周期\"]>28)&(data_merge[\"成交周期\"]<=35)] = 5\n",
    "data_merge[\"成交速度\"][data_merge[\"成交周期\"]>35] = 6\n",
    "    \n",
    "# 交易价格分箱\n",
    "data_merge[\"车辆级别\"] = 1\n",
    "data_merge[\"车辆级别\"][(data_merge[\"交易价格\"]>20)&(data_merge[\"交易价格\"]<=50)] = 2\n",
    "data_merge[\"车辆级别\"][(data_merge[\"交易价格\"]>50)&(data_merge[\"交易价格\"]<=100)] = 3\n",
    "data_merge[\"车辆级别\"][data_merge[\"交易价格\"]>100] = 4\n",
    "\n",
    "#降价比\n",
    "data_merge[\"初始降价\"] = data_merge[\"新车价\"]-data_merge[\"上架价格\"]\n",
    "data_merge[\"最终降价\"] = data_merge[\"新车价\"]-data_merge[\"最终调价\"].astype(float)\n",
    "data_merge[\"初始降价比\"] = (data_merge[\"新车价\"]-data_merge[\"上架价格\"])/data_merge[\"新车价\"]\n",
    "data_merge[\"最终降价比\"] = (data_merge[\"新车价\"]-data_merge[\"最终调价\"].astype(float))/data_merge[\"新车价\"]\n",
    "\n",
    "mid = data_merge[\"成交周期\"]\n",
    "data_merge.drop(columns=[\"成交周期\"],inplace=True)\n",
    "data_merge.insert(data_merge.shape[1],\"成交周期\",mid)\n",
    "\n",
    "mid = data_merge[\"成交速度\"]\n",
    "data_merge.drop(columns=[\"成交速度\"],inplace=True)\n",
    "data_merge.insert(data_merge.shape[1],\"成交速度\",mid)"
   ]
  },
  {
   "cell_type": "code",
   "execution_count": 141,
   "id": "3945cdc8",
   "metadata": {
    "ExecuteTime": {
     "end_time": "2022-01-17T06:54:49.471889Z",
     "start_time": "2022-01-17T06:54:41.066360Z"
    }
   },
   "outputs": [],
   "source": [
    "Save_Path = Floder_Path + \"data_merge.xlsx\"\n",
    "data_merge.to_excel(Save_Path,index=False)"
   ]
  },
  {
   "cell_type": "markdown",
   "id": "d4f8d58a",
   "metadata": {
    "heading_collapsed": true
   },
   "source": [
    "# 数据分析"
   ]
  },
  {
   "cell_type": "markdown",
   "id": "1d7d2fe2",
   "metadata": {
    "heading_collapsed": true,
    "hidden": true
   },
   "source": [
    "## 周期分布"
   ]
  },
  {
   "cell_type": "code",
   "execution_count": 124,
   "id": "4b32ccc7",
   "metadata": {
    "ExecuteTime": {
     "end_time": "2022-01-17T04:46:06.599049Z",
     "start_time": "2022-01-17T04:45:59.053890Z"
    },
    "hidden": true
   },
   "outputs": [],
   "source": [
    "import pandas as pd \n",
    "import numpy as np \n",
    "import matplotlib.pyplot as plt \n",
    "import warnings\n",
    "warnings.filterwarnings(\"ignore\")\n",
    "import os \n",
    "import ast\n",
    "\n",
    "data_merge = pd.read_excel(\"./问题二/data_merge.xlsx\")"
   ]
  },
  {
   "cell_type": "code",
   "execution_count": 125,
   "id": "19f773ce",
   "metadata": {
    "ExecuteTime": {
     "end_time": "2022-01-17T04:46:06.823453Z",
     "start_time": "2022-01-17T04:46:06.602045Z"
    },
    "hidden": true
   },
   "outputs": [
    {
     "data": {
      "text/plain": [
       "<AxesSubplot:xlabel='成交速度', ylabel='count'>"
      ]
     },
     "execution_count": 125,
     "metadata": {},
     "output_type": "execute_result"
    },
    {
     "data": {
      "image/png": "[encoded data removed]",
      "text/plain": [
       "<Figure size 780x520 with 1 Axes>"
      ]
     },
     "metadata": {
      "needs_background": "light"
     },
     "output_type": "display_data"
    }
   ],
   "source": [
    "import seaborn as sns \n",
    "import matplotlib.pyplot as plt \n",
    "plt.figure(dpi=130)\n",
    "plt.rcParams['font.sans-serif'] = ['SimHei']  # 黑体  # 解决Seaborn中文显示问题\n",
    "sns.countplot(x=\"成交速度\",data=data_merge)"
   ]
  },
  {
   "cell_type": "markdown",
   "id": "289cdf1c",
   "metadata": {
    "heading_collapsed": true,
    "hidden": true
   },
   "source": [
    "## 年款"
   ]
  },
  {
   "cell_type": "code",
   "execution_count": 129,
   "id": "e5fac7f3",
   "metadata": {
    "ExecuteTime": {
     "end_time": "2022-01-17T04:55:14.854503Z",
     "start_time": "2022-01-17T04:55:14.833559Z"
    },
    "hidden": true
   },
   "outputs": [],
   "source": [
    "data_merge = data_merge[data_merge[\"成交速度\"]==6]"
   ]
  },
  {
   "cell_type": "code",
   "execution_count": 130,
   "id": "cc6565bb",
   "metadata": {
    "ExecuteTime": {
     "end_time": "2022-01-17T04:55:17.445638Z",
     "start_time": "2022-01-17T04:55:17.135468Z"
    },
    "hidden": true,
    "scrolled": false
   },
   "outputs": [
    {
     "data": {
      "text/plain": [
       "<AxesSubplot:xlabel='年款', ylabel='count'>"
      ]
     },
     "execution_count": 130,
     "metadata": {},
     "output_type": "execute_result"
    },
    {
     "data": {
      "image/png": "[encoded data removed]",
      "text/plain": [
       "<Figure size 1500x750 with 1 Axes>"
      ]
     },
     "metadata": {
      "needs_background": "light"
     },
     "output_type": "display_data"
    }
   ],
   "source": [
    "plt.figure(figsize=(10,5),dpi=150)\n",
    "sns.countplot(x=\"年款\",data=data_merge)"
   ]
  },
  {
   "cell_type": "code",
   "execution_count": 131,
   "id": "b8e70a3e",
   "metadata": {
    "ExecuteTime": {
     "end_time": "2022-01-17T04:55:37.043384Z",
     "start_time": "2022-01-17T04:55:36.300635Z"
    },
    "hidden": true
   },
   "outputs": [
    {
     "data": {
      "image/png": "[encoded data removed]",
      "text/plain": [
       "<Figure size 1500x750 with 1 Axes>"
      ]
     },
     "metadata": {
      "needs_background": "light"
     },
     "output_type": "display_data"
    }
   ],
   "source": [
    "data_merge[\"年款\"] = data_merge[\"年款\"].astype(\"int32\")\n",
    "\n",
    "plt.figure(figsize=(10,5),dpi=150)\n",
    "sns.barplot(x=data_merge[\"年款\"],y=data_merge[\"成交速度\"]\n",
    "#             ,hue=data_merge[\"速度级别\"]\n",
    "           )\n",
    "plt.show()"
   ]
  },
  {
   "cell_type": "markdown",
   "id": "04261e28",
   "metadata": {
    "heading_collapsed": true,
    "hidden": true
   },
   "source": [
    "## 价格"
   ]
  },
  {
   "cell_type": "code",
   "execution_count": 132,
   "id": "7bc35d06",
   "metadata": {
    "ExecuteTime": {
     "end_time": "2022-01-17T04:55:46.533379Z",
     "start_time": "2022-01-17T04:55:41.377747Z"
    },
    "hidden": true
   },
   "outputs": [
    {
     "data": {
      "text/plain": [
       "<AxesSubplot:xlabel='最终调价', ylabel='count'>"
      ]
     },
     "execution_count": 132,
     "metadata": {},
     "output_type": "execute_result"
    },
    {
     "data": {
      "image/png": "[encoded data removed]",
      "text/plain": [
       "<Figure size 432x288 with 1 Axes>"
      ]
     },
     "metadata": {
      "needs_background": "light"
     },
     "output_type": "display_data"
    }
   ],
   "source": [
    "sns.countplot(x=data_merge[\"最终调价\"],data=data_merge)"
   ]
  },
  {
   "cell_type": "code",
   "execution_count": 134,
   "id": "483bd1ee",
   "metadata": {
    "ExecuteTime": {
     "end_time": "2022-01-17T04:55:52.427497Z",
     "start_time": "2022-01-17T04:55:51.291502Z"
    },
    "hidden": true
   },
   "outputs": [
    {
     "data": {
      "image/png": "[encoded data removed]",
      "text/plain": [
       "<Figure size 1500x750 with 1 Axes>"
      ]
     },
     "metadata": {
      "needs_background": "light"
     },
     "output_type": "display_data"
    }
   ],
   "source": [
    "plt.figure(figsize=(10,5),dpi=150)\n",
    "sns.lineplot(x=data_merge[\"最终调价\"],y=data_merge[\"成交速度\"]\n",
    "#             ,hue=data_merge[\"速度级别\"]\n",
    "           )\n",
    "plt.show()"
   ]
  },
  {
   "cell_type": "code",
   "execution_count": null,
   "id": "13b53499",
   "metadata": {
    "hidden": true
   },
   "outputs": [],
   "source": []
  },
  {
   "cell_type": "markdown",
   "id": "3bd51991",
   "metadata": {
    "hidden": true
   },
   "source": [
    "## 相关性分析"
   ]
  },
  {
   "cell_type": "code",
   "execution_count": 135,
   "id": "afe5921c",
   "metadata": {
    "ExecuteTime": {
     "end_time": "2022-01-17T04:56:59.771515Z",
     "start_time": "2022-01-17T04:56:51.729366Z"
    },
    "hidden": true
   },
   "outputs": [],
   "source": [
    "import pandas as pd \n",
    "import numpy as np \n",
    "import matplotlib.pyplot as plt \n",
    "import warnings\n",
    "warnings.filterwarnings(\"ignore\")\n",
    "import os \n",
    "import ast\n",
    "\n",
    "data_merge = pd.read_excel(\"./问题二/data_merge.xlsx\")\n",
    "data_merge = data_merge[data_merge[\"成交速度\"] == 6]\n",
    "\n",
    "data_merge[\"展销时间\"] = data_merge[\"展销时间\"].values.astype(\"float64\")\n",
    "data_merge[\"注册日期\"] = data_merge[\"注册日期\"].values.astype(\"float64\")\n",
    "data_merge[\"上牌日期\"] = data_merge[\"上牌日期\"].values.astype(\"float64\")\n",
    "\n",
    "data_merge.corr('spearman').to_excel(\"./问题二/Corr.xlsx\",index=True)\n",
    "\n",
    "data_corr = pd.read_excel(\"./问题二/Corr.xlsx\",index_col=0)\n",
    "\n",
    "pd.DataFrame(np.abs(data_corr.loc[\"成交周期\",:]).sort_values(ascending = False)).to_clipboard()"
   ]
  },
  {
   "cell_type": "markdown",
   "id": "491b62c4",
   "metadata": {
    "ExecuteTime": {
     "end_time": "2022-01-17T06:51:31.980985Z",
     "start_time": "2022-01-17T06:51:31.968045Z"
    }
   },
   "source": [
    "# AB测试"
   ]
  },
  {
   "cell_type": "code",
   "execution_count": 1,
   "id": "a7113e3f",
   "metadata": {
    "ExecuteTime": {
     "end_time": "2022-01-18T08:44:07.632083Z",
     "start_time": "2022-01-18T08:43:33.030818Z"
    },
    "scrolled": true
   },
   "outputs": [
    {
     "name": "stdout",
     "output_type": "stream",
     "text": [
      "Delete number is: 265\n",
      "Now column number is: 9728\n",
      "Description of data less than the lower bound is:\n",
      "count    0.0\n",
      "mean     NaN\n",
      "std      NaN\n",
      "min      NaN\n",
      "25%      NaN\n",
      "50%      NaN\n",
      "75%      NaN\n",
      "max      NaN\n",
      "Name: 成交周期, dtype: float64\n",
      "Description of data larger than the upper bound is:\n",
      "count    265.000000\n",
      "mean     138.932075\n",
      "std       40.502468\n",
      "min       95.000000\n",
      "25%      107.000000\n",
      "50%      125.000000\n",
      "75%      161.000000\n",
      "max      277.000000\n",
      "Name: 成交周期, dtype: float64\n",
      "Delete number is: 175\n",
      "Now column number is: 9553\n",
      "Description of data less than the lower bound is:\n",
      "count    0.0\n",
      "mean     NaN\n",
      "std      NaN\n",
      "min      NaN\n",
      "25%      NaN\n",
      "50%      NaN\n",
      "75%      NaN\n",
      "max      NaN\n",
      "Name: 交易价格, dtype: float64\n",
      "Description of data larger than the upper bound is:\n",
      "count    175.000000\n",
      "mean      81.279486\n",
      "std       55.113429\n",
      "min       53.500000\n",
      "25%       58.800000\n",
      "50%       68.000000\n",
      "75%       81.800000\n",
      "max      658.000000\n",
      "Name: 交易价格, dtype: float64\n",
      "Delete number is: 18\n",
      "Now column number is: 9535\n",
      "Description of data less than the lower bound is:\n",
      "count    0.0\n",
      "mean     NaN\n",
      "std      NaN\n",
      "min      NaN\n",
      "25%      NaN\n",
      "50%      NaN\n",
      "75%      NaN\n",
      "max      NaN\n",
      "Name: 最终调价, dtype: float64\n",
      "Description of data larger than the upper bound is:\n",
      "count    18.000000\n",
      "mean     52.327778\n",
      "std       0.517693\n",
      "min      51.500000\n",
      "25%      52.000000\n",
      "50%      52.250000\n",
      "75%      52.800000\n",
      "max      53.000000\n",
      "Name: 最终调价, dtype: float64\n"
     ]
    },
    {
     "data": {
      "image/png": "[encoded data removed]",
      "text/plain": [
       "<Figure size 720x504 with 2 Axes>"
      ]
     },
     "metadata": {
      "needs_background": "light"
     },
     "output_type": "display_data"
    },
    {
     "data": {
      "image/png": "[encoded data removed]",
      "text/plain": [
       "<Figure size 720x504 with 2 Axes>"
      ]
     },
     "metadata": {
      "needs_background": "light"
     },
     "output_type": "display_data"
    },
    {
     "data": {
      "image/png": "[encoded data removed]",
      "text/plain": [
       "<Figure size 720x504 with 2 Axes>"
      ]
     },
     "metadata": {
      "needs_background": "light"
     },
     "output_type": "display_data"
    }
   ],
   "source": [
    "from Box_Figure import outliers_proc  #箱型图\n",
    "from xgboost import XGBRegressor\n",
    "from xgboost import XGBRFRegressor\n",
    "from sklearn.ensemble import RandomForestRegressor\n",
    "import pandas as pd \n",
    "import numpy as np \n",
    "import matplotlib.pyplot as plt \n",
    "import warnings\n",
    "warnings.filterwarnings(\"ignore\")\n",
    "import os \n",
    "import ast\n",
    "\n",
    "data_merge = pd.read_excel(\"./问题二/data_merge.xlsx\")\n",
    "\n",
    "data_merge.drop(columns=\"成交时间\",inplace=True)\n",
    "\n",
    "data_merge.drop(columns=[\"成交时间New\",\"下架时间\"],inplace=True)\n",
    "\n",
    "for column in [\"成交周期\",\"交易价格\",\"最终调价\"]:\n",
    "# column = \"成交周期\"\n",
    "    data_merge = outliers_proc(data_merge,column,scale=3)\n",
    "\n",
    "data_merge[\"展销时间\"] = data_merge[\"展销时间\"].values.astype(\"float64\")\n",
    "data_merge[\"注册日期\"] = data_merge[\"注册日期\"].values.astype(\"float64\")\n",
    "data_merge[\"上牌日期\"] = data_merge[\"上牌日期\"].values.astype(\"float64\")\n",
    "\n",
    "data_1 = data_merge[data_merge[\"成交速度\"] == 1 ]\n",
    "data_2 = data_merge[data_merge[\"成交速度\"] == 2 ]\n",
    "data_3 = data_merge[data_merge[\"成交速度\"] == 3 ]\n",
    "data_4 = data_merge[data_merge[\"成交速度\"] == 4 ]\n",
    "data_5 = data_merge[data_merge[\"成交速度\"] == 5 ]\n",
    "data_6 = data_merge[data_merge[\"成交速度\"] == 6 ]\n",
    "\n",
    "from scipy import stats\n",
    "\n",
    "ab_test = {}\n",
    "for column in data_merge.columns:\n",
    "    if data_merge[column].dtype == 'int64' or data_merge[column].dtype == 'float64':\n",
    "        f,p = stats.f_oneway(data_1[column],data_2[column],data_3[column],data_4[column])\n",
    "        ab_test[column] = p \n",
    "#         print(column+\":\",stats.f_oneway(data_1[column]\n",
    "#                                         ,data_2[column]\n",
    "#                                         ,data_3[column]\n",
    "#                                         ,data_4[column]\n",
    "#                                         ,data_5[column]\n",
    "#                                         ,data_6[column]\n",
    "#                                        ))\n",
    "\n",
    "a = pd.Series(ab_test)\n",
    "a = a[a>=0.05]\n",
    "\n",
    "print(len(a.index))\n",
    "print(a.index)\n",
    "\n",
    "for data in [data_1,data_2,data_3,data_4,data_5,data_6]:\n",
    "    data.drop(columns=a.index,inplace=True)\n",
    "\n",
    "# 组合训练数据\n",
    "data = pd.concat([data_1,data_2,data_3,data_4,data_5])\n",
    "\n",
    "data=data_1\n",
    "\n",
    "from sklearn import preprocessing # guiyihua\n",
    "from sklearn.model_selection import train_test_split#划分训练集\n",
    "from sklearn import metrics  \n",
    "import scipy \n",
    "from sklearn.feature_selection import RFE\n",
    "from sklearn.preprocessing import OrdinalEncoder\n",
    "\n",
    "encoder = OrdinalEncoder()\n",
    "# data = data_merge\n",
    "# data[\"展销时间\"] = data[\"展销时间\"].astype(\"object\")\n",
    "# data[\"注册日期\"] = data[\"注册日期\"].astype(\"object\")\n",
    "# data[\"上牌日期\"] = data[\"上牌日期\"].astype(\"object\")\n",
    "\n",
    "X = data.iloc[:,:-2]\n",
    "X.drop(columns=['交易价格','最终调价', '车辆级别', '初始降价比', '最终降价比','上架价格', '价格调整'],inplace=True)\n",
    "\n",
    "# X = encoder.fit_transform(X)\n",
    "\n",
    "# # X = preprocessing.MinMaxScaler().fit_transform(X)\n",
    "# # y = data.iloc[:,-2]\n",
    "\n",
    "# model_1 = XGBRegressor()\n",
    "# model = model_1\n",
    "# selector = RFE(model).fit(X, y)\n",
    "# selector.support_.sum()\n",
    "# selector.ranking_\n",
    "# X_wrapper = selector.transform(X)\n",
    "\n",
    "# column3 = pd.DataFrame([*zip(data.columns,selector.ranking_)]).sort_values(by=1)[:-5].iloc[:,0]\n",
    "# data_choosen = data[column3.tolist()]\n",
    "\n",
    "# FR = {}\n",
    "# data_corr = data_choosen.corr('spearman').abs()\n",
    "# for i in data_corr.index:\n",
    "#     listj = []\n",
    "#     for j in data_corr.columns:\n",
    "#         if i != j:            \n",
    "#             if data_corr.loc[i,j] >= 0.8:\n",
    "#                 listj.append(j)\n",
    "#     FR[i] = listj\n",
    "\n",
    "# data_choosen.drop(columns=[\"匿名特征5\",\"初始降价比\",\"新车价\",\"调价次数\",\"年款\",\"初始降价\",\"交易价格\"],inplace=True)\n",
    "\n",
    "# X = data_choosen\n",
    "X = encoder.fit_transform(X)\n",
    "X = preprocessing.MinMaxScaler().fit_transform(X)\n",
    "\n",
    "y = np.log1p(data[\"交易价格\"])\n",
    "\n",
    "X_train,X_test,y_train,y_test = train_test_split(X,y,test_size=0.9,random_state=100)\n",
    "\n",
    "X.shape\n",
    "\n",
    "# X = encoder.fit_transform(X)\n",
    "\n",
    "X_train,X_test,y_train,y_test = train_test_split(X,y,test_size=0.2,random_state=100)\n",
    "\n",
    "\n",
    "# 模型初始化\n",
    "\n",
    "model_1 = XGBRegressor()\n",
    "model_2 = XGBRFRegressor()\n",
    "model_3 = RandomForestRegressor()\n",
    "\n",
    "print(\"***XGBoost***\")\n",
    "model_1 = model_1.fit(X_train,y_train)\n",
    "y_pred = model_1.predict(X_test)\n",
    "print(\"训练集R2:\",model_1.score(X_train,y_train))\n",
    "print(\"测试集R2:\",metrics.r2_score(y_test,y_pred))\n",
    "print(\"测试集MSE:\",metrics.mean_absolute_error(y_test,y_pred))\n",
    "\n",
    "model_1 = model_1.fit(X,y)\n",
    "X = data_6.iloc[:,:-2]\n",
    "X.drop(columns=['交易价格','最终调价', '车辆级别', '初始降价比', '最终降价比','上架价格', '价格调整'],inplace=True)\n",
    "X = encoder.fit_transform(X)\n",
    "y = np.log1p(data_6[\"交易价格\"])\n",
    "y_pred = model_1.predict(X)\n",
    "\n",
    "plt.figure()\n",
    "plt.plot(range(len(y_pred[1:130])),y_pred[1:130],'b',label=\"price_predict\")\n",
    "plt.plot(range(len(y_pred[1:130])),y[1:130],'r',label=\"price_test\")\n",
    "plt.legend(loc=\"upper right\")\n",
    "plt.show()"
   ]
  },
  {
   "cell_type": "code",
   "execution_count": null,
   "id": "55fd186b",
   "metadata": {},
   "outputs": [],
   "source": []
  },
  {
   "cell_type": "code",
   "execution_count": 10,
   "id": "7999f5f9",
   "metadata": {
    "ExecuteTime": {
     "end_time": "2022-01-17T08:37:45.265960Z",
     "start_time": "2022-01-17T08:37:44.163906Z"
    }
   },
   "outputs": [
    {
     "name": "stdout",
     "output_type": "stream",
     "text": [
      "***XGBRFoost***\n",
      "训练集R2: 0.7524298514078518\n",
      "测试集R2: 0.7175893618150203\n",
      "测试集MSE: 0.28946786245711853\n"
     ]
    }
   ],
   "source": [
    "print(\"***XGBRFoost***\")\n",
    "\n",
    "model_2 = model_2.fit(X_train,y_train)\n",
    "y_pred = model_2.predict(X_test)\n",
    "print(\"训练集R2:\",model_2.score(X_train,y_train))\n",
    "print(\"测试集R2:\",metrics.r2_score(y_test,y_pred))\n",
    "print(\"测试集MSE:\",metrics.mean_absolute_error(y_test,y_pred))"
   ]
  },
  {
   "cell_type": "code",
   "execution_count": 11,
   "id": "2e07ebec",
   "metadata": {
    "ExecuteTime": {
     "end_time": "2022-01-17T08:37:56.515885Z",
     "start_time": "2022-01-17T08:37:47.992674Z"
    }
   },
   "outputs": [
    {
     "name": "stdout",
     "output_type": "stream",
     "text": [
      "***RF***\n",
      "训练集R2: 0.9866874427939766\n",
      "测试集R2: 0.9077706300163029\n"
     ]
    },
    {
     "ename": "NameError",
     "evalue": "name 'printprint' is not defined",
     "output_type": "error",
     "traceback": [
      "\u001b[1;31m---------------------------------------------------------------------------\u001b[0m",
      "\u001b[1;31mNameError\u001b[0m                                 Traceback (most recent call last)",
      "\u001b[1;32m<ipython-input-11-80a57b417b21>\u001b[0m in \u001b[0;36m<module>\u001b[1;34m\u001b[0m\n\u001b[0;32m      5\u001b[0m \u001b[0mprint\u001b[0m\u001b[1;33m(\u001b[0m\u001b[1;34m\"训练集R2:\"\u001b[0m\u001b[1;33m,\u001b[0m\u001b[0mmodel_3\u001b[0m\u001b[1;33m.\u001b[0m\u001b[0mscore\u001b[0m\u001b[1;33m(\u001b[0m\u001b[0mX_train\u001b[0m\u001b[1;33m,\u001b[0m\u001b[0my_train\u001b[0m\u001b[1;33m)\u001b[0m\u001b[1;33m)\u001b[0m\u001b[1;33m\u001b[0m\u001b[1;33m\u001b[0m\u001b[0m\n\u001b[0;32m      6\u001b[0m \u001b[0mprint\u001b[0m\u001b[1;33m(\u001b[0m\u001b[1;34m\"测试集R2:\"\u001b[0m\u001b[1;33m,\u001b[0m\u001b[0mmetrics\u001b[0m\u001b[1;33m.\u001b[0m\u001b[0mr2_score\u001b[0m\u001b[1;33m(\u001b[0m\u001b[0my_test\u001b[0m\u001b[1;33m,\u001b[0m\u001b[0my_pred\u001b[0m\u001b[1;33m)\u001b[0m\u001b[1;33m)\u001b[0m\u001b[1;33m\u001b[0m\u001b[1;33m\u001b[0m\u001b[0m\n\u001b[1;32m----> 7\u001b[1;33m \u001b[0mprintprint\u001b[0m\u001b[1;33m(\u001b[0m\u001b[1;34m\"测试集MSE:\"\u001b[0m\u001b[1;33m,\u001b[0m\u001b[0mmetrics\u001b[0m\u001b[1;33m.\u001b[0m\u001b[0mmean_absolute_error\u001b[0m\u001b[1;33m(\u001b[0m\u001b[0my_test\u001b[0m\u001b[1;33m,\u001b[0m\u001b[0my_pred\u001b[0m\u001b[1;33m)\u001b[0m\u001b[1;33m)\u001b[0m\u001b[1;33m\u001b[0m\u001b[1;33m\u001b[0m\u001b[0m\n\u001b[0m",
      "\u001b[1;31mNameError\u001b[0m: name 'printprint' is not defined"
     ]
    }
   ],
   "source": [
    "print(\"***RF***\")\n",
    "\n",
    "model_3 = model_3.fit(X_train,y_train)\n",
    "y_pred = model_3.predict(X_test)\n",
    "print(\"训练集R2:\",model_3.score(X_train,y_train))\n",
    "print(\"测试集R2:\",metrics.r2_score(y_test,y_pred))\n",
    "printprint(\"测试集MSE:\",metrics.mean_absolute_error(y_test,y_pred))"
   ]
  },
  {
   "cell_type": "code",
   "execution_count": null,
   "id": "dc9f28bd",
   "metadata": {},
   "outputs": [],
   "source": []
  },
  {
   "cell_type": "markdown",
   "id": "34eb8938",
   "metadata": {},
   "source": [
    "## 模型融合"
   ]
  },
  {
   "cell_type": "code",
   "execution_count": 73,
   "id": "8095063e",
   "metadata": {
    "ExecuteTime": {
     "end_time": "2022-01-12T14:54:49.994557Z",
     "start_time": "2022-01-12T14:54:49.627979Z"
    }
   },
   "outputs": [],
   "source": [
    "from sklearn import datasets\n",
    "\n",
    "iris = datasets.load_wine()\n",
    "X, y = iris.data, iris.target"
   ]
  },
  {
   "cell_type": "code",
   "execution_count": 74,
   "id": "4da6e980",
   "metadata": {
    "ExecuteTime": {
     "end_time": "2022-01-12T14:54:52.205511Z",
     "start_time": "2022-01-12T14:54:52.197530Z"
    }
   },
   "outputs": [],
   "source": [
    "X_train,X_test,y_train,y_test= model_selection.train_test_split(X,y,test_size=0.2,random_state=100)"
   ]
  },
  {
   "cell_type": "code",
   "execution_count": 75,
   "id": "a60cc707",
   "metadata": {
    "ExecuteTime": {
     "end_time": "2022-01-12T14:54:52.855117Z",
     "start_time": "2022-01-12T14:54:52.840126Z"
    }
   },
   "outputs": [],
   "source": [
    "from sklearn import model_selection\n",
    "from sklearn.linear_model import LogisticRegression\n",
    "from sklearn.neighbors import KNeighborsClassifier\n",
    "from sklearn.naive_bayes import GaussianNB \n",
    "from sklearn.ensemble import RandomForestClassifier\n",
    "from mlxtend.classifier import StackingCVClassifier\n",
    "import numpy as np\n",
    "import warnings\n",
    "\n",
    "warnings.simplefilter('ignore')\n",
    "\n",
    "RANDOM_SEED = 42\n",
    "\n",
    "clf1 = KNeighborsClassifier(n_neighbors=1)\n",
    "clf2 = RandomForestClassifier(random_state=RANDOM_SEED)\n",
    "clf3 = GaussianNB()\n",
    "lr = LogisticRegression()\n",
    "\n",
    "# Starting from v0.16.0, StackingCVRegressor supports\n",
    "# `random_state` to get deterministic result.\n",
    "sclf = StackingCVClassifier(classifiers=[clf1, clf2, clf3],\n",
    "                            meta_classifier=lr,\n",
    "                            random_state=RANDOM_SEED)"
   ]
  },
  {
   "cell_type": "code",
   "execution_count": 76,
   "id": "5248fefe",
   "metadata": {
    "ExecuteTime": {
     "end_time": "2022-01-12T14:54:53.762539Z",
     "start_time": "2022-01-12T14:54:53.739587Z"
    }
   },
   "outputs": [
    {
     "data": {
      "text/plain": [
       "0.7777777777777778"
      ]
     },
     "execution_count": 76,
     "metadata": {},
     "output_type": "execute_result"
    }
   ],
   "source": [
    "clf1=clf1.fit(X_train,y_train)\n",
    "clf1.score(X_test,y_test)"
   ]
  },
  {
   "cell_type": "code",
   "execution_count": 77,
   "id": "f420e0b0",
   "metadata": {
    "ExecuteTime": {
     "end_time": "2022-01-12T14:54:54.733646Z",
     "start_time": "2022-01-12T14:54:54.591817Z"
    }
   },
   "outputs": [
    {
     "data": {
      "text/plain": [
       "1.0"
      ]
     },
     "execution_count": 77,
     "metadata": {},
     "output_type": "execute_result"
    }
   ],
   "source": [
    "clf2=clf2.fit(X_train,y_train)\n",
    "clf2.score(X_test,y_test)"
   ]
  },
  {
   "cell_type": "code",
   "execution_count": 78,
   "id": "fc5e7ad5",
   "metadata": {
    "ExecuteTime": {
     "end_time": "2022-01-12T14:54:56.491569Z",
     "start_time": "2022-01-12T14:54:56.089987Z"
    }
   },
   "outputs": [
    {
     "data": {
      "text/plain": [
       "1.0"
      ]
     },
     "execution_count": 78,
     "metadata": {},
     "output_type": "execute_result"
    }
   ],
   "source": [
    "sclf.fit(X_train,y_train)\n",
    "sclf.score(X_test,y_test)"
   ]
  },
  {
   "cell_type": "code",
   "execution_count": 79,
   "id": "f1d45548",
   "metadata": {
    "ExecuteTime": {
     "end_time": "2022-01-12T14:55:20.502561Z",
     "start_time": "2022-01-12T14:55:18.937532Z"
    }
   },
   "outputs": [
    {
     "name": "stdout",
     "output_type": "stream",
     "text": [
      "3-fold cross validation:\n",
      "\n",
      "Accuracy: 0.72 (+/- 0.05) [KNN]\n",
      "Accuracy: 0.97 (+/- 0.01) [Random Forest]\n",
      "Accuracy: 0.96 (+/- 0.01) [Naive Bayes]\n",
      "Accuracy: 0.97 (+/- 0.01) [StackingClassifier]\n"
     ]
    }
   ],
   "source": [
    "print('3-fold cross validation:\\n')\n",
    "\n",
    "for clf, label in zip([clf1, clf2, clf3, sclf], \n",
    "                      ['KNN', \n",
    "                       'Random Forest', \n",
    "                       'Naive Bayes',\n",
    "                       'StackingClassifier']):\n",
    "\n",
    "    scores = model_selection.cross_val_score(clf, X, y, \n",
    "                                              cv=3, scoring='accuracy')\n",
    "    print(\"Accuracy: %0.2f (+/- %0.2f) [%s]\" \n",
    "          % (scores.mean(), scores.std(), label))"
   ]
  },
  {
   "cell_type": "markdown",
   "id": "43929660",
   "metadata": {
    "heading_collapsed": true
   },
   "source": [
    "## 调参过程"
   ]
  },
  {
   "cell_type": "code",
   "execution_count": 4,
   "id": "86d518fe",
   "metadata": {
    "ExecuteTime": {
     "end_time": "2022-01-08T02:37:34.392401Z",
     "start_time": "2022-01-08T02:36:54.843063Z"
    },
    "hidden": true
   },
   "outputs": [
    {
     "name": "stdout",
     "output_type": "stream",
     "text": [
      "0.32656522815482814 61\n"
     ]
    },
    {
     "data": {
      "image/png": "[encoded data removed]",
      "text/plain": [
       "<Figure size 1440x360 with 1 Axes>"
      ]
     },
     "metadata": {
      "needs_background": "light"
     },
     "output_type": "display_data"
    }
   ],
   "source": [
    "# n_estimators\n",
    "\n",
    "train_score = []\n",
    "val_score = []\n",
    "for i in range(0,200,10):\n",
    "    model = RandomForestRegressor(n_estimators=i+1\n",
    "#                                   ,max_depth = 4\n",
    "                                  ,n_jobs=-1,random_state = 100)\n",
    "    model = model.fit(X_train,y_train)\n",
    "    train_score.append(model.score(X_train,y_train))\n",
    "    val_score.append(model.score(X_test,y_test))\n",
    "print(max(val_score),(val_score.index(max(val_score))*10)+1)\n",
    "plt.figure(figsize=[20,5])\n",
    "plt.plot(range(1,201,10),train_score)\n",
    "plt.plot(range(1,201,10),val_score)\n",
    "plt.show()"
   ]
  },
  {
   "cell_type": "code",
   "execution_count": 5,
   "id": "0be1062a",
   "metadata": {
    "ExecuteTime": {
     "end_time": "2022-01-08T02:38:15.747492Z",
     "start_time": "2022-01-08T02:37:34.395395Z"
    },
    "hidden": true
   },
   "outputs": [
    {
     "name": "stdout",
     "output_type": "stream",
     "text": [
      "0.32656522815482814 61\n"
     ]
    },
    {
     "data": {
      "image/png": "[encoded data removed]",
      "text/plain": [
       "<Figure size 1440x360 with 1 Axes>"
      ]
     },
     "metadata": {
      "needs_background": "light"
     },
     "output_type": "display_data"
    }
   ],
   "source": [
    "train_score = []\n",
    "val_score = []\n",
    "for i in range(0,200,10):\n",
    "    model = RandomForestRegressor(n_estimators=i+1\n",
    "                                  ,n_jobs=-1\n",
    "#                                   ,max_depth = 4\n",
    "                                  ,random_state = 100\n",
    "                                 )\n",
    "    model = model.fit(X_train,y_train)\n",
    "    train_score.append(model.score(X_train,y_train))\n",
    "    val_score.append(model.score(X_test,y_test))\n",
    "print(max(val_score),(val_score.index(max(val_score))*10)+1)\n",
    "plt.figure(figsize=[20,5])\n",
    "plt.plot(range(1,201,10),train_score)\n",
    "plt.plot(range(1,201,10),val_score)\n",
    "plt.show()"
   ]
  },
  {
   "cell_type": "code",
   "execution_count": 138,
   "id": "ce7b5eef",
   "metadata": {
    "ExecuteTime": {
     "end_time": "2022-01-07T09:03:50.949474Z",
     "start_time": "2022-01-07T09:03:38.840540Z"
    },
    "hidden": true
   },
   "outputs": [
    {
     "name": "stdout",
     "output_type": "stream",
     "text": [
      "0.3268060636899428 57\n"
     ]
    },
    {
     "data": {
      "image/png": "[encoded data removed]",
      "text/plain": [
       "<Figure size 1440x360 with 1 Axes>"
      ]
     },
     "metadata": {
      "needs_background": "light"
     },
     "output_type": "display_data"
    }
   ],
   "source": [
    "train_score = []\n",
    "val_score = []\n",
    "for i in range(50,70):\n",
    "    model = RandomForestRegressor(n_estimators=i+1,n_jobs=-1,random_state = 100)\n",
    "    model = model.fit(X_train,y_train)\n",
    "    train_score.append(model.score(X_train,y_train))\n",
    "    val_score.append(model.score(X_test,y_test))\n",
    "print(max(val_score),(val_score.index(max(val_score)))+51)\n",
    "plt.figure(figsize=[20,5])\n",
    "plt.plot(range(50,70),train_score)\n",
    "plt.plot(range(50,70),val_score)\n",
    "plt.show()"
   ]
  },
  {
   "cell_type": "code",
   "execution_count": 149,
   "id": "ed83cea1",
   "metadata": {
    "ExecuteTime": {
     "end_time": "2022-01-07T11:10:49.893071Z",
     "start_time": "2022-01-07T11:10:49.249727Z"
    },
    "hidden": true
   },
   "outputs": [
    {
     "name": "stdout",
     "output_type": "stream",
     "text": [
      "训练集R2: 0.8981710135295805\n",
      "测试集R2: 0.3268060636899428\n",
      "MSE: 506.6134073500277\n"
     ]
    }
   ],
   "source": [
    "model_1 = RandomForestRegressor(n_estimators=57,n_jobs=-1,random_state = 100) \n",
    "model_1 = model_1.fit(X_train,y_train)\n",
    "y_pred = model_1.predict(X_test)\n",
    "print(\"训练集R2:\",model_1.score(X_train,y_train))\n",
    "print(\"测试集R2:\",metrics.r2_score(y_test,y_pred))\n",
    "print(\"MSE:\",metrics.mean_squared_error(y_test,y_pred))"
   ]
  },
  {
   "cell_type": "code",
   "execution_count": 156,
   "id": "548a3d89",
   "metadata": {
    "ExecuteTime": {
     "end_time": "2022-01-07T11:18:07.327712Z",
     "start_time": "2022-01-07T11:18:01.218875Z"
    },
    "hidden": true
   },
   "outputs": [
    {
     "name": "stdout",
     "output_type": "stream",
     "text": [
      "0.05796567228903604 0\n"
     ]
    },
    {
     "data": {
      "image/png": "[encoded data removed]",
      "text/plain": [
       "<Figure size 1440x360 with 1 Axes>"
      ]
     },
     "metadata": {
      "needs_background": "light"
     },
     "output_type": "display_data"
    }
   ],
   "source": [
    "train_score = []\n",
    "val_score = []\n",
    "for i in range(1,20,1):\n",
    "    model = RandomForestRegressor(n_estimators=57\n",
    "                                  ,max_depth=i\n",
    "                                  ,n_jobs=-1\n",
    "                                  ,random_state = 100)\n",
    "    model = model.fit(X_train,y_train)\n",
    "    train_score.append(model.score(X_train,y_train))\n",
    "    val_score.append(model.score(X_test,y_test))\n",
    "diff_score = np.array(train_score) - np.array(val_score)\n",
    "diff_score = diff_score.tolist()\n",
    "print(min(diff_score),(diff_score.index(min(diff_score))))\n",
    "plt.figure(figsize=[20,5])\n",
    "plt.plot(range(1,20,1),train_score)\n",
    "plt.plot(range(1,20,1),val_score)\n",
    "plt.show()"
   ]
  },
  {
   "cell_type": "code",
   "execution_count": 150,
   "id": "da35101d",
   "metadata": {
    "ExecuteTime": {
     "end_time": "2022-01-07T11:11:05.631012Z",
     "start_time": "2022-01-07T11:11:05.329818Z"
    },
    "hidden": true
   },
   "outputs": [
    {
     "name": "stdout",
     "output_type": "stream",
     "text": [
      "训练集R2: 0.5443692431816198\n",
      "测试集R2: 0.3265654875623566\n",
      "MSE: 506.79445338319846\n"
     ]
    }
   ],
   "source": [
    "model_1 = RandomForestRegressor(n_estimators=57,max_depth=8,n_jobs=-1,random_state = 100)\n",
    "model_1 = model_1.fit(X_train,y_train)\n",
    "y_pred = model_1.predict(X_test)\n",
    "print(\"训练集R2:\",model_1.score(X_train,y_train))\n",
    "print(\"测试集R2:\",metrics.r2_score(y_test,y_pred))\n",
    "print(\"MSE:\",metrics.mean_squared_error(y_test,y_pred))"
   ]
  },
  {
   "cell_type": "code",
   "execution_count": 10,
   "id": "5b2219c9",
   "metadata": {
    "ExecuteTime": {
     "end_time": "2022-01-08T02:42:37.174486Z",
     "start_time": "2022-01-08T02:42:33.695994Z"
    },
    "hidden": true
   },
   "outputs": [
    {
     "name": "stdout",
     "output_type": "stream",
     "text": [
      "0.08292675377245451 2\n"
     ]
    },
    {
     "data": {
      "image/png": "[encoded data removed]",
      "text/plain": [
       "<Figure size 1440x360 with 1 Axes>"
      ]
     },
     "metadata": {
      "needs_background": "light"
     },
     "output_type": "display_data"
    }
   ],
   "source": [
    "train_score = []\n",
    "val_score = []\n",
    "for i in range(5,20,1):\n",
    "    model = RandomForestRegressor(n_estimators=57\n",
    "                                  ,max_depth=5\n",
    "                                  ,max_features =i \n",
    "                                  ,n_jobs=-1\n",
    "                                  ,random_state = 100)\n",
    "    model = model.fit(X_train,y_train)\n",
    "    train_score.append(model.score(X_train,y_train))\n",
    "    val_score.append(model.score(X_test,y_test))\n",
    "diff_score = np.array(train_score) - np.array(val_score)\n",
    "diff_score = diff_score.tolist()\n",
    "print(min(diff_score),(diff_score.index(min(diff_score))))\n",
    "plt.figure(figsize=[20,5])\n",
    "plt.plot(range(5,20,1),train_score)\n",
    "plt.plot(range(5,20,1),val_score)\n",
    "plt.show()"
   ]
  },
  {
   "cell_type": "code",
   "execution_count": 141,
   "id": "f694822b",
   "metadata": {
    "ExecuteTime": {
     "end_time": "2022-01-07T09:09:58.192367Z",
     "start_time": "2022-01-07T09:06:20.809297Z"
    },
    "hidden": true
   },
   "outputs": [
    {
     "name": "stdout",
     "output_type": "stream",
     "text": [
      "{'max_features': 8}\n",
      "0.32663555450635035\n"
     ]
    }
   ],
   "source": [
    "#调整max_features\n",
    "param_grid = {'max_features':np.arange(5,30,1)}\n",
    "\"\"\"\n",
    "max_features是唯一一个即能够将模型往左（低方差高偏差）推，也能够将模型往右（高方差低偏差）推的参数。我\n",
    "们需要根据调参前，模型所在的位置（在泛化误差最低点的左边还是右边）来决定我们要将max_features往哪边调。\n",
    "现在模型位于图像左侧，我们需要的是更高的复杂度，因此我们应该把max_features往更大的方向调整，可用的特征\n",
    "越多，模型才会越复杂。max_features的默认最小值是sqrt(n_features)，因此我们使用这个值作为调参范围的\n",
    "最小值。\n",
    "\"\"\"\n",
    "model = RandomForestRegressor(n_estimators=57,max_depth=8,n_jobs=-1,random_state = 100)\n",
    "GS = GridSearchCV(model,param_grid,cv=10)\n",
    "GS.fit(X,y)\n",
    "print(GS.best_params_)\n",
    "print(GS.best_score_)"
   ]
  },
  {
   "cell_type": "code",
   "execution_count": 142,
   "id": "7721abb0",
   "metadata": {
    "ExecuteTime": {
     "end_time": "2022-01-07T09:12:26.822423Z",
     "start_time": "2022-01-07T09:10:55.449488Z"
    },
    "hidden": true
   },
   "outputs": [
    {
     "name": "stdout",
     "output_type": "stream",
     "text": [
      "{'min_samples_leaf': 4}\n",
      "0.32943055213446776\n"
     ]
    }
   ],
   "source": [
    "#调整min_samples_leaf\n",
    "param_grid={'min_samples_leaf':np.arange(1, 1+50, 1)}\n",
    "#对于min_samples_split和min_samples_leaf,一般是从他们的最小值开始向上增加10或20\n",
    "#面对高维度高样本量数据，如果不放心，也可以直接+50，对于大型数据，可能需要200~300的范围\n",
    "#如果调整的时候发现准确率无论如何都上不来，那可以放心大胆调一个很大的数据，大力限制模型的复杂度\n",
    "model = RandomForestRegressor(n_estimators=57,max_depth=8,max_features=8,n_jobs=-1,random_state = 100)\n",
    "GS = GridSearchCV(model,param_grid,cv=10)\n",
    "GS.fit(X,y)\n",
    "print(GS.best_params_)\n",
    "print(GS.best_score_)"
   ]
  },
  {
   "cell_type": "code",
   "execution_count": 143,
   "id": "a8ac55cb",
   "metadata": {
    "ExecuteTime": {
     "end_time": "2022-01-07T09:13:37.768459Z",
     "start_time": "2022-01-07T09:13:01.918482Z"
    },
    "hidden": true
   },
   "outputs": [
    {
     "name": "stdout",
     "output_type": "stream",
     "text": [
      "{'min_samples_split': 2}\n",
      "0.32943055213446776\n"
     ]
    }
   ],
   "source": [
    "#调整min_samples_split\n",
    "param_grid={'min_samples_split':np.arange(2, 2+20, 1)}\n",
    "model = RandomForestRegressor(n_estimators=57,max_depth=8,max_features=8,min_samples_leaf=4,n_jobs=-1,random_state = 100)\n",
    "GS = GridSearchCV(model,param_grid,cv=10)\n",
    "GS.fit(X,y)\n",
    "print(GS.best_params_)\n",
    "print(GS.best_score_)"
   ]
  },
  {
   "cell_type": "code",
   "execution_count": 145,
   "id": "75380bfd",
   "metadata": {
    "ExecuteTime": {
     "end_time": "2022-01-07T09:17:41.557162Z",
     "start_time": "2022-01-07T09:16:30.389016Z"
    },
    "hidden": true
   },
   "outputs": [
    {
     "name": "stdout",
     "output_type": "stream",
     "text": [
      "{'criterion': 'mse'}\n",
      "0.3266355545063503\n"
     ]
    }
   ],
   "source": [
    "#调整Criterion\n",
    "param_grid = {'criterion':['mse', 'mae']}\n",
    "model = RandomForestRegressor(n_estimators=57,max_depth=8,max_features=8,min_samples_split=2,n_jobs=-1,random_state = 100)\n",
    "GS = GridSearchCV(model,param_grid,cv=10)\n",
    "GS.fit(X,y)\n",
    "print(GS.best_params_)\n",
    "print(GS.best_score_)"
   ]
  },
  {
   "cell_type": "code",
   "execution_count": 148,
   "id": "9d76cbc7",
   "metadata": {
    "ExecuteTime": {
     "end_time": "2022-01-07T11:08:35.673719Z",
     "start_time": "2022-01-07T11:08:28.962889Z"
    },
    "hidden": true
   },
   "outputs": [
    {
     "name": "stdout",
     "output_type": "stream",
     "text": [
      "训练集R2: 0.9026619687898378\n",
      "测试集R2: 0.32161651681279924\n",
      "MSE: 510.51881095547776\n"
     ]
    }
   ],
   "source": [
    "model_1 = model \n",
    "model_1 = model_1.fit(X_train,y_train)\n",
    "y_pred = model_1.predict(X_test)\n",
    "print(\"训练集R2:\",model_1.score(X_train,y_train))\n",
    "print(\"测试集R2:\",metrics.r2_score(y_test,y_pred))\n",
    "print(\"MSE:\",metrics.mean_squared_error(y_test,y_pred))"
   ]
  },
  {
   "cell_type": "code",
   "execution_count": 99,
   "id": "57b3133d",
   "metadata": {
    "ExecuteTime": {
     "end_time": "2022-01-07T07:28:25.925527Z",
     "start_time": "2022-01-07T07:28:25.906606Z"
    },
    "hidden": true
   },
   "outputs": [
    {
     "data": {
      "text/plain": [
       "array([22.062996, 30.229385, 28.230724, ..., 21.240807, 12.271648,\n",
       "       12.552915], dtype=float32)"
      ]
     },
     "execution_count": 99,
     "metadata": {},
     "output_type": "execute_result"
    }
   ],
   "source": [
    "y_pred"
   ]
  },
  {
   "cell_type": "code",
   "execution_count": null,
   "id": "3b820a7c",
   "metadata": {
    "hidden": true
   },
   "outputs": [],
   "source": []
  },
  {
   "cell_type": "markdown",
   "id": "5996a47d",
   "metadata": {
    "hidden": true
   },
   "source": [
    "### 线性回归"
   ]
  },
  {
   "cell_type": "code",
   "execution_count": 11,
   "id": "3100e2dc",
   "metadata": {
    "ExecuteTime": {
     "end_time": "2022-01-08T12:04:20.414274Z",
     "start_time": "2022-01-08T12:04:20.359401Z"
    },
    "hidden": true
   },
   "outputs": [
    {
     "name": "stdout",
     "output_type": "stream",
     "text": [
      "训练集R2: 0.31908969482232774\n",
      "测试集R2: 0.29520352467053323\n",
      "MSE: 530.3959596131862\n"
     ]
    }
   ],
   "source": [
    "from sklearn.linear_model import LinearRegression\n",
    "from sklearn import metrics \n",
    "model_1 = LinearRegression()\n",
    "model_1 = model_1.fit(X_train,y_train)\n",
    "y_pred = model_1.predict(X_test)\n",
    "print(\"训练集R2:\",model_1.score(X_train,y_train))\n",
    "print(\"测试集R2:\",metrics.r2_score(y_test,y_pred))\n",
    "print(\"MSE:\",metrics.mean_squared_error(y_test,y_pred))\n"
   ]
  },
  {
   "cell_type": "code",
   "execution_count": null,
   "id": "04d415c3",
   "metadata": {
    "hidden": true
   },
   "outputs": [],
   "source": []
  },
  {
   "cell_type": "markdown",
   "id": "e4312216",
   "metadata": {
    "hidden": true
   },
   "source": [
    "### 支持向量机回归"
   ]
  },
  {
   "cell_type": "code",
   "execution_count": 12,
   "id": "61c2e844",
   "metadata": {
    "ExecuteTime": {
     "end_time": "2022-01-08T12:04:46.130451Z",
     "start_time": "2022-01-08T12:04:20.421236Z"
    },
    "hidden": true
   },
   "outputs": [
    {
     "name": "stdout",
     "output_type": "stream",
     "text": [
      "训练集R2: 0.07516553524161829\n",
      "测试集R2: 0.07967415527701172\n",
      "MSE: 692.5930061447585\n"
     ]
    }
   ],
   "source": [
    "from sklearn.svm import SVR\n",
    "from sklearn import metrics \n",
    "model_1 = SVR()\n",
    "model_1 = model_1.fit(X_train,y_train)\n",
    "y_pred = model_1.predict(X_test)\n",
    "print(\"训练集R2:\",model_1.score(X_train,y_train))\n",
    "print(\"测试集R2:\",metrics.r2_score(y_test,y_pred))\n",
    "print(\"MSE:\",metrics.mean_squared_error(y_test,y_pred))"
   ]
  },
  {
   "cell_type": "markdown",
   "id": "1d98b886",
   "metadata": {
    "hidden": true
   },
   "source": [
    "### 随机森林"
   ]
  },
  {
   "cell_type": "code",
   "execution_count": 8,
   "id": "00e94d05",
   "metadata": {
    "ExecuteTime": {
     "end_time": "2022-01-08T12:03:48.358708Z",
     "start_time": "2022-01-08T12:03:48.332772Z"
    },
    "hidden": true
   },
   "outputs": [],
   "source": [
    "from sklearn.preprocessing import MinMaxScaler\n",
    "\n",
    "X_train = MinMaxScaler().fit_transform(X_train)\n",
    "X_test = MinMaxScaler().fit_transform(X_test)"
   ]
  },
  {
   "cell_type": "code",
   "execution_count": 10,
   "id": "e2517269",
   "metadata": {
    "ExecuteTime": {
     "end_time": "2022-01-08T12:04:20.354446Z",
     "start_time": "2022-01-08T12:04:02.101156Z"
    },
    "hidden": true
   },
   "outputs": [
    {
     "name": "stdout",
     "output_type": "stream",
     "text": [
      "训练集R2: 0.9051331460431213\n",
      "测试集R2: 0.19391893149563633\n",
      "MSE: 606.6178773886944\n"
     ]
    }
   ],
   "source": [
    "model_1 = RandomForestRegressor()\n",
    "model_1 = model_1.fit(X_train,y_train)\n",
    "y_pred = model_1.predict(X_test)\n",
    "print(\"训练集R2:\",model_1.score(X_train,y_train))\n",
    "print(\"测试集R2:\",metrics.r2_score(y_test,y_pred))\n",
    "print(\"MSE:\",metrics.mean_squared_error(y_test,y_pred))"
   ]
  }
 ],
 "metadata": {
  "kernelspec": {
   "display_name": "Python 3",
   "language": "python",
   "name": "python3"
  },
  "language_info": {
   "codemirror_mode": {
    "name": "ipython",
    "version": 3
   },
   "file_extension": ".py",
   "mimetype": "text/x-python",
   "name": "python",
   "nbconvert_exporter": "python",
   "pygments_lexer": "ipython3",
   "version": "3.8.8"
  },
  "latex_envs": {
   "LaTeX_envs_menu_present": true,
   "autoclose": false,
   "autocomplete": true,
   "bibliofile": "biblio.bib",
   "cite_by": "apalike",
   "current_citInitial": 1,
   "eqLabelWithNumbers": true,
   "eqNumInitial": 1,
   "hotkeys": {
    "equation": "Ctrl-E",
    "itemize": "Ctrl-I"
   },
   "labels_anchors": false,
   "latex_user_defs": false,
   "report_style_numbering": false,
   "user_envs_cfg": false
  },
  "nbTranslate": {
   "displayLangs": [
    "*"
   ],
   "hotkey": "alt-t",
   "langInMainMenu": true,
   "sourceLang": "en",
   "targetLang": "fr",
   "useGoogleTranslate": true
  },
  "toc": {
   "base_numbering": 1,
   "nav_menu": {},
   "number_sections": true,
   "sideBar": true,
   "skip_h1_title": false,
   "title_cell": "Table of Contents",
   "title_sidebar": "Contents",
   "toc_cell": false,
   "toc_position": {},
   "toc_section_display": true,
   "toc_window_display": false
  },
  "varInspector": {
   "cols": {
    "lenName": 16,
    "lenType": 16,
    "lenVar": 40
   },
   "kernels_config": {
    "python": {
     "delete_cmd_postfix": "",
     "delete_cmd_prefix": "del ",
     "library": "var_list.py",
     "varRefreshCmd": "print(var_dic_list())"
    },
    "r": {
     "delete_cmd_postfix": ") ",
     "delete_cmd_prefix": "rm(",
     "library": "var_list.r",
     "varRefreshCmd": "cat(var_dic_list()) "
    }
   },
   "types_to_exclude": [
    "module",
    "function",
    "builtin_function_or_method",
    "instance",
    "_Feature"
   ],
   "window_display": false
  }
 },
 "nbformat": 4,
 "nbformat_minor": 5
}
